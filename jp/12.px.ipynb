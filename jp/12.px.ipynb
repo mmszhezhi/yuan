{
 "cells": [
  {
   "cell_type": "code",
   "execution_count": 2,
   "id": "dac3bc75",
   "metadata": {},
   "outputs": [],
   "source": [
    "import pandas as pd\n",
    "import numpy as np\n",
    "import plotly.express as px"
   ]
  },
  {
   "cell_type": "code",
   "execution_count": 9,
   "id": "8048cbdd",
   "metadata": {},
   "outputs": [],
   "source": [
    "data = np.ones((6,2)) + np.random.normal(0,0.5,(6,2))"
   ]
  },
  {
   "cell_type": "code",
   "execution_count": 10,
   "id": "9ddbc8d5",
   "metadata": {},
   "outputs": [
    {
     "data": {
      "text/plain": [
       "(6, 2)"
      ]
     },
     "execution_count": 10,
     "metadata": {},
     "output_type": "execute_result"
    }
   ],
   "source": [
    "data.shape\n"
   ]
  },
  {
   "cell_type": "code",
   "execution_count": 13,
   "id": "b9e7b187",
   "metadata": {},
   "outputs": [],
   "source": [
    "df = pd.DataFrame(data,columns=[\"a\",\"b\"])"
   ]
  },
  {
   "cell_type": "code",
   "execution_count": 14,
   "id": "6f5122b0",
   "metadata": {},
   "outputs": [
    {
     "data": {
      "text/html": [
       "<div>\n",
       "<style scoped>\n",
       "    .dataframe tbody tr th:only-of-type {\n",
       "        vertical-align: middle;\n",
       "    }\n",
       "\n",
       "    .dataframe tbody tr th {\n",
       "        vertical-align: top;\n",
       "    }\n",
       "\n",
       "    .dataframe thead th {\n",
       "        text-align: right;\n",
       "    }\n",
       "</style>\n",
       "<table border=\"1\" class=\"dataframe\">\n",
       "  <thead>\n",
       "    <tr style=\"text-align: right;\">\n",
       "      <th></th>\n",
       "      <th>a</th>\n",
       "      <th>b</th>\n",
       "    </tr>\n",
       "  </thead>\n",
       "  <tbody>\n",
       "    <tr>\n",
       "      <th>0</th>\n",
       "      <td>0.602344</td>\n",
       "      <td>0.379760</td>\n",
       "    </tr>\n",
       "    <tr>\n",
       "      <th>1</th>\n",
       "      <td>1.459302</td>\n",
       "      <td>1.749235</td>\n",
       "    </tr>\n",
       "    <tr>\n",
       "      <th>2</th>\n",
       "      <td>1.940310</td>\n",
       "      <td>0.783282</td>\n",
       "    </tr>\n",
       "    <tr>\n",
       "      <th>3</th>\n",
       "      <td>1.349157</td>\n",
       "      <td>0.900595</td>\n",
       "    </tr>\n",
       "    <tr>\n",
       "      <th>4</th>\n",
       "      <td>1.258757</td>\n",
       "      <td>0.163241</td>\n",
       "    </tr>\n",
       "    <tr>\n",
       "      <th>5</th>\n",
       "      <td>1.228017</td>\n",
       "      <td>0.352972</td>\n",
       "    </tr>\n",
       "  </tbody>\n",
       "</table>\n",
       "</div>"
      ],
      "text/plain": [
       "          a         b\n",
       "0  0.602344  0.379760\n",
       "1  1.459302  1.749235\n",
       "2  1.940310  0.783282\n",
       "3  1.349157  0.900595\n",
       "4  1.258757  0.163241\n",
       "5  1.228017  0.352972"
      ]
     },
     "execution_count": 14,
     "metadata": {},
     "output_type": "execute_result"
    }
   ],
   "source": [
    "df"
   ]
  },
  {
   "cell_type": "code",
   "execution_count": 17,
   "id": "479a093d",
   "metadata": {},
   "outputs": [
    {
     "data": {
      "application/vnd.plotly.v1+json": {
       "config": {
        "plotlyServerURL": "https://plot.ly"
       },
       "data": [
        {
         "hovertemplate": "variable=a<br>index=%{x}<br>value=%{y}<extra></extra>",
         "legendgroup": "a",
         "line": {
          "color": "rgba(0,100,80,1)",
          "dash": "solid"
         },
         "marker": {
          "symbol": "circle"
         },
         "mode": "lines",
         "name": "a",
         "orientation": "v",
         "showlegend": true,
         "type": "scatter",
         "x": [
          0,
          1,
          2,
          3,
          4,
          5
         ],
         "xaxis": "x",
         "y": [
          0.6023438984861369,
          1.4593021120376903,
          1.9403104565399807,
          1.3491567578104642,
          1.2587573110966221,
          1.2280174039643887
         ],
         "yaxis": "y"
        },
        {
         "hovertemplate": "variable=b<br>index=%{x}<br>value=%{y}<extra></extra>",
         "legendgroup": "b",
         "line": {
          "color": "rgba(0,100,80,0.2)",
          "dash": "solid"
         },
         "marker": {
          "symbol": "circle"
         },
         "mode": "lines",
         "name": "b",
         "orientation": "v",
         "showlegend": true,
         "type": "scatter",
         "x": [
          0,
          1,
          2,
          3,
          4,
          5
         ],
         "xaxis": "x",
         "y": [
          0.37975965815037804,
          1.7492348011567482,
          0.7832821211227712,
          0.900595426998253,
          0.16324060731234813,
          0.3529716729489605
         ],
         "yaxis": "y"
        }
       ],
       "layout": {
        "legend": {
         "title": {
          "text": "variable"
         },
         "tracegroupgap": 0
        },
        "margin": {
         "t": 60
        },
        "template": {
         "data": {
          "bar": [
           {
            "error_x": {
             "color": "#2a3f5f"
            },
            "error_y": {
             "color": "#2a3f5f"
            },
            "marker": {
             "line": {
              "color": "#E5ECF6",
              "width": 0.5
             },
             "pattern": {
              "fillmode": "overlay",
              "size": 10,
              "solidity": 0.2
             }
            },
            "type": "bar"
           }
          ],
          "barpolar": [
           {
            "marker": {
             "line": {
              "color": "#E5ECF6",
              "width": 0.5
             },
             "pattern": {
              "fillmode": "overlay",
              "size": 10,
              "solidity": 0.2
             }
            },
            "type": "barpolar"
           }
          ],
          "carpet": [
           {
            "aaxis": {
             "endlinecolor": "#2a3f5f",
             "gridcolor": "white",
             "linecolor": "white",
             "minorgridcolor": "white",
             "startlinecolor": "#2a3f5f"
            },
            "baxis": {
             "endlinecolor": "#2a3f5f",
             "gridcolor": "white",
             "linecolor": "white",
             "minorgridcolor": "white",
             "startlinecolor": "#2a3f5f"
            },
            "type": "carpet"
           }
          ],
          "choropleth": [
           {
            "colorbar": {
             "outlinewidth": 0,
             "ticks": ""
            },
            "type": "choropleth"
           }
          ],
          "contour": [
           {
            "colorbar": {
             "outlinewidth": 0,
             "ticks": ""
            },
            "colorscale": [
             [
              0,
              "#0d0887"
             ],
             [
              0.1111111111111111,
              "#46039f"
             ],
             [
              0.2222222222222222,
              "#7201a8"
             ],
             [
              0.3333333333333333,
              "#9c179e"
             ],
             [
              0.4444444444444444,
              "#bd3786"
             ],
             [
              0.5555555555555556,
              "#d8576b"
             ],
             [
              0.6666666666666666,
              "#ed7953"
             ],
             [
              0.7777777777777778,
              "#fb9f3a"
             ],
             [
              0.8888888888888888,
              "#fdca26"
             ],
             [
              1,
              "#f0f921"
             ]
            ],
            "type": "contour"
           }
          ],
          "contourcarpet": [
           {
            "colorbar": {
             "outlinewidth": 0,
             "ticks": ""
            },
            "type": "contourcarpet"
           }
          ],
          "heatmap": [
           {
            "colorbar": {
             "outlinewidth": 0,
             "ticks": ""
            },
            "colorscale": [
             [
              0,
              "#0d0887"
             ],
             [
              0.1111111111111111,
              "#46039f"
             ],
             [
              0.2222222222222222,
              "#7201a8"
             ],
             [
              0.3333333333333333,
              "#9c179e"
             ],
             [
              0.4444444444444444,
              "#bd3786"
             ],
             [
              0.5555555555555556,
              "#d8576b"
             ],
             [
              0.6666666666666666,
              "#ed7953"
             ],
             [
              0.7777777777777778,
              "#fb9f3a"
             ],
             [
              0.8888888888888888,
              "#fdca26"
             ],
             [
              1,
              "#f0f921"
             ]
            ],
            "type": "heatmap"
           }
          ],
          "heatmapgl": [
           {
            "colorbar": {
             "outlinewidth": 0,
             "ticks": ""
            },
            "colorscale": [
             [
              0,
              "#0d0887"
             ],
             [
              0.1111111111111111,
              "#46039f"
             ],
             [
              0.2222222222222222,
              "#7201a8"
             ],
             [
              0.3333333333333333,
              "#9c179e"
             ],
             [
              0.4444444444444444,
              "#bd3786"
             ],
             [
              0.5555555555555556,
              "#d8576b"
             ],
             [
              0.6666666666666666,
              "#ed7953"
             ],
             [
              0.7777777777777778,
              "#fb9f3a"
             ],
             [
              0.8888888888888888,
              "#fdca26"
             ],
             [
              1,
              "#f0f921"
             ]
            ],
            "type": "heatmapgl"
           }
          ],
          "histogram": [
           {
            "marker": {
             "pattern": {
              "fillmode": "overlay",
              "size": 10,
              "solidity": 0.2
             }
            },
            "type": "histogram"
           }
          ],
          "histogram2d": [
           {
            "colorbar": {
             "outlinewidth": 0,
             "ticks": ""
            },
            "colorscale": [
             [
              0,
              "#0d0887"
             ],
             [
              0.1111111111111111,
              "#46039f"
             ],
             [
              0.2222222222222222,
              "#7201a8"
             ],
             [
              0.3333333333333333,
              "#9c179e"
             ],
             [
              0.4444444444444444,
              "#bd3786"
             ],
             [
              0.5555555555555556,
              "#d8576b"
             ],
             [
              0.6666666666666666,
              "#ed7953"
             ],
             [
              0.7777777777777778,
              "#fb9f3a"
             ],
             [
              0.8888888888888888,
              "#fdca26"
             ],
             [
              1,
              "#f0f921"
             ]
            ],
            "type": "histogram2d"
           }
          ],
          "histogram2dcontour": [
           {
            "colorbar": {
             "outlinewidth": 0,
             "ticks": ""
            },
            "colorscale": [
             [
              0,
              "#0d0887"
             ],
             [
              0.1111111111111111,
              "#46039f"
             ],
             [
              0.2222222222222222,
              "#7201a8"
             ],
             [
              0.3333333333333333,
              "#9c179e"
             ],
             [
              0.4444444444444444,
              "#bd3786"
             ],
             [
              0.5555555555555556,
              "#d8576b"
             ],
             [
              0.6666666666666666,
              "#ed7953"
             ],
             [
              0.7777777777777778,
              "#fb9f3a"
             ],
             [
              0.8888888888888888,
              "#fdca26"
             ],
             [
              1,
              "#f0f921"
             ]
            ],
            "type": "histogram2dcontour"
           }
          ],
          "mesh3d": [
           {
            "colorbar": {
             "outlinewidth": 0,
             "ticks": ""
            },
            "type": "mesh3d"
           }
          ],
          "parcoords": [
           {
            "line": {
             "colorbar": {
              "outlinewidth": 0,
              "ticks": ""
             }
            },
            "type": "parcoords"
           }
          ],
          "pie": [
           {
            "automargin": true,
            "type": "pie"
           }
          ],
          "scatter": [
           {
            "marker": {
             "colorbar": {
              "outlinewidth": 0,
              "ticks": ""
             }
            },
            "type": "scatter"
           }
          ],
          "scatter3d": [
           {
            "line": {
             "colorbar": {
              "outlinewidth": 0,
              "ticks": ""
             }
            },
            "marker": {
             "colorbar": {
              "outlinewidth": 0,
              "ticks": ""
             }
            },
            "type": "scatter3d"
           }
          ],
          "scattercarpet": [
           {
            "marker": {
             "colorbar": {
              "outlinewidth": 0,
              "ticks": ""
             }
            },
            "type": "scattercarpet"
           }
          ],
          "scattergeo": [
           {
            "marker": {
             "colorbar": {
              "outlinewidth": 0,
              "ticks": ""
             }
            },
            "type": "scattergeo"
           }
          ],
          "scattergl": [
           {
            "marker": {
             "colorbar": {
              "outlinewidth": 0,
              "ticks": ""
             }
            },
            "type": "scattergl"
           }
          ],
          "scattermapbox": [
           {
            "marker": {
             "colorbar": {
              "outlinewidth": 0,
              "ticks": ""
             }
            },
            "type": "scattermapbox"
           }
          ],
          "scatterpolar": [
           {
            "marker": {
             "colorbar": {
              "outlinewidth": 0,
              "ticks": ""
             }
            },
            "type": "scatterpolar"
           }
          ],
          "scatterpolargl": [
           {
            "marker": {
             "colorbar": {
              "outlinewidth": 0,
              "ticks": ""
             }
            },
            "type": "scatterpolargl"
           }
          ],
          "scatterternary": [
           {
            "marker": {
             "colorbar": {
              "outlinewidth": 0,
              "ticks": ""
             }
            },
            "type": "scatterternary"
           }
          ],
          "surface": [
           {
            "colorbar": {
             "outlinewidth": 0,
             "ticks": ""
            },
            "colorscale": [
             [
              0,
              "#0d0887"
             ],
             [
              0.1111111111111111,
              "#46039f"
             ],
             [
              0.2222222222222222,
              "#7201a8"
             ],
             [
              0.3333333333333333,
              "#9c179e"
             ],
             [
              0.4444444444444444,
              "#bd3786"
             ],
             [
              0.5555555555555556,
              "#d8576b"
             ],
             [
              0.6666666666666666,
              "#ed7953"
             ],
             [
              0.7777777777777778,
              "#fb9f3a"
             ],
             [
              0.8888888888888888,
              "#fdca26"
             ],
             [
              1,
              "#f0f921"
             ]
            ],
            "type": "surface"
           }
          ],
          "table": [
           {
            "cells": {
             "fill": {
              "color": "#EBF0F8"
             },
             "line": {
              "color": "white"
             }
            },
            "header": {
             "fill": {
              "color": "#C8D4E3"
             },
             "line": {
              "color": "white"
             }
            },
            "type": "table"
           }
          ]
         },
         "layout": {
          "annotationdefaults": {
           "arrowcolor": "#2a3f5f",
           "arrowhead": 0,
           "arrowwidth": 1
          },
          "autotypenumbers": "strict",
          "coloraxis": {
           "colorbar": {
            "outlinewidth": 0,
            "ticks": ""
           }
          },
          "colorscale": {
           "diverging": [
            [
             0,
             "#8e0152"
            ],
            [
             0.1,
             "#c51b7d"
            ],
            [
             0.2,
             "#de77ae"
            ],
            [
             0.3,
             "#f1b6da"
            ],
            [
             0.4,
             "#fde0ef"
            ],
            [
             0.5,
             "#f7f7f7"
            ],
            [
             0.6,
             "#e6f5d0"
            ],
            [
             0.7,
             "#b8e186"
            ],
            [
             0.8,
             "#7fbc41"
            ],
            [
             0.9,
             "#4d9221"
            ],
            [
             1,
             "#276419"
            ]
           ],
           "sequential": [
            [
             0,
             "#0d0887"
            ],
            [
             0.1111111111111111,
             "#46039f"
            ],
            [
             0.2222222222222222,
             "#7201a8"
            ],
            [
             0.3333333333333333,
             "#9c179e"
            ],
            [
             0.4444444444444444,
             "#bd3786"
            ],
            [
             0.5555555555555556,
             "#d8576b"
            ],
            [
             0.6666666666666666,
             "#ed7953"
            ],
            [
             0.7777777777777778,
             "#fb9f3a"
            ],
            [
             0.8888888888888888,
             "#fdca26"
            ],
            [
             1,
             "#f0f921"
            ]
           ],
           "sequentialminus": [
            [
             0,
             "#0d0887"
            ],
            [
             0.1111111111111111,
             "#46039f"
            ],
            [
             0.2222222222222222,
             "#7201a8"
            ],
            [
             0.3333333333333333,
             "#9c179e"
            ],
            [
             0.4444444444444444,
             "#bd3786"
            ],
            [
             0.5555555555555556,
             "#d8576b"
            ],
            [
             0.6666666666666666,
             "#ed7953"
            ],
            [
             0.7777777777777778,
             "#fb9f3a"
            ],
            [
             0.8888888888888888,
             "#fdca26"
            ],
            [
             1,
             "#f0f921"
            ]
           ]
          },
          "colorway": [
           "#636efa",
           "#EF553B",
           "#00cc96",
           "#ab63fa",
           "#FFA15A",
           "#19d3f3",
           "#FF6692",
           "#B6E880",
           "#FF97FF",
           "#FECB52"
          ],
          "font": {
           "color": "#2a3f5f"
          },
          "geo": {
           "bgcolor": "white",
           "lakecolor": "white",
           "landcolor": "#E5ECF6",
           "showlakes": true,
           "showland": true,
           "subunitcolor": "white"
          },
          "hoverlabel": {
           "align": "left"
          },
          "hovermode": "closest",
          "mapbox": {
           "style": "light"
          },
          "paper_bgcolor": "white",
          "plot_bgcolor": "#E5ECF6",
          "polar": {
           "angularaxis": {
            "gridcolor": "white",
            "linecolor": "white",
            "ticks": ""
           },
           "bgcolor": "#E5ECF6",
           "radialaxis": {
            "gridcolor": "white",
            "linecolor": "white",
            "ticks": ""
           }
          },
          "scene": {
           "xaxis": {
            "backgroundcolor": "#E5ECF6",
            "gridcolor": "white",
            "gridwidth": 2,
            "linecolor": "white",
            "showbackground": true,
            "ticks": "",
            "zerolinecolor": "white"
           },
           "yaxis": {
            "backgroundcolor": "#E5ECF6",
            "gridcolor": "white",
            "gridwidth": 2,
            "linecolor": "white",
            "showbackground": true,
            "ticks": "",
            "zerolinecolor": "white"
           },
           "zaxis": {
            "backgroundcolor": "#E5ECF6",
            "gridcolor": "white",
            "gridwidth": 2,
            "linecolor": "white",
            "showbackground": true,
            "ticks": "",
            "zerolinecolor": "white"
           }
          },
          "shapedefaults": {
           "line": {
            "color": "#2a3f5f"
           }
          },
          "ternary": {
           "aaxis": {
            "gridcolor": "white",
            "linecolor": "white",
            "ticks": ""
           },
           "baxis": {
            "gridcolor": "white",
            "linecolor": "white",
            "ticks": ""
           },
           "bgcolor": "#E5ECF6",
           "caxis": {
            "gridcolor": "white",
            "linecolor": "white",
            "ticks": ""
           }
          },
          "title": {
           "x": 0.05
          },
          "xaxis": {
           "automargin": true,
           "gridcolor": "white",
           "linecolor": "white",
           "ticks": "",
           "title": {
            "standoff": 15
           },
           "zerolinecolor": "white",
           "zerolinewidth": 2
          },
          "yaxis": {
           "automargin": true,
           "gridcolor": "white",
           "linecolor": "white",
           "ticks": "",
           "title": {
            "standoff": 15
           },
           "zerolinecolor": "white",
           "zerolinewidth": 2
          }
         }
        },
        "xaxis": {
         "anchor": "y",
         "domain": [
          0,
          1
         ],
         "title": {
          "text": "index"
         }
        },
        "yaxis": {
         "anchor": "x",
         "domain": [
          0,
          1
         ],
         "title": {
          "text": "value"
         }
        }
       }
      },
      "text/html": [
       "<div>                            <div id=\"956f1238-04cd-48f0-aedc-d25379139362\" class=\"plotly-graph-div\" style=\"height:525px; width:100%;\"></div>            <script type=\"text/javascript\">                require([\"plotly\"], function(Plotly) {                    window.PLOTLYENV=window.PLOTLYENV || {};                                    if (document.getElementById(\"956f1238-04cd-48f0-aedc-d25379139362\")) {                    Plotly.newPlot(                        \"956f1238-04cd-48f0-aedc-d25379139362\",                        [{\"hovertemplate\":\"variable=a<br>index=%{x}<br>value=%{y}<extra></extra>\",\"legendgroup\":\"a\",\"line\":{\"color\":\"rgba(0,100,80,1)\",\"dash\":\"solid\"},\"marker\":{\"symbol\":\"circle\"},\"mode\":\"lines\",\"name\":\"a\",\"orientation\":\"v\",\"showlegend\":true,\"type\":\"scatter\",\"x\":[0,1,2,3,4,5],\"xaxis\":\"x\",\"y\":[0.6023438984861369,1.4593021120376903,1.9403104565399807,1.3491567578104642,1.2587573110966221,1.2280174039643887],\"yaxis\":\"y\"},{\"hovertemplate\":\"variable=b<br>index=%{x}<br>value=%{y}<extra></extra>\",\"legendgroup\":\"b\",\"line\":{\"color\":\"rgba(0,100,80,0.2)\",\"dash\":\"solid\"},\"marker\":{\"symbol\":\"circle\"},\"mode\":\"lines\",\"name\":\"b\",\"orientation\":\"v\",\"showlegend\":true,\"type\":\"scatter\",\"x\":[0,1,2,3,4,5],\"xaxis\":\"x\",\"y\":[0.37975965815037804,1.7492348011567482,0.7832821211227712,0.900595426998253,0.16324060731234813,0.3529716729489605],\"yaxis\":\"y\"}],                        {\"legend\":{\"title\":{\"text\":\"variable\"},\"tracegroupgap\":0},\"margin\":{\"t\":60},\"template\":{\"data\":{\"bar\":[{\"error_x\":{\"color\":\"#2a3f5f\"},\"error_y\":{\"color\":\"#2a3f5f\"},\"marker\":{\"line\":{\"color\":\"#E5ECF6\",\"width\":0.5},\"pattern\":{\"fillmode\":\"overlay\",\"size\":10,\"solidity\":0.2}},\"type\":\"bar\"}],\"barpolar\":[{\"marker\":{\"line\":{\"color\":\"#E5ECF6\",\"width\":0.5},\"pattern\":{\"fillmode\":\"overlay\",\"size\":10,\"solidity\":0.2}},\"type\":\"barpolar\"}],\"carpet\":[{\"aaxis\":{\"endlinecolor\":\"#2a3f5f\",\"gridcolor\":\"white\",\"linecolor\":\"white\",\"minorgridcolor\":\"white\",\"startlinecolor\":\"#2a3f5f\"},\"baxis\":{\"endlinecolor\":\"#2a3f5f\",\"gridcolor\":\"white\",\"linecolor\":\"white\",\"minorgridcolor\":\"white\",\"startlinecolor\":\"#2a3f5f\"},\"type\":\"carpet\"}],\"choropleth\":[{\"colorbar\":{\"outlinewidth\":0,\"ticks\":\"\"},\"type\":\"choropleth\"}],\"contour\":[{\"colorbar\":{\"outlinewidth\":0,\"ticks\":\"\"},\"colorscale\":[[0.0,\"#0d0887\"],[0.1111111111111111,\"#46039f\"],[0.2222222222222222,\"#7201a8\"],[0.3333333333333333,\"#9c179e\"],[0.4444444444444444,\"#bd3786\"],[0.5555555555555556,\"#d8576b\"],[0.6666666666666666,\"#ed7953\"],[0.7777777777777778,\"#fb9f3a\"],[0.8888888888888888,\"#fdca26\"],[1.0,\"#f0f921\"]],\"type\":\"contour\"}],\"contourcarpet\":[{\"colorbar\":{\"outlinewidth\":0,\"ticks\":\"\"},\"type\":\"contourcarpet\"}],\"heatmap\":[{\"colorbar\":{\"outlinewidth\":0,\"ticks\":\"\"},\"colorscale\":[[0.0,\"#0d0887\"],[0.1111111111111111,\"#46039f\"],[0.2222222222222222,\"#7201a8\"],[0.3333333333333333,\"#9c179e\"],[0.4444444444444444,\"#bd3786\"],[0.5555555555555556,\"#d8576b\"],[0.6666666666666666,\"#ed7953\"],[0.7777777777777778,\"#fb9f3a\"],[0.8888888888888888,\"#fdca26\"],[1.0,\"#f0f921\"]],\"type\":\"heatmap\"}],\"heatmapgl\":[{\"colorbar\":{\"outlinewidth\":0,\"ticks\":\"\"},\"colorscale\":[[0.0,\"#0d0887\"],[0.1111111111111111,\"#46039f\"],[0.2222222222222222,\"#7201a8\"],[0.3333333333333333,\"#9c179e\"],[0.4444444444444444,\"#bd3786\"],[0.5555555555555556,\"#d8576b\"],[0.6666666666666666,\"#ed7953\"],[0.7777777777777778,\"#fb9f3a\"],[0.8888888888888888,\"#fdca26\"],[1.0,\"#f0f921\"]],\"type\":\"heatmapgl\"}],\"histogram\":[{\"marker\":{\"pattern\":{\"fillmode\":\"overlay\",\"size\":10,\"solidity\":0.2}},\"type\":\"histogram\"}],\"histogram2d\":[{\"colorbar\":{\"outlinewidth\":0,\"ticks\":\"\"},\"colorscale\":[[0.0,\"#0d0887\"],[0.1111111111111111,\"#46039f\"],[0.2222222222222222,\"#7201a8\"],[0.3333333333333333,\"#9c179e\"],[0.4444444444444444,\"#bd3786\"],[0.5555555555555556,\"#d8576b\"],[0.6666666666666666,\"#ed7953\"],[0.7777777777777778,\"#fb9f3a\"],[0.8888888888888888,\"#fdca26\"],[1.0,\"#f0f921\"]],\"type\":\"histogram2d\"}],\"histogram2dcontour\":[{\"colorbar\":{\"outlinewidth\":0,\"ticks\":\"\"},\"colorscale\":[[0.0,\"#0d0887\"],[0.1111111111111111,\"#46039f\"],[0.2222222222222222,\"#7201a8\"],[0.3333333333333333,\"#9c179e\"],[0.4444444444444444,\"#bd3786\"],[0.5555555555555556,\"#d8576b\"],[0.6666666666666666,\"#ed7953\"],[0.7777777777777778,\"#fb9f3a\"],[0.8888888888888888,\"#fdca26\"],[1.0,\"#f0f921\"]],\"type\":\"histogram2dcontour\"}],\"mesh3d\":[{\"colorbar\":{\"outlinewidth\":0,\"ticks\":\"\"},\"type\":\"mesh3d\"}],\"parcoords\":[{\"line\":{\"colorbar\":{\"outlinewidth\":0,\"ticks\":\"\"}},\"type\":\"parcoords\"}],\"pie\":[{\"automargin\":true,\"type\":\"pie\"}],\"scatter\":[{\"marker\":{\"colorbar\":{\"outlinewidth\":0,\"ticks\":\"\"}},\"type\":\"scatter\"}],\"scatter3d\":[{\"line\":{\"colorbar\":{\"outlinewidth\":0,\"ticks\":\"\"}},\"marker\":{\"colorbar\":{\"outlinewidth\":0,\"ticks\":\"\"}},\"type\":\"scatter3d\"}],\"scattercarpet\":[{\"marker\":{\"colorbar\":{\"outlinewidth\":0,\"ticks\":\"\"}},\"type\":\"scattercarpet\"}],\"scattergeo\":[{\"marker\":{\"colorbar\":{\"outlinewidth\":0,\"ticks\":\"\"}},\"type\":\"scattergeo\"}],\"scattergl\":[{\"marker\":{\"colorbar\":{\"outlinewidth\":0,\"ticks\":\"\"}},\"type\":\"scattergl\"}],\"scattermapbox\":[{\"marker\":{\"colorbar\":{\"outlinewidth\":0,\"ticks\":\"\"}},\"type\":\"scattermapbox\"}],\"scatterpolar\":[{\"marker\":{\"colorbar\":{\"outlinewidth\":0,\"ticks\":\"\"}},\"type\":\"scatterpolar\"}],\"scatterpolargl\":[{\"marker\":{\"colorbar\":{\"outlinewidth\":0,\"ticks\":\"\"}},\"type\":\"scatterpolargl\"}],\"scatterternary\":[{\"marker\":{\"colorbar\":{\"outlinewidth\":0,\"ticks\":\"\"}},\"type\":\"scatterternary\"}],\"surface\":[{\"colorbar\":{\"outlinewidth\":0,\"ticks\":\"\"},\"colorscale\":[[0.0,\"#0d0887\"],[0.1111111111111111,\"#46039f\"],[0.2222222222222222,\"#7201a8\"],[0.3333333333333333,\"#9c179e\"],[0.4444444444444444,\"#bd3786\"],[0.5555555555555556,\"#d8576b\"],[0.6666666666666666,\"#ed7953\"],[0.7777777777777778,\"#fb9f3a\"],[0.8888888888888888,\"#fdca26\"],[1.0,\"#f0f921\"]],\"type\":\"surface\"}],\"table\":[{\"cells\":{\"fill\":{\"color\":\"#EBF0F8\"},\"line\":{\"color\":\"white\"}},\"header\":{\"fill\":{\"color\":\"#C8D4E3\"},\"line\":{\"color\":\"white\"}},\"type\":\"table\"}]},\"layout\":{\"annotationdefaults\":{\"arrowcolor\":\"#2a3f5f\",\"arrowhead\":0,\"arrowwidth\":1},\"autotypenumbers\":\"strict\",\"coloraxis\":{\"colorbar\":{\"outlinewidth\":0,\"ticks\":\"\"}},\"colorscale\":{\"diverging\":[[0,\"#8e0152\"],[0.1,\"#c51b7d\"],[0.2,\"#de77ae\"],[0.3,\"#f1b6da\"],[0.4,\"#fde0ef\"],[0.5,\"#f7f7f7\"],[0.6,\"#e6f5d0\"],[0.7,\"#b8e186\"],[0.8,\"#7fbc41\"],[0.9,\"#4d9221\"],[1,\"#276419\"]],\"sequential\":[[0.0,\"#0d0887\"],[0.1111111111111111,\"#46039f\"],[0.2222222222222222,\"#7201a8\"],[0.3333333333333333,\"#9c179e\"],[0.4444444444444444,\"#bd3786\"],[0.5555555555555556,\"#d8576b\"],[0.6666666666666666,\"#ed7953\"],[0.7777777777777778,\"#fb9f3a\"],[0.8888888888888888,\"#fdca26\"],[1.0,\"#f0f921\"]],\"sequentialminus\":[[0.0,\"#0d0887\"],[0.1111111111111111,\"#46039f\"],[0.2222222222222222,\"#7201a8\"],[0.3333333333333333,\"#9c179e\"],[0.4444444444444444,\"#bd3786\"],[0.5555555555555556,\"#d8576b\"],[0.6666666666666666,\"#ed7953\"],[0.7777777777777778,\"#fb9f3a\"],[0.8888888888888888,\"#fdca26\"],[1.0,\"#f0f921\"]]},\"colorway\":[\"#636efa\",\"#EF553B\",\"#00cc96\",\"#ab63fa\",\"#FFA15A\",\"#19d3f3\",\"#FF6692\",\"#B6E880\",\"#FF97FF\",\"#FECB52\"],\"font\":{\"color\":\"#2a3f5f\"},\"geo\":{\"bgcolor\":\"white\",\"lakecolor\":\"white\",\"landcolor\":\"#E5ECF6\",\"showlakes\":true,\"showland\":true,\"subunitcolor\":\"white\"},\"hoverlabel\":{\"align\":\"left\"},\"hovermode\":\"closest\",\"mapbox\":{\"style\":\"light\"},\"paper_bgcolor\":\"white\",\"plot_bgcolor\":\"#E5ECF6\",\"polar\":{\"angularaxis\":{\"gridcolor\":\"white\",\"linecolor\":\"white\",\"ticks\":\"\"},\"bgcolor\":\"#E5ECF6\",\"radialaxis\":{\"gridcolor\":\"white\",\"linecolor\":\"white\",\"ticks\":\"\"}},\"scene\":{\"xaxis\":{\"backgroundcolor\":\"#E5ECF6\",\"gridcolor\":\"white\",\"gridwidth\":2,\"linecolor\":\"white\",\"showbackground\":true,\"ticks\":\"\",\"zerolinecolor\":\"white\"},\"yaxis\":{\"backgroundcolor\":\"#E5ECF6\",\"gridcolor\":\"white\",\"gridwidth\":2,\"linecolor\":\"white\",\"showbackground\":true,\"ticks\":\"\",\"zerolinecolor\":\"white\"},\"zaxis\":{\"backgroundcolor\":\"#E5ECF6\",\"gridcolor\":\"white\",\"gridwidth\":2,\"linecolor\":\"white\",\"showbackground\":true,\"ticks\":\"\",\"zerolinecolor\":\"white\"}},\"shapedefaults\":{\"line\":{\"color\":\"#2a3f5f\"}},\"ternary\":{\"aaxis\":{\"gridcolor\":\"white\",\"linecolor\":\"white\",\"ticks\":\"\"},\"baxis\":{\"gridcolor\":\"white\",\"linecolor\":\"white\",\"ticks\":\"\"},\"bgcolor\":\"#E5ECF6\",\"caxis\":{\"gridcolor\":\"white\",\"linecolor\":\"white\",\"ticks\":\"\"}},\"title\":{\"x\":0.05},\"xaxis\":{\"automargin\":true,\"gridcolor\":\"white\",\"linecolor\":\"white\",\"ticks\":\"\",\"title\":{\"standoff\":15},\"zerolinecolor\":\"white\",\"zerolinewidth\":2},\"yaxis\":{\"automargin\":true,\"gridcolor\":\"white\",\"linecolor\":\"white\",\"ticks\":\"\",\"title\":{\"standoff\":15},\"zerolinecolor\":\"white\",\"zerolinewidth\":2}}},\"xaxis\":{\"anchor\":\"y\",\"domain\":[0.0,1.0],\"title\":{\"text\":\"index\"}},\"yaxis\":{\"anchor\":\"x\",\"domain\":[0.0,1.0],\"title\":{\"text\":\"value\"}}},                        {\"responsive\": true}                    ).then(function(){\n",
       "                            \n",
       "var gd = document.getElementById('956f1238-04cd-48f0-aedc-d25379139362');\n",
       "var x = new MutationObserver(function (mutations, observer) {{\n",
       "        var display = window.getComputedStyle(gd).display;\n",
       "        if (!display || display === 'none') {{\n",
       "            console.log([gd, 'removed!']);\n",
       "            Plotly.purge(gd);\n",
       "            observer.disconnect();\n",
       "        }}\n",
       "}});\n",
       "\n",
       "// Listen for the removal of the full notebook cells\n",
       "var notebookContainer = gd.closest('#notebook-container');\n",
       "if (notebookContainer) {{\n",
       "    x.observe(notebookContainer, {childList: true});\n",
       "}}\n",
       "\n",
       "// Listen for the clearing of the current output cell\n",
       "var outputEl = gd.closest('.output');\n",
       "if (outputEl) {{\n",
       "    x.observe(outputEl, {childList: true});\n",
       "}}\n",
       "\n",
       "                        })                };                });            </script>        </div>"
      ]
     },
     "metadata": {},
     "output_type": "display_data"
    }
   ],
   "source": [
    "px.line(df,color_discrete_map={\"a\":'rgba(0,100,80,1)',\"b\":'rgba(0,100,80,0.2)'})"
   ]
  },
  {
   "cell_type": "code",
   "execution_count": 18,
   "id": "b062b548",
   "metadata": {},
   "outputs": [],
   "source": [
    "import matplotlib.colors as plc"
   ]
  },
  {
   "cell_type": "code",
   "execution_count": 23,
   "id": "2295aa4a",
   "metadata": {},
   "outputs": [
    {
     "data": {
      "text/plain": [
       "(0.6039215686274509,\n",
       " 0.803921568627451,\n",
       " 0.19607843137254902,\n",
       " 1,\n",
       " 0.6039215686274509,\n",
       " 0.803921568627451,\n",
       " 0.19607843137254902,\n",
       " 1,\n",
       " 0.6039215686274509,\n",
       " 0.803921568627451,\n",
       " 0.19607843137254902,\n",
       " 1,\n",
       " 0.6039215686274509,\n",
       " 0.803921568627451,\n",
       " 0.19607843137254902,\n",
       " 1,\n",
       " 0.6039215686274509,\n",
       " 0.803921568627451,\n",
       " 0.19607843137254902,\n",
       " 1,\n",
       " 0.6039215686274509,\n",
       " 0.803921568627451,\n",
       " 0.19607843137254902,\n",
       " 1,\n",
       " 0.6039215686274509,\n",
       " 0.803921568627451,\n",
       " 0.19607843137254902,\n",
       " 1,\n",
       " 0.6039215686274509,\n",
       " 0.803921568627451,\n",
       " 0.19607843137254902,\n",
       " 1,\n",
       " 0.6039215686274509,\n",
       " 0.803921568627451,\n",
       " 0.19607843137254902,\n",
       " 1,\n",
       " 0.6039215686274509,\n",
       " 0.803921568627451,\n",
       " 0.19607843137254902,\n",
       " 1,\n",
       " 0.6039215686274509,\n",
       " 0.803921568627451,\n",
       " 0.19607843137254902,\n",
       " 1,\n",
       " 0.6039215686274509,\n",
       " 0.803921568627451,\n",
       " 0.19607843137254902,\n",
       " 1,\n",
       " 0.6039215686274509,\n",
       " 0.803921568627451,\n",
       " 0.19607843137254902,\n",
       " 1,\n",
       " 0.6039215686274509,\n",
       " 0.803921568627451,\n",
       " 0.19607843137254902,\n",
       " 1,\n",
       " 0.6039215686274509,\n",
       " 0.803921568627451,\n",
       " 0.19607843137254902,\n",
       " 1,\n",
       " 0.6039215686274509,\n",
       " 0.803921568627451,\n",
       " 0.19607843137254902,\n",
       " 1,\n",
       " 0.6039215686274509,\n",
       " 0.803921568627451,\n",
       " 0.19607843137254902,\n",
       " 1,\n",
       " 0.6039215686274509,\n",
       " 0.803921568627451,\n",
       " 0.19607843137254902,\n",
       " 1,\n",
       " 0.6039215686274509,\n",
       " 0.803921568627451,\n",
       " 0.19607843137254902,\n",
       " 1,\n",
       " 0.6039215686274509,\n",
       " 0.803921568627451,\n",
       " 0.19607843137254902,\n",
       " 1,\n",
       " 0.6039215686274509,\n",
       " 0.803921568627451,\n",
       " 0.19607843137254902,\n",
       " 1,\n",
       " 0.6039215686274509,\n",
       " 0.803921568627451,\n",
       " 0.19607843137254902,\n",
       " 1,\n",
       " 0.6039215686274509,\n",
       " 0.803921568627451,\n",
       " 0.19607843137254902,\n",
       " 1,\n",
       " 0.6039215686274509,\n",
       " 0.803921568627451,\n",
       " 0.19607843137254902,\n",
       " 1,\n",
       " 0.6039215686274509,\n",
       " 0.803921568627451,\n",
       " 0.19607843137254902,\n",
       " 1,\n",
       " 0.6039215686274509,\n",
       " 0.803921568627451,\n",
       " 0.19607843137254902,\n",
       " 1,\n",
       " 0.6039215686274509,\n",
       " 0.803921568627451,\n",
       " 0.19607843137254902,\n",
       " 1,\n",
       " 0.6039215686274509,\n",
       " 0.803921568627451,\n",
       " 0.19607843137254902,\n",
       " 1,\n",
       " 0.6039215686274509,\n",
       " 0.803921568627451,\n",
       " 0.19607843137254902,\n",
       " 1,\n",
       " 0.6039215686274509,\n",
       " 0.803921568627451,\n",
       " 0.19607843137254902,\n",
       " 1,\n",
       " 0.6039215686274509,\n",
       " 0.803921568627451,\n",
       " 0.19607843137254902,\n",
       " 1,\n",
       " 0.6039215686274509,\n",
       " 0.803921568627451,\n",
       " 0.19607843137254902,\n",
       " 1,\n",
       " 0.6039215686274509,\n",
       " 0.803921568627451,\n",
       " 0.19607843137254902,\n",
       " 1,\n",
       " 0.6039215686274509,\n",
       " 0.803921568627451,\n",
       " 0.19607843137254902,\n",
       " 1,\n",
       " 0.6039215686274509,\n",
       " 0.803921568627451,\n",
       " 0.19607843137254902,\n",
       " 1,\n",
       " 0.6039215686274509,\n",
       " 0.803921568627451,\n",
       " 0.19607843137254902,\n",
       " 1,\n",
       " 0.6039215686274509,\n",
       " 0.803921568627451,\n",
       " 0.19607843137254902,\n",
       " 1,\n",
       " 0.6039215686274509,\n",
       " 0.803921568627451,\n",
       " 0.19607843137254902,\n",
       " 1,\n",
       " 0.6039215686274509,\n",
       " 0.803921568627451,\n",
       " 0.19607843137254902,\n",
       " 1,\n",
       " 0.6039215686274509,\n",
       " 0.803921568627451,\n",
       " 0.19607843137254902,\n",
       " 1,\n",
       " 0.6039215686274509,\n",
       " 0.803921568627451,\n",
       " 0.19607843137254902,\n",
       " 1,\n",
       " 0.6039215686274509,\n",
       " 0.803921568627451,\n",
       " 0.19607843137254902,\n",
       " 1,\n",
       " 0.6039215686274509,\n",
       " 0.803921568627451,\n",
       " 0.19607843137254902,\n",
       " 1,\n",
       " 0.6039215686274509,\n",
       " 0.803921568627451,\n",
       " 0.19607843137254902,\n",
       " 1,\n",
       " 0.6039215686274509,\n",
       " 0.803921568627451,\n",
       " 0.19607843137254902,\n",
       " 1,\n",
       " 0.6039215686274509,\n",
       " 0.803921568627451,\n",
       " 0.19607843137254902,\n",
       " 1,\n",
       " 0.6039215686274509,\n",
       " 0.803921568627451,\n",
       " 0.19607843137254902,\n",
       " 1,\n",
       " 0.6039215686274509,\n",
       " 0.803921568627451,\n",
       " 0.19607843137254902,\n",
       " 1,\n",
       " 0.6039215686274509,\n",
       " 0.803921568627451,\n",
       " 0.19607843137254902,\n",
       " 1,\n",
       " 0.6039215686274509,\n",
       " 0.803921568627451,\n",
       " 0.19607843137254902,\n",
       " 1,\n",
       " 0.6039215686274509,\n",
       " 0.803921568627451,\n",
       " 0.19607843137254902,\n",
       " 1,\n",
       " 0.6039215686274509,\n",
       " 0.803921568627451,\n",
       " 0.19607843137254902,\n",
       " 1,\n",
       " 0.6039215686274509,\n",
       " 0.803921568627451,\n",
       " 0.19607843137254902,\n",
       " 1,\n",
       " 0.6039215686274509,\n",
       " 0.803921568627451,\n",
       " 0.19607843137254902,\n",
       " 1,\n",
       " 0.6039215686274509,\n",
       " 0.803921568627451,\n",
       " 0.19607843137254902,\n",
       " 1,\n",
       " 0.6039215686274509,\n",
       " 0.803921568627451,\n",
       " 0.19607843137254902,\n",
       " 1,\n",
       " 0.6039215686274509,\n",
       " 0.803921568627451,\n",
       " 0.19607843137254902,\n",
       " 1,\n",
       " 0.6039215686274509,\n",
       " 0.803921568627451,\n",
       " 0.19607843137254902,\n",
       " 1,\n",
       " 0.6039215686274509,\n",
       " 0.803921568627451,\n",
       " 0.19607843137254902,\n",
       " 1,\n",
       " 0.6039215686274509,\n",
       " 0.803921568627451,\n",
       " 0.19607843137254902,\n",
       " 1,\n",
       " 0.6039215686274509,\n",
       " 0.803921568627451,\n",
       " 0.19607843137254902,\n",
       " 1,\n",
       " 0.6039215686274509,\n",
       " 0.803921568627451,\n",
       " 0.19607843137254902,\n",
       " 1,\n",
       " 0.6039215686274509,\n",
       " 0.803921568627451,\n",
       " 0.19607843137254902,\n",
       " 1,\n",
       " 0.6039215686274509,\n",
       " 0.803921568627451,\n",
       " 0.19607843137254902,\n",
       " 1,\n",
       " 0.6039215686274509,\n",
       " 0.803921568627451,\n",
       " 0.19607843137254902,\n",
       " 1,\n",
       " 0.6039215686274509,\n",
       " 0.803921568627451,\n",
       " 0.19607843137254902,\n",
       " 1,\n",
       " 0.6039215686274509,\n",
       " 0.803921568627451,\n",
       " 0.19607843137254902,\n",
       " 1,\n",
       " 0.6039215686274509,\n",
       " 0.803921568627451,\n",
       " 0.19607843137254902,\n",
       " 1,\n",
       " 0.6039215686274509,\n",
       " 0.803921568627451,\n",
       " 0.19607843137254902,\n",
       " 1,\n",
       " 0.6039215686274509,\n",
       " 0.803921568627451,\n",
       " 0.19607843137254902,\n",
       " 1,\n",
       " 0.6039215686274509,\n",
       " 0.803921568627451,\n",
       " 0.19607843137254902,\n",
       " 1,\n",
       " 0.6039215686274509,\n",
       " 0.803921568627451,\n",
       " 0.19607843137254902,\n",
       " 1,\n",
       " 0.6039215686274509,\n",
       " 0.803921568627451,\n",
       " 0.19607843137254902,\n",
       " 1,\n",
       " 0.6039215686274509,\n",
       " 0.803921568627451,\n",
       " 0.19607843137254902,\n",
       " 1,\n",
       " 0.6039215686274509,\n",
       " 0.803921568627451,\n",
       " 0.19607843137254902,\n",
       " 1,\n",
       " 0.6039215686274509,\n",
       " 0.803921568627451,\n",
       " 0.19607843137254902,\n",
       " 1,\n",
       " 0.6039215686274509,\n",
       " 0.803921568627451,\n",
       " 0.19607843137254902,\n",
       " 1,\n",
       " 0.6039215686274509,\n",
       " 0.803921568627451,\n",
       " 0.19607843137254902,\n",
       " 1,\n",
       " 0.6039215686274509,\n",
       " 0.803921568627451,\n",
       " 0.19607843137254902,\n",
       " 1,\n",
       " 0.6039215686274509,\n",
       " 0.803921568627451,\n",
       " 0.19607843137254902,\n",
       " 1,\n",
       " 0.6039215686274509,\n",
       " 0.803921568627451,\n",
       " 0.19607843137254902,\n",
       " 1,\n",
       " 0.6039215686274509,\n",
       " 0.803921568627451,\n",
       " 0.19607843137254902,\n",
       " 1,\n",
       " 0.6039215686274509,\n",
       " 0.803921568627451,\n",
       " 0.19607843137254902,\n",
       " 1,\n",
       " 0.6039215686274509,\n",
       " 0.803921568627451,\n",
       " 0.19607843137254902,\n",
       " 1,\n",
       " 0.6039215686274509,\n",
       " 0.803921568627451,\n",
       " 0.19607843137254902,\n",
       " 1,\n",
       " 0.6039215686274509,\n",
       " 0.803921568627451,\n",
       " 0.19607843137254902,\n",
       " 1,\n",
       " 0.6039215686274509,\n",
       " 0.803921568627451,\n",
       " 0.19607843137254902,\n",
       " 1,\n",
       " 0.6039215686274509,\n",
       " 0.803921568627451,\n",
       " 0.19607843137254902,\n",
       " 1,\n",
       " 0.6039215686274509,\n",
       " 0.803921568627451,\n",
       " 0.19607843137254902,\n",
       " 1,\n",
       " 0.6039215686274509,\n",
       " 0.803921568627451,\n",
       " 0.19607843137254902,\n",
       " 1,\n",
       " 0.6039215686274509,\n",
       " 0.803921568627451,\n",
       " 0.19607843137254902,\n",
       " 1,\n",
       " 0.6039215686274509,\n",
       " 0.803921568627451,\n",
       " 0.19607843137254902,\n",
       " 1,\n",
       " 0.6039215686274509,\n",
       " 0.803921568627451,\n",
       " 0.19607843137254902,\n",
       " 1,\n",
       " 0.6039215686274509,\n",
       " 0.803921568627451,\n",
       " 0.19607843137254902,\n",
       " 1,\n",
       " 0.6039215686274509,\n",
       " 0.803921568627451,\n",
       " 0.19607843137254902,\n",
       " 1,\n",
       " 0.6039215686274509,\n",
       " 0.803921568627451,\n",
       " 0.19607843137254902,\n",
       " 1,\n",
       " 0.6039215686274509,\n",
       " 0.803921568627451,\n",
       " 0.19607843137254902,\n",
       " 1,\n",
       " 0.6039215686274509,\n",
       " 0.803921568627451,\n",
       " 0.19607843137254902,\n",
       " 1,\n",
       " 0.6039215686274509,\n",
       " 0.803921568627451,\n",
       " 0.19607843137254902,\n",
       " 1,\n",
       " 0.6039215686274509,\n",
       " 0.803921568627451,\n",
       " 0.19607843137254902,\n",
       " 1,\n",
       " 0.6039215686274509,\n",
       " 0.803921568627451,\n",
       " 0.19607843137254902,\n",
       " 1,\n",
       " 0.6039215686274509,\n",
       " 0.803921568627451,\n",
       " 0.19607843137254902,\n",
       " 1,\n",
       " 0.6039215686274509,\n",
       " 0.803921568627451,\n",
       " 0.19607843137254902,\n",
       " 1,\n",
       " 0.6039215686274509,\n",
       " 0.803921568627451,\n",
       " 0.19607843137254902,\n",
       " 1,\n",
       " 0.6039215686274509,\n",
       " 0.803921568627451,\n",
       " 0.19607843137254902,\n",
       " 1,\n",
       " 0.6039215686274509,\n",
       " 0.803921568627451,\n",
       " 0.19607843137254902,\n",
       " 1,\n",
       " 0.6039215686274509,\n",
       " 0.803921568627451,\n",
       " 0.19607843137254902,\n",
       " 1,\n",
       " 0.6039215686274509,\n",
       " 0.803921568627451,\n",
       " 0.19607843137254902,\n",
       " 1,\n",
       " 0.6039215686274509,\n",
       " 0.803921568627451,\n",
       " 0.19607843137254902,\n",
       " 1,\n",
       " 0.6039215686274509,\n",
       " 0.803921568627451,\n",
       " 0.19607843137254902,\n",
       " 1,\n",
       " 0.6039215686274509,\n",
       " 0.803921568627451,\n",
       " 0.19607843137254902,\n",
       " 1,\n",
       " 0.6039215686274509,\n",
       " 0.803921568627451,\n",
       " 0.19607843137254902,\n",
       " 1,\n",
       " 0.6039215686274509,\n",
       " 0.803921568627451,\n",
       " 0.19607843137254902,\n",
       " 1,\n",
       " 0.6039215686274509,\n",
       " 0.803921568627451,\n",
       " 0.19607843137254902,\n",
       " 1,\n",
       " 0.6039215686274509,\n",
       " 0.803921568627451,\n",
       " 0.19607843137254902,\n",
       " 1,\n",
       " 0.6039215686274509,\n",
       " 0.803921568627451,\n",
       " 0.19607843137254902,\n",
       " 1,\n",
       " 0.6039215686274509,\n",
       " 0.803921568627451,\n",
       " 0.19607843137254902,\n",
       " 1,\n",
       " 0.6039215686274509,\n",
       " 0.803921568627451,\n",
       " 0.19607843137254902,\n",
       " 1,\n",
       " 0.6039215686274509,\n",
       " 0.803921568627451,\n",
       " 0.19607843137254902,\n",
       " 1,\n",
       " 0.6039215686274509,\n",
       " 0.803921568627451,\n",
       " 0.19607843137254902,\n",
       " 1,\n",
       " 0.6039215686274509,\n",
       " 0.803921568627451,\n",
       " 0.19607843137254902,\n",
       " 1,\n",
       " 0.6039215686274509,\n",
       " 0.803921568627451,\n",
       " 0.19607843137254902,\n",
       " 1,\n",
       " 0.6039215686274509,\n",
       " 0.803921568627451,\n",
       " 0.19607843137254902,\n",
       " 1,\n",
       " 0.6039215686274509,\n",
       " 0.803921568627451,\n",
       " 0.19607843137254902,\n",
       " 1,\n",
       " 0.6039215686274509,\n",
       " 0.803921568627451,\n",
       " 0.19607843137254902,\n",
       " 1,\n",
       " 0.6039215686274509,\n",
       " 0.803921568627451,\n",
       " 0.19607843137254902,\n",
       " 1,\n",
       " 0.6039215686274509,\n",
       " 0.803921568627451,\n",
       " 0.19607843137254902,\n",
       " 1,\n",
       " 0.6039215686274509,\n",
       " 0.803921568627451,\n",
       " 0.19607843137254902,\n",
       " 1,\n",
       " 0.6039215686274509,\n",
       " 0.803921568627451,\n",
       " 0.19607843137254902,\n",
       " 1,\n",
       " 0.6039215686274509,\n",
       " 0.803921568627451,\n",
       " 0.19607843137254902,\n",
       " 1,\n",
       " 0.6039215686274509,\n",
       " 0.803921568627451,\n",
       " 0.19607843137254902,\n",
       " 1,\n",
       " 0.6039215686274509,\n",
       " 0.803921568627451,\n",
       " 0.19607843137254902,\n",
       " 1,\n",
       " 0.6039215686274509,\n",
       " 0.803921568627451,\n",
       " 0.19607843137254902,\n",
       " 1,\n",
       " 0.6039215686274509,\n",
       " 0.803921568627451,\n",
       " 0.19607843137254902,\n",
       " 1,\n",
       " 0.6039215686274509,\n",
       " 0.803921568627451,\n",
       " 0.19607843137254902,\n",
       " 1,\n",
       " 0.6039215686274509,\n",
       " 0.803921568627451,\n",
       " 0.19607843137254902,\n",
       " 1,\n",
       " 0.6039215686274509,\n",
       " 0.803921568627451,\n",
       " 0.19607843137254902,\n",
       " 1,\n",
       " 0.6039215686274509,\n",
       " 0.803921568627451,\n",
       " 0.19607843137254902,\n",
       " 1,\n",
       " 0.6039215686274509,\n",
       " 0.803921568627451,\n",
       " 0.19607843137254902,\n",
       " 1,\n",
       " 0.6039215686274509,\n",
       " 0.803921568627451,\n",
       " 0.19607843137254902,\n",
       " 1,\n",
       " 0.6039215686274509,\n",
       " 0.803921568627451,\n",
       " 0.19607843137254902,\n",
       " 1,\n",
       " 0.6039215686274509,\n",
       " 0.803921568627451,\n",
       " 0.19607843137254902,\n",
       " 1,\n",
       " 0.6039215686274509,\n",
       " 0.803921568627451,\n",
       " 0.19607843137254902,\n",
       " 1,\n",
       " 0.6039215686274509,\n",
       " 0.803921568627451,\n",
       " 0.19607843137254902,\n",
       " 1,\n",
       " 0.6039215686274509,\n",
       " 0.803921568627451,\n",
       " 0.19607843137254902,\n",
       " 1,\n",
       " 0.6039215686274509,\n",
       " 0.803921568627451,\n",
       " 0.19607843137254902,\n",
       " 1,\n",
       " 0.6039215686274509,\n",
       " 0.803921568627451,\n",
       " 0.19607843137254902,\n",
       " 1,\n",
       " 0.6039215686274509,\n",
       " 0.803921568627451,\n",
       " 0.19607843137254902,\n",
       " 1,\n",
       " 0.6039215686274509,\n",
       " 0.803921568627451,\n",
       " 0.19607843137254902,\n",
       " 1,\n",
       " 0.6039215686274509,\n",
       " 0.803921568627451,\n",
       " 0.19607843137254902,\n",
       " 1,\n",
       " 0.6039215686274509,\n",
       " 0.803921568627451,\n",
       " 0.19607843137254902,\n",
       " 1,\n",
       " 0.6039215686274509,\n",
       " 0.803921568627451,\n",
       " 0.19607843137254902,\n",
       " 1,\n",
       " 0.6039215686274509,\n",
       " 0.803921568627451,\n",
       " 0.19607843137254902,\n",
       " 1,\n",
       " 0.6039215686274509,\n",
       " 0.803921568627451,\n",
       " 0.19607843137254902,\n",
       " 1,\n",
       " 0.6039215686274509,\n",
       " 0.803921568627451,\n",
       " 0.19607843137254902,\n",
       " 1,\n",
       " 0.6039215686274509,\n",
       " 0.803921568627451,\n",
       " 0.19607843137254902,\n",
       " 1,\n",
       " 0.6039215686274509,\n",
       " 0.803921568627451,\n",
       " 0.19607843137254902,\n",
       " 1,\n",
       " 0.6039215686274509,\n",
       " 0.803921568627451,\n",
       " 0.19607843137254902,\n",
       " 1,\n",
       " 0.6039215686274509,\n",
       " 0.803921568627451,\n",
       " 0.19607843137254902,\n",
       " 1,\n",
       " 0.6039215686274509,\n",
       " 0.803921568627451,\n",
       " 0.19607843137254902,\n",
       " 1,\n",
       " 0.6039215686274509,\n",
       " 0.803921568627451,\n",
       " 0.19607843137254902,\n",
       " 1,\n",
       " 0.6039215686274509,\n",
       " 0.803921568627451,\n",
       " 0.19607843137254902,\n",
       " 1,\n",
       " 0.6039215686274509,\n",
       " 0.803921568627451,\n",
       " 0.19607843137254902,\n",
       " 1,\n",
       " 0.6039215686274509,\n",
       " 0.803921568627451,\n",
       " 0.19607843137254902,\n",
       " 1,\n",
       " 0.6039215686274509,\n",
       " 0.803921568627451,\n",
       " 0.19607843137254902,\n",
       " 1,\n",
       " 0.6039215686274509,\n",
       " 0.803921568627451,\n",
       " 0.19607843137254902,\n",
       " 1,\n",
       " 0.6039215686274509,\n",
       " 0.803921568627451,\n",
       " 0.19607843137254902,\n",
       " 1,\n",
       " 0.6039215686274509,\n",
       " 0.803921568627451,\n",
       " 0.19607843137254902,\n",
       " 1,\n",
       " 0.6039215686274509,\n",
       " 0.803921568627451,\n",
       " 0.19607843137254902,\n",
       " 1,\n",
       " 0.6039215686274509,\n",
       " 0.803921568627451,\n",
       " 0.19607843137254902,\n",
       " 1,\n",
       " 0.6039215686274509,\n",
       " 0.803921568627451,\n",
       " 0.19607843137254902,\n",
       " 1,\n",
       " 0.6039215686274509,\n",
       " 0.803921568627451,\n",
       " 0.19607843137254902,\n",
       " 1,\n",
       " 0.6039215686274509,\n",
       " 0.803921568627451,\n",
       " 0.19607843137254902,\n",
       " 1,\n",
       " 0.6039215686274509,\n",
       " 0.803921568627451,\n",
       " 0.19607843137254902,\n",
       " 1,\n",
       " 0.6039215686274509,\n",
       " 0.803921568627451,\n",
       " 0.19607843137254902,\n",
       " 1,\n",
       " 0.6039215686274509,\n",
       " 0.803921568627451,\n",
       " 0.19607843137254902,\n",
       " 1,\n",
       " 0.6039215686274509,\n",
       " 0.803921568627451,\n",
       " 0.19607843137254902,\n",
       " 1,\n",
       " 0.6039215686274509,\n",
       " 0.803921568627451,\n",
       " 0.19607843137254902,\n",
       " 1,\n",
       " 0.6039215686274509,\n",
       " 0.803921568627451,\n",
       " 0.19607843137254902,\n",
       " 1,\n",
       " 0.6039215686274509,\n",
       " 0.803921568627451,\n",
       " 0.19607843137254902,\n",
       " 1,\n",
       " 0.6039215686274509,\n",
       " 0.803921568627451,\n",
       " 0.19607843137254902,\n",
       " 1,\n",
       " 0.6039215686274509,\n",
       " 0.803921568627451,\n",
       " 0.19607843137254902,\n",
       " 1,\n",
       " 0.6039215686274509,\n",
       " 0.803921568627451,\n",
       " 0.19607843137254902,\n",
       " 1,\n",
       " 0.6039215686274509,\n",
       " 0.803921568627451,\n",
       " 0.19607843137254902,\n",
       " 1,\n",
       " 0.6039215686274509,\n",
       " 0.803921568627451,\n",
       " 0.19607843137254902,\n",
       " 1,\n",
       " 0.6039215686274509,\n",
       " 0.803921568627451,\n",
       " 0.19607843137254902,\n",
       " 1,\n",
       " 0.6039215686274509,\n",
       " 0.803921568627451,\n",
       " 0.19607843137254902,\n",
       " 1,\n",
       " 0.6039215686274509,\n",
       " 0.803921568627451,\n",
       " 0.19607843137254902,\n",
       " 1,\n",
       " 0.6039215686274509,\n",
       " 0.803921568627451,\n",
       " 0.19607843137254902,\n",
       " 1,\n",
       " 0.6039215686274509,\n",
       " 0.803921568627451,\n",
       " 0.19607843137254902,\n",
       " 1,\n",
       " 0.6039215686274509,\n",
       " 0.803921568627451,\n",
       " 0.19607843137254902,\n",
       " 1,\n",
       " 0.6039215686274509,\n",
       " 0.803921568627451,\n",
       " 0.19607843137254902,\n",
       " 1,\n",
       " 0.6039215686274509,\n",
       " 0.803921568627451,\n",
       " 0.19607843137254902,\n",
       " 1,\n",
       " 0.6039215686274509,\n",
       " 0.803921568627451,\n",
       " 0.19607843137254902,\n",
       " 1,\n",
       " 0.6039215686274509,\n",
       " 0.803921568627451,\n",
       " 0.19607843137254902,\n",
       " 1,\n",
       " 0.6039215686274509,\n",
       " 0.803921568627451,\n",
       " 0.19607843137254902,\n",
       " 1,\n",
       " 0.6039215686274509,\n",
       " 0.803921568627451,\n",
       " 0.19607843137254902,\n",
       " 1,\n",
       " 0.6039215686274509,\n",
       " 0.803921568627451,\n",
       " 0.19607843137254902,\n",
       " 1,\n",
       " 0.6039215686274509,\n",
       " 0.803921568627451,\n",
       " 0.19607843137254902,\n",
       " 1,\n",
       " 0.6039215686274509,\n",
       " 0.803921568627451,\n",
       " 0.19607843137254902,\n",
       " 1,\n",
       " 0.6039215686274509,\n",
       " 0.803921568627451,\n",
       " 0.19607843137254902,\n",
       " 1,\n",
       " 0.6039215686274509,\n",
       " 0.803921568627451,\n",
       " 0.19607843137254902,\n",
       " 1,\n",
       " 0.6039215686274509,\n",
       " 0.803921568627451,\n",
       " 0.19607843137254902,\n",
       " 1,\n",
       " 0.6039215686274509,\n",
       " 0.803921568627451,\n",
       " 0.19607843137254902,\n",
       " 1,\n",
       " 0.6039215686274509,\n",
       " 0.803921568627451,\n",
       " 0.19607843137254902,\n",
       " 1,\n",
       " 0.6039215686274509,\n",
       " 0.803921568627451,\n",
       " 0.19607843137254902,\n",
       " 1,\n",
       " 0.6039215686274509,\n",
       " 0.803921568627451,\n",
       " 0.19607843137254902,\n",
       " 1,\n",
       " 0.6039215686274509,\n",
       " 0.803921568627451,\n",
       " 0.19607843137254902,\n",
       " 1,\n",
       " 0.6039215686274509,\n",
       " 0.803921568627451,\n",
       " 0.19607843137254902,\n",
       " 1,\n",
       " 0.6039215686274509,\n",
       " 0.803921568627451,\n",
       " 0.19607843137254902,\n",
       " 1,\n",
       " 0.6039215686274509,\n",
       " 0.803921568627451,\n",
       " 0.19607843137254902,\n",
       " 1,\n",
       " 0.6039215686274509,\n",
       " 0.803921568627451,\n",
       " 0.19607843137254902,\n",
       " 1,\n",
       " 0.6039215686274509,\n",
       " 0.803921568627451,\n",
       " 0.19607843137254902,\n",
       " 1,\n",
       " 0.6039215686274509,\n",
       " 0.803921568627451,\n",
       " 0.19607843137254902,\n",
       " 1,\n",
       " 0.6039215686274509,\n",
       " 0.803921568627451,\n",
       " 0.19607843137254902,\n",
       " 1,\n",
       " 0.6039215686274509,\n",
       " 0.803921568627451,\n",
       " 0.19607843137254902,\n",
       " 1,\n",
       " 0.6039215686274509,\n",
       " 0.803921568627451,\n",
       " 0.19607843137254902,\n",
       " 1,\n",
       " 0.6039215686274509,\n",
       " 0.803921568627451,\n",
       " 0.19607843137254902,\n",
       " 1,\n",
       " 0.6039215686274509,\n",
       " 0.803921568627451,\n",
       " 0.19607843137254902,\n",
       " 1,\n",
       " 0.6039215686274509,\n",
       " 0.803921568627451,\n",
       " 0.19607843137254902,\n",
       " 1,\n",
       " 0.6039215686274509,\n",
       " 0.803921568627451,\n",
       " 0.19607843137254902,\n",
       " 1,\n",
       " 0.6039215686274509,\n",
       " 0.803921568627451,\n",
       " 0.19607843137254902,\n",
       " 1,\n",
       " 0.6039215686274509,\n",
       " 0.803921568627451,\n",
       " 0.19607843137254902,\n",
       " 1,\n",
       " 0.6039215686274509,\n",
       " 0.803921568627451,\n",
       " 0.19607843137254902,\n",
       " 1,\n",
       " 0.6039215686274509,\n",
       " 0.803921568627451,\n",
       " 0.19607843137254902,\n",
       " 1,\n",
       " 0.6039215686274509,\n",
       " 0.803921568627451,\n",
       " 0.19607843137254902,\n",
       " 1,\n",
       " 0.6039215686274509,\n",
       " 0.803921568627451,\n",
       " 0.19607843137254902,\n",
       " 1,\n",
       " 0.6039215686274509,\n",
       " 0.803921568627451,\n",
       " 0.19607843137254902,\n",
       " 1,\n",
       " 0.6039215686274509,\n",
       " 0.803921568627451,\n",
       " 0.19607843137254902,\n",
       " 1,\n",
       " 0.6039215686274509,\n",
       " 0.803921568627451,\n",
       " 0.19607843137254902,\n",
       " 1,\n",
       " 0.6039215686274509,\n",
       " 0.803921568627451,\n",
       " 0.19607843137254902,\n",
       " 1,\n",
       " 0.6039215686274509,\n",
       " 0.803921568627451,\n",
       " 0.19607843137254902,\n",
       " 1,\n",
       " 0.6039215686274509,\n",
       " 0.803921568627451,\n",
       " 0.19607843137254902,\n",
       " 1,\n",
       " 0.6039215686274509,\n",
       " 0.803921568627451,\n",
       " 0.19607843137254902,\n",
       " 1,\n",
       " 0.6039215686274509,\n",
       " 0.803921568627451,\n",
       " 0.19607843137254902,\n",
       " 1,\n",
       " 0.6039215686274509,\n",
       " 0.803921568627451,\n",
       " 0.19607843137254902,\n",
       " 1,\n",
       " 0.6039215686274509,\n",
       " 0.803921568627451,\n",
       " 0.19607843137254902,\n",
       " 1,\n",
       " 0.6039215686274509,\n",
       " 0.803921568627451,\n",
       " 0.19607843137254902,\n",
       " 1,\n",
       " 0.6039215686274509,\n",
       " 0.803921568627451,\n",
       " 0.19607843137254902,\n",
       " 1,\n",
       " 0.6039215686274509,\n",
       " 0.803921568627451,\n",
       " 0.19607843137254902,\n",
       " 1,\n",
       " 0.6039215686274509,\n",
       " 0.803921568627451,\n",
       " 0.19607843137254902,\n",
       " 1,\n",
       " 0.6039215686274509,\n",
       " 0.803921568627451,\n",
       " 0.19607843137254902,\n",
       " 1,\n",
       " 0.6039215686274509,\n",
       " 0.803921568627451,\n",
       " 0.19607843137254902,\n",
       " 1,\n",
       " 0.6039215686274509,\n",
       " 0.803921568627451,\n",
       " 0.19607843137254902,\n",
       " 1,\n",
       " 0.6039215686274509,\n",
       " 0.803921568627451,\n",
       " 0.19607843137254902,\n",
       " 1,\n",
       " 0.6039215686274509,\n",
       " 0.803921568627451,\n",
       " 0.19607843137254902,\n",
       " 1,\n",
       " 0.6039215686274509,\n",
       " 0.803921568627451,\n",
       " 0.19607843137254902,\n",
       " 1,\n",
       " 0.6039215686274509,\n",
       " 0.803921568627451,\n",
       " 0.19607843137254902,\n",
       " 1,\n",
       " 0.6039215686274509,\n",
       " 0.803921568627451,\n",
       " 0.19607843137254902,\n",
       " 1,\n",
       " 0.6039215686274509,\n",
       " 0.803921568627451,\n",
       " 0.19607843137254902,\n",
       " 1,\n",
       " ...)"
      ]
     },
     "execution_count": 23,
     "metadata": {},
     "output_type": "execute_result"
    }
   ],
   "source": [
    "plc.to_rgba(\"yellowgreen\",1) * 255"
   ]
  },
  {
   "cell_type": "code",
   "execution_count": null,
   "id": "52db5c96",
   "metadata": {},
   "outputs": [],
   "source": []
  }
 ],
 "metadata": {
  "kernelspec": {
   "display_name": "Python 3",
   "language": "python",
   "name": "python3"
  },
  "language_info": {
   "codemirror_mode": {
    "name": "ipython",
    "version": 3
   },
   "file_extension": ".py",
   "mimetype": "text/x-python",
   "name": "python",
   "nbconvert_exporter": "python",
   "pygments_lexer": "ipython3",
   "version": "3.6.8"
  }
 },
 "nbformat": 4,
 "nbformat_minor": 5
}
