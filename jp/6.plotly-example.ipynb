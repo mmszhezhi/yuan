{
 "cells": [
  {
   "cell_type": "code",
   "execution_count": 3,
   "id": "0506274d",
   "metadata": {},
   "outputs": [
    {
     "data": {
      "application/vnd.plotly.v1+json": {
       "config": {
        "plotlyServerURL": "https://plot.ly"
       },
       "data": [
        {
         "type": "scatter",
         "x": [
          1,
          2,
          3,
          4,
          5,
          6,
          7,
          8,
          9,
          10,
          11,
          12
         ],
         "y": [
          28.8,
          28.5,
          37,
          56.8,
          69.7,
          79.7,
          78.5,
          77.8,
          74.1,
          62.6,
          45.3,
          39.9
         ]
        }
       ],
       "layout": {
        "template": {
         "data": {
          "bar": [
           {
            "error_x": {
             "color": "#2a3f5f"
            },
            "error_y": {
             "color": "#2a3f5f"
            },
            "marker": {
             "line": {
              "color": "#E5ECF6",
              "width": 0.5
             },
             "pattern": {
              "fillmode": "overlay",
              "size": 10,
              "solidity": 0.2
             }
            },
            "type": "bar"
           }
          ],
          "barpolar": [
           {
            "marker": {
             "line": {
              "color": "#E5ECF6",
              "width": 0.5
             },
             "pattern": {
              "fillmode": "overlay",
              "size": 10,
              "solidity": 0.2
             }
            },
            "type": "barpolar"
           }
          ],
          "carpet": [
           {
            "aaxis": {
             "endlinecolor": "#2a3f5f",
             "gridcolor": "white",
             "linecolor": "white",
             "minorgridcolor": "white",
             "startlinecolor": "#2a3f5f"
            },
            "baxis": {
             "endlinecolor": "#2a3f5f",
             "gridcolor": "white",
             "linecolor": "white",
             "minorgridcolor": "white",
             "startlinecolor": "#2a3f5f"
            },
            "type": "carpet"
           }
          ],
          "choropleth": [
           {
            "colorbar": {
             "outlinewidth": 0,
             "ticks": ""
            },
            "type": "choropleth"
           }
          ],
          "contour": [
           {
            "colorbar": {
             "outlinewidth": 0,
             "ticks": ""
            },
            "colorscale": [
             [
              0,
              "#0d0887"
             ],
             [
              0.1111111111111111,
              "#46039f"
             ],
             [
              0.2222222222222222,
              "#7201a8"
             ],
             [
              0.3333333333333333,
              "#9c179e"
             ],
             [
              0.4444444444444444,
              "#bd3786"
             ],
             [
              0.5555555555555556,
              "#d8576b"
             ],
             [
              0.6666666666666666,
              "#ed7953"
             ],
             [
              0.7777777777777778,
              "#fb9f3a"
             ],
             [
              0.8888888888888888,
              "#fdca26"
             ],
             [
              1,
              "#f0f921"
             ]
            ],
            "type": "contour"
           }
          ],
          "contourcarpet": [
           {
            "colorbar": {
             "outlinewidth": 0,
             "ticks": ""
            },
            "type": "contourcarpet"
           }
          ],
          "heatmap": [
           {
            "colorbar": {
             "outlinewidth": 0,
             "ticks": ""
            },
            "colorscale": [
             [
              0,
              "#0d0887"
             ],
             [
              0.1111111111111111,
              "#46039f"
             ],
             [
              0.2222222222222222,
              "#7201a8"
             ],
             [
              0.3333333333333333,
              "#9c179e"
             ],
             [
              0.4444444444444444,
              "#bd3786"
             ],
             [
              0.5555555555555556,
              "#d8576b"
             ],
             [
              0.6666666666666666,
              "#ed7953"
             ],
             [
              0.7777777777777778,
              "#fb9f3a"
             ],
             [
              0.8888888888888888,
              "#fdca26"
             ],
             [
              1,
              "#f0f921"
             ]
            ],
            "type": "heatmap"
           }
          ],
          "heatmapgl": [
           {
            "colorbar": {
             "outlinewidth": 0,
             "ticks": ""
            },
            "colorscale": [
             [
              0,
              "#0d0887"
             ],
             [
              0.1111111111111111,
              "#46039f"
             ],
             [
              0.2222222222222222,
              "#7201a8"
             ],
             [
              0.3333333333333333,
              "#9c179e"
             ],
             [
              0.4444444444444444,
              "#bd3786"
             ],
             [
              0.5555555555555556,
              "#d8576b"
             ],
             [
              0.6666666666666666,
              "#ed7953"
             ],
             [
              0.7777777777777778,
              "#fb9f3a"
             ],
             [
              0.8888888888888888,
              "#fdca26"
             ],
             [
              1,
              "#f0f921"
             ]
            ],
            "type": "heatmapgl"
           }
          ],
          "histogram": [
           {
            "marker": {
             "pattern": {
              "fillmode": "overlay",
              "size": 10,
              "solidity": 0.2
             }
            },
            "type": "histogram"
           }
          ],
          "histogram2d": [
           {
            "colorbar": {
             "outlinewidth": 0,
             "ticks": ""
            },
            "colorscale": [
             [
              0,
              "#0d0887"
             ],
             [
              0.1111111111111111,
              "#46039f"
             ],
             [
              0.2222222222222222,
              "#7201a8"
             ],
             [
              0.3333333333333333,
              "#9c179e"
             ],
             [
              0.4444444444444444,
              "#bd3786"
             ],
             [
              0.5555555555555556,
              "#d8576b"
             ],
             [
              0.6666666666666666,
              "#ed7953"
             ],
             [
              0.7777777777777778,
              "#fb9f3a"
             ],
             [
              0.8888888888888888,
              "#fdca26"
             ],
             [
              1,
              "#f0f921"
             ]
            ],
            "type": "histogram2d"
           }
          ],
          "histogram2dcontour": [
           {
            "colorbar": {
             "outlinewidth": 0,
             "ticks": ""
            },
            "colorscale": [
             [
              0,
              "#0d0887"
             ],
             [
              0.1111111111111111,
              "#46039f"
             ],
             [
              0.2222222222222222,
              "#7201a8"
             ],
             [
              0.3333333333333333,
              "#9c179e"
             ],
             [
              0.4444444444444444,
              "#bd3786"
             ],
             [
              0.5555555555555556,
              "#d8576b"
             ],
             [
              0.6666666666666666,
              "#ed7953"
             ],
             [
              0.7777777777777778,
              "#fb9f3a"
             ],
             [
              0.8888888888888888,
              "#fdca26"
             ],
             [
              1,
              "#f0f921"
             ]
            ],
            "type": "histogram2dcontour"
           }
          ],
          "mesh3d": [
           {
            "colorbar": {
             "outlinewidth": 0,
             "ticks": ""
            },
            "type": "mesh3d"
           }
          ],
          "parcoords": [
           {
            "line": {
             "colorbar": {
              "outlinewidth": 0,
              "ticks": ""
             }
            },
            "type": "parcoords"
           }
          ],
          "pie": [
           {
            "automargin": true,
            "type": "pie"
           }
          ],
          "scatter": [
           {
            "marker": {
             "colorbar": {
              "outlinewidth": 0,
              "ticks": ""
             }
            },
            "type": "scatter"
           }
          ],
          "scatter3d": [
           {
            "line": {
             "colorbar": {
              "outlinewidth": 0,
              "ticks": ""
             }
            },
            "marker": {
             "colorbar": {
              "outlinewidth": 0,
              "ticks": ""
             }
            },
            "type": "scatter3d"
           }
          ],
          "scattercarpet": [
           {
            "marker": {
             "colorbar": {
              "outlinewidth": 0,
              "ticks": ""
             }
            },
            "type": "scattercarpet"
           }
          ],
          "scattergeo": [
           {
            "marker": {
             "colorbar": {
              "outlinewidth": 0,
              "ticks": ""
             }
            },
            "type": "scattergeo"
           }
          ],
          "scattergl": [
           {
            "marker": {
             "colorbar": {
              "outlinewidth": 0,
              "ticks": ""
             }
            },
            "type": "scattergl"
           }
          ],
          "scattermapbox": [
           {
            "marker": {
             "colorbar": {
              "outlinewidth": 0,
              "ticks": ""
             }
            },
            "type": "scattermapbox"
           }
          ],
          "scatterpolar": [
           {
            "marker": {
             "colorbar": {
              "outlinewidth": 0,
              "ticks": ""
             }
            },
            "type": "scatterpolar"
           }
          ],
          "scatterpolargl": [
           {
            "marker": {
             "colorbar": {
              "outlinewidth": 0,
              "ticks": ""
             }
            },
            "type": "scatterpolargl"
           }
          ],
          "scatterternary": [
           {
            "marker": {
             "colorbar": {
              "outlinewidth": 0,
              "ticks": ""
             }
            },
            "type": "scatterternary"
           }
          ],
          "surface": [
           {
            "colorbar": {
             "outlinewidth": 0,
             "ticks": ""
            },
            "colorscale": [
             [
              0,
              "#0d0887"
             ],
             [
              0.1111111111111111,
              "#46039f"
             ],
             [
              0.2222222222222222,
              "#7201a8"
             ],
             [
              0.3333333333333333,
              "#9c179e"
             ],
             [
              0.4444444444444444,
              "#bd3786"
             ],
             [
              0.5555555555555556,
              "#d8576b"
             ],
             [
              0.6666666666666666,
              "#ed7953"
             ],
             [
              0.7777777777777778,
              "#fb9f3a"
             ],
             [
              0.8888888888888888,
              "#fdca26"
             ],
             [
              1,
              "#f0f921"
             ]
            ],
            "type": "surface"
           }
          ],
          "table": [
           {
            "cells": {
             "fill": {
              "color": "#EBF0F8"
             },
             "line": {
              "color": "white"
             }
            },
            "header": {
             "fill": {
              "color": "#C8D4E3"
             },
             "line": {
              "color": "white"
             }
            },
            "type": "table"
           }
          ]
         },
         "layout": {
          "annotationdefaults": {
           "arrowcolor": "#2a3f5f",
           "arrowhead": 0,
           "arrowwidth": 1
          },
          "autotypenumbers": "strict",
          "coloraxis": {
           "colorbar": {
            "outlinewidth": 0,
            "ticks": ""
           }
          },
          "colorscale": {
           "diverging": [
            [
             0,
             "#8e0152"
            ],
            [
             0.1,
             "#c51b7d"
            ],
            [
             0.2,
             "#de77ae"
            ],
            [
             0.3,
             "#f1b6da"
            ],
            [
             0.4,
             "#fde0ef"
            ],
            [
             0.5,
             "#f7f7f7"
            ],
            [
             0.6,
             "#e6f5d0"
            ],
            [
             0.7,
             "#b8e186"
            ],
            [
             0.8,
             "#7fbc41"
            ],
            [
             0.9,
             "#4d9221"
            ],
            [
             1,
             "#276419"
            ]
           ],
           "sequential": [
            [
             0,
             "#0d0887"
            ],
            [
             0.1111111111111111,
             "#46039f"
            ],
            [
             0.2222222222222222,
             "#7201a8"
            ],
            [
             0.3333333333333333,
             "#9c179e"
            ],
            [
             0.4444444444444444,
             "#bd3786"
            ],
            [
             0.5555555555555556,
             "#d8576b"
            ],
            [
             0.6666666666666666,
             "#ed7953"
            ],
            [
             0.7777777777777778,
             "#fb9f3a"
            ],
            [
             0.8888888888888888,
             "#fdca26"
            ],
            [
             1,
             "#f0f921"
            ]
           ],
           "sequentialminus": [
            [
             0,
             "#0d0887"
            ],
            [
             0.1111111111111111,
             "#46039f"
            ],
            [
             0.2222222222222222,
             "#7201a8"
            ],
            [
             0.3333333333333333,
             "#9c179e"
            ],
            [
             0.4444444444444444,
             "#bd3786"
            ],
            [
             0.5555555555555556,
             "#d8576b"
            ],
            [
             0.6666666666666666,
             "#ed7953"
            ],
            [
             0.7777777777777778,
             "#fb9f3a"
            ],
            [
             0.8888888888888888,
             "#fdca26"
            ],
            [
             1,
             "#f0f921"
            ]
           ]
          },
          "colorway": [
           "#636efa",
           "#EF553B",
           "#00cc96",
           "#ab63fa",
           "#FFA15A",
           "#19d3f3",
           "#FF6692",
           "#B6E880",
           "#FF97FF",
           "#FECB52"
          ],
          "font": {
           "color": "#2a3f5f"
          },
          "geo": {
           "bgcolor": "white",
           "lakecolor": "white",
           "landcolor": "#E5ECF6",
           "showlakes": true,
           "showland": true,
           "subunitcolor": "white"
          },
          "hoverlabel": {
           "align": "left"
          },
          "hovermode": "closest",
          "mapbox": {
           "style": "light"
          },
          "paper_bgcolor": "white",
          "plot_bgcolor": "#E5ECF6",
          "polar": {
           "angularaxis": {
            "gridcolor": "white",
            "linecolor": "white",
            "ticks": ""
           },
           "bgcolor": "#E5ECF6",
           "radialaxis": {
            "gridcolor": "white",
            "linecolor": "white",
            "ticks": ""
           }
          },
          "scene": {
           "xaxis": {
            "backgroundcolor": "#E5ECF6",
            "gridcolor": "white",
            "gridwidth": 2,
            "linecolor": "white",
            "showbackground": true,
            "ticks": "",
            "zerolinecolor": "white"
           },
           "yaxis": {
            "backgroundcolor": "#E5ECF6",
            "gridcolor": "white",
            "gridwidth": 2,
            "linecolor": "white",
            "showbackground": true,
            "ticks": "",
            "zerolinecolor": "white"
           },
           "zaxis": {
            "backgroundcolor": "#E5ECF6",
            "gridcolor": "white",
            "gridwidth": 2,
            "linecolor": "white",
            "showbackground": true,
            "ticks": "",
            "zerolinecolor": "white"
           }
          },
          "shapedefaults": {
           "line": {
            "color": "#2a3f5f"
           }
          },
          "ternary": {
           "aaxis": {
            "gridcolor": "white",
            "linecolor": "white",
            "ticks": ""
           },
           "baxis": {
            "gridcolor": "white",
            "linecolor": "white",
            "ticks": ""
           },
           "bgcolor": "#E5ECF6",
           "caxis": {
            "gridcolor": "white",
            "linecolor": "white",
            "ticks": ""
           }
          },
          "title": {
           "x": 0.05
          },
          "xaxis": {
           "automargin": true,
           "gridcolor": "white",
           "linecolor": "white",
           "ticks": "",
           "title": {
            "standoff": 15
           },
           "zerolinecolor": "white",
           "zerolinewidth": 2
          },
          "yaxis": {
           "automargin": true,
           "gridcolor": "white",
           "linecolor": "white",
           "ticks": "",
           "title": {
            "standoff": 15
           },
           "zerolinecolor": "white",
           "zerolinewidth": 2
          }
         }
        },
        "xaxis": {
         "dtick": 0.75,
         "tick0": 0.5,
         "tickmode": "linear"
        }
       }
      },
      "text/html": [
       "<div>                            <div id=\"08b24e7e-f363-40be-97eb-8d2509c58154\" class=\"plotly-graph-div\" style=\"height:525px; width:100%;\"></div>            <script type=\"text/javascript\">                require([\"plotly\"], function(Plotly) {                    window.PLOTLYENV=window.PLOTLYENV || {};                                    if (document.getElementById(\"08b24e7e-f363-40be-97eb-8d2509c58154\")) {                    Plotly.newPlot(                        \"08b24e7e-f363-40be-97eb-8d2509c58154\",                        [{\"type\":\"scatter\",\"x\":[1,2,3,4,5,6,7,8,9,10,11,12],\"y\":[28.8,28.5,37,56.8,69.7,79.7,78.5,77.8,74.1,62.6,45.3,39.9]}],                        {\"template\":{\"data\":{\"bar\":[{\"error_x\":{\"color\":\"#2a3f5f\"},\"error_y\":{\"color\":\"#2a3f5f\"},\"marker\":{\"line\":{\"color\":\"#E5ECF6\",\"width\":0.5},\"pattern\":{\"fillmode\":\"overlay\",\"size\":10,\"solidity\":0.2}},\"type\":\"bar\"}],\"barpolar\":[{\"marker\":{\"line\":{\"color\":\"#E5ECF6\",\"width\":0.5},\"pattern\":{\"fillmode\":\"overlay\",\"size\":10,\"solidity\":0.2}},\"type\":\"barpolar\"}],\"carpet\":[{\"aaxis\":{\"endlinecolor\":\"#2a3f5f\",\"gridcolor\":\"white\",\"linecolor\":\"white\",\"minorgridcolor\":\"white\",\"startlinecolor\":\"#2a3f5f\"},\"baxis\":{\"endlinecolor\":\"#2a3f5f\",\"gridcolor\":\"white\",\"linecolor\":\"white\",\"minorgridcolor\":\"white\",\"startlinecolor\":\"#2a3f5f\"},\"type\":\"carpet\"}],\"choropleth\":[{\"colorbar\":{\"outlinewidth\":0,\"ticks\":\"\"},\"type\":\"choropleth\"}],\"contour\":[{\"colorbar\":{\"outlinewidth\":0,\"ticks\":\"\"},\"colorscale\":[[0.0,\"#0d0887\"],[0.1111111111111111,\"#46039f\"],[0.2222222222222222,\"#7201a8\"],[0.3333333333333333,\"#9c179e\"],[0.4444444444444444,\"#bd3786\"],[0.5555555555555556,\"#d8576b\"],[0.6666666666666666,\"#ed7953\"],[0.7777777777777778,\"#fb9f3a\"],[0.8888888888888888,\"#fdca26\"],[1.0,\"#f0f921\"]],\"type\":\"contour\"}],\"contourcarpet\":[{\"colorbar\":{\"outlinewidth\":0,\"ticks\":\"\"},\"type\":\"contourcarpet\"}],\"heatmap\":[{\"colorbar\":{\"outlinewidth\":0,\"ticks\":\"\"},\"colorscale\":[[0.0,\"#0d0887\"],[0.1111111111111111,\"#46039f\"],[0.2222222222222222,\"#7201a8\"],[0.3333333333333333,\"#9c179e\"],[0.4444444444444444,\"#bd3786\"],[0.5555555555555556,\"#d8576b\"],[0.6666666666666666,\"#ed7953\"],[0.7777777777777778,\"#fb9f3a\"],[0.8888888888888888,\"#fdca26\"],[1.0,\"#f0f921\"]],\"type\":\"heatmap\"}],\"heatmapgl\":[{\"colorbar\":{\"outlinewidth\":0,\"ticks\":\"\"},\"colorscale\":[[0.0,\"#0d0887\"],[0.1111111111111111,\"#46039f\"],[0.2222222222222222,\"#7201a8\"],[0.3333333333333333,\"#9c179e\"],[0.4444444444444444,\"#bd3786\"],[0.5555555555555556,\"#d8576b\"],[0.6666666666666666,\"#ed7953\"],[0.7777777777777778,\"#fb9f3a\"],[0.8888888888888888,\"#fdca26\"],[1.0,\"#f0f921\"]],\"type\":\"heatmapgl\"}],\"histogram\":[{\"marker\":{\"pattern\":{\"fillmode\":\"overlay\",\"size\":10,\"solidity\":0.2}},\"type\":\"histogram\"}],\"histogram2d\":[{\"colorbar\":{\"outlinewidth\":0,\"ticks\":\"\"},\"colorscale\":[[0.0,\"#0d0887\"],[0.1111111111111111,\"#46039f\"],[0.2222222222222222,\"#7201a8\"],[0.3333333333333333,\"#9c179e\"],[0.4444444444444444,\"#bd3786\"],[0.5555555555555556,\"#d8576b\"],[0.6666666666666666,\"#ed7953\"],[0.7777777777777778,\"#fb9f3a\"],[0.8888888888888888,\"#fdca26\"],[1.0,\"#f0f921\"]],\"type\":\"histogram2d\"}],\"histogram2dcontour\":[{\"colorbar\":{\"outlinewidth\":0,\"ticks\":\"\"},\"colorscale\":[[0.0,\"#0d0887\"],[0.1111111111111111,\"#46039f\"],[0.2222222222222222,\"#7201a8\"],[0.3333333333333333,\"#9c179e\"],[0.4444444444444444,\"#bd3786\"],[0.5555555555555556,\"#d8576b\"],[0.6666666666666666,\"#ed7953\"],[0.7777777777777778,\"#fb9f3a\"],[0.8888888888888888,\"#fdca26\"],[1.0,\"#f0f921\"]],\"type\":\"histogram2dcontour\"}],\"mesh3d\":[{\"colorbar\":{\"outlinewidth\":0,\"ticks\":\"\"},\"type\":\"mesh3d\"}],\"parcoords\":[{\"line\":{\"colorbar\":{\"outlinewidth\":0,\"ticks\":\"\"}},\"type\":\"parcoords\"}],\"pie\":[{\"automargin\":true,\"type\":\"pie\"}],\"scatter\":[{\"marker\":{\"colorbar\":{\"outlinewidth\":0,\"ticks\":\"\"}},\"type\":\"scatter\"}],\"scatter3d\":[{\"line\":{\"colorbar\":{\"outlinewidth\":0,\"ticks\":\"\"}},\"marker\":{\"colorbar\":{\"outlinewidth\":0,\"ticks\":\"\"}},\"type\":\"scatter3d\"}],\"scattercarpet\":[{\"marker\":{\"colorbar\":{\"outlinewidth\":0,\"ticks\":\"\"}},\"type\":\"scattercarpet\"}],\"scattergeo\":[{\"marker\":{\"colorbar\":{\"outlinewidth\":0,\"ticks\":\"\"}},\"type\":\"scattergeo\"}],\"scattergl\":[{\"marker\":{\"colorbar\":{\"outlinewidth\":0,\"ticks\":\"\"}},\"type\":\"scattergl\"}],\"scattermapbox\":[{\"marker\":{\"colorbar\":{\"outlinewidth\":0,\"ticks\":\"\"}},\"type\":\"scattermapbox\"}],\"scatterpolar\":[{\"marker\":{\"colorbar\":{\"outlinewidth\":0,\"ticks\":\"\"}},\"type\":\"scatterpolar\"}],\"scatterpolargl\":[{\"marker\":{\"colorbar\":{\"outlinewidth\":0,\"ticks\":\"\"}},\"type\":\"scatterpolargl\"}],\"scatterternary\":[{\"marker\":{\"colorbar\":{\"outlinewidth\":0,\"ticks\":\"\"}},\"type\":\"scatterternary\"}],\"surface\":[{\"colorbar\":{\"outlinewidth\":0,\"ticks\":\"\"},\"colorscale\":[[0.0,\"#0d0887\"],[0.1111111111111111,\"#46039f\"],[0.2222222222222222,\"#7201a8\"],[0.3333333333333333,\"#9c179e\"],[0.4444444444444444,\"#bd3786\"],[0.5555555555555556,\"#d8576b\"],[0.6666666666666666,\"#ed7953\"],[0.7777777777777778,\"#fb9f3a\"],[0.8888888888888888,\"#fdca26\"],[1.0,\"#f0f921\"]],\"type\":\"surface\"}],\"table\":[{\"cells\":{\"fill\":{\"color\":\"#EBF0F8\"},\"line\":{\"color\":\"white\"}},\"header\":{\"fill\":{\"color\":\"#C8D4E3\"},\"line\":{\"color\":\"white\"}},\"type\":\"table\"}]},\"layout\":{\"annotationdefaults\":{\"arrowcolor\":\"#2a3f5f\",\"arrowhead\":0,\"arrowwidth\":1},\"autotypenumbers\":\"strict\",\"coloraxis\":{\"colorbar\":{\"outlinewidth\":0,\"ticks\":\"\"}},\"colorscale\":{\"diverging\":[[0,\"#8e0152\"],[0.1,\"#c51b7d\"],[0.2,\"#de77ae\"],[0.3,\"#f1b6da\"],[0.4,\"#fde0ef\"],[0.5,\"#f7f7f7\"],[0.6,\"#e6f5d0\"],[0.7,\"#b8e186\"],[0.8,\"#7fbc41\"],[0.9,\"#4d9221\"],[1,\"#276419\"]],\"sequential\":[[0.0,\"#0d0887\"],[0.1111111111111111,\"#46039f\"],[0.2222222222222222,\"#7201a8\"],[0.3333333333333333,\"#9c179e\"],[0.4444444444444444,\"#bd3786\"],[0.5555555555555556,\"#d8576b\"],[0.6666666666666666,\"#ed7953\"],[0.7777777777777778,\"#fb9f3a\"],[0.8888888888888888,\"#fdca26\"],[1.0,\"#f0f921\"]],\"sequentialminus\":[[0.0,\"#0d0887\"],[0.1111111111111111,\"#46039f\"],[0.2222222222222222,\"#7201a8\"],[0.3333333333333333,\"#9c179e\"],[0.4444444444444444,\"#bd3786\"],[0.5555555555555556,\"#d8576b\"],[0.6666666666666666,\"#ed7953\"],[0.7777777777777778,\"#fb9f3a\"],[0.8888888888888888,\"#fdca26\"],[1.0,\"#f0f921\"]]},\"colorway\":[\"#636efa\",\"#EF553B\",\"#00cc96\",\"#ab63fa\",\"#FFA15A\",\"#19d3f3\",\"#FF6692\",\"#B6E880\",\"#FF97FF\",\"#FECB52\"],\"font\":{\"color\":\"#2a3f5f\"},\"geo\":{\"bgcolor\":\"white\",\"lakecolor\":\"white\",\"landcolor\":\"#E5ECF6\",\"showlakes\":true,\"showland\":true,\"subunitcolor\":\"white\"},\"hoverlabel\":{\"align\":\"left\"},\"hovermode\":\"closest\",\"mapbox\":{\"style\":\"light\"},\"paper_bgcolor\":\"white\",\"plot_bgcolor\":\"#E5ECF6\",\"polar\":{\"angularaxis\":{\"gridcolor\":\"white\",\"linecolor\":\"white\",\"ticks\":\"\"},\"bgcolor\":\"#E5ECF6\",\"radialaxis\":{\"gridcolor\":\"white\",\"linecolor\":\"white\",\"ticks\":\"\"}},\"scene\":{\"xaxis\":{\"backgroundcolor\":\"#E5ECF6\",\"gridcolor\":\"white\",\"gridwidth\":2,\"linecolor\":\"white\",\"showbackground\":true,\"ticks\":\"\",\"zerolinecolor\":\"white\"},\"yaxis\":{\"backgroundcolor\":\"#E5ECF6\",\"gridcolor\":\"white\",\"gridwidth\":2,\"linecolor\":\"white\",\"showbackground\":true,\"ticks\":\"\",\"zerolinecolor\":\"white\"},\"zaxis\":{\"backgroundcolor\":\"#E5ECF6\",\"gridcolor\":\"white\",\"gridwidth\":2,\"linecolor\":\"white\",\"showbackground\":true,\"ticks\":\"\",\"zerolinecolor\":\"white\"}},\"shapedefaults\":{\"line\":{\"color\":\"#2a3f5f\"}},\"ternary\":{\"aaxis\":{\"gridcolor\":\"white\",\"linecolor\":\"white\",\"ticks\":\"\"},\"baxis\":{\"gridcolor\":\"white\",\"linecolor\":\"white\",\"ticks\":\"\"},\"bgcolor\":\"#E5ECF6\",\"caxis\":{\"gridcolor\":\"white\",\"linecolor\":\"white\",\"ticks\":\"\"}},\"title\":{\"x\":0.05},\"xaxis\":{\"automargin\":true,\"gridcolor\":\"white\",\"linecolor\":\"white\",\"ticks\":\"\",\"title\":{\"standoff\":15},\"zerolinecolor\":\"white\",\"zerolinewidth\":2},\"yaxis\":{\"automargin\":true,\"gridcolor\":\"white\",\"linecolor\":\"white\",\"ticks\":\"\",\"title\":{\"standoff\":15},\"zerolinecolor\":\"white\",\"zerolinewidth\":2}}},\"xaxis\":{\"dtick\":0.75,\"tick0\":0.5,\"tickmode\":\"linear\"}},                        {\"responsive\": true}                    ).then(function(){\n",
       "                            \n",
       "var gd = document.getElementById('08b24e7e-f363-40be-97eb-8d2509c58154');\n",
       "var x = new MutationObserver(function (mutations, observer) {{\n",
       "        var display = window.getComputedStyle(gd).display;\n",
       "        if (!display || display === 'none') {{\n",
       "            console.log([gd, 'removed!']);\n",
       "            Plotly.purge(gd);\n",
       "            observer.disconnect();\n",
       "        }}\n",
       "}});\n",
       "\n",
       "// Listen for the removal of the full notebook cells\n",
       "var notebookContainer = gd.closest('#notebook-container');\n",
       "if (notebookContainer) {{\n",
       "    x.observe(notebookContainer, {childList: true});\n",
       "}}\n",
       "\n",
       "// Listen for the clearing of the current output cell\n",
       "var outputEl = gd.closest('.output');\n",
       "if (outputEl) {{\n",
       "    x.observe(outputEl, {childList: true});\n",
       "}}\n",
       "\n",
       "                        })                };                });            </script>        </div>"
      ]
     },
     "metadata": {},
     "output_type": "display_data"
    }
   ],
   "source": [
    "import plotly.graph_objects as go\n",
    "\n",
    "fig = go.Figure(go.Scatter(\n",
    "    x = [1, 2, 3, 4, 5, 6, 7, 8, 9, 10, 11, 12],\n",
    "    y = [28.8, 28.5, 37, 56.8, 69.7, 79.7, 78.5, 77.8, 74.1, 62.6, 45.3, 39.9]\n",
    "))\n",
    "\n",
    "fig.update_layout(\n",
    "    xaxis = dict(\n",
    "        tickmode = 'linear',\n",
    "        tick0 = 0.5,\n",
    "        dtick = 0.75\n",
    "    )\n",
    ")\n",
    "\n",
    "fig.show()"
   ]
  },
  {
   "cell_type": "code",
   "execution_count": 24,
   "id": "0678a1e9",
   "metadata": {},
   "outputs": [],
   "source": [
    "import pandas as pd\n"
   ]
  },
  {
   "cell_type": "code",
   "execution_count": 53,
   "id": "1ef62159",
   "metadata": {},
   "outputs": [],
   "source": [
    "df = pd.read_csv(\"local.csv\",index_col=0)"
   ]
  },
  {
   "cell_type": "code",
   "execution_count": 54,
   "id": "8ca7b85d",
   "metadata": {},
   "outputs": [
    {
     "data": {
      "text/html": [
       "<div>\n",
       "<style scoped>\n",
       "    .dataframe tbody tr th:only-of-type {\n",
       "        vertical-align: middle;\n",
       "    }\n",
       "\n",
       "    .dataframe tbody tr th {\n",
       "        vertical-align: top;\n",
       "    }\n",
       "\n",
       "    .dataframe thead th {\n",
       "        text-align: right;\n",
       "    }\n",
       "</style>\n",
       "<table border=\"1\" class=\"dataframe\">\n",
       "  <thead>\n",
       "    <tr style=\"text-align: right;\">\n",
       "      <th></th>\n",
       "      <th>ALICE</th>\n",
       "      <th>CHR</th>\n",
       "      <th>ATOM</th>\n",
       "      <th>AXS</th>\n",
       "      <th>TLM</th>\n",
       "      <th>DOGE</th>\n",
       "      <th>XRP</th>\n",
       "      <th>ETH</th>\n",
       "      <th>EOS</th>\n",
       "      <th>BCH</th>\n",
       "      <th>LTC</th>\n",
       "      <th>MATIC</th>\n",
       "      <th>AAVE</th>\n",
       "      <th>DOT</th>\n",
       "      <th>LINK</th>\n",
       "    </tr>\n",
       "  </thead>\n",
       "  <tbody>\n",
       "    <tr>\n",
       "      <th>2021-08-28 21:42:00</th>\n",
       "      <td>22.67</td>\n",
       "      <td>0.4237</td>\n",
       "      <td>19.98</td>\n",
       "      <td>78.06</td>\n",
       "      <td>0.3474</td>\n",
       "      <td>0.2877</td>\n",
       "      <td>1.1496</td>\n",
       "      <td>3229.18</td>\n",
       "      <td>4.989</td>\n",
       "      <td>633.5</td>\n",
       "      <td>173.5</td>\n",
       "      <td>1.466</td>\n",
       "      <td>367.8</td>\n",
       "      <td>26.09</td>\n",
       "      <td>25.83</td>\n",
       "    </tr>\n",
       "    <tr>\n",
       "      <th>2021-08-28 21:43:00</th>\n",
       "      <td>22.69</td>\n",
       "      <td>0.4245</td>\n",
       "      <td>19.98</td>\n",
       "      <td>78.18</td>\n",
       "      <td>0.3481</td>\n",
       "      <td>0.2878</td>\n",
       "      <td>1.1501</td>\n",
       "      <td>3229.88</td>\n",
       "      <td>4.991</td>\n",
       "      <td>634.0</td>\n",
       "      <td>173.5</td>\n",
       "      <td>1.466</td>\n",
       "      <td>368.0</td>\n",
       "      <td>26.09</td>\n",
       "      <td>25.85</td>\n",
       "    </tr>\n",
       "    <tr>\n",
       "      <th>2021-08-28 21:44:00</th>\n",
       "      <td>22.75</td>\n",
       "      <td>0.4241</td>\n",
       "      <td>19.97</td>\n",
       "      <td>78.18</td>\n",
       "      <td>0.3482</td>\n",
       "      <td>0.2878</td>\n",
       "      <td>1.1502</td>\n",
       "      <td>3229.86</td>\n",
       "      <td>4.987</td>\n",
       "      <td>633.7</td>\n",
       "      <td>173.5</td>\n",
       "      <td>1.466</td>\n",
       "      <td>368.0</td>\n",
       "      <td>26.08</td>\n",
       "      <td>25.84</td>\n",
       "    </tr>\n",
       "    <tr>\n",
       "      <th>2021-08-28 21:45:00</th>\n",
       "      <td>22.75</td>\n",
       "      <td>0.4229</td>\n",
       "      <td>19.96</td>\n",
       "      <td>78.57</td>\n",
       "      <td>0.3488</td>\n",
       "      <td>0.2879</td>\n",
       "      <td>1.1507</td>\n",
       "      <td>3230.21</td>\n",
       "      <td>4.992</td>\n",
       "      <td>633.6</td>\n",
       "      <td>173.4</td>\n",
       "      <td>1.467</td>\n",
       "      <td>368.1</td>\n",
       "      <td>26.10</td>\n",
       "      <td>25.86</td>\n",
       "    </tr>\n",
       "    <tr>\n",
       "      <th>2021-08-28 21:46:00</th>\n",
       "      <td>22.76</td>\n",
       "      <td>0.4221</td>\n",
       "      <td>19.97</td>\n",
       "      <td>78.88</td>\n",
       "      <td>0.3488</td>\n",
       "      <td>0.2879</td>\n",
       "      <td>1.1505</td>\n",
       "      <td>3230.88</td>\n",
       "      <td>4.988</td>\n",
       "      <td>634.0</td>\n",
       "      <td>173.2</td>\n",
       "      <td>1.467</td>\n",
       "      <td>368.3</td>\n",
       "      <td>26.11</td>\n",
       "      <td>25.86</td>\n",
       "    </tr>\n",
       "  </tbody>\n",
       "</table>\n",
       "</div>"
      ],
      "text/plain": [
       "                     ALICE     CHR   ATOM    AXS     TLM    DOGE     XRP  \\\n",
       "2021-08-28 21:42:00  22.67  0.4237  19.98  78.06  0.3474  0.2877  1.1496   \n",
       "2021-08-28 21:43:00  22.69  0.4245  19.98  78.18  0.3481  0.2878  1.1501   \n",
       "2021-08-28 21:44:00  22.75  0.4241  19.97  78.18  0.3482  0.2878  1.1502   \n",
       "2021-08-28 21:45:00  22.75  0.4229  19.96  78.57  0.3488  0.2879  1.1507   \n",
       "2021-08-28 21:46:00  22.76  0.4221  19.97  78.88  0.3488  0.2879  1.1505   \n",
       "\n",
       "                         ETH    EOS    BCH    LTC  MATIC   AAVE    DOT   LINK  \n",
       "2021-08-28 21:42:00  3229.18  4.989  633.5  173.5  1.466  367.8  26.09  25.83  \n",
       "2021-08-28 21:43:00  3229.88  4.991  634.0  173.5  1.466  368.0  26.09  25.85  \n",
       "2021-08-28 21:44:00  3229.86  4.987  633.7  173.5  1.466  368.0  26.08  25.84  \n",
       "2021-08-28 21:45:00  3230.21  4.992  633.6  173.4  1.467  368.1  26.10  25.86  \n",
       "2021-08-28 21:46:00  3230.88  4.988  634.0  173.2  1.467  368.3  26.11  25.86  "
      ]
     },
     "execution_count": 54,
     "metadata": {},
     "output_type": "execute_result"
    }
   ],
   "source": [
    "df.head()"
   ]
  },
  {
   "cell_type": "code",
   "execution_count": null,
   "id": "3a67604d",
   "metadata": {},
   "outputs": [],
   "source": []
  },
  {
   "cell_type": "code",
   "execution_count": null,
   "id": "9668ead3",
   "metadata": {},
   "outputs": [],
   "source": []
  },
  {
   "cell_type": "code",
   "execution_count": 76,
   "id": "2f055d63",
   "metadata": {},
   "outputs": [
    {
     "data": {
      "text/plain": [
       "Index(['08-28-21-42', '08-28-21-43', '08-28-21-44', '08-28-21-45',\n",
       "       '08-28-21-46', '08-28-21-47', '08-28-21-48', '08-28-21-49',\n",
       "       '08-28-21-50', '08-28-21-51',\n",
       "       ...\n",
       "       '09-01-12-57', '09-01-12-58', '09-01-12-59', '09-01-13-00',\n",
       "       '09-01-13-01', '09-01-13-02', '09-01-13-03', '09-01-13-04',\n",
       "       '09-01-13-05', '09-01-13-06'],\n",
       "      dtype='object', length=5245)"
      ]
     },
     "execution_count": 76,
     "metadata": {},
     "output_type": "execute_result"
    }
   ],
   "source": [
    "pd.to_datetime(df.index).strftime('%m-%d-%H-%M')"
   ]
  },
  {
   "cell_type": "code",
   "execution_count": 62,
   "id": "eb8743d9",
   "metadata": {},
   "outputs": [],
   "source": [
    "from sklearn.preprocessing import StandardScaler"
   ]
  },
  {
   "cell_type": "code",
   "execution_count": 78,
   "id": "73fd826d",
   "metadata": {},
   "outputs": [],
   "source": [
    "df1 = df.tail(100)\n",
    "scale = StandardScaler()\n",
    "t = scale.fit_transform(df1)\n",
    "tdata = pd.DataFrame(data=t, columns=df1.columns)\n",
    "\n"
   ]
  },
  {
   "cell_type": "code",
   "execution_count": 80,
   "id": "7556926b",
   "metadata": {},
   "outputs": [
    {
     "data": {
      "text/plain": [
       "RangeIndex(start=0, stop=100, step=1)"
      ]
     },
     "execution_count": 80,
     "metadata": {},
     "output_type": "execute_result"
    }
   ],
   "source": [
    "tdata.index"
   ]
  },
  {
   "cell_type": "code",
   "execution_count": 79,
   "id": "f7c8c7e6",
   "metadata": {},
   "outputs": [
    {
     "data": {
      "text/plain": [
       "Index(['01-01-00-00', '01-01-00-00', '01-01-00-00', '01-01-00-00',\n",
       "       '01-01-00-00', '01-01-00-00', '01-01-00-00', '01-01-00-00',\n",
       "       '01-01-00-00', '01-01-00-00', '01-01-00-00', '01-01-00-00',\n",
       "       '01-01-00-00', '01-01-00-00', '01-01-00-00', '01-01-00-00',\n",
       "       '01-01-00-00', '01-01-00-00', '01-01-00-00', '01-01-00-00',\n",
       "       '01-01-00-00', '01-01-00-00', '01-01-00-00', '01-01-00-00',\n",
       "       '01-01-00-00', '01-01-00-00', '01-01-00-00', '01-01-00-00',\n",
       "       '01-01-00-00', '01-01-00-00', '01-01-00-00', '01-01-00-00',\n",
       "       '01-01-00-00', '01-01-00-00', '01-01-00-00', '01-01-00-00',\n",
       "       '01-01-00-00', '01-01-00-00', '01-01-00-00', '01-01-00-00',\n",
       "       '01-01-00-00', '01-01-00-00', '01-01-00-00', '01-01-00-00',\n",
       "       '01-01-00-00', '01-01-00-00', '01-01-00-00', '01-01-00-00',\n",
       "       '01-01-00-00', '01-01-00-00', '01-01-00-00', '01-01-00-00',\n",
       "       '01-01-00-00', '01-01-00-00', '01-01-00-00', '01-01-00-00',\n",
       "       '01-01-00-00', '01-01-00-00', '01-01-00-00', '01-01-00-00',\n",
       "       '01-01-00-00', '01-01-00-00', '01-01-00-00', '01-01-00-00',\n",
       "       '01-01-00-00', '01-01-00-00', '01-01-00-00', '01-01-00-00',\n",
       "       '01-01-00-00', '01-01-00-00', '01-01-00-00', '01-01-00-00',\n",
       "       '01-01-00-00', '01-01-00-00', '01-01-00-00', '01-01-00-00',\n",
       "       '01-01-00-00', '01-01-00-00', '01-01-00-00', '01-01-00-00',\n",
       "       '01-01-00-00', '01-01-00-00', '01-01-00-00', '01-01-00-00',\n",
       "       '01-01-00-00', '01-01-00-00', '01-01-00-00', '01-01-00-00',\n",
       "       '01-01-00-00', '01-01-00-00', '01-01-00-00', '01-01-00-00',\n",
       "       '01-01-00-00', '01-01-00-00', '01-01-00-00', '01-01-00-00',\n",
       "       '01-01-00-00', '01-01-00-00', '01-01-00-00', '01-01-00-00'],\n",
       "      dtype='object')"
      ]
     },
     "execution_count": 79,
     "metadata": {},
     "output_type": "execute_result"
    }
   ],
   "source": [
    "pd.to_datetime(tdata.index).strftime('%m-%d-%H-%M')"
   ]
  },
  {
   "cell_type": "code",
   "execution_count": 95,
   "id": "86879c7b",
   "metadata": {},
   "outputs": [
    {
     "data": {
      "application/vnd.plotly.v1+json": {
       "config": {
        "plotlyServerURL": "https://plot.ly"
       },
       "data": [
        {
         "legendgroup": "ALICE",
         "line": {
          "color": "#636efa",
          "dash": "solid"
         },
         "marker": {
          "symbol": "circle"
         },
         "mode": "markers+lines",
         "name": "ALICE",
         "showlegend": true,
         "type": "scattergl",
         "x": [
          "09-01 11:27",
          "09-01 11:28",
          "09-01 11:29",
          "09-01 11:30",
          "09-01 11:31",
          "09-01 11:32",
          "09-01 11:33",
          "09-01 11:34",
          "09-01 11:35",
          "09-01 11:36",
          "09-01 11:37",
          "09-01 11:38",
          "09-01 11:39",
          "09-01 11:40",
          "09-01 11:41",
          "09-01 11:42",
          "09-01 11:43",
          "09-01 11:44",
          "09-01 11:45",
          "09-01 11:46",
          "09-01 11:47",
          "09-01 11:48",
          "09-01 11:49",
          "09-01 11:50",
          "09-01 11:51",
          "09-01 11:52",
          "09-01 11:53",
          "09-01 11:54",
          "09-01 11:55",
          "09-01 11:56",
          "09-01 11:57",
          "09-01 11:58",
          "09-01 11:59",
          "09-01 12:00",
          "09-01 12:01",
          "09-01 12:02",
          "09-01 12:03",
          "09-01 12:04",
          "09-01 12:05",
          "09-01 12:06",
          "09-01 12:07",
          "09-01 12:08",
          "09-01 12:09",
          "09-01 12:10",
          "09-01 12:11",
          "09-01 12:12",
          "09-01 12:13",
          "09-01 12:14",
          "09-01 12:15",
          "09-01 12:16",
          "09-01 12:17",
          "09-01 12:18",
          "09-01 12:19",
          "09-01 12:20",
          "09-01 12:21",
          "09-01 12:22",
          "09-01 12:23",
          "09-01 12:24",
          "09-01 12:25",
          "09-01 12:26",
          "09-01 12:27",
          "09-01 12:28",
          "09-01 12:29",
          "09-01 12:30",
          "09-01 12:31",
          "09-01 12:32",
          "09-01 12:33",
          "09-01 12:34",
          "09-01 12:35",
          "09-01 12:36",
          "09-01 12:37",
          "09-01 12:38",
          "09-01 12:39",
          "09-01 12:40",
          "09-01 12:41",
          "09-01 12:42",
          "09-01 12:43",
          "09-01 12:44",
          "09-01 12:45",
          "09-01 12:46",
          "09-01 12:47",
          "09-01 12:48",
          "09-01 12:49",
          "09-01 12:50",
          "09-01 12:51",
          "09-01 12:52",
          "09-01 12:53",
          "09-01 12:54",
          "09-01 12:55",
          "09-01 12:56",
          "09-01 12:57",
          "09-01 12:58",
          "09-01 12:59",
          "09-01 13:00",
          "09-01 13:01",
          "09-01 13:02",
          "09-01 13:03",
          "09-01 13:04",
          "09-01 13:05",
          "09-01 13:06"
         ],
         "xaxis": "x",
         "y": [
          -2.423298497480286,
          -2.6184503797013634,
          -2.6672383502566412,
          -2.813602261922441,
          -2.76481429136718,
          -2.76481429136718,
          -2.5696624091461024,
          -2.6672383502566412,
          -2.5208744385908246,
          -2.4720864680355463,
          -1.3011751747090634,
          -1.2523872041537853,
          -0.959659380822169,
          -1.1060232924879858,
          -0.37420373415891883,
          -0.27662779304838003,
          0.16246394194905325,
          0.3088278536148528,
          0.4551917652806697,
          0.8454955297228423,
          0.7967075591675641,
          1.0894353824991805,
          1.1870113236097366,
          1.1870113236097366,
          1.1382233530544585,
          0.747919588612286,
          0.7967075591675641,
          0.943071470833381,
          1.2845872647202754,
          1.3333752352755361,
          1.0894353824991805,
          1.1870113236097366,
          0.6991316180570253,
          0.7967075591675641,
          0.4551917652806697,
          0.01610003028323639,
          0.6015556769464865,
          0.6015556769464865,
          0.3088278536148528,
          0.6015556769464865,
          0.4551917652806697,
          0.2600398830595921,
          0.3088278536148528,
          0.211251912504314,
          0.3088278536148528,
          0.3576158241701309,
          0.2600398830595921,
          0.1136759713937752,
          0.3576158241701309,
          0.16246394194905325,
          0.5527677063912084,
          0.5039797358359477,
          0.4551917652806697,
          0.06488800083851445,
          0.211251912504314,
          0.1136759713937752,
          0.16246394194905325,
          0.1136759713937752,
          -0.032687940272024346,
          -0.032687940272024346,
          -0.08147591082730242,
          -0.5205676458247357,
          -0.2278398224931193,
          -0.2278398224931193,
          0.40640379472540894,
          0.40640379472540894,
          0.3088278536148528,
          0.40640379472540894,
          0.2600398830595921,
          0.40640379472540894,
          0.40640379472540894,
          0.4551917652806697,
          0.06488800083851445,
          0.01610003028323639,
          0.01610003028323639,
          0.06488800083851445,
          0.06488800083851445,
          -0.032687940272024346,
          -0.032687940272024346,
          0.01610003028323639,
          0.2600398830595921,
          0.211251912504314,
          0.3088278536148528,
          0.40640379472540894,
          0.40640379472540894,
          0.40640379472540894,
          0.5527677063912084,
          0.6015556769464865,
          0.943071470833381,
          0.5039797358359477,
          0.6991316180570253,
          0.5039797358359477,
          0.3088278536148528,
          0.5527677063912084,
          0.16246394194905325,
          0.211251912504314,
          -0.1790518519378412,
          -0.08147591082730242,
          -0.47177967526947495,
          -0.47177967526947495
         ],
         "yaxis": "y"
        },
        {
         "legendgroup": "CHR",
         "line": {
          "color": "#EF553B",
          "dash": "solid"
         },
         "marker": {
          "symbol": "circle"
         },
         "mode": "markers+lines",
         "name": "CHR",
         "showlegend": true,
         "type": "scattergl",
         "x": [
          "09-01 11:27",
          "09-01 11:28",
          "09-01 11:29",
          "09-01 11:30",
          "09-01 11:31",
          "09-01 11:32",
          "09-01 11:33",
          "09-01 11:34",
          "09-01 11:35",
          "09-01 11:36",
          "09-01 11:37",
          "09-01 11:38",
          "09-01 11:39",
          "09-01 11:40",
          "09-01 11:41",
          "09-01 11:42",
          "09-01 11:43",
          "09-01 11:44",
          "09-01 11:45",
          "09-01 11:46",
          "09-01 11:47",
          "09-01 11:48",
          "09-01 11:49",
          "09-01 11:50",
          "09-01 11:51",
          "09-01 11:52",
          "09-01 11:53",
          "09-01 11:54",
          "09-01 11:55",
          "09-01 11:56",
          "09-01 11:57",
          "09-01 11:58",
          "09-01 11:59",
          "09-01 12:00",
          "09-01 12:01",
          "09-01 12:02",
          "09-01 12:03",
          "09-01 12:04",
          "09-01 12:05",
          "09-01 12:06",
          "09-01 12:07",
          "09-01 12:08",
          "09-01 12:09",
          "09-01 12:10",
          "09-01 12:11",
          "09-01 12:12",
          "09-01 12:13",
          "09-01 12:14",
          "09-01 12:15",
          "09-01 12:16",
          "09-01 12:17",
          "09-01 12:18",
          "09-01 12:19",
          "09-01 12:20",
          "09-01 12:21",
          "09-01 12:22",
          "09-01 12:23",
          "09-01 12:24",
          "09-01 12:25",
          "09-01 12:26",
          "09-01 12:27",
          "09-01 12:28",
          "09-01 12:29",
          "09-01 12:30",
          "09-01 12:31",
          "09-01 12:32",
          "09-01 12:33",
          "09-01 12:34",
          "09-01 12:35",
          "09-01 12:36",
          "09-01 12:37",
          "09-01 12:38",
          "09-01 12:39",
          "09-01 12:40",
          "09-01 12:41",
          "09-01 12:42",
          "09-01 12:43",
          "09-01 12:44",
          "09-01 12:45",
          "09-01 12:46",
          "09-01 12:47",
          "09-01 12:48",
          "09-01 12:49",
          "09-01 12:50",
          "09-01 12:51",
          "09-01 12:52",
          "09-01 12:53",
          "09-01 12:54",
          "09-01 12:55",
          "09-01 12:56",
          "09-01 12:57",
          "09-01 12:58",
          "09-01 12:59",
          "09-01 13:00",
          "09-01 13:01",
          "09-01 13:02",
          "09-01 13:03",
          "09-01 13:04",
          "09-01 13:05",
          "09-01 13:06"
         ],
         "xaxis": "x",
         "y": [
          -3.300923884113869,
          -3.075758544133396,
          -2.5128451941821908,
          -1.9217861767334286,
          -1.3025814917870935,
          -0.9648334818163766,
          -0.9085421468212468,
          -0.598939804348087,
          0.35801289056894925,
          0.5268868955543232,
          0.7520522355347959,
          1.4838395904713595,
          1.0898002455055285,
          0.35801289056894925,
          1.3994025879786882,
          1.5119852579689324,
          1.4275482554762453,
          1.0616545780079556,
          0.9772175755152843,
          0.49874122805675053,
          0.04841054809578952,
          0.6676152330421246,
          0.7801979030323531,
          0.6113238980469947,
          0.5550325630518804,
          0.5550325630518804,
          1.4556939229738024,
          1.8215876004420763,
          2.046752940422565,
          2.046752940422565,
          1.7090049304518478,
          1.5401309254664894,
          1.3149655854860012,
          0.8083435705299259,
          0.35801289056894925,
          -0.03602645439688188,
          -0.007880786899324747,
          -0.03602645439688188,
          -0.5707941368505299,
          0.2735758880762778,
          0.4705955605591934,
          0.3298672230713921,
          0.1047018830909194,
          0.44244989306163623,
          0.8083435705299259,
          0.7239065680372389,
          0.13284755058847655,
          0.13284755058847655,
          -0.007880786899324747,
          -0.8241051443285753,
          -0.3456287968700572,
          -0.23304612687981305,
          -0.5145028018554156,
          -0.598939804348087,
          -0.03602645439688188,
          0.35801289056894925,
          0.5550325630518804,
          1.5964222604616036,
          1.3431112529835583,
          0.6113238980469947,
          0.2454302205787207,
          0.07655621559334665,
          -0.37377446436761436,
          -0.7959594768310182,
          0.30172155557383495,
          0.13284755058847655,
          -0.1204634568895689,
          -0.31748312937248446,
          -0.45821146686028574,
          -0.31748312937248446,
          -0.23304612687981305,
          -0.17675479188468315,
          -0.598939804348087,
          -0.5707941368505299,
          -0.3456287968700572,
          -0.14860912438712603,
          -0.20490045938225593,
          -0.26119179437737017,
          -0.20490045938225593,
          0.3298672230713921,
          0.5831782305494375,
          -0.06417212189445463,
          -0.06417212189445463,
          -0.007880786899324747,
          -0.26119179437737017,
          -0.6270854718456598,
          -0.09231778939201177,
          -0.45821146686028574,
          -0.26119179437737017,
          -0.31748312937248446,
          -0.4300657993627286,
          -1.1055618193041779,
          -1.3588728267822234,
          -1.3870184942797805,
          -0.8241051443285753,
          -1.0492704843090481,
          -1.133707486801735,
          -1.4996011642700247,
          -1.9217861767334286,
          -1.5277468317675817
         ],
         "yaxis": "y"
        },
        {
         "legendgroup": "ATOM",
         "line": {
          "color": "#00cc96",
          "dash": "solid"
         },
         "marker": {
          "symbol": "circle"
         },
         "mode": "markers+lines",
         "name": "ATOM",
         "showlegend": true,
         "type": "scattergl",
         "x": [
          "09-01 11:27",
          "09-01 11:28",
          "09-01 11:29",
          "09-01 11:30",
          "09-01 11:31",
          "09-01 11:32",
          "09-01 11:33",
          "09-01 11:34",
          "09-01 11:35",
          "09-01 11:36",
          "09-01 11:37",
          "09-01 11:38",
          "09-01 11:39",
          "09-01 11:40",
          "09-01 11:41",
          "09-01 11:42",
          "09-01 11:43",
          "09-01 11:44",
          "09-01 11:45",
          "09-01 11:46",
          "09-01 11:47",
          "09-01 11:48",
          "09-01 11:49",
          "09-01 11:50",
          "09-01 11:51",
          "09-01 11:52",
          "09-01 11:53",
          "09-01 11:54",
          "09-01 11:55",
          "09-01 11:56",
          "09-01 11:57",
          "09-01 11:58",
          "09-01 11:59",
          "09-01 12:00",
          "09-01 12:01",
          "09-01 12:02",
          "09-01 12:03",
          "09-01 12:04",
          "09-01 12:05",
          "09-01 12:06",
          "09-01 12:07",
          "09-01 12:08",
          "09-01 12:09",
          "09-01 12:10",
          "09-01 12:11",
          "09-01 12:12",
          "09-01 12:13",
          "09-01 12:14",
          "09-01 12:15",
          "09-01 12:16",
          "09-01 12:17",
          "09-01 12:18",
          "09-01 12:19",
          "09-01 12:20",
          "09-01 12:21",
          "09-01 12:22",
          "09-01 12:23",
          "09-01 12:24",
          "09-01 12:25",
          "09-01 12:26",
          "09-01 12:27",
          "09-01 12:28",
          "09-01 12:29",
          "09-01 12:30",
          "09-01 12:31",
          "09-01 12:32",
          "09-01 12:33",
          "09-01 12:34",
          "09-01 12:35",
          "09-01 12:36",
          "09-01 12:37",
          "09-01 12:38",
          "09-01 12:39",
          "09-01 12:40",
          "09-01 12:41",
          "09-01 12:42",
          "09-01 12:43",
          "09-01 12:44",
          "09-01 12:45",
          "09-01 12:46",
          "09-01 12:47",
          "09-01 12:48",
          "09-01 12:49",
          "09-01 12:50",
          "09-01 12:51",
          "09-01 12:52",
          "09-01 12:53",
          "09-01 12:54",
          "09-01 12:55",
          "09-01 12:56",
          "09-01 12:57",
          "09-01 12:58",
          "09-01 12:59",
          "09-01 13:00",
          "09-01 13:01",
          "09-01 13:02",
          "09-01 13:03",
          "09-01 13:04",
          "09-01 13:05",
          "09-01 13:06"
         ],
         "xaxis": "x",
         "y": [
          -0.9113829995908507,
          -1.4933644808110798,
          -1.667958925177132,
          -1.4933644808110798,
          -1.667958925177132,
          -2.1917422582753296,
          -2.249940406397361,
          -1.7261570732991631,
          -1.9589496657872465,
          -2.249940406397361,
          -2.424534850763434,
          -1.9589496657872465,
          -1.9589496657872465,
          -1.900751517665236,
          -1.667958925177132,
          -1.2605718883229757,
          -1.0859774439569236,
          -1.144175592078934,
          -0.6203922589807361,
          -0.5621941108587256,
          -0.15480707400456944,
          0.01978737036150342,
          0.36897625909362847,
          -0.09660892588253826,
          -0.32940151837062165,
          -0.27120337024861113,
          -0.5039959627366944,
          -0.5039959627366944,
          -0.6203922589807361,
          -0.6203922589807361,
          -0.5621941108587256,
          -0.21300522212657994,
          0.5435707034597014,
          0.6017688515817325,
          0.36897625909362847,
          -0.15480707400456944,
          -0.27120337024861113,
          -0.445797814614684,
          -0.6203922589807361,
          0.0779855184835346,
          0.1361836666055451,
          -0.15480707400456944,
          0.1361836666055451,
          0.0779855184835346,
          0.48537255533767015,
          0.48537255533767015,
          0.659966999703743,
          1.183750332801941,
          1.4165429252900243,
          0.42717440721565964,
          0.8927595921918263,
          0.659966999703743,
          0.6017688515817325,
          0.5435707034597014,
          0.7181651478257742,
          0.659966999703743,
          0.42717440721565964,
          0.36897625909362847,
          0.31077811097161795,
          0.1361836666055451,
          -0.27120337024861113,
          -0.3875996664926528,
          -0.445797814614684,
          0.2525799628495868,
          0.5435707034597014,
          0.2525799628495868,
          0.1361836666055451,
          0.1361836666055451,
          0.1943818147275763,
          0.9509577403138575,
          0.36897625909362847,
          0.9509577403138575,
          1.3001466290459827,
          1.3583447771680137,
          1.3583447771680137,
          1.8821281102662117,
          1.76573181402217,
          1.8821281102662117,
          1.7075336659001388,
          1.4747410734120554,
          0.8345614440698158,
          0.48537255533767015,
          0.7181651478257742,
          0.7181651478257742,
          0.2525799628495868,
          -0.21300522212657994,
          0.1361836666055451,
          0.01978737036150342,
          0.7181651478257742,
          1.009155888435868,
          1.1255521846799303,
          1.0673540365578993,
          0.7763632959477846,
          0.7763632959477846,
          0.5435707034597014,
          0.36897625909362847,
          0.1361836666055451,
          0.31077811097161795,
          0.01978737036150342,
          0.1943818147275763
         ],
         "yaxis": "y"
        },
        {
         "legendgroup": "AXS",
         "line": {
          "color": "#ab63fa",
          "dash": "solid"
         },
         "marker": {
          "symbol": "circle"
         },
         "mode": "markers+lines",
         "name": "AXS",
         "showlegend": true,
         "type": "scattergl",
         "x": [
          "09-01 11:27",
          "09-01 11:28",
          "09-01 11:29",
          "09-01 11:30",
          "09-01 11:31",
          "09-01 11:32",
          "09-01 11:33",
          "09-01 11:34",
          "09-01 11:35",
          "09-01 11:36",
          "09-01 11:37",
          "09-01 11:38",
          "09-01 11:39",
          "09-01 11:40",
          "09-01 11:41",
          "09-01 11:42",
          "09-01 11:43",
          "09-01 11:44",
          "09-01 11:45",
          "09-01 11:46",
          "09-01 11:47",
          "09-01 11:48",
          "09-01 11:49",
          "09-01 11:50",
          "09-01 11:51",
          "09-01 11:52",
          "09-01 11:53",
          "09-01 11:54",
          "09-01 11:55",
          "09-01 11:56",
          "09-01 11:57",
          "09-01 11:58",
          "09-01 11:59",
          "09-01 12:00",
          "09-01 12:01",
          "09-01 12:02",
          "09-01 12:03",
          "09-01 12:04",
          "09-01 12:05",
          "09-01 12:06",
          "09-01 12:07",
          "09-01 12:08",
          "09-01 12:09",
          "09-01 12:10",
          "09-01 12:11",
          "09-01 12:12",
          "09-01 12:13",
          "09-01 12:14",
          "09-01 12:15",
          "09-01 12:16",
          "09-01 12:17",
          "09-01 12:18",
          "09-01 12:19",
          "09-01 12:20",
          "09-01 12:21",
          "09-01 12:22",
          "09-01 12:23",
          "09-01 12:24",
          "09-01 12:25",
          "09-01 12:26",
          "09-01 12:27",
          "09-01 12:28",
          "09-01 12:29",
          "09-01 12:30",
          "09-01 12:31",
          "09-01 12:32",
          "09-01 12:33",
          "09-01 12:34",
          "09-01 12:35",
          "09-01 12:36",
          "09-01 12:37",
          "09-01 12:38",
          "09-01 12:39",
          "09-01 12:40",
          "09-01 12:41",
          "09-01 12:42",
          "09-01 12:43",
          "09-01 12:44",
          "09-01 12:45",
          "09-01 12:46",
          "09-01 12:47",
          "09-01 12:48",
          "09-01 12:49",
          "09-01 12:50",
          "09-01 12:51",
          "09-01 12:52",
          "09-01 12:53",
          "09-01 12:54",
          "09-01 12:55",
          "09-01 12:56",
          "09-01 12:57",
          "09-01 12:58",
          "09-01 12:59",
          "09-01 13:00",
          "09-01 13:01",
          "09-01 13:02",
          "09-01 13:03",
          "09-01 13:04",
          "09-01 13:05",
          "09-01 13:06"
         ],
         "xaxis": "x",
         "y": [
          -0.9772584138556107,
          -1.1866111160525992,
          -1.3959638182495875,
          -1.5215754395677925,
          -1.6890576013254188,
          -1.3959638182495875,
          -1.479704899128371,
          -1.6890576013254188,
          -1.8984103035224074,
          -1.7309281417647808,
          -1.8984103035224074,
          -1.9821513844011909,
          -1.605316520446576,
          -1.563445980007214,
          -1.0609994947343941,
          -1.2284816564920207,
          -0.8516467925374057,
          -0.9353878734161892,
          -0.39107084770400746,
          -0.34920030726458595,
          -0.34920030726458595,
          -0.014235983749392594,
          0.40446942064458424,
          0.15324617800823384,
          0.11137563756881236,
          0.11137563756881236,
          -0.014235983749392594,
          -0.05610652418881408,
          -0.014235983749392594,
          -0.3073297668251645,
          0.2788577993263793,
          0.5300810419627892,
          1.1162686081143924,
          1.0743980676750304,
          0.6556926632809942,
          1.1162686081143924,
          0.7813042845991991,
          0.7813042845991991,
          0.5719515824022107,
          0.9487864463568255,
          1.2418802294325975,
          0.9487864463568255,
          0.9906569867961875,
          1.032527527235609,
          1.2418802294325975,
          1.4931034720690073,
          1.4512329316295858,
          1.6605856338266336,
          1.7024561742659956,
          1.4512329316295858,
          1.8280677955842006,
          1.8280677955842006,
          1.4093623911902238,
          1.0743980676750304,
          1.4093623911902238,
          1.3256213103113808,
          1.4512329316295858,
          1.3256213103113808,
          0.6138221228416322,
          0.6556926632809942,
          0.4882105015234272,
          0.5300810419627892,
          0.5719515824022107,
          0.4463399610840057,
          0.6975632037204156,
          0.9906569867961875,
          0.9906569867961875,
          0.5719515824022107,
          0.4882105015234272,
          0.36259888020522224,
          0.11137563756881236,
          -0.18171814550701904,
          -0.13984760506759755,
          -0.2654592263858025,
          -0.39107084770400746,
          -0.09797706462817606,
          -0.05610652418881408,
          -0.13984760506759755,
          -0.13984760506759755,
          0.2369872588870173,
          0.3207283397658008,
          -0.18171814550701904,
          -0.39107084770400746,
          -0.2654592263858025,
          0.06950509712939087,
          -0.05610652418881408,
          -0.223588685946381,
          -0.4329413881433694,
          -0.2654592263858025,
          -1.1447405756131777,
          -1.0609994947343941,
          -1.1447405756131777,
          -1.0609994947343941,
          -0.8097762520979843,
          -0.8516467925374057,
          -0.7260351712192008,
          -0.8097762520979843,
          -0.9772584138556107,
          -1.1447405756131777,
          -1.1028700351738157
         ],
         "yaxis": "y"
        },
        {
         "legendgroup": "TLM",
         "line": {
          "color": "#FFA15A",
          "dash": "solid"
         },
         "marker": {
          "symbol": "circle"
         },
         "mode": "markers+lines",
         "name": "TLM",
         "showlegend": true,
         "type": "scattergl",
         "x": [
          "09-01 11:27",
          "09-01 11:28",
          "09-01 11:29",
          "09-01 11:30",
          "09-01 11:31",
          "09-01 11:32",
          "09-01 11:33",
          "09-01 11:34",
          "09-01 11:35",
          "09-01 11:36",
          "09-01 11:37",
          "09-01 11:38",
          "09-01 11:39",
          "09-01 11:40",
          "09-01 11:41",
          "09-01 11:42",
          "09-01 11:43",
          "09-01 11:44",
          "09-01 11:45",
          "09-01 11:46",
          "09-01 11:47",
          "09-01 11:48",
          "09-01 11:49",
          "09-01 11:50",
          "09-01 11:51",
          "09-01 11:52",
          "09-01 11:53",
          "09-01 11:54",
          "09-01 11:55",
          "09-01 11:56",
          "09-01 11:57",
          "09-01 11:58",
          "09-01 11:59",
          "09-01 12:00",
          "09-01 12:01",
          "09-01 12:02",
          "09-01 12:03",
          "09-01 12:04",
          "09-01 12:05",
          "09-01 12:06",
          "09-01 12:07",
          "09-01 12:08",
          "09-01 12:09",
          "09-01 12:10",
          "09-01 12:11",
          "09-01 12:12",
          "09-01 12:13",
          "09-01 12:14",
          "09-01 12:15",
          "09-01 12:16",
          "09-01 12:17",
          "09-01 12:18",
          "09-01 12:19",
          "09-01 12:20",
          "09-01 12:21",
          "09-01 12:22",
          "09-01 12:23",
          "09-01 12:24",
          "09-01 12:25",
          "09-01 12:26",
          "09-01 12:27",
          "09-01 12:28",
          "09-01 12:29",
          "09-01 12:30",
          "09-01 12:31",
          "09-01 12:32",
          "09-01 12:33",
          "09-01 12:34",
          "09-01 12:35",
          "09-01 12:36",
          "09-01 12:37",
          "09-01 12:38",
          "09-01 12:39",
          "09-01 12:40",
          "09-01 12:41",
          "09-01 12:42",
          "09-01 12:43",
          "09-01 12:44",
          "09-01 12:45",
          "09-01 12:46",
          "09-01 12:47",
          "09-01 12:48",
          "09-01 12:49",
          "09-01 12:50",
          "09-01 12:51",
          "09-01 12:52",
          "09-01 12:53",
          "09-01 12:54",
          "09-01 12:55",
          "09-01 12:56",
          "09-01 12:57",
          "09-01 12:58",
          "09-01 12:59",
          "09-01 13:00",
          "09-01 13:01",
          "09-01 13:02",
          "09-01 13:03",
          "09-01 13:04",
          "09-01 13:05",
          "09-01 13:06"
         ],
         "xaxis": "x",
         "y": [
          -1.122322953897873,
          -1.5657097998822,
          -1.676556511378274,
          -1.8982499343704529,
          -2.8404469820871747,
          -2.8958703378352424,
          -2.0645200016145946,
          -0.9560528866537311,
          -0.568089396417441,
          0.1524142283071326,
          0.3186842955512745,
          -0.2909726176771944,
          -0.34639597342526224,
          0.09699087255909557,
          0.26326093980323745,
          0.20783758405516964,
          -0.2909726176771944,
          -0.5126660406693733,
          0.9283412087797434,
          0.9837645645277804,
          0.5958010742914904,
          1.2054579875199594,
          0.8174944972836693,
          0.04156751681105854,
          0.1524142283071326,
          0.04156751681105854,
          -0.06927919468504629,
          0.1524142283071326,
          0.7066477857875645,
          0.9283412087797434,
          1.1500346317719223,
          1.4271514105121381,
          2.147655035236681,
          1.8705382564964652,
          1.371728054764101,
          0.48495436279538556,
          0.04156751681105854,
          0.20783758405516964,
          0.3186842955512745,
          1.0946112760238853,
          0.8174944972836693,
          1.2054579875199594,
          1.371728054764101,
          1.4271514105121381,
          1.371728054764101,
          1.2054579875199594,
          1.0391879202758174,
          1.4271514105121381,
          1.4825747662601751,
          0.7066477857875645,
          0.9283412087797434,
          0.9283412087797434,
          0.5403777185434534,
          0.1524142283071326,
          0.3741076512993115,
          0.42953100704734853,
          0.8174944972836693,
          0.8174944972836693,
          0.09699087255909557,
          -0.18012590618112034,
          -0.9560528866537311,
          -1.399439732638058,
          -1.17774630964591,
          -1.621133155630237,
          -1.011476242401768,
          -0.7897828194095893,
          -0.6235127521654781,
          -0.2909726176771944,
          -0.23554926192915737,
          -0.12470255043308331,
          -0.013855838936978492,
          -0.23554926192915737,
          -1.344016376890021,
          -1.344016376890021,
          -1.7874032228743788,
          -1.066899598149805,
          -0.9560528866537311,
          -0.8452061751576263,
          -0.7897828194095893,
          -1.066899598149805,
          -0.6789361079135152,
          -1.399439732638058,
          -0.9006295309056941,
          -0.6235127521654781,
          -0.013855838936978492,
          -0.18012590618112034,
          -0.23554926192915737,
          0.09699087255909557,
          0.26326093980323745,
          0.26326093980323745,
          0.5403777185434534,
          0.5403777185434534,
          0.26326093980323745,
          0.5958010742914904,
          0.6512244300395275,
          0.9283412087797434,
          0.5958010742914904,
          0.1524142283071326,
          -0.013855838936978492,
          -0.7343594636615522
         ],
         "yaxis": "y"
        },
        {
         "legendgroup": "DOGE",
         "line": {
          "color": "#19d3f3",
          "dash": "solid"
         },
         "marker": {
          "symbol": "circle"
         },
         "mode": "markers+lines",
         "name": "DOGE",
         "showlegend": true,
         "type": "scattergl",
         "x": [
          "09-01 11:27",
          "09-01 11:28",
          "09-01 11:29",
          "09-01 11:30",
          "09-01 11:31",
          "09-01 11:32",
          "09-01 11:33",
          "09-01 11:34",
          "09-01 11:35",
          "09-01 11:36",
          "09-01 11:37",
          "09-01 11:38",
          "09-01 11:39",
          "09-01 11:40",
          "09-01 11:41",
          "09-01 11:42",
          "09-01 11:43",
          "09-01 11:44",
          "09-01 11:45",
          "09-01 11:46",
          "09-01 11:47",
          "09-01 11:48",
          "09-01 11:49",
          "09-01 11:50",
          "09-01 11:51",
          "09-01 11:52",
          "09-01 11:53",
          "09-01 11:54",
          "09-01 11:55",
          "09-01 11:56",
          "09-01 11:57",
          "09-01 11:58",
          "09-01 11:59",
          "09-01 12:00",
          "09-01 12:01",
          "09-01 12:02",
          "09-01 12:03",
          "09-01 12:04",
          "09-01 12:05",
          "09-01 12:06",
          "09-01 12:07",
          "09-01 12:08",
          "09-01 12:09",
          "09-01 12:10",
          "09-01 12:11",
          "09-01 12:12",
          "09-01 12:13",
          "09-01 12:14",
          "09-01 12:15",
          "09-01 12:16",
          "09-01 12:17",
          "09-01 12:18",
          "09-01 12:19",
          "09-01 12:20",
          "09-01 12:21",
          "09-01 12:22",
          "09-01 12:23",
          "09-01 12:24",
          "09-01 12:25",
          "09-01 12:26",
          "09-01 12:27",
          "09-01 12:28",
          "09-01 12:29",
          "09-01 12:30",
          "09-01 12:31",
          "09-01 12:32",
          "09-01 12:33",
          "09-01 12:34",
          "09-01 12:35",
          "09-01 12:36",
          "09-01 12:37",
          "09-01 12:38",
          "09-01 12:39",
          "09-01 12:40",
          "09-01 12:41",
          "09-01 12:42",
          "09-01 12:43",
          "09-01 12:44",
          "09-01 12:45",
          "09-01 12:46",
          "09-01 12:47",
          "09-01 12:48",
          "09-01 12:49",
          "09-01 12:50",
          "09-01 12:51",
          "09-01 12:52",
          "09-01 12:53",
          "09-01 12:54",
          "09-01 12:55",
          "09-01 12:56",
          "09-01 12:57",
          "09-01 12:58",
          "09-01 12:59",
          "09-01 13:00",
          "09-01 13:01",
          "09-01 13:02",
          "09-01 13:03",
          "09-01 13:04",
          "09-01 13:05",
          "09-01 13:06"
         ],
         "xaxis": "x",
         "y": [
          -1.001166376411904,
          -1.3203480054486583,
          -1.213954129103093,
          -1.3203480054486583,
          -1.6395296344853532,
          -2.1714990162132968,
          -2.2778928925588615,
          -2.0651051398676725,
          -2.0651051398676725,
          -2.0651051398676725,
          -2.1714990162132968,
          -2.2778928925588615,
          -2.0651051398676725,
          -1.9587112635221073,
          -1.5331357581397882,
          -1.4267418817942232,
          -1.213954129103093,
          -1.107560252757469,
          -1.107560252757469,
          -0.6819847473752089,
          -0.894772500066339,
          -0.36280311833845474,
          -0.25640924199288967,
          -0.25640924199288967,
          -0.36280311833845474,
          -0.36280311833845474,
          -0.46919699468401976,
          -0.7883786237207739,
          -0.36280311833845474,
          -0.5755908710295848,
          -0.25640924199288967,
          -0.04362148930170057,
          0.1691662633894295,
          -0.04362148930170057,
          -0.36280311833845474,
          -0.6819847473752089,
          -0.46919699468401976,
          -0.46919699468401976,
          -0.5755908710295848,
          -0.36280311833845474,
          -0.04362148930170057,
          0.27556013973499455,
          0.5947417687717487,
          0.38195401608055957,
          0.5947417687717487,
          0.8075295214628788,
          0.8075295214628788,
          1.0203172741540087,
          1.126711150499633,
          0.5947417687717487,
          0.7011356451173137,
          0.5947417687717487,
          0.48834789242618365,
          0.7011356451173137,
          0.7011356451173137,
          0.48834789242618365,
          0.48834789242618365,
          0.48834789242618365,
          0.48834789242618365,
          0.48834789242618365,
          0.48834789242618365,
          0.5947417687717487,
          0.48834789242618365,
          0.48834789242618365,
          0.9139233978084438,
          0.7011356451173137,
          0.5947417687717487,
          0.48834789242618365,
          0.5947417687717487,
          0.27556013973499455,
          0.38195401608055957,
          0.1691662633894295,
          -0.04362148930170057,
          -0.15001536564732465,
          -0.15001536564732465,
          0.06277238704386447,
          0.48834789242618365,
          0.27556013973499455,
          0.1691662633894295,
          0.7011356451173137,
          0.7011356451173137,
          0.5947417687717487,
          0.38195401608055957,
          0.5947417687717487,
          0.8075295214628788,
          0.7011356451173137,
          0.9139233978084438,
          0.8075295214628788,
          1.233105026845198,
          1.126711150499633,
          1.233105026845198,
          1.233105026845198,
          1.0203172741540087,
          1.658680532227517,
          1.658680532227517,
          1.5522866558819521,
          1.5522866558819521,
          1.233105026845198,
          1.0203172741540087,
          1.126711150499633
         ],
         "yaxis": "y"
        },
        {
         "legendgroup": "XRP",
         "line": {
          "color": "#FF6692",
          "dash": "solid"
         },
         "marker": {
          "symbol": "circle"
         },
         "mode": "markers+lines",
         "name": "XRP",
         "showlegend": true,
         "type": "scattergl",
         "x": [
          "09-01 11:27",
          "09-01 11:28",
          "09-01 11:29",
          "09-01 11:30",
          "09-01 11:31",
          "09-01 11:32",
          "09-01 11:33",
          "09-01 11:34",
          "09-01 11:35",
          "09-01 11:36",
          "09-01 11:37",
          "09-01 11:38",
          "09-01 11:39",
          "09-01 11:40",
          "09-01 11:41",
          "09-01 11:42",
          "09-01 11:43",
          "09-01 11:44",
          "09-01 11:45",
          "09-01 11:46",
          "09-01 11:47",
          "09-01 11:48",
          "09-01 11:49",
          "09-01 11:50",
          "09-01 11:51",
          "09-01 11:52",
          "09-01 11:53",
          "09-01 11:54",
          "09-01 11:55",
          "09-01 11:56",
          "09-01 11:57",
          "09-01 11:58",
          "09-01 11:59",
          "09-01 12:00",
          "09-01 12:01",
          "09-01 12:02",
          "09-01 12:03",
          "09-01 12:04",
          "09-01 12:05",
          "09-01 12:06",
          "09-01 12:07",
          "09-01 12:08",
          "09-01 12:09",
          "09-01 12:10",
          "09-01 12:11",
          "09-01 12:12",
          "09-01 12:13",
          "09-01 12:14",
          "09-01 12:15",
          "09-01 12:16",
          "09-01 12:17",
          "09-01 12:18",
          "09-01 12:19",
          "09-01 12:20",
          "09-01 12:21",
          "09-01 12:22",
          "09-01 12:23",
          "09-01 12:24",
          "09-01 12:25",
          "09-01 12:26",
          "09-01 12:27",
          "09-01 12:28",
          "09-01 12:29",
          "09-01 12:30",
          "09-01 12:31",
          "09-01 12:32",
          "09-01 12:33",
          "09-01 12:34",
          "09-01 12:35",
          "09-01 12:36",
          "09-01 12:37",
          "09-01 12:38",
          "09-01 12:39",
          "09-01 12:40",
          "09-01 12:41",
          "09-01 12:42",
          "09-01 12:43",
          "09-01 12:44",
          "09-01 12:45",
          "09-01 12:46",
          "09-01 12:47",
          "09-01 12:48",
          "09-01 12:49",
          "09-01 12:50",
          "09-01 12:51",
          "09-01 12:52",
          "09-01 12:53",
          "09-01 12:54",
          "09-01 12:55",
          "09-01 12:56",
          "09-01 12:57",
          "09-01 12:58",
          "09-01 12:59",
          "09-01 13:00",
          "09-01 13:01",
          "09-01 13:02",
          "09-01 13:03",
          "09-01 13:04",
          "09-01 13:05",
          "09-01 13:06"
         ],
         "xaxis": "x",
         "y": [
          -1.591192651769889,
          -2.0783918715402363,
          -1.6886324957239802,
          -1.4937528078158342,
          -1.6723925217316378,
          -1.8997521576244327,
          -2.029671949563209,
          -1.9484720796014603,
          -1.9971920015785238,
          -2.1758317154942914,
          -2.2083116634789763,
          -1.7373524177010078,
          -1.4775128338234917,
          -1.5749526777775467,
          -0.974073640060802,
          -0.9253537180837745,
          -0.4056745503287784,
          -0.21079486242063233,
          -0.30823470637468736,
          -0.25951478439765985,
          -0.6330341862215735,
          -0.5193543682751759,
          -0.11335501846657733,
          -0.25951478439765985,
          -0.3894345763364359,
          -0.3407146543594084,
          -0.30823470637468736,
          -0.6167942122292309,
          -0.3731946023440934,
          -0.25951478439765985,
          -0.16207494044360485,
          -0.08087507048189234,
          0.14648456541093874,
          0.08152466944156873,
          -0.27575475839000235,
          -0.48687442029049094,
          -0.27575475839000235,
          -0.3731946023440934,
          -0.5193543682751759,
          -0.3407146543594084,
          -0.14583496645126234,
          -0.12959499245891984,
          -0.3407146543594084,
          -0.32447468036702987,
          -0.11335501846657733,
          0.03280474746454123,
          0.21144446138030873,
          0.37384420130376983,
          0.30888430533436373,
          -0.06463509648954983,
          -0.12959499245891984,
          -0.17831491443594735,
          0.016564773472198726,
          0.06528469544922623,
          0.9260033170434508,
          0.7636035771200259,
          0.6986436811506559,
          0.7148836551429983,
          0.5524839152195373,
          0.6986436811506559,
          0.5687238892118798,
          0.6336837851812498,
          0.5362439412271948,
          0.30888430533436373,
          0.4875240192501673,
          0.2764043573496787,
          0.14648456541093874,
          0.09776464343391122,
          0.4063241492884548,
          0.4063241492884548,
          0.21144446138030873,
          -0.21079486242063233,
          -0.015915174512522334,
          -0.19455488842828986,
          -0.19455488842828986,
          -0.19455488842828986,
          0.04904472145688373,
          -0.04839512249720734,
          -0.04839512249720734,
          0.2764043573496787,
          0.7311236291353409,
          0.5687238892118798,
          0.4388040972731398,
          0.4388040972731398,
          1.4294425108061406,
          1.445682484798483,
          1.1046430309592545,
          1.1046430309592545,
          1.3969625628214555,
          1.3969625628214555,
          1.6243221987142507,
          1.6892820946836566,
          1.445682484798483,
          1.867921808599424,
          1.867921808599424,
          1.770481964645369,
          1.770481964645369,
          1.8354418606147391,
          1.7867219386377116,
          1.608082224721908
         ],
         "yaxis": "y"
        },
        {
         "legendgroup": "ETH",
         "line": {
          "color": "#B6E880",
          "dash": "solid"
         },
         "marker": {
          "symbol": "circle"
         },
         "mode": "markers+lines",
         "name": "ETH",
         "showlegend": true,
         "type": "scattergl",
         "x": [
          "09-01 11:27",
          "09-01 11:28",
          "09-01 11:29",
          "09-01 11:30",
          "09-01 11:31",
          "09-01 11:32",
          "09-01 11:33",
          "09-01 11:34",
          "09-01 11:35",
          "09-01 11:36",
          "09-01 11:37",
          "09-01 11:38",
          "09-01 11:39",
          "09-01 11:40",
          "09-01 11:41",
          "09-01 11:42",
          "09-01 11:43",
          "09-01 11:44",
          "09-01 11:45",
          "09-01 11:46",
          "09-01 11:47",
          "09-01 11:48",
          "09-01 11:49",
          "09-01 11:50",
          "09-01 11:51",
          "09-01 11:52",
          "09-01 11:53",
          "09-01 11:54",
          "09-01 11:55",
          "09-01 11:56",
          "09-01 11:57",
          "09-01 11:58",
          "09-01 11:59",
          "09-01 12:00",
          "09-01 12:01",
          "09-01 12:02",
          "09-01 12:03",
          "09-01 12:04",
          "09-01 12:05",
          "09-01 12:06",
          "09-01 12:07",
          "09-01 12:08",
          "09-01 12:09",
          "09-01 12:10",
          "09-01 12:11",
          "09-01 12:12",
          "09-01 12:13",
          "09-01 12:14",
          "09-01 12:15",
          "09-01 12:16",
          "09-01 12:17",
          "09-01 12:18",
          "09-01 12:19",
          "09-01 12:20",
          "09-01 12:21",
          "09-01 12:22",
          "09-01 12:23",
          "09-01 12:24",
          "09-01 12:25",
          "09-01 12:26",
          "09-01 12:27",
          "09-01 12:28",
          "09-01 12:29",
          "09-01 12:30",
          "09-01 12:31",
          "09-01 12:32",
          "09-01 12:33",
          "09-01 12:34",
          "09-01 12:35",
          "09-01 12:36",
          "09-01 12:37",
          "09-01 12:38",
          "09-01 12:39",
          "09-01 12:40",
          "09-01 12:41",
          "09-01 12:42",
          "09-01 12:43",
          "09-01 12:44",
          "09-01 12:45",
          "09-01 12:46",
          "09-01 12:47",
          "09-01 12:48",
          "09-01 12:49",
          "09-01 12:50",
          "09-01 12:51",
          "09-01 12:52",
          "09-01 12:53",
          "09-01 12:54",
          "09-01 12:55",
          "09-01 12:56",
          "09-01 12:57",
          "09-01 12:58",
          "09-01 12:59",
          "09-01 13:00",
          "09-01 13:01",
          "09-01 13:02",
          "09-01 13:03",
          "09-01 13:04",
          "09-01 13:05",
          "09-01 13:06"
         ],
         "xaxis": "x",
         "y": [
          -1.241885717426344,
          -1.615226520626113,
          -1.5942599175478687,
          -1.709238063460829,
          -1.8932030969216027,
          -1.989920007895445,
          -2.0521434750954115,
          -1.8526225748346772,
          -1.8140710788520813,
          -1.6774499878260796,
          -2.0494381069562855,
          -1.9074062796520312,
          -1.9080826216867974,
          -1.7626690842086505,
          -1.201981537374185,
          -1.243914743530704,
          -1.2263298506263525,
          -1.2412093753915778,
          -1.128936597617713,
          -1.0484518954786284,
          -0.9963735588004008,
          -0.503996557478982,
          -0.15635675160094373,
          -0.315973471809519,
          -0.49452776899203993,
          -0.5364609751485284,
          -0.6987830634962607,
          -0.8184956036527076,
          -0.7643882408701199,
          -0.6196510454267393,
          -0.5959790742093688,
          -0.15297504142702048,
          0.16084766271190817,
          -0.019735660574911353,
          -0.2530736625747862,
          -0.4586816411485702,
          -0.5621619724702591,
          -0.5587802622963359,
          -0.774533371391859,
          -0.3822549912181751,
          -0.24698658426173659,
          0.01340509912940131,
          0.03504804424244254,
          -0.03867323754882627,
          0.1534079003293262,
          0.4056834793030852,
          0.421915688137843,
          0.7972855174419721,
          0.843953117841947,
          0.5950592490420806,
          0.7905220970941256,
          0.785111360815873,
          0.5578604371290785,
          0.5206616252160455,
          0.6633697945550968,
          0.7120664210594011,
          0.5159272309725591,
          0.5206616252160455,
          0.2994977798422699,
          0.4956369699291118,
          0.4699359726073811,
          0.6356397711290059,
          0.6288763507811902,
          0.6376687972333661,
          0.9217324518418746,
          0.9339066084679737,
          0.8953551124853777,
          0.6816310294942147,
          0.48684452347693596,
          0.4252973983117663,
          0.2974687537379098,
          0.19872281665970726,
          0.1398810596336639,
          0.1973701325901441,
          0.26026994182490765,
          0.486168181442139,
          0.7830823347115436,
          0.7797006245376203,
          0.7249169197202664,
          0.8196048045897795,
          0.9934247075287833,
          0.7472362068680739,
          0.5619184893377679,
          0.3062612001900857,
          0.6505192958942314,
          0.6356397711290059,
          0.628200008746424,
          0.6403741653724924,
          1.2517873648155917,
          1.0813491720504806,
          1.1828004772678093,
          1.1483070334939336,
          1.2646378634764572,
          1.7157580006761843,
          1.7164343427109505,
          1.9200132951804052,
          1.5013575756502244,
          1.242994918363416,
          1.1483070334939336,
          1.0779674618765573
         ],
         "yaxis": "y"
        },
        {
         "legendgroup": "EOS",
         "line": {
          "color": "#FF97FF",
          "dash": "solid"
         },
         "marker": {
          "symbol": "circle"
         },
         "mode": "markers+lines",
         "name": "EOS",
         "showlegend": true,
         "type": "scattergl",
         "x": [
          "09-01 11:27",
          "09-01 11:28",
          "09-01 11:29",
          "09-01 11:30",
          "09-01 11:31",
          "09-01 11:32",
          "09-01 11:33",
          "09-01 11:34",
          "09-01 11:35",
          "09-01 11:36",
          "09-01 11:37",
          "09-01 11:38",
          "09-01 11:39",
          "09-01 11:40",
          "09-01 11:41",
          "09-01 11:42",
          "09-01 11:43",
          "09-01 11:44",
          "09-01 11:45",
          "09-01 11:46",
          "09-01 11:47",
          "09-01 11:48",
          "09-01 11:49",
          "09-01 11:50",
          "09-01 11:51",
          "09-01 11:52",
          "09-01 11:53",
          "09-01 11:54",
          "09-01 11:55",
          "09-01 11:56",
          "09-01 11:57",
          "09-01 11:58",
          "09-01 11:59",
          "09-01 12:00",
          "09-01 12:01",
          "09-01 12:02",
          "09-01 12:03",
          "09-01 12:04",
          "09-01 12:05",
          "09-01 12:06",
          "09-01 12:07",
          "09-01 12:08",
          "09-01 12:09",
          "09-01 12:10",
          "09-01 12:11",
          "09-01 12:12",
          "09-01 12:13",
          "09-01 12:14",
          "09-01 12:15",
          "09-01 12:16",
          "09-01 12:17",
          "09-01 12:18",
          "09-01 12:19",
          "09-01 12:20",
          "09-01 12:21",
          "09-01 12:22",
          "09-01 12:23",
          "09-01 12:24",
          "09-01 12:25",
          "09-01 12:26",
          "09-01 12:27",
          "09-01 12:28",
          "09-01 12:29",
          "09-01 12:30",
          "09-01 12:31",
          "09-01 12:32",
          "09-01 12:33",
          "09-01 12:34",
          "09-01 12:35",
          "09-01 12:36",
          "09-01 12:37",
          "09-01 12:38",
          "09-01 12:39",
          "09-01 12:40",
          "09-01 12:41",
          "09-01 12:42",
          "09-01 12:43",
          "09-01 12:44",
          "09-01 12:45",
          "09-01 12:46",
          "09-01 12:47",
          "09-01 12:48",
          "09-01 12:49",
          "09-01 12:50",
          "09-01 12:51",
          "09-01 12:52",
          "09-01 12:53",
          "09-01 12:54",
          "09-01 12:55",
          "09-01 12:56",
          "09-01 12:57",
          "09-01 12:58",
          "09-01 12:59",
          "09-01 13:00",
          "09-01 13:01",
          "09-01 13:02",
          "09-01 13:03",
          "09-01 13:04",
          "09-01 13:05",
          "09-01 13:06"
         ],
         "xaxis": "x",
         "y": [
          -0.7847125581030081,
          -1.383729778028971,
          -1.263926334043789,
          -1.7431401099845698,
          -1.7431401099845698,
          -1.6832383879920056,
          -2.1624521639327865,
          -2.102550441940169,
          -2.222353885925404,
          -2.102550441940169,
          -2.5218624958883855,
          -1.9228452759623693,
          -1.862943553969805,
          -1.7431401099845698,
          -1.3238280560364066,
          -1.3238280560364066,
          -1.1441228900586071,
          -1.1441228900586071,
          -0.8446142800956257,
          -0.6649091141178262,
          -1.024319446073425,
          -0.6050073921252086,
          -0.4253022261474623,
          -0.36540050415484476,
          -0.4852039481400267,
          -0.7847125581030081,
          -0.8446142800956257,
          -1.1441228900586071,
          -0.8446142800956257,
          -0.7248108361104437,
          -0.4852039481400267,
          -0.06589189419186336,
          0.23361671577111806,
          0.1737149937785005,
          -0.18569533817704528,
          -0.3054987821622272,
          -0.4253022261474623,
          -0.36540050415484476,
          -0.7248108361104437,
          -0.06589189419186336,
          0.23361671577111806,
          0.1737149937785005,
          0.11381327178593613,
          0.1737149937785005,
          0.41332188174891754,
          0.8326339356970809,
          0.8925356576896984,
          0.952437379682316,
          1.0722408236674978,
          1.0123391016748804,
          1.19204426765268,
          1.0123391016748804,
          0.8925356576896984,
          0.8925356576896984,
          0.8326339356970809,
          1.0123391016748804,
          1.0722408236674978,
          1.0722408236674978,
          0.6529287697192814,
          0.8326339356970809,
          0.4732236037414819,
          0.8925356576896984,
          1.1321425456601155,
          0.952437379682316,
          1.3717494336304794,
          0.952437379682316,
          0.6529287697192814,
          0.4732236037414819,
          0.41332188174891754,
          0.2935184377637356,
          -0.005990172199245795,
          -0.24559706016966285,
          -0.005990172199245795,
          -0.12579361618448093,
          0.11381327178593613,
          0.23361671577111806,
          0.4732236037414819,
          0.2935184377637356,
          0.3534201597563,
          0.6529287697192814,
          1.2519459896452974,
          0.3534201597563,
          0.2935184377637356,
          0.2935184377637356,
          0.6529287697192814,
          0.6529287697192814,
          0.952437379682316,
          0.8326339356970809,
          1.1321425456601155,
          0.8326339356970809,
          1.0123391016748804,
          0.952437379682316,
          1.19204426765268,
          1.4316511556230969,
          0.952437379682316,
          1.0722408236674978,
          0.8925356576896984,
          0.7128304917118989,
          0.5331253257340994,
          0.4732236037414819
         ],
         "yaxis": "y"
        },
        {
         "legendgroup": "BCH",
         "line": {
          "color": "#FECB52",
          "dash": "solid"
         },
         "marker": {
          "symbol": "circle"
         },
         "mode": "markers+lines",
         "name": "BCH",
         "showlegend": true,
         "type": "scattergl",
         "x": [
          "09-01 11:27",
          "09-01 11:28",
          "09-01 11:29",
          "09-01 11:30",
          "09-01 11:31",
          "09-01 11:32",
          "09-01 11:33",
          "09-01 11:34",
          "09-01 11:35",
          "09-01 11:36",
          "09-01 11:37",
          "09-01 11:38",
          "09-01 11:39",
          "09-01 11:40",
          "09-01 11:41",
          "09-01 11:42",
          "09-01 11:43",
          "09-01 11:44",
          "09-01 11:45",
          "09-01 11:46",
          "09-01 11:47",
          "09-01 11:48",
          "09-01 11:49",
          "09-01 11:50",
          "09-01 11:51",
          "09-01 11:52",
          "09-01 11:53",
          "09-01 11:54",
          "09-01 11:55",
          "09-01 11:56",
          "09-01 11:57",
          "09-01 11:58",
          "09-01 11:59",
          "09-01 12:00",
          "09-01 12:01",
          "09-01 12:02",
          "09-01 12:03",
          "09-01 12:04",
          "09-01 12:05",
          "09-01 12:06",
          "09-01 12:07",
          "09-01 12:08",
          "09-01 12:09",
          "09-01 12:10",
          "09-01 12:11",
          "09-01 12:12",
          "09-01 12:13",
          "09-01 12:14",
          "09-01 12:15",
          "09-01 12:16",
          "09-01 12:17",
          "09-01 12:18",
          "09-01 12:19",
          "09-01 12:20",
          "09-01 12:21",
          "09-01 12:22",
          "09-01 12:23",
          "09-01 12:24",
          "09-01 12:25",
          "09-01 12:26",
          "09-01 12:27",
          "09-01 12:28",
          "09-01 12:29",
          "09-01 12:30",
          "09-01 12:31",
          "09-01 12:32",
          "09-01 12:33",
          "09-01 12:34",
          "09-01 12:35",
          "09-01 12:36",
          "09-01 12:37",
          "09-01 12:38",
          "09-01 12:39",
          "09-01 12:40",
          "09-01 12:41",
          "09-01 12:42",
          "09-01 12:43",
          "09-01 12:44",
          "09-01 12:45",
          "09-01 12:46",
          "09-01 12:47",
          "09-01 12:48",
          "09-01 12:49",
          "09-01 12:50",
          "09-01 12:51",
          "09-01 12:52",
          "09-01 12:53",
          "09-01 12:54",
          "09-01 12:55",
          "09-01 12:56",
          "09-01 12:57",
          "09-01 12:58",
          "09-01 12:59",
          "09-01 13:00",
          "09-01 13:01",
          "09-01 13:02",
          "09-01 13:03",
          "09-01 13:04",
          "09-01 13:05",
          "09-01 13:06"
         ],
         "xaxis": "x",
         "y": [
          -0.9461665911500856,
          -1.511886526067907,
          -1.5826015179326547,
          -1.7947464935268176,
          -2.148321452850476,
          -2.3604664284447194,
          -2.64332639590363,
          -2.3604664284447194,
          -2.2897514365799716,
          -2.3604664284447194,
          -2.7140413877683778,
          -2.4311814203094673,
          -2.2190364447152238,
          -1.9361764772563133,
          -1.4411715342031592,
          -1.3704565423384918,
          -1.1583115667442485,
          0.6802782217387916,
          0.6802782217387916,
          0.6802782217387916,
          -0.026871696908525367,
          0.538848238009296,
          0.8217082054682067,
          0.11455828682088978,
          0.3974182542798005,
          0.3267032624151331,
          -0.026871696908525367,
          -0.1683016806380209,
          -0.1683016806380209,
          0.18527327868563756,
          0.11455828682088978,
          0.46813324614454827,
          1.03385318106245,
          0.7509932136034589,
          0.3974182542798005,
          0.11455828682088978,
          -0.1683016806380209,
          -0.1683016806380209,
          -0.5925916318264272,
          -0.23901667250276867,
          0.18527327868563756,
          0.11455828682088978,
          0.04384329495614201,
          0.2559882705503853,
          0.8217082054682067,
          1.03385318106245,
          0.9631381891977022,
          1.3167131485213608,
          1.03385318106245,
          0.3974182542798005,
          0.538848238009296,
          1.03385318106245,
          1.03385318106245,
          1.03385318106245,
          1.3874281403861084,
          1.245998156656613,
          1.1045681729271173,
          1.1045681729271173,
          0.7509932136034589,
          1.1045681729271173,
          0.8924231973329545,
          0.8924231973329545,
          0.8924231973329545,
          0.8217082054682067,
          1.1045681729271173,
          0.7509932136034589,
          0.46813324614454827,
          0.538848238009296,
          0.3267032624151331,
          0.46813324614454827,
          0.18527327868563756,
          -0.026871696908525367,
          0.04384329495614201,
          0.04384329495614201,
          0.04384329495614201,
          0.3974182542798005,
          0.538848238009296,
          0.2559882705503853,
          -0.09758668877327313,
          -0.09758668877327313,
          0.3974182542798005,
          -0.23901667250276867,
          -0.1683016806380209,
          -0.3804466562321838,
          0.18527327868563756,
          0.11455828682088978,
          0.11455828682088978,
          -0.026871696908525367,
          0.3267032624151331,
          0.2559882705503853,
          0.2559882705503853,
          0.11455828682088978,
          0.18527327868563756,
          0.6095632298740438,
          0.3974182542798005,
          0.6095632298740438,
          0.3267032624151331,
          -0.026871696908525367,
          -0.23901667250276867,
          -0.23901667250276867
         ],
         "yaxis": "y"
        },
        {
         "legendgroup": "LTC",
         "line": {
          "color": "#636efa",
          "dash": "solid"
         },
         "marker": {
          "symbol": "circle"
         },
         "mode": "markers+lines",
         "name": "LTC",
         "showlegend": true,
         "type": "scattergl",
         "x": [
          "09-01 11:27",
          "09-01 11:28",
          "09-01 11:29",
          "09-01 11:30",
          "09-01 11:31",
          "09-01 11:32",
          "09-01 11:33",
          "09-01 11:34",
          "09-01 11:35",
          "09-01 11:36",
          "09-01 11:37",
          "09-01 11:38",
          "09-01 11:39",
          "09-01 11:40",
          "09-01 11:41",
          "09-01 11:42",
          "09-01 11:43",
          "09-01 11:44",
          "09-01 11:45",
          "09-01 11:46",
          "09-01 11:47",
          "09-01 11:48",
          "09-01 11:49",
          "09-01 11:50",
          "09-01 11:51",
          "09-01 11:52",
          "09-01 11:53",
          "09-01 11:54",
          "09-01 11:55",
          "09-01 11:56",
          "09-01 11:57",
          "09-01 11:58",
          "09-01 11:59",
          "09-01 12:00",
          "09-01 12:01",
          "09-01 12:02",
          "09-01 12:03",
          "09-01 12:04",
          "09-01 12:05",
          "09-01 12:06",
          "09-01 12:07",
          "09-01 12:08",
          "09-01 12:09",
          "09-01 12:10",
          "09-01 12:11",
          "09-01 12:12",
          "09-01 12:13",
          "09-01 12:14",
          "09-01 12:15",
          "09-01 12:16",
          "09-01 12:17",
          "09-01 12:18",
          "09-01 12:19",
          "09-01 12:20",
          "09-01 12:21",
          "09-01 12:22",
          "09-01 12:23",
          "09-01 12:24",
          "09-01 12:25",
          "09-01 12:26",
          "09-01 12:27",
          "09-01 12:28",
          "09-01 12:29",
          "09-01 12:30",
          "09-01 12:31",
          "09-01 12:32",
          "09-01 12:33",
          "09-01 12:34",
          "09-01 12:35",
          "09-01 12:36",
          "09-01 12:37",
          "09-01 12:38",
          "09-01 12:39",
          "09-01 12:40",
          "09-01 12:41",
          "09-01 12:42",
          "09-01 12:43",
          "09-01 12:44",
          "09-01 12:45",
          "09-01 12:46",
          "09-01 12:47",
          "09-01 12:48",
          "09-01 12:49",
          "09-01 12:50",
          "09-01 12:51",
          "09-01 12:52",
          "09-01 12:53",
          "09-01 12:54",
          "09-01 12:55",
          "09-01 12:56",
          "09-01 12:57",
          "09-01 12:58",
          "09-01 12:59",
          "09-01 13:00",
          "09-01 13:01",
          "09-01 13:02",
          "09-01 13:03",
          "09-01 13:04",
          "09-01 13:05",
          "09-01 13:06"
         ],
         "xaxis": "x",
         "y": [
          -0.9029909454401713,
          -1.08251200815193,
          -1.08251200815193,
          -1.6210751962872565,
          -1.441554133575498,
          -1.6210751962872565,
          -1.9801173217107735,
          -1.6210751962872565,
          -1.9801173217107735,
          -1.9801173217107735,
          -2.5186805098461003,
          -2.3391594471343415,
          -2.159638384422532,
          -1.9801173217107735,
          -1.2620330708636884,
          -1.441554133575498,
          -1.441554133575498,
          -1.2620330708636884,
          -1.2620330708636884,
          -0.9029909454401713,
          -1.2620330708636884,
          -0.3644277573048448,
          0.17413543083043076,
          -0.18490669459308628,
          -0.3644277573048448,
          -0.3644277573048448,
          -0.5439488200166543,
          -0.9029909454401713,
          -0.9029909454401713,
          -0.7234698827284128,
          -0.005385631881327754,
          0.17413543083043076,
          0.3536564935421893,
          0.17413543083043076,
          -0.3644277573048448,
          -0.18490669459308628,
          -0.18490669459308628,
          -0.18490669459308628,
          -0.5439488200166543,
          -0.005385631881327754,
          -0.005385631881327754,
          -0.005385631881327754,
          0.17413543083043076,
          0.17413543083043076,
          0.8922196816775159,
          0.8922196816775159,
          0.8922196816775159,
          1.0717407443892744,
          1.610303932524601,
          1.4307828698128424,
          1.610303932524601,
          1.7898249952363594,
          1.4307828698128424,
          1.2512618071010329,
          1.610303932524601,
          1.7898249952363594,
          1.4307828698128424,
          1.2512618071010329,
          -0.18490669459308628,
          0.3536564935421893,
          0.17413543083043076,
          0.17413543083043076,
          0.3536564935421893,
          0.3536564935421893,
          1.0717407443892744,
          1.0717407443892744,
          0.5331775562539989,
          0.7126986189657574,
          0.5331775562539989,
          0.3536564935421893,
          0.17413543083043076,
          0.3536564935421893,
          0.17413543083043076,
          0.17413543083043076,
          0.3536564935421893,
          0.3536564935421893,
          0.8922196816775159,
          0.7126986189657574,
          0.3536564935421893,
          0.3536564935421893,
          0.7126986189657574,
          -0.005385631881327754,
          -0.18490669459308628,
          -0.005385631881327754,
          0.17413543083043076,
          0.17413543083043076,
          0.3536564935421893,
          0.17413543083043076,
          0.5331775562539989,
          0.5331775562539989,
          0.7126986189657574,
          0.5331775562539989,
          0.5331775562539989,
          1.0717407443892744,
          1.0717407443892744,
          0.8922196816775159,
          0.5331775562539989,
          0.7126986189657574,
          0.5331775562539989,
          0.3536564935421893
         ],
         "yaxis": "y"
        },
        {
         "legendgroup": "MATIC",
         "line": {
          "color": "#EF553B",
          "dash": "solid"
         },
         "marker": {
          "symbol": "circle"
         },
         "mode": "markers+lines",
         "name": "MATIC",
         "showlegend": true,
         "type": "scattergl",
         "x": [
          "09-01 11:27",
          "09-01 11:28",
          "09-01 11:29",
          "09-01 11:30",
          "09-01 11:31",
          "09-01 11:32",
          "09-01 11:33",
          "09-01 11:34",
          "09-01 11:35",
          "09-01 11:36",
          "09-01 11:37",
          "09-01 11:38",
          "09-01 11:39",
          "09-01 11:40",
          "09-01 11:41",
          "09-01 11:42",
          "09-01 11:43",
          "09-01 11:44",
          "09-01 11:45",
          "09-01 11:46",
          "09-01 11:47",
          "09-01 11:48",
          "09-01 11:49",
          "09-01 11:50",
          "09-01 11:51",
          "09-01 11:52",
          "09-01 11:53",
          "09-01 11:54",
          "09-01 11:55",
          "09-01 11:56",
          "09-01 11:57",
          "09-01 11:58",
          "09-01 11:59",
          "09-01 12:00",
          "09-01 12:01",
          "09-01 12:02",
          "09-01 12:03",
          "09-01 12:04",
          "09-01 12:05",
          "09-01 12:06",
          "09-01 12:07",
          "09-01 12:08",
          "09-01 12:09",
          "09-01 12:10",
          "09-01 12:11",
          "09-01 12:12",
          "09-01 12:13",
          "09-01 12:14",
          "09-01 12:15",
          "09-01 12:16",
          "09-01 12:17",
          "09-01 12:18",
          "09-01 12:19",
          "09-01 12:20",
          "09-01 12:21",
          "09-01 12:22",
          "09-01 12:23",
          "09-01 12:24",
          "09-01 12:25",
          "09-01 12:26",
          "09-01 12:27",
          "09-01 12:28",
          "09-01 12:29",
          "09-01 12:30",
          "09-01 12:31",
          "09-01 12:32",
          "09-01 12:33",
          "09-01 12:34",
          "09-01 12:35",
          "09-01 12:36",
          "09-01 12:37",
          "09-01 12:38",
          "09-01 12:39",
          "09-01 12:40",
          "09-01 12:41",
          "09-01 12:42",
          "09-01 12:43",
          "09-01 12:44",
          "09-01 12:45",
          "09-01 12:46",
          "09-01 12:47",
          "09-01 12:48",
          "09-01 12:49",
          "09-01 12:50",
          "09-01 12:51",
          "09-01 12:52",
          "09-01 12:53",
          "09-01 12:54",
          "09-01 12:55",
          "09-01 12:56",
          "09-01 12:57",
          "09-01 12:58",
          "09-01 12:59",
          "09-01 13:00",
          "09-01 13:01",
          "09-01 13:02",
          "09-01 13:03",
          "09-01 13:04",
          "09-01 13:05",
          "09-01 13:06"
         ],
         "xaxis": "x",
         "y": [
          -1.055037243084219,
          -1.40613116757145,
          -1.40613116757145,
          -1.40613116757145,
          -1.5816781298150462,
          -1.7572250920586423,
          -1.9327720543023164,
          -1.5816781298150462,
          -1.7572250920586423,
          -1.9327720543023164,
          -2.1083190165459125,
          -1.9327720543023164,
          -1.9327720543023164,
          -1.9327720543023164,
          -1.40613116757145,
          -1.40613116757145,
          -1.5816781298150462,
          -1.230584205327854,
          -1.055037243084219,
          -0.8794902808405839,
          -1.055037243084219,
          -0.35284939410975674,
          -0.35284939410975674,
          -0.5283963563533528,
          -0.7039433185969879,
          -0.7039433185969879,
          -0.7039433185969879,
          -0.7039433185969879,
          -0.7039433185969879,
          -0.8794902808405839,
          -0.7039433185969879,
          -0.17730243186616065,
          0.17379149262110943,
          -0.0017554696224866338,
          -0.0017554696224866338,
          -0.0017554696224866338,
          -0.17730243186616065,
          -0.17730243186616065,
          -0.35284939410975674,
          -0.0017554696224866338,
          0.5248854171083016,
          0.5248854171083016,
          0.5248854171083016,
          0.5248854171083016,
          0.7004323793519366,
          1.0515263038391678,
          1.0515263038391678,
          1.2270732660828028,
          1.2270732660828028,
          0.8759793415955717,
          1.2270732660828028,
          1.578167190569995,
          1.4026202283263989,
          1.4026202283263989,
          1.2270732660828028,
          1.2270732660828028,
          1.0515263038391678,
          1.0515263038391678,
          0.5248854171083016,
          0.3493384548647055,
          0.17379149262110943,
          0.3493384548647055,
          0.3493384548647055,
          0.3493384548647055,
          0.8759793415955717,
          0.8759793415955717,
          0.8759793415955717,
          0.5248854171083016,
          0.5248854171083016,
          0.5248854171083016,
          0.17379149262110943,
          -0.17730243186616065,
          -0.17730243186616065,
          -0.0017554696224866338,
          -0.0017554696224866338,
          -0.0017554696224866338,
          0.3493384548647055,
          -0.0017554696224866338,
          -0.17730243186616065,
          -0.0017554696224866338,
          0.5248854171083016,
          0.17379149262110943,
          -0.17730243186616065,
          -0.0017554696224866338,
          0.3493384548647055,
          0.17379149262110943,
          0.3493384548647055,
          0.17379149262110943,
          0.5248854171083016,
          0.3493384548647055,
          0.3493384548647055,
          0.3493384548647055,
          1.0515263038391678,
          1.4026202283263989,
          1.4026202283263989,
          1.578167190569995,
          1.578167190569995,
          1.4026202283263989,
          1.578167190569995,
          1.578167190569995
         ],
         "yaxis": "y"
        },
        {
         "legendgroup": "AAVE",
         "line": {
          "color": "#00cc96",
          "dash": "solid"
         },
         "marker": {
          "symbol": "circle"
         },
         "mode": "markers+lines",
         "name": "AAVE",
         "showlegend": true,
         "type": "scattergl",
         "x": [
          "09-01 11:27",
          "09-01 11:28",
          "09-01 11:29",
          "09-01 11:30",
          "09-01 11:31",
          "09-01 11:32",
          "09-01 11:33",
          "09-01 11:34",
          "09-01 11:35",
          "09-01 11:36",
          "09-01 11:37",
          "09-01 11:38",
          "09-01 11:39",
          "09-01 11:40",
          "09-01 11:41",
          "09-01 11:42",
          "09-01 11:43",
          "09-01 11:44",
          "09-01 11:45",
          "09-01 11:46",
          "09-01 11:47",
          "09-01 11:48",
          "09-01 11:49",
          "09-01 11:50",
          "09-01 11:51",
          "09-01 11:52",
          "09-01 11:53",
          "09-01 11:54",
          "09-01 11:55",
          "09-01 11:56",
          "09-01 11:57",
          "09-01 11:58",
          "09-01 11:59",
          "09-01 12:00",
          "09-01 12:01",
          "09-01 12:02",
          "09-01 12:03",
          "09-01 12:04",
          "09-01 12:05",
          "09-01 12:06",
          "09-01 12:07",
          "09-01 12:08",
          "09-01 12:09",
          "09-01 12:10",
          "09-01 12:11",
          "09-01 12:12",
          "09-01 12:13",
          "09-01 12:14",
          "09-01 12:15",
          "09-01 12:16",
          "09-01 12:17",
          "09-01 12:18",
          "09-01 12:19",
          "09-01 12:20",
          "09-01 12:21",
          "09-01 12:22",
          "09-01 12:23",
          "09-01 12:24",
          "09-01 12:25",
          "09-01 12:26",
          "09-01 12:27",
          "09-01 12:28",
          "09-01 12:29",
          "09-01 12:30",
          "09-01 12:31",
          "09-01 12:32",
          "09-01 12:33",
          "09-01 12:34",
          "09-01 12:35",
          "09-01 12:36",
          "09-01 12:37",
          "09-01 12:38",
          "09-01 12:39",
          "09-01 12:40",
          "09-01 12:41",
          "09-01 12:42",
          "09-01 12:43",
          "09-01 12:44",
          "09-01 12:45",
          "09-01 12:46",
          "09-01 12:47",
          "09-01 12:48",
          "09-01 12:49",
          "09-01 12:50",
          "09-01 12:51",
          "09-01 12:52",
          "09-01 12:53",
          "09-01 12:54",
          "09-01 12:55",
          "09-01 12:56",
          "09-01 12:57",
          "09-01 12:58",
          "09-01 12:59",
          "09-01 13:00",
          "09-01 13:01",
          "09-01 13:02",
          "09-01 13:03",
          "09-01 13:04",
          "09-01 13:05",
          "09-01 13:06"
         ],
         "xaxis": "x",
         "y": [
          0.34316722944129197,
          -0.6944874600141212,
          -0.6203692679101481,
          -0.6203692679101481,
          -1.0650784205339026,
          -1.1391966126378337,
          -1.8062603415734655,
          -1.5839057652615882,
          -1.2874329968457379,
          -1.5097875731576151,
          -2.250969494197178,
          -2.7697968389248633,
          -2.8439150310288364,
          -2.5474422626130284,
          -1.2133148047418068,
          -0.8427238442220254,
          -0.6944874600141212,
          -0.6944874600141212,
          -0.24977830739036672,
          -0.39801469159827085,
          -0.6944874600141212,
          -0.39801469159827085,
          0.41728542154522297,
          -0.17566011528639358,
          -0.6203692679101481,
          -0.7686056521180522,
          -1.2133148047418068,
          -0.9168420363259564,
          -0.5462510758061749,
          -0.6944874600141212,
          -0.5462510758061749,
          -0.24977830739036672,
          -0.6944874600141212,
          -0.9168420363259564,
          -0.9909602284299295,
          -1.2133148047418068,
          -0.9909602284299295,
          -0.9168420363259564,
          -0.8427238442220254,
          -0.24977830739036672,
          0.1208126531294147,
          0.5655218057531692,
          0.5655218057531692,
          0.9361127662729506,
          1.0102309583768816,
          1.6772946873125134,
          1.8996492636243485,
          1.6772946873125134,
          1.6772946873125134,
          1.4549401110006361,
          1.5290583031045673,
          1.6031764952085403,
          1.2325855346887589,
          1.0102309583768816,
          1.0843491504808547,
          0.9361127662729506,
          0.41728542154522297,
          0.26904903733731883,
          -0.24977830739036672,
          0.04669446102544156,
          -0.17566011528639358,
          0.04669446102544156,
          0.41728542154522297,
          0.4914036136491961,
          1.2325855346887589,
          1.2325855346887589,
          1.1584673425847858,
          0.26904903733731883,
          0.19493084523338783,
          0.04669446102544156,
          -0.02742373107848944,
          -0.24977830739036672,
          -0.32389649949433985,
          -0.32389649949433985,
          -0.10154192318246257,
          0.26904903733731883,
          0.5655218057531692,
          0.6396399978571002,
          0.26904903733731883,
          -0.17566011528639358,
          0.7137581899610733,
          0.7137581899610733,
          0.26904903733731883,
          0.1208126531294147,
          1.0843491504808547,
          0.9361127662729506,
          1.1584673425847858,
          0.8619945741689775,
          0.7137581899610733,
          0.41728542154522297,
          0.5655218057531692,
          0.41728542154522297,
          0.7137581899610733,
          1.306703726792732,
          0.7878763820650043,
          1.0843491504808547,
          0.9361127662729506,
          0.34316722944129197,
          -0.10154192318246257,
          -0.24977830739036672
         ],
         "yaxis": "y"
        },
        {
         "legendgroup": "DOT",
         "line": {
          "color": "#ab63fa",
          "dash": "solid"
         },
         "marker": {
          "symbol": "circle"
         },
         "mode": "markers+lines",
         "name": "DOT",
         "showlegend": true,
         "type": "scattergl",
         "x": [
          "09-01 11:27",
          "09-01 11:28",
          "09-01 11:29",
          "09-01 11:30",
          "09-01 11:31",
          "09-01 11:32",
          "09-01 11:33",
          "09-01 11:34",
          "09-01 11:35",
          "09-01 11:36",
          "09-01 11:37",
          "09-01 11:38",
          "09-01 11:39",
          "09-01 11:40",
          "09-01 11:41",
          "09-01 11:42",
          "09-01 11:43",
          "09-01 11:44",
          "09-01 11:45",
          "09-01 11:46",
          "09-01 11:47",
          "09-01 11:48",
          "09-01 11:49",
          "09-01 11:50",
          "09-01 11:51",
          "09-01 11:52",
          "09-01 11:53",
          "09-01 11:54",
          "09-01 11:55",
          "09-01 11:56",
          "09-01 11:57",
          "09-01 11:58",
          "09-01 11:59",
          "09-01 12:00",
          "09-01 12:01",
          "09-01 12:02",
          "09-01 12:03",
          "09-01 12:04",
          "09-01 12:05",
          "09-01 12:06",
          "09-01 12:07",
          "09-01 12:08",
          "09-01 12:09",
          "09-01 12:10",
          "09-01 12:11",
          "09-01 12:12",
          "09-01 12:13",
          "09-01 12:14",
          "09-01 12:15",
          "09-01 12:16",
          "09-01 12:17",
          "09-01 12:18",
          "09-01 12:19",
          "09-01 12:20",
          "09-01 12:21",
          "09-01 12:22",
          "09-01 12:23",
          "09-01 12:24",
          "09-01 12:25",
          "09-01 12:26",
          "09-01 12:27",
          "09-01 12:28",
          "09-01 12:29",
          "09-01 12:30",
          "09-01 12:31",
          "09-01 12:32",
          "09-01 12:33",
          "09-01 12:34",
          "09-01 12:35",
          "09-01 12:36",
          "09-01 12:37",
          "09-01 12:38",
          "09-01 12:39",
          "09-01 12:40",
          "09-01 12:41",
          "09-01 12:42",
          "09-01 12:43",
          "09-01 12:44",
          "09-01 12:45",
          "09-01 12:46",
          "09-01 12:47",
          "09-01 12:48",
          "09-01 12:49",
          "09-01 12:50",
          "09-01 12:51",
          "09-01 12:52",
          "09-01 12:53",
          "09-01 12:54",
          "09-01 12:55",
          "09-01 12:56",
          "09-01 12:57",
          "09-01 12:58",
          "09-01 12:59",
          "09-01 13:00",
          "09-01 13:01",
          "09-01 13:02",
          "09-01 13:03",
          "09-01 13:04",
          "09-01 13:05",
          "09-01 13:06"
         ],
         "xaxis": "x",
         "y": [
          0.23870116685739184,
          -0.22934033678454696,
          -0.3853541713318876,
          -0.6973818404265135,
          -0.931402592247469,
          -1.5554579304367484,
          -1.7114717649840614,
          -1.5554579304367484,
          -1.8674855995313744,
          -1.9454925168050448,
          -1.8674855995313744,
          -1.4774510131630783,
          -1.633464847710391,
          -1.2434302613421226,
          -0.22934033678454696,
          0.0046804150364085795,
          -0.07332650223723403,
          -0.15133341951090437,
          -0.07332650223723403,
          0.0046804150364085795,
          -0.6973818404265135,
          0.23870116685739184,
          0.8627565050466436,
          -0.22934033678454696,
          -0.15133341951090437,
          -0.3853541713318876,
          -0.3073472540582173,
          -0.4633610886055302,
          -0.8533956749738264,
          -0.6193749231528431,
          -0.7753887577001561,
          -0.22934033678454696,
          0.0046804150364085795,
          0.16069424958372153,
          -0.22934033678454696,
          -0.8533956749738264,
          -0.7753887577001561,
          -1.0094095095211393,
          -1.4774510131630783,
          -0.931402592247469,
          -0.5413680058792005,
          -0.6973818404265135,
          -0.931402592247469,
          -1.633464847710391,
          -0.7753887577001561,
          -0.4633610886055302,
          0.3947150014047048,
          1.1747841741412972,
          1.0967772568676268,
          0.6287357532256881,
          0.784749587773001,
          0.6287357532256881,
          0.5507288359520177,
          0.3947150014047048,
          0.940763422320314,
          0.7067426704993307,
          0.3947150014047048,
          0.31670808413106216,
          -0.3853541713318876,
          -0.07332650223723403,
          -0.3853541713318876,
          -0.22934033678454696,
          -0.22934033678454696,
          -0.4633610886055302,
          0.31670808413106216,
          0.08268733231007891,
          -0.3073472540582173,
          -0.931402592247469,
          -0.6973818404265135,
          -0.6973818404265135,
          -0.8533956749738264,
          -0.931402592247469,
          -0.6193749231528431,
          -0.6193749231528431,
          -0.4633610886055302,
          0.0046804150364085795,
          0.3947150014047048,
          0.4727219186783751,
          0.4727219186783751,
          0.7067426704993307,
          0.8627565050466436,
          0.4727219186783751,
          0.31670808413106216,
          0.3947150014047048,
          1.1747841741412972,
          1.1747841741412972,
          1.798839512330549,
          1.4088049259622528,
          1.7208325950569063,
          1.4088049259622528,
          1.798839512330549,
          1.7208325950569063,
          1.798839512330549,
          2.1108671814251747,
          1.7208325950569063,
          1.7208325950569063,
          1.5648187605095656,
          1.4088049259622528,
          1.642825677783236,
          2.344887933246158
         ],
         "yaxis": "y"
        },
        {
         "legendgroup": "LINK",
         "line": {
          "color": "#FFA15A",
          "dash": "solid"
         },
         "marker": {
          "symbol": "circle"
         },
         "mode": "markers+lines",
         "name": "LINK",
         "showlegend": true,
         "type": "scattergl",
         "x": [
          "09-01 11:27",
          "09-01 11:28",
          "09-01 11:29",
          "09-01 11:30",
          "09-01 11:31",
          "09-01 11:32",
          "09-01 11:33",
          "09-01 11:34",
          "09-01 11:35",
          "09-01 11:36",
          "09-01 11:37",
          "09-01 11:38",
          "09-01 11:39",
          "09-01 11:40",
          "09-01 11:41",
          "09-01 11:42",
          "09-01 11:43",
          "09-01 11:44",
          "09-01 11:45",
          "09-01 11:46",
          "09-01 11:47",
          "09-01 11:48",
          "09-01 11:49",
          "09-01 11:50",
          "09-01 11:51",
          "09-01 11:52",
          "09-01 11:53",
          "09-01 11:54",
          "09-01 11:55",
          "09-01 11:56",
          "09-01 11:57",
          "09-01 11:58",
          "09-01 11:59",
          "09-01 12:00",
          "09-01 12:01",
          "09-01 12:02",
          "09-01 12:03",
          "09-01 12:04",
          "09-01 12:05",
          "09-01 12:06",
          "09-01 12:07",
          "09-01 12:08",
          "09-01 12:09",
          "09-01 12:10",
          "09-01 12:11",
          "09-01 12:12",
          "09-01 12:13",
          "09-01 12:14",
          "09-01 12:15",
          "09-01 12:16",
          "09-01 12:17",
          "09-01 12:18",
          "09-01 12:19",
          "09-01 12:20",
          "09-01 12:21",
          "09-01 12:22",
          "09-01 12:23",
          "09-01 12:24",
          "09-01 12:25",
          "09-01 12:26",
          "09-01 12:27",
          "09-01 12:28",
          "09-01 12:29",
          "09-01 12:30",
          "09-01 12:31",
          "09-01 12:32",
          "09-01 12:33",
          "09-01 12:34",
          "09-01 12:35",
          "09-01 12:36",
          "09-01 12:37",
          "09-01 12:38",
          "09-01 12:39",
          "09-01 12:40",
          "09-01 12:41",
          "09-01 12:42",
          "09-01 12:43",
          "09-01 12:44",
          "09-01 12:45",
          "09-01 12:46",
          "09-01 12:47",
          "09-01 12:48",
          "09-01 12:49",
          "09-01 12:50",
          "09-01 12:51",
          "09-01 12:52",
          "09-01 12:53",
          "09-01 12:54",
          "09-01 12:55",
          "09-01 12:56",
          "09-01 12:57",
          "09-01 12:58",
          "09-01 12:59",
          "09-01 13:00",
          "09-01 13:01",
          "09-01 13:02",
          "09-01 13:03",
          "09-01 13:04",
          "09-01 13:05",
          "09-01 13:06"
         ],
         "xaxis": "x",
         "y": [
          -0.48370935406137594,
          -1.0461620913419793,
          -1.1164686835020672,
          -1.1867752756621301,
          -1.5383082364625198,
          -1.6789214207826708,
          -2.0304543815830605,
          -1.8195346051028216,
          -1.9601477894229724,
          -1.8898411972629094,
          -2.311680750223362,
          -2.0304543815830605,
          -2.0304543815830605,
          -2.1710675659032113,
          -1.3273884599822812,
          -1.468001644302432,
          -1.2570818678222182,
          -1.3273884599822812,
          -1.0461620913419793,
          -0.9758554991818914,
          -0.9055489070218286,
          -0.6243225383815267,
          -0.5540159462214389,
          -0.8352423148617406,
          -0.9758554991818914,
          -0.9758554991818914,
          -1.0461620913419793,
          -0.9758554991818914,
          -0.8352423148617406,
          -0.7649357227016776,
          -0.5540159462214389,
          -0.13217639326098626,
          0.00843679105916459,
          -0.13217639326098626,
          -0.34309616974120005,
          -0.413402761901288,
          -0.34309616974120005,
          -0.27278957758113714,
          -0.413402761901288,
          0.2896631596994913,
          0.2896631596994913,
          0.21935656753940339,
          0.3599697518595542,
          0.21935656753940339,
          0.5005829361797051,
          0.8521158969800947,
          1.2739554499405474,
          1.484875226420786,
          1.695795002901025,
          1.0630356734603335,
          1.2036488577804845,
          1.3442620421006353,
          1.1333422656203964,
          0.8521158969800947,
          0.9224224891401827,
          0.9224224891401827,
          0.9927290813002456,
          0.9224224891401827,
          0.9224224891401827,
          0.9224224891401827,
          0.7115027126599439,
          1.0630356734603335,
          1.0630356734603335,
          0.7115027126599439,
          0.9927290813002456,
          0.8521158969800947,
          0.7818093048200317,
          0.641196120499856,
          0.7818093048200317,
          0.641196120499856,
          0.21935656753940339,
          -0.061869801100898354,
          0.00843679105916459,
          0.00843679105916459,
          0.00843679105916459,
          0.21935656753940339,
          0.3599697518595542,
          0.3599697518595542,
          0.2896631596994913,
          0.2896631596994913,
          0.5005829361797051,
          0.00843679105916459,
          0.00843679105916459,
          -0.061869801100898354,
          -0.061869801100898354,
          0.21935656753940339,
          0.5005829361797051,
          0.641196120499856,
          0.7818093048200317,
          0.7818093048200317,
          1.1333422656203964,
          0.9927290813002456,
          1.0630356734603335,
          1.3442620421006353,
          1.0630356734603335,
          0.9927290813002456,
          0.9224224891401827,
          0.8521158969800947,
          0.9224224891401827,
          0.8521158969800947
         ],
         "yaxis": "y"
        }
       ],
       "layout": {
        "hovermode": "x",
        "legend": {
         "title": {
          "text": "variable"
         },
         "tracegroupgap": 0
        },
        "template": {
         "data": {
          "bar": [
           {
            "error_x": {
             "color": "#2a3f5f"
            },
            "error_y": {
             "color": "#2a3f5f"
            },
            "marker": {
             "line": {
              "color": "#E5ECF6",
              "width": 0.5
             },
             "pattern": {
              "fillmode": "overlay",
              "size": 10,
              "solidity": 0.2
             }
            },
            "type": "bar"
           }
          ],
          "barpolar": [
           {
            "marker": {
             "line": {
              "color": "#E5ECF6",
              "width": 0.5
             },
             "pattern": {
              "fillmode": "overlay",
              "size": 10,
              "solidity": 0.2
             }
            },
            "type": "barpolar"
           }
          ],
          "carpet": [
           {
            "aaxis": {
             "endlinecolor": "#2a3f5f",
             "gridcolor": "white",
             "linecolor": "white",
             "minorgridcolor": "white",
             "startlinecolor": "#2a3f5f"
            },
            "baxis": {
             "endlinecolor": "#2a3f5f",
             "gridcolor": "white",
             "linecolor": "white",
             "minorgridcolor": "white",
             "startlinecolor": "#2a3f5f"
            },
            "type": "carpet"
           }
          ],
          "choropleth": [
           {
            "colorbar": {
             "outlinewidth": 0,
             "ticks": ""
            },
            "type": "choropleth"
           }
          ],
          "contour": [
           {
            "colorbar": {
             "outlinewidth": 0,
             "ticks": ""
            },
            "colorscale": [
             [
              0,
              "#0d0887"
             ],
             [
              0.1111111111111111,
              "#46039f"
             ],
             [
              0.2222222222222222,
              "#7201a8"
             ],
             [
              0.3333333333333333,
              "#9c179e"
             ],
             [
              0.4444444444444444,
              "#bd3786"
             ],
             [
              0.5555555555555556,
              "#d8576b"
             ],
             [
              0.6666666666666666,
              "#ed7953"
             ],
             [
              0.7777777777777778,
              "#fb9f3a"
             ],
             [
              0.8888888888888888,
              "#fdca26"
             ],
             [
              1,
              "#f0f921"
             ]
            ],
            "type": "contour"
           }
          ],
          "contourcarpet": [
           {
            "colorbar": {
             "outlinewidth": 0,
             "ticks": ""
            },
            "type": "contourcarpet"
           }
          ],
          "heatmap": [
           {
            "colorbar": {
             "outlinewidth": 0,
             "ticks": ""
            },
            "colorscale": [
             [
              0,
              "#0d0887"
             ],
             [
              0.1111111111111111,
              "#46039f"
             ],
             [
              0.2222222222222222,
              "#7201a8"
             ],
             [
              0.3333333333333333,
              "#9c179e"
             ],
             [
              0.4444444444444444,
              "#bd3786"
             ],
             [
              0.5555555555555556,
              "#d8576b"
             ],
             [
              0.6666666666666666,
              "#ed7953"
             ],
             [
              0.7777777777777778,
              "#fb9f3a"
             ],
             [
              0.8888888888888888,
              "#fdca26"
             ],
             [
              1,
              "#f0f921"
             ]
            ],
            "type": "heatmap"
           }
          ],
          "heatmapgl": [
           {
            "colorbar": {
             "outlinewidth": 0,
             "ticks": ""
            },
            "colorscale": [
             [
              0,
              "#0d0887"
             ],
             [
              0.1111111111111111,
              "#46039f"
             ],
             [
              0.2222222222222222,
              "#7201a8"
             ],
             [
              0.3333333333333333,
              "#9c179e"
             ],
             [
              0.4444444444444444,
              "#bd3786"
             ],
             [
              0.5555555555555556,
              "#d8576b"
             ],
             [
              0.6666666666666666,
              "#ed7953"
             ],
             [
              0.7777777777777778,
              "#fb9f3a"
             ],
             [
              0.8888888888888888,
              "#fdca26"
             ],
             [
              1,
              "#f0f921"
             ]
            ],
            "type": "heatmapgl"
           }
          ],
          "histogram": [
           {
            "marker": {
             "pattern": {
              "fillmode": "overlay",
              "size": 10,
              "solidity": 0.2
             }
            },
            "type": "histogram"
           }
          ],
          "histogram2d": [
           {
            "colorbar": {
             "outlinewidth": 0,
             "ticks": ""
            },
            "colorscale": [
             [
              0,
              "#0d0887"
             ],
             [
              0.1111111111111111,
              "#46039f"
             ],
             [
              0.2222222222222222,
              "#7201a8"
             ],
             [
              0.3333333333333333,
              "#9c179e"
             ],
             [
              0.4444444444444444,
              "#bd3786"
             ],
             [
              0.5555555555555556,
              "#d8576b"
             ],
             [
              0.6666666666666666,
              "#ed7953"
             ],
             [
              0.7777777777777778,
              "#fb9f3a"
             ],
             [
              0.8888888888888888,
              "#fdca26"
             ],
             [
              1,
              "#f0f921"
             ]
            ],
            "type": "histogram2d"
           }
          ],
          "histogram2dcontour": [
           {
            "colorbar": {
             "outlinewidth": 0,
             "ticks": ""
            },
            "colorscale": [
             [
              0,
              "#0d0887"
             ],
             [
              0.1111111111111111,
              "#46039f"
             ],
             [
              0.2222222222222222,
              "#7201a8"
             ],
             [
              0.3333333333333333,
              "#9c179e"
             ],
             [
              0.4444444444444444,
              "#bd3786"
             ],
             [
              0.5555555555555556,
              "#d8576b"
             ],
             [
              0.6666666666666666,
              "#ed7953"
             ],
             [
              0.7777777777777778,
              "#fb9f3a"
             ],
             [
              0.8888888888888888,
              "#fdca26"
             ],
             [
              1,
              "#f0f921"
             ]
            ],
            "type": "histogram2dcontour"
           }
          ],
          "mesh3d": [
           {
            "colorbar": {
             "outlinewidth": 0,
             "ticks": ""
            },
            "type": "mesh3d"
           }
          ],
          "parcoords": [
           {
            "line": {
             "colorbar": {
              "outlinewidth": 0,
              "ticks": ""
             }
            },
            "type": "parcoords"
           }
          ],
          "pie": [
           {
            "automargin": true,
            "type": "pie"
           }
          ],
          "scatter": [
           {
            "marker": {
             "colorbar": {
              "outlinewidth": 0,
              "ticks": ""
             }
            },
            "type": "scatter"
           }
          ],
          "scatter3d": [
           {
            "line": {
             "colorbar": {
              "outlinewidth": 0,
              "ticks": ""
             }
            },
            "marker": {
             "colorbar": {
              "outlinewidth": 0,
              "ticks": ""
             }
            },
            "type": "scatter3d"
           }
          ],
          "scattercarpet": [
           {
            "marker": {
             "colorbar": {
              "outlinewidth": 0,
              "ticks": ""
             }
            },
            "type": "scattercarpet"
           }
          ],
          "scattergeo": [
           {
            "marker": {
             "colorbar": {
              "outlinewidth": 0,
              "ticks": ""
             }
            },
            "type": "scattergeo"
           }
          ],
          "scattergl": [
           {
            "marker": {
             "colorbar": {
              "outlinewidth": 0,
              "ticks": ""
             }
            },
            "type": "scattergl"
           }
          ],
          "scattermapbox": [
           {
            "marker": {
             "colorbar": {
              "outlinewidth": 0,
              "ticks": ""
             }
            },
            "type": "scattermapbox"
           }
          ],
          "scatterpolar": [
           {
            "marker": {
             "colorbar": {
              "outlinewidth": 0,
              "ticks": ""
             }
            },
            "type": "scatterpolar"
           }
          ],
          "scatterpolargl": [
           {
            "marker": {
             "colorbar": {
              "outlinewidth": 0,
              "ticks": ""
             }
            },
            "type": "scatterpolargl"
           }
          ],
          "scatterternary": [
           {
            "marker": {
             "colorbar": {
              "outlinewidth": 0,
              "ticks": ""
             }
            },
            "type": "scatterternary"
           }
          ],
          "surface": [
           {
            "colorbar": {
             "outlinewidth": 0,
             "ticks": ""
            },
            "colorscale": [
             [
              0,
              "#0d0887"
             ],
             [
              0.1111111111111111,
              "#46039f"
             ],
             [
              0.2222222222222222,
              "#7201a8"
             ],
             [
              0.3333333333333333,
              "#9c179e"
             ],
             [
              0.4444444444444444,
              "#bd3786"
             ],
             [
              0.5555555555555556,
              "#d8576b"
             ],
             [
              0.6666666666666666,
              "#ed7953"
             ],
             [
              0.7777777777777778,
              "#fb9f3a"
             ],
             [
              0.8888888888888888,
              "#fdca26"
             ],
             [
              1,
              "#f0f921"
             ]
            ],
            "type": "surface"
           }
          ],
          "table": [
           {
            "cells": {
             "fill": {
              "color": "#EBF0F8"
             },
             "line": {
              "color": "white"
             }
            },
            "header": {
             "fill": {
              "color": "#C8D4E3"
             },
             "line": {
              "color": "white"
             }
            },
            "type": "table"
           }
          ]
         },
         "layout": {
          "annotationdefaults": {
           "arrowcolor": "#2a3f5f",
           "arrowhead": 0,
           "arrowwidth": 1
          },
          "autotypenumbers": "strict",
          "coloraxis": {
           "colorbar": {
            "outlinewidth": 0,
            "ticks": ""
           }
          },
          "colorscale": {
           "diverging": [
            [
             0,
             "#8e0152"
            ],
            [
             0.1,
             "#c51b7d"
            ],
            [
             0.2,
             "#de77ae"
            ],
            [
             0.3,
             "#f1b6da"
            ],
            [
             0.4,
             "#fde0ef"
            ],
            [
             0.5,
             "#f7f7f7"
            ],
            [
             0.6,
             "#e6f5d0"
            ],
            [
             0.7,
             "#b8e186"
            ],
            [
             0.8,
             "#7fbc41"
            ],
            [
             0.9,
             "#4d9221"
            ],
            [
             1,
             "#276419"
            ]
           ],
           "sequential": [
            [
             0,
             "#0d0887"
            ],
            [
             0.1111111111111111,
             "#46039f"
            ],
            [
             0.2222222222222222,
             "#7201a8"
            ],
            [
             0.3333333333333333,
             "#9c179e"
            ],
            [
             0.4444444444444444,
             "#bd3786"
            ],
            [
             0.5555555555555556,
             "#d8576b"
            ],
            [
             0.6666666666666666,
             "#ed7953"
            ],
            [
             0.7777777777777778,
             "#fb9f3a"
            ],
            [
             0.8888888888888888,
             "#fdca26"
            ],
            [
             1,
             "#f0f921"
            ]
           ],
           "sequentialminus": [
            [
             0,
             "#0d0887"
            ],
            [
             0.1111111111111111,
             "#46039f"
            ],
            [
             0.2222222222222222,
             "#7201a8"
            ],
            [
             0.3333333333333333,
             "#9c179e"
            ],
            [
             0.4444444444444444,
             "#bd3786"
            ],
            [
             0.5555555555555556,
             "#d8576b"
            ],
            [
             0.6666666666666666,
             "#ed7953"
            ],
            [
             0.7777777777777778,
             "#fb9f3a"
            ],
            [
             0.8888888888888888,
             "#fdca26"
            ],
            [
             1,
             "#f0f921"
            ]
           ]
          },
          "colorway": [
           "#636efa",
           "#EF553B",
           "#00cc96",
           "#ab63fa",
           "#FFA15A",
           "#19d3f3",
           "#FF6692",
           "#B6E880",
           "#FF97FF",
           "#FECB52"
          ],
          "font": {
           "color": "#2a3f5f"
          },
          "geo": {
           "bgcolor": "white",
           "lakecolor": "white",
           "landcolor": "#E5ECF6",
           "showlakes": true,
           "showland": true,
           "subunitcolor": "white"
          },
          "hoverlabel": {
           "align": "left"
          },
          "hovermode": "closest",
          "mapbox": {
           "style": "light"
          },
          "paper_bgcolor": "white",
          "plot_bgcolor": "#E5ECF6",
          "polar": {
           "angularaxis": {
            "gridcolor": "white",
            "linecolor": "white",
            "ticks": ""
           },
           "bgcolor": "#E5ECF6",
           "radialaxis": {
            "gridcolor": "white",
            "linecolor": "white",
            "ticks": ""
           }
          },
          "scene": {
           "xaxis": {
            "backgroundcolor": "#E5ECF6",
            "gridcolor": "white",
            "gridwidth": 2,
            "linecolor": "white",
            "showbackground": true,
            "ticks": "",
            "zerolinecolor": "white"
           },
           "yaxis": {
            "backgroundcolor": "#E5ECF6",
            "gridcolor": "white",
            "gridwidth": 2,
            "linecolor": "white",
            "showbackground": true,
            "ticks": "",
            "zerolinecolor": "white"
           },
           "zaxis": {
            "backgroundcolor": "#E5ECF6",
            "gridcolor": "white",
            "gridwidth": 2,
            "linecolor": "white",
            "showbackground": true,
            "ticks": "",
            "zerolinecolor": "white"
           }
          },
          "shapedefaults": {
           "line": {
            "color": "#2a3f5f"
           }
          },
          "ternary": {
           "aaxis": {
            "gridcolor": "white",
            "linecolor": "white",
            "ticks": ""
           },
           "baxis": {
            "gridcolor": "white",
            "linecolor": "white",
            "ticks": ""
           },
           "bgcolor": "#E5ECF6",
           "caxis": {
            "gridcolor": "white",
            "linecolor": "white",
            "ticks": ""
           }
          },
          "title": {
           "x": 0.05
          },
          "xaxis": {
           "automargin": true,
           "gridcolor": "white",
           "linecolor": "white",
           "ticks": "",
           "title": {
            "standoff": 15
           },
           "zerolinecolor": "white",
           "zerolinewidth": 2
          },
          "yaxis": {
           "automargin": true,
           "gridcolor": "white",
           "linecolor": "white",
           "ticks": "",
           "title": {
            "standoff": 15
           },
           "zerolinecolor": "white",
           "zerolinewidth": 2
          }
         }
        },
        "title": {
         "text": "custom tick labels"
        },
        "xaxis": {
         "anchor": "y",
         "domain": [
          0,
          1
         ],
         "title": {
          "text": "x"
         }
        },
        "yaxis": {
         "anchor": "x",
         "domain": [
          0,
          1
         ],
         "title": {
          "text": "value"
         }
        }
       }
      },
      "text/html": [
       "<div>                            <div id=\"9f61f17e-7396-464f-9769-11e882227fb4\" class=\"plotly-graph-div\" style=\"height:525px; width:100%;\"></div>            <script type=\"text/javascript\">                require([\"plotly\"], function(Plotly) {                    window.PLOTLYENV=window.PLOTLYENV || {};                                    if (document.getElementById(\"9f61f17e-7396-464f-9769-11e882227fb4\")) {                    Plotly.newPlot(                        \"9f61f17e-7396-464f-9769-11e882227fb4\",                        [{\"legendgroup\":\"ALICE\",\"line\":{\"color\":\"#636efa\",\"dash\":\"solid\"},\"marker\":{\"symbol\":\"circle\"},\"mode\":\"markers+lines\",\"name\":\"ALICE\",\"showlegend\":true,\"type\":\"scattergl\",\"x\":[\"09-01 11:27\",\"09-01 11:28\",\"09-01 11:29\",\"09-01 11:30\",\"09-01 11:31\",\"09-01 11:32\",\"09-01 11:33\",\"09-01 11:34\",\"09-01 11:35\",\"09-01 11:36\",\"09-01 11:37\",\"09-01 11:38\",\"09-01 11:39\",\"09-01 11:40\",\"09-01 11:41\",\"09-01 11:42\",\"09-01 11:43\",\"09-01 11:44\",\"09-01 11:45\",\"09-01 11:46\",\"09-01 11:47\",\"09-01 11:48\",\"09-01 11:49\",\"09-01 11:50\",\"09-01 11:51\",\"09-01 11:52\",\"09-01 11:53\",\"09-01 11:54\",\"09-01 11:55\",\"09-01 11:56\",\"09-01 11:57\",\"09-01 11:58\",\"09-01 11:59\",\"09-01 12:00\",\"09-01 12:01\",\"09-01 12:02\",\"09-01 12:03\",\"09-01 12:04\",\"09-01 12:05\",\"09-01 12:06\",\"09-01 12:07\",\"09-01 12:08\",\"09-01 12:09\",\"09-01 12:10\",\"09-01 12:11\",\"09-01 12:12\",\"09-01 12:13\",\"09-01 12:14\",\"09-01 12:15\",\"09-01 12:16\",\"09-01 12:17\",\"09-01 12:18\",\"09-01 12:19\",\"09-01 12:20\",\"09-01 12:21\",\"09-01 12:22\",\"09-01 12:23\",\"09-01 12:24\",\"09-01 12:25\",\"09-01 12:26\",\"09-01 12:27\",\"09-01 12:28\",\"09-01 12:29\",\"09-01 12:30\",\"09-01 12:31\",\"09-01 12:32\",\"09-01 12:33\",\"09-01 12:34\",\"09-01 12:35\",\"09-01 12:36\",\"09-01 12:37\",\"09-01 12:38\",\"09-01 12:39\",\"09-01 12:40\",\"09-01 12:41\",\"09-01 12:42\",\"09-01 12:43\",\"09-01 12:44\",\"09-01 12:45\",\"09-01 12:46\",\"09-01 12:47\",\"09-01 12:48\",\"09-01 12:49\",\"09-01 12:50\",\"09-01 12:51\",\"09-01 12:52\",\"09-01 12:53\",\"09-01 12:54\",\"09-01 12:55\",\"09-01 12:56\",\"09-01 12:57\",\"09-01 12:58\",\"09-01 12:59\",\"09-01 13:00\",\"09-01 13:01\",\"09-01 13:02\",\"09-01 13:03\",\"09-01 13:04\",\"09-01 13:05\",\"09-01 13:06\"],\"xaxis\":\"x\",\"y\":[-2.423298497480286,-2.6184503797013634,-2.6672383502566412,-2.813602261922441,-2.76481429136718,-2.76481429136718,-2.5696624091461024,-2.6672383502566412,-2.5208744385908246,-2.4720864680355463,-1.3011751747090634,-1.2523872041537853,-0.959659380822169,-1.1060232924879858,-0.37420373415891883,-0.27662779304838003,0.16246394194905325,0.3088278536148528,0.4551917652806697,0.8454955297228423,0.7967075591675641,1.0894353824991805,1.1870113236097366,1.1870113236097366,1.1382233530544585,0.747919588612286,0.7967075591675641,0.943071470833381,1.2845872647202754,1.3333752352755361,1.0894353824991805,1.1870113236097366,0.6991316180570253,0.7967075591675641,0.4551917652806697,0.01610003028323639,0.6015556769464865,0.6015556769464865,0.3088278536148528,0.6015556769464865,0.4551917652806697,0.2600398830595921,0.3088278536148528,0.211251912504314,0.3088278536148528,0.3576158241701309,0.2600398830595921,0.1136759713937752,0.3576158241701309,0.16246394194905325,0.5527677063912084,0.5039797358359477,0.4551917652806697,0.06488800083851445,0.211251912504314,0.1136759713937752,0.16246394194905325,0.1136759713937752,-0.032687940272024346,-0.032687940272024346,-0.08147591082730242,-0.5205676458247357,-0.2278398224931193,-0.2278398224931193,0.40640379472540894,0.40640379472540894,0.3088278536148528,0.40640379472540894,0.2600398830595921,0.40640379472540894,0.40640379472540894,0.4551917652806697,0.06488800083851445,0.01610003028323639,0.01610003028323639,0.06488800083851445,0.06488800083851445,-0.032687940272024346,-0.032687940272024346,0.01610003028323639,0.2600398830595921,0.211251912504314,0.3088278536148528,0.40640379472540894,0.40640379472540894,0.40640379472540894,0.5527677063912084,0.6015556769464865,0.943071470833381,0.5039797358359477,0.6991316180570253,0.5039797358359477,0.3088278536148528,0.5527677063912084,0.16246394194905325,0.211251912504314,-0.1790518519378412,-0.08147591082730242,-0.47177967526947495,-0.47177967526947495],\"yaxis\":\"y\"},{\"legendgroup\":\"CHR\",\"line\":{\"color\":\"#EF553B\",\"dash\":\"solid\"},\"marker\":{\"symbol\":\"circle\"},\"mode\":\"markers+lines\",\"name\":\"CHR\",\"showlegend\":true,\"type\":\"scattergl\",\"x\":[\"09-01 11:27\",\"09-01 11:28\",\"09-01 11:29\",\"09-01 11:30\",\"09-01 11:31\",\"09-01 11:32\",\"09-01 11:33\",\"09-01 11:34\",\"09-01 11:35\",\"09-01 11:36\",\"09-01 11:37\",\"09-01 11:38\",\"09-01 11:39\",\"09-01 11:40\",\"09-01 11:41\",\"09-01 11:42\",\"09-01 11:43\",\"09-01 11:44\",\"09-01 11:45\",\"09-01 11:46\",\"09-01 11:47\",\"09-01 11:48\",\"09-01 11:49\",\"09-01 11:50\",\"09-01 11:51\",\"09-01 11:52\",\"09-01 11:53\",\"09-01 11:54\",\"09-01 11:55\",\"09-01 11:56\",\"09-01 11:57\",\"09-01 11:58\",\"09-01 11:59\",\"09-01 12:00\",\"09-01 12:01\",\"09-01 12:02\",\"09-01 12:03\",\"09-01 12:04\",\"09-01 12:05\",\"09-01 12:06\",\"09-01 12:07\",\"09-01 12:08\",\"09-01 12:09\",\"09-01 12:10\",\"09-01 12:11\",\"09-01 12:12\",\"09-01 12:13\",\"09-01 12:14\",\"09-01 12:15\",\"09-01 12:16\",\"09-01 12:17\",\"09-01 12:18\",\"09-01 12:19\",\"09-01 12:20\",\"09-01 12:21\",\"09-01 12:22\",\"09-01 12:23\",\"09-01 12:24\",\"09-01 12:25\",\"09-01 12:26\",\"09-01 12:27\",\"09-01 12:28\",\"09-01 12:29\",\"09-01 12:30\",\"09-01 12:31\",\"09-01 12:32\",\"09-01 12:33\",\"09-01 12:34\",\"09-01 12:35\",\"09-01 12:36\",\"09-01 12:37\",\"09-01 12:38\",\"09-01 12:39\",\"09-01 12:40\",\"09-01 12:41\",\"09-01 12:42\",\"09-01 12:43\",\"09-01 12:44\",\"09-01 12:45\",\"09-01 12:46\",\"09-01 12:47\",\"09-01 12:48\",\"09-01 12:49\",\"09-01 12:50\",\"09-01 12:51\",\"09-01 12:52\",\"09-01 12:53\",\"09-01 12:54\",\"09-01 12:55\",\"09-01 12:56\",\"09-01 12:57\",\"09-01 12:58\",\"09-01 12:59\",\"09-01 13:00\",\"09-01 13:01\",\"09-01 13:02\",\"09-01 13:03\",\"09-01 13:04\",\"09-01 13:05\",\"09-01 13:06\"],\"xaxis\":\"x\",\"y\":[-3.300923884113869,-3.075758544133396,-2.5128451941821908,-1.9217861767334286,-1.3025814917870935,-0.9648334818163766,-0.9085421468212468,-0.598939804348087,0.35801289056894925,0.5268868955543232,0.7520522355347959,1.4838395904713595,1.0898002455055285,0.35801289056894925,1.3994025879786882,1.5119852579689324,1.4275482554762453,1.0616545780079556,0.9772175755152843,0.49874122805675053,0.04841054809578952,0.6676152330421246,0.7801979030323531,0.6113238980469947,0.5550325630518804,0.5550325630518804,1.4556939229738024,1.8215876004420763,2.046752940422565,2.046752940422565,1.7090049304518478,1.5401309254664894,1.3149655854860012,0.8083435705299259,0.35801289056894925,-0.03602645439688188,-0.007880786899324747,-0.03602645439688188,-0.5707941368505299,0.2735758880762778,0.4705955605591934,0.3298672230713921,0.1047018830909194,0.44244989306163623,0.8083435705299259,0.7239065680372389,0.13284755058847655,0.13284755058847655,-0.007880786899324747,-0.8241051443285753,-0.3456287968700572,-0.23304612687981305,-0.5145028018554156,-0.598939804348087,-0.03602645439688188,0.35801289056894925,0.5550325630518804,1.5964222604616036,1.3431112529835583,0.6113238980469947,0.2454302205787207,0.07655621559334665,-0.37377446436761436,-0.7959594768310182,0.30172155557383495,0.13284755058847655,-0.1204634568895689,-0.31748312937248446,-0.45821146686028574,-0.31748312937248446,-0.23304612687981305,-0.17675479188468315,-0.598939804348087,-0.5707941368505299,-0.3456287968700572,-0.14860912438712603,-0.20490045938225593,-0.26119179437737017,-0.20490045938225593,0.3298672230713921,0.5831782305494375,-0.06417212189445463,-0.06417212189445463,-0.007880786899324747,-0.26119179437737017,-0.6270854718456598,-0.09231778939201177,-0.45821146686028574,-0.26119179437737017,-0.31748312937248446,-0.4300657993627286,-1.1055618193041779,-1.3588728267822234,-1.3870184942797805,-0.8241051443285753,-1.0492704843090481,-1.133707486801735,-1.4996011642700247,-1.9217861767334286,-1.5277468317675817],\"yaxis\":\"y\"},{\"legendgroup\":\"ATOM\",\"line\":{\"color\":\"#00cc96\",\"dash\":\"solid\"},\"marker\":{\"symbol\":\"circle\"},\"mode\":\"markers+lines\",\"name\":\"ATOM\",\"showlegend\":true,\"type\":\"scattergl\",\"x\":[\"09-01 11:27\",\"09-01 11:28\",\"09-01 11:29\",\"09-01 11:30\",\"09-01 11:31\",\"09-01 11:32\",\"09-01 11:33\",\"09-01 11:34\",\"09-01 11:35\",\"09-01 11:36\",\"09-01 11:37\",\"09-01 11:38\",\"09-01 11:39\",\"09-01 11:40\",\"09-01 11:41\",\"09-01 11:42\",\"09-01 11:43\",\"09-01 11:44\",\"09-01 11:45\",\"09-01 11:46\",\"09-01 11:47\",\"09-01 11:48\",\"09-01 11:49\",\"09-01 11:50\",\"09-01 11:51\",\"09-01 11:52\",\"09-01 11:53\",\"09-01 11:54\",\"09-01 11:55\",\"09-01 11:56\",\"09-01 11:57\",\"09-01 11:58\",\"09-01 11:59\",\"09-01 12:00\",\"09-01 12:01\",\"09-01 12:02\",\"09-01 12:03\",\"09-01 12:04\",\"09-01 12:05\",\"09-01 12:06\",\"09-01 12:07\",\"09-01 12:08\",\"09-01 12:09\",\"09-01 12:10\",\"09-01 12:11\",\"09-01 12:12\",\"09-01 12:13\",\"09-01 12:14\",\"09-01 12:15\",\"09-01 12:16\",\"09-01 12:17\",\"09-01 12:18\",\"09-01 12:19\",\"09-01 12:20\",\"09-01 12:21\",\"09-01 12:22\",\"09-01 12:23\",\"09-01 12:24\",\"09-01 12:25\",\"09-01 12:26\",\"09-01 12:27\",\"09-01 12:28\",\"09-01 12:29\",\"09-01 12:30\",\"09-01 12:31\",\"09-01 12:32\",\"09-01 12:33\",\"09-01 12:34\",\"09-01 12:35\",\"09-01 12:36\",\"09-01 12:37\",\"09-01 12:38\",\"09-01 12:39\",\"09-01 12:40\",\"09-01 12:41\",\"09-01 12:42\",\"09-01 12:43\",\"09-01 12:44\",\"09-01 12:45\",\"09-01 12:46\",\"09-01 12:47\",\"09-01 12:48\",\"09-01 12:49\",\"09-01 12:50\",\"09-01 12:51\",\"09-01 12:52\",\"09-01 12:53\",\"09-01 12:54\",\"09-01 12:55\",\"09-01 12:56\",\"09-01 12:57\",\"09-01 12:58\",\"09-01 12:59\",\"09-01 13:00\",\"09-01 13:01\",\"09-01 13:02\",\"09-01 13:03\",\"09-01 13:04\",\"09-01 13:05\",\"09-01 13:06\"],\"xaxis\":\"x\",\"y\":[-0.9113829995908507,-1.4933644808110798,-1.667958925177132,-1.4933644808110798,-1.667958925177132,-2.1917422582753296,-2.249940406397361,-1.7261570732991631,-1.9589496657872465,-2.249940406397361,-2.424534850763434,-1.9589496657872465,-1.9589496657872465,-1.900751517665236,-1.667958925177132,-1.2605718883229757,-1.0859774439569236,-1.144175592078934,-0.6203922589807361,-0.5621941108587256,-0.15480707400456944,0.01978737036150342,0.36897625909362847,-0.09660892588253826,-0.32940151837062165,-0.27120337024861113,-0.5039959627366944,-0.5039959627366944,-0.6203922589807361,-0.6203922589807361,-0.5621941108587256,-0.21300522212657994,0.5435707034597014,0.6017688515817325,0.36897625909362847,-0.15480707400456944,-0.27120337024861113,-0.445797814614684,-0.6203922589807361,0.0779855184835346,0.1361836666055451,-0.15480707400456944,0.1361836666055451,0.0779855184835346,0.48537255533767015,0.48537255533767015,0.659966999703743,1.183750332801941,1.4165429252900243,0.42717440721565964,0.8927595921918263,0.659966999703743,0.6017688515817325,0.5435707034597014,0.7181651478257742,0.659966999703743,0.42717440721565964,0.36897625909362847,0.31077811097161795,0.1361836666055451,-0.27120337024861113,-0.3875996664926528,-0.445797814614684,0.2525799628495868,0.5435707034597014,0.2525799628495868,0.1361836666055451,0.1361836666055451,0.1943818147275763,0.9509577403138575,0.36897625909362847,0.9509577403138575,1.3001466290459827,1.3583447771680137,1.3583447771680137,1.8821281102662117,1.76573181402217,1.8821281102662117,1.7075336659001388,1.4747410734120554,0.8345614440698158,0.48537255533767015,0.7181651478257742,0.7181651478257742,0.2525799628495868,-0.21300522212657994,0.1361836666055451,0.01978737036150342,0.7181651478257742,1.009155888435868,1.1255521846799303,1.0673540365578993,0.7763632959477846,0.7763632959477846,0.5435707034597014,0.36897625909362847,0.1361836666055451,0.31077811097161795,0.01978737036150342,0.1943818147275763],\"yaxis\":\"y\"},{\"legendgroup\":\"AXS\",\"line\":{\"color\":\"#ab63fa\",\"dash\":\"solid\"},\"marker\":{\"symbol\":\"circle\"},\"mode\":\"markers+lines\",\"name\":\"AXS\",\"showlegend\":true,\"type\":\"scattergl\",\"x\":[\"09-01 11:27\",\"09-01 11:28\",\"09-01 11:29\",\"09-01 11:30\",\"09-01 11:31\",\"09-01 11:32\",\"09-01 11:33\",\"09-01 11:34\",\"09-01 11:35\",\"09-01 11:36\",\"09-01 11:37\",\"09-01 11:38\",\"09-01 11:39\",\"09-01 11:40\",\"09-01 11:41\",\"09-01 11:42\",\"09-01 11:43\",\"09-01 11:44\",\"09-01 11:45\",\"09-01 11:46\",\"09-01 11:47\",\"09-01 11:48\",\"09-01 11:49\",\"09-01 11:50\",\"09-01 11:51\",\"09-01 11:52\",\"09-01 11:53\",\"09-01 11:54\",\"09-01 11:55\",\"09-01 11:56\",\"09-01 11:57\",\"09-01 11:58\",\"09-01 11:59\",\"09-01 12:00\",\"09-01 12:01\",\"09-01 12:02\",\"09-01 12:03\",\"09-01 12:04\",\"09-01 12:05\",\"09-01 12:06\",\"09-01 12:07\",\"09-01 12:08\",\"09-01 12:09\",\"09-01 12:10\",\"09-01 12:11\",\"09-01 12:12\",\"09-01 12:13\",\"09-01 12:14\",\"09-01 12:15\",\"09-01 12:16\",\"09-01 12:17\",\"09-01 12:18\",\"09-01 12:19\",\"09-01 12:20\",\"09-01 12:21\",\"09-01 12:22\",\"09-01 12:23\",\"09-01 12:24\",\"09-01 12:25\",\"09-01 12:26\",\"09-01 12:27\",\"09-01 12:28\",\"09-01 12:29\",\"09-01 12:30\",\"09-01 12:31\",\"09-01 12:32\",\"09-01 12:33\",\"09-01 12:34\",\"09-01 12:35\",\"09-01 12:36\",\"09-01 12:37\",\"09-01 12:38\",\"09-01 12:39\",\"09-01 12:40\",\"09-01 12:41\",\"09-01 12:42\",\"09-01 12:43\",\"09-01 12:44\",\"09-01 12:45\",\"09-01 12:46\",\"09-01 12:47\",\"09-01 12:48\",\"09-01 12:49\",\"09-01 12:50\",\"09-01 12:51\",\"09-01 12:52\",\"09-01 12:53\",\"09-01 12:54\",\"09-01 12:55\",\"09-01 12:56\",\"09-01 12:57\",\"09-01 12:58\",\"09-01 12:59\",\"09-01 13:00\",\"09-01 13:01\",\"09-01 13:02\",\"09-01 13:03\",\"09-01 13:04\",\"09-01 13:05\",\"09-01 13:06\"],\"xaxis\":\"x\",\"y\":[-0.9772584138556107,-1.1866111160525992,-1.3959638182495875,-1.5215754395677925,-1.6890576013254188,-1.3959638182495875,-1.479704899128371,-1.6890576013254188,-1.8984103035224074,-1.7309281417647808,-1.8984103035224074,-1.9821513844011909,-1.605316520446576,-1.563445980007214,-1.0609994947343941,-1.2284816564920207,-0.8516467925374057,-0.9353878734161892,-0.39107084770400746,-0.34920030726458595,-0.34920030726458595,-0.014235983749392594,0.40446942064458424,0.15324617800823384,0.11137563756881236,0.11137563756881236,-0.014235983749392594,-0.05610652418881408,-0.014235983749392594,-0.3073297668251645,0.2788577993263793,0.5300810419627892,1.1162686081143924,1.0743980676750304,0.6556926632809942,1.1162686081143924,0.7813042845991991,0.7813042845991991,0.5719515824022107,0.9487864463568255,1.2418802294325975,0.9487864463568255,0.9906569867961875,1.032527527235609,1.2418802294325975,1.4931034720690073,1.4512329316295858,1.6605856338266336,1.7024561742659956,1.4512329316295858,1.8280677955842006,1.8280677955842006,1.4093623911902238,1.0743980676750304,1.4093623911902238,1.3256213103113808,1.4512329316295858,1.3256213103113808,0.6138221228416322,0.6556926632809942,0.4882105015234272,0.5300810419627892,0.5719515824022107,0.4463399610840057,0.6975632037204156,0.9906569867961875,0.9906569867961875,0.5719515824022107,0.4882105015234272,0.36259888020522224,0.11137563756881236,-0.18171814550701904,-0.13984760506759755,-0.2654592263858025,-0.39107084770400746,-0.09797706462817606,-0.05610652418881408,-0.13984760506759755,-0.13984760506759755,0.2369872588870173,0.3207283397658008,-0.18171814550701904,-0.39107084770400746,-0.2654592263858025,0.06950509712939087,-0.05610652418881408,-0.223588685946381,-0.4329413881433694,-0.2654592263858025,-1.1447405756131777,-1.0609994947343941,-1.1447405756131777,-1.0609994947343941,-0.8097762520979843,-0.8516467925374057,-0.7260351712192008,-0.8097762520979843,-0.9772584138556107,-1.1447405756131777,-1.1028700351738157],\"yaxis\":\"y\"},{\"legendgroup\":\"TLM\",\"line\":{\"color\":\"#FFA15A\",\"dash\":\"solid\"},\"marker\":{\"symbol\":\"circle\"},\"mode\":\"markers+lines\",\"name\":\"TLM\",\"showlegend\":true,\"type\":\"scattergl\",\"x\":[\"09-01 11:27\",\"09-01 11:28\",\"09-01 11:29\",\"09-01 11:30\",\"09-01 11:31\",\"09-01 11:32\",\"09-01 11:33\",\"09-01 11:34\",\"09-01 11:35\",\"09-01 11:36\",\"09-01 11:37\",\"09-01 11:38\",\"09-01 11:39\",\"09-01 11:40\",\"09-01 11:41\",\"09-01 11:42\",\"09-01 11:43\",\"09-01 11:44\",\"09-01 11:45\",\"09-01 11:46\",\"09-01 11:47\",\"09-01 11:48\",\"09-01 11:49\",\"09-01 11:50\",\"09-01 11:51\",\"09-01 11:52\",\"09-01 11:53\",\"09-01 11:54\",\"09-01 11:55\",\"09-01 11:56\",\"09-01 11:57\",\"09-01 11:58\",\"09-01 11:59\",\"09-01 12:00\",\"09-01 12:01\",\"09-01 12:02\",\"09-01 12:03\",\"09-01 12:04\",\"09-01 12:05\",\"09-01 12:06\",\"09-01 12:07\",\"09-01 12:08\",\"09-01 12:09\",\"09-01 12:10\",\"09-01 12:11\",\"09-01 12:12\",\"09-01 12:13\",\"09-01 12:14\",\"09-01 12:15\",\"09-01 12:16\",\"09-01 12:17\",\"09-01 12:18\",\"09-01 12:19\",\"09-01 12:20\",\"09-01 12:21\",\"09-01 12:22\",\"09-01 12:23\",\"09-01 12:24\",\"09-01 12:25\",\"09-01 12:26\",\"09-01 12:27\",\"09-01 12:28\",\"09-01 12:29\",\"09-01 12:30\",\"09-01 12:31\",\"09-01 12:32\",\"09-01 12:33\",\"09-01 12:34\",\"09-01 12:35\",\"09-01 12:36\",\"09-01 12:37\",\"09-01 12:38\",\"09-01 12:39\",\"09-01 12:40\",\"09-01 12:41\",\"09-01 12:42\",\"09-01 12:43\",\"09-01 12:44\",\"09-01 12:45\",\"09-01 12:46\",\"09-01 12:47\",\"09-01 12:48\",\"09-01 12:49\",\"09-01 12:50\",\"09-01 12:51\",\"09-01 12:52\",\"09-01 12:53\",\"09-01 12:54\",\"09-01 12:55\",\"09-01 12:56\",\"09-01 12:57\",\"09-01 12:58\",\"09-01 12:59\",\"09-01 13:00\",\"09-01 13:01\",\"09-01 13:02\",\"09-01 13:03\",\"09-01 13:04\",\"09-01 13:05\",\"09-01 13:06\"],\"xaxis\":\"x\",\"y\":[-1.122322953897873,-1.5657097998822,-1.676556511378274,-1.8982499343704529,-2.8404469820871747,-2.8958703378352424,-2.0645200016145946,-0.9560528866537311,-0.568089396417441,0.1524142283071326,0.3186842955512745,-0.2909726176771944,-0.34639597342526224,0.09699087255909557,0.26326093980323745,0.20783758405516964,-0.2909726176771944,-0.5126660406693733,0.9283412087797434,0.9837645645277804,0.5958010742914904,1.2054579875199594,0.8174944972836693,0.04156751681105854,0.1524142283071326,0.04156751681105854,-0.06927919468504629,0.1524142283071326,0.7066477857875645,0.9283412087797434,1.1500346317719223,1.4271514105121381,2.147655035236681,1.8705382564964652,1.371728054764101,0.48495436279538556,0.04156751681105854,0.20783758405516964,0.3186842955512745,1.0946112760238853,0.8174944972836693,1.2054579875199594,1.371728054764101,1.4271514105121381,1.371728054764101,1.2054579875199594,1.0391879202758174,1.4271514105121381,1.4825747662601751,0.7066477857875645,0.9283412087797434,0.9283412087797434,0.5403777185434534,0.1524142283071326,0.3741076512993115,0.42953100704734853,0.8174944972836693,0.8174944972836693,0.09699087255909557,-0.18012590618112034,-0.9560528866537311,-1.399439732638058,-1.17774630964591,-1.621133155630237,-1.011476242401768,-0.7897828194095893,-0.6235127521654781,-0.2909726176771944,-0.23554926192915737,-0.12470255043308331,-0.013855838936978492,-0.23554926192915737,-1.344016376890021,-1.344016376890021,-1.7874032228743788,-1.066899598149805,-0.9560528866537311,-0.8452061751576263,-0.7897828194095893,-1.066899598149805,-0.6789361079135152,-1.399439732638058,-0.9006295309056941,-0.6235127521654781,-0.013855838936978492,-0.18012590618112034,-0.23554926192915737,0.09699087255909557,0.26326093980323745,0.26326093980323745,0.5403777185434534,0.5403777185434534,0.26326093980323745,0.5958010742914904,0.6512244300395275,0.9283412087797434,0.5958010742914904,0.1524142283071326,-0.013855838936978492,-0.7343594636615522],\"yaxis\":\"y\"},{\"legendgroup\":\"DOGE\",\"line\":{\"color\":\"#19d3f3\",\"dash\":\"solid\"},\"marker\":{\"symbol\":\"circle\"},\"mode\":\"markers+lines\",\"name\":\"DOGE\",\"showlegend\":true,\"type\":\"scattergl\",\"x\":[\"09-01 11:27\",\"09-01 11:28\",\"09-01 11:29\",\"09-01 11:30\",\"09-01 11:31\",\"09-01 11:32\",\"09-01 11:33\",\"09-01 11:34\",\"09-01 11:35\",\"09-01 11:36\",\"09-01 11:37\",\"09-01 11:38\",\"09-01 11:39\",\"09-01 11:40\",\"09-01 11:41\",\"09-01 11:42\",\"09-01 11:43\",\"09-01 11:44\",\"09-01 11:45\",\"09-01 11:46\",\"09-01 11:47\",\"09-01 11:48\",\"09-01 11:49\",\"09-01 11:50\",\"09-01 11:51\",\"09-01 11:52\",\"09-01 11:53\",\"09-01 11:54\",\"09-01 11:55\",\"09-01 11:56\",\"09-01 11:57\",\"09-01 11:58\",\"09-01 11:59\",\"09-01 12:00\",\"09-01 12:01\",\"09-01 12:02\",\"09-01 12:03\",\"09-01 12:04\",\"09-01 12:05\",\"09-01 12:06\",\"09-01 12:07\",\"09-01 12:08\",\"09-01 12:09\",\"09-01 12:10\",\"09-01 12:11\",\"09-01 12:12\",\"09-01 12:13\",\"09-01 12:14\",\"09-01 12:15\",\"09-01 12:16\",\"09-01 12:17\",\"09-01 12:18\",\"09-01 12:19\",\"09-01 12:20\",\"09-01 12:21\",\"09-01 12:22\",\"09-01 12:23\",\"09-01 12:24\",\"09-01 12:25\",\"09-01 12:26\",\"09-01 12:27\",\"09-01 12:28\",\"09-01 12:29\",\"09-01 12:30\",\"09-01 12:31\",\"09-01 12:32\",\"09-01 12:33\",\"09-01 12:34\",\"09-01 12:35\",\"09-01 12:36\",\"09-01 12:37\",\"09-01 12:38\",\"09-01 12:39\",\"09-01 12:40\",\"09-01 12:41\",\"09-01 12:42\",\"09-01 12:43\",\"09-01 12:44\",\"09-01 12:45\",\"09-01 12:46\",\"09-01 12:47\",\"09-01 12:48\",\"09-01 12:49\",\"09-01 12:50\",\"09-01 12:51\",\"09-01 12:52\",\"09-01 12:53\",\"09-01 12:54\",\"09-01 12:55\",\"09-01 12:56\",\"09-01 12:57\",\"09-01 12:58\",\"09-01 12:59\",\"09-01 13:00\",\"09-01 13:01\",\"09-01 13:02\",\"09-01 13:03\",\"09-01 13:04\",\"09-01 13:05\",\"09-01 13:06\"],\"xaxis\":\"x\",\"y\":[-1.001166376411904,-1.3203480054486583,-1.213954129103093,-1.3203480054486583,-1.6395296344853532,-2.1714990162132968,-2.2778928925588615,-2.0651051398676725,-2.0651051398676725,-2.0651051398676725,-2.1714990162132968,-2.2778928925588615,-2.0651051398676725,-1.9587112635221073,-1.5331357581397882,-1.4267418817942232,-1.213954129103093,-1.107560252757469,-1.107560252757469,-0.6819847473752089,-0.894772500066339,-0.36280311833845474,-0.25640924199288967,-0.25640924199288967,-0.36280311833845474,-0.36280311833845474,-0.46919699468401976,-0.7883786237207739,-0.36280311833845474,-0.5755908710295848,-0.25640924199288967,-0.04362148930170057,0.1691662633894295,-0.04362148930170057,-0.36280311833845474,-0.6819847473752089,-0.46919699468401976,-0.46919699468401976,-0.5755908710295848,-0.36280311833845474,-0.04362148930170057,0.27556013973499455,0.5947417687717487,0.38195401608055957,0.5947417687717487,0.8075295214628788,0.8075295214628788,1.0203172741540087,1.126711150499633,0.5947417687717487,0.7011356451173137,0.5947417687717487,0.48834789242618365,0.7011356451173137,0.7011356451173137,0.48834789242618365,0.48834789242618365,0.48834789242618365,0.48834789242618365,0.48834789242618365,0.48834789242618365,0.5947417687717487,0.48834789242618365,0.48834789242618365,0.9139233978084438,0.7011356451173137,0.5947417687717487,0.48834789242618365,0.5947417687717487,0.27556013973499455,0.38195401608055957,0.1691662633894295,-0.04362148930170057,-0.15001536564732465,-0.15001536564732465,0.06277238704386447,0.48834789242618365,0.27556013973499455,0.1691662633894295,0.7011356451173137,0.7011356451173137,0.5947417687717487,0.38195401608055957,0.5947417687717487,0.8075295214628788,0.7011356451173137,0.9139233978084438,0.8075295214628788,1.233105026845198,1.126711150499633,1.233105026845198,1.233105026845198,1.0203172741540087,1.658680532227517,1.658680532227517,1.5522866558819521,1.5522866558819521,1.233105026845198,1.0203172741540087,1.126711150499633],\"yaxis\":\"y\"},{\"legendgroup\":\"XRP\",\"line\":{\"color\":\"#FF6692\",\"dash\":\"solid\"},\"marker\":{\"symbol\":\"circle\"},\"mode\":\"markers+lines\",\"name\":\"XRP\",\"showlegend\":true,\"type\":\"scattergl\",\"x\":[\"09-01 11:27\",\"09-01 11:28\",\"09-01 11:29\",\"09-01 11:30\",\"09-01 11:31\",\"09-01 11:32\",\"09-01 11:33\",\"09-01 11:34\",\"09-01 11:35\",\"09-01 11:36\",\"09-01 11:37\",\"09-01 11:38\",\"09-01 11:39\",\"09-01 11:40\",\"09-01 11:41\",\"09-01 11:42\",\"09-01 11:43\",\"09-01 11:44\",\"09-01 11:45\",\"09-01 11:46\",\"09-01 11:47\",\"09-01 11:48\",\"09-01 11:49\",\"09-01 11:50\",\"09-01 11:51\",\"09-01 11:52\",\"09-01 11:53\",\"09-01 11:54\",\"09-01 11:55\",\"09-01 11:56\",\"09-01 11:57\",\"09-01 11:58\",\"09-01 11:59\",\"09-01 12:00\",\"09-01 12:01\",\"09-01 12:02\",\"09-01 12:03\",\"09-01 12:04\",\"09-01 12:05\",\"09-01 12:06\",\"09-01 12:07\",\"09-01 12:08\",\"09-01 12:09\",\"09-01 12:10\",\"09-01 12:11\",\"09-01 12:12\",\"09-01 12:13\",\"09-01 12:14\",\"09-01 12:15\",\"09-01 12:16\",\"09-01 12:17\",\"09-01 12:18\",\"09-01 12:19\",\"09-01 12:20\",\"09-01 12:21\",\"09-01 12:22\",\"09-01 12:23\",\"09-01 12:24\",\"09-01 12:25\",\"09-01 12:26\",\"09-01 12:27\",\"09-01 12:28\",\"09-01 12:29\",\"09-01 12:30\",\"09-01 12:31\",\"09-01 12:32\",\"09-01 12:33\",\"09-01 12:34\",\"09-01 12:35\",\"09-01 12:36\",\"09-01 12:37\",\"09-01 12:38\",\"09-01 12:39\",\"09-01 12:40\",\"09-01 12:41\",\"09-01 12:42\",\"09-01 12:43\",\"09-01 12:44\",\"09-01 12:45\",\"09-01 12:46\",\"09-01 12:47\",\"09-01 12:48\",\"09-01 12:49\",\"09-01 12:50\",\"09-01 12:51\",\"09-01 12:52\",\"09-01 12:53\",\"09-01 12:54\",\"09-01 12:55\",\"09-01 12:56\",\"09-01 12:57\",\"09-01 12:58\",\"09-01 12:59\",\"09-01 13:00\",\"09-01 13:01\",\"09-01 13:02\",\"09-01 13:03\",\"09-01 13:04\",\"09-01 13:05\",\"09-01 13:06\"],\"xaxis\":\"x\",\"y\":[-1.591192651769889,-2.0783918715402363,-1.6886324957239802,-1.4937528078158342,-1.6723925217316378,-1.8997521576244327,-2.029671949563209,-1.9484720796014603,-1.9971920015785238,-2.1758317154942914,-2.2083116634789763,-1.7373524177010078,-1.4775128338234917,-1.5749526777775467,-0.974073640060802,-0.9253537180837745,-0.4056745503287784,-0.21079486242063233,-0.30823470637468736,-0.25951478439765985,-0.6330341862215735,-0.5193543682751759,-0.11335501846657733,-0.25951478439765985,-0.3894345763364359,-0.3407146543594084,-0.30823470637468736,-0.6167942122292309,-0.3731946023440934,-0.25951478439765985,-0.16207494044360485,-0.08087507048189234,0.14648456541093874,0.08152466944156873,-0.27575475839000235,-0.48687442029049094,-0.27575475839000235,-0.3731946023440934,-0.5193543682751759,-0.3407146543594084,-0.14583496645126234,-0.12959499245891984,-0.3407146543594084,-0.32447468036702987,-0.11335501846657733,0.03280474746454123,0.21144446138030873,0.37384420130376983,0.30888430533436373,-0.06463509648954983,-0.12959499245891984,-0.17831491443594735,0.016564773472198726,0.06528469544922623,0.9260033170434508,0.7636035771200259,0.6986436811506559,0.7148836551429983,0.5524839152195373,0.6986436811506559,0.5687238892118798,0.6336837851812498,0.5362439412271948,0.30888430533436373,0.4875240192501673,0.2764043573496787,0.14648456541093874,0.09776464343391122,0.4063241492884548,0.4063241492884548,0.21144446138030873,-0.21079486242063233,-0.015915174512522334,-0.19455488842828986,-0.19455488842828986,-0.19455488842828986,0.04904472145688373,-0.04839512249720734,-0.04839512249720734,0.2764043573496787,0.7311236291353409,0.5687238892118798,0.4388040972731398,0.4388040972731398,1.4294425108061406,1.445682484798483,1.1046430309592545,1.1046430309592545,1.3969625628214555,1.3969625628214555,1.6243221987142507,1.6892820946836566,1.445682484798483,1.867921808599424,1.867921808599424,1.770481964645369,1.770481964645369,1.8354418606147391,1.7867219386377116,1.608082224721908],\"yaxis\":\"y\"},{\"legendgroup\":\"ETH\",\"line\":{\"color\":\"#B6E880\",\"dash\":\"solid\"},\"marker\":{\"symbol\":\"circle\"},\"mode\":\"markers+lines\",\"name\":\"ETH\",\"showlegend\":true,\"type\":\"scattergl\",\"x\":[\"09-01 11:27\",\"09-01 11:28\",\"09-01 11:29\",\"09-01 11:30\",\"09-01 11:31\",\"09-01 11:32\",\"09-01 11:33\",\"09-01 11:34\",\"09-01 11:35\",\"09-01 11:36\",\"09-01 11:37\",\"09-01 11:38\",\"09-01 11:39\",\"09-01 11:40\",\"09-01 11:41\",\"09-01 11:42\",\"09-01 11:43\",\"09-01 11:44\",\"09-01 11:45\",\"09-01 11:46\",\"09-01 11:47\",\"09-01 11:48\",\"09-01 11:49\",\"09-01 11:50\",\"09-01 11:51\",\"09-01 11:52\",\"09-01 11:53\",\"09-01 11:54\",\"09-01 11:55\",\"09-01 11:56\",\"09-01 11:57\",\"09-01 11:58\",\"09-01 11:59\",\"09-01 12:00\",\"09-01 12:01\",\"09-01 12:02\",\"09-01 12:03\",\"09-01 12:04\",\"09-01 12:05\",\"09-01 12:06\",\"09-01 12:07\",\"09-01 12:08\",\"09-01 12:09\",\"09-01 12:10\",\"09-01 12:11\",\"09-01 12:12\",\"09-01 12:13\",\"09-01 12:14\",\"09-01 12:15\",\"09-01 12:16\",\"09-01 12:17\",\"09-01 12:18\",\"09-01 12:19\",\"09-01 12:20\",\"09-01 12:21\",\"09-01 12:22\",\"09-01 12:23\",\"09-01 12:24\",\"09-01 12:25\",\"09-01 12:26\",\"09-01 12:27\",\"09-01 12:28\",\"09-01 12:29\",\"09-01 12:30\",\"09-01 12:31\",\"09-01 12:32\",\"09-01 12:33\",\"09-01 12:34\",\"09-01 12:35\",\"09-01 12:36\",\"09-01 12:37\",\"09-01 12:38\",\"09-01 12:39\",\"09-01 12:40\",\"09-01 12:41\",\"09-01 12:42\",\"09-01 12:43\",\"09-01 12:44\",\"09-01 12:45\",\"09-01 12:46\",\"09-01 12:47\",\"09-01 12:48\",\"09-01 12:49\",\"09-01 12:50\",\"09-01 12:51\",\"09-01 12:52\",\"09-01 12:53\",\"09-01 12:54\",\"09-01 12:55\",\"09-01 12:56\",\"09-01 12:57\",\"09-01 12:58\",\"09-01 12:59\",\"09-01 13:00\",\"09-01 13:01\",\"09-01 13:02\",\"09-01 13:03\",\"09-01 13:04\",\"09-01 13:05\",\"09-01 13:06\"],\"xaxis\":\"x\",\"y\":[-1.241885717426344,-1.615226520626113,-1.5942599175478687,-1.709238063460829,-1.8932030969216027,-1.989920007895445,-2.0521434750954115,-1.8526225748346772,-1.8140710788520813,-1.6774499878260796,-2.0494381069562855,-1.9074062796520312,-1.9080826216867974,-1.7626690842086505,-1.201981537374185,-1.243914743530704,-1.2263298506263525,-1.2412093753915778,-1.128936597617713,-1.0484518954786284,-0.9963735588004008,-0.503996557478982,-0.15635675160094373,-0.315973471809519,-0.49452776899203993,-0.5364609751485284,-0.6987830634962607,-0.8184956036527076,-0.7643882408701199,-0.6196510454267393,-0.5959790742093688,-0.15297504142702048,0.16084766271190817,-0.019735660574911353,-0.2530736625747862,-0.4586816411485702,-0.5621619724702591,-0.5587802622963359,-0.774533371391859,-0.3822549912181751,-0.24698658426173659,0.01340509912940131,0.03504804424244254,-0.03867323754882627,0.1534079003293262,0.4056834793030852,0.421915688137843,0.7972855174419721,0.843953117841947,0.5950592490420806,0.7905220970941256,0.785111360815873,0.5578604371290785,0.5206616252160455,0.6633697945550968,0.7120664210594011,0.5159272309725591,0.5206616252160455,0.2994977798422699,0.4956369699291118,0.4699359726073811,0.6356397711290059,0.6288763507811902,0.6376687972333661,0.9217324518418746,0.9339066084679737,0.8953551124853777,0.6816310294942147,0.48684452347693596,0.4252973983117663,0.2974687537379098,0.19872281665970726,0.1398810596336639,0.1973701325901441,0.26026994182490765,0.486168181442139,0.7830823347115436,0.7797006245376203,0.7249169197202664,0.8196048045897795,0.9934247075287833,0.7472362068680739,0.5619184893377679,0.3062612001900857,0.6505192958942314,0.6356397711290059,0.628200008746424,0.6403741653724924,1.2517873648155917,1.0813491720504806,1.1828004772678093,1.1483070334939336,1.2646378634764572,1.7157580006761843,1.7164343427109505,1.9200132951804052,1.5013575756502244,1.242994918363416,1.1483070334939336,1.0779674618765573],\"yaxis\":\"y\"},{\"legendgroup\":\"EOS\",\"line\":{\"color\":\"#FF97FF\",\"dash\":\"solid\"},\"marker\":{\"symbol\":\"circle\"},\"mode\":\"markers+lines\",\"name\":\"EOS\",\"showlegend\":true,\"type\":\"scattergl\",\"x\":[\"09-01 11:27\",\"09-01 11:28\",\"09-01 11:29\",\"09-01 11:30\",\"09-01 11:31\",\"09-01 11:32\",\"09-01 11:33\",\"09-01 11:34\",\"09-01 11:35\",\"09-01 11:36\",\"09-01 11:37\",\"09-01 11:38\",\"09-01 11:39\",\"09-01 11:40\",\"09-01 11:41\",\"09-01 11:42\",\"09-01 11:43\",\"09-01 11:44\",\"09-01 11:45\",\"09-01 11:46\",\"09-01 11:47\",\"09-01 11:48\",\"09-01 11:49\",\"09-01 11:50\",\"09-01 11:51\",\"09-01 11:52\",\"09-01 11:53\",\"09-01 11:54\",\"09-01 11:55\",\"09-01 11:56\",\"09-01 11:57\",\"09-01 11:58\",\"09-01 11:59\",\"09-01 12:00\",\"09-01 12:01\",\"09-01 12:02\",\"09-01 12:03\",\"09-01 12:04\",\"09-01 12:05\",\"09-01 12:06\",\"09-01 12:07\",\"09-01 12:08\",\"09-01 12:09\",\"09-01 12:10\",\"09-01 12:11\",\"09-01 12:12\",\"09-01 12:13\",\"09-01 12:14\",\"09-01 12:15\",\"09-01 12:16\",\"09-01 12:17\",\"09-01 12:18\",\"09-01 12:19\",\"09-01 12:20\",\"09-01 12:21\",\"09-01 12:22\",\"09-01 12:23\",\"09-01 12:24\",\"09-01 12:25\",\"09-01 12:26\",\"09-01 12:27\",\"09-01 12:28\",\"09-01 12:29\",\"09-01 12:30\",\"09-01 12:31\",\"09-01 12:32\",\"09-01 12:33\",\"09-01 12:34\",\"09-01 12:35\",\"09-01 12:36\",\"09-01 12:37\",\"09-01 12:38\",\"09-01 12:39\",\"09-01 12:40\",\"09-01 12:41\",\"09-01 12:42\",\"09-01 12:43\",\"09-01 12:44\",\"09-01 12:45\",\"09-01 12:46\",\"09-01 12:47\",\"09-01 12:48\",\"09-01 12:49\",\"09-01 12:50\",\"09-01 12:51\",\"09-01 12:52\",\"09-01 12:53\",\"09-01 12:54\",\"09-01 12:55\",\"09-01 12:56\",\"09-01 12:57\",\"09-01 12:58\",\"09-01 12:59\",\"09-01 13:00\",\"09-01 13:01\",\"09-01 13:02\",\"09-01 13:03\",\"09-01 13:04\",\"09-01 13:05\",\"09-01 13:06\"],\"xaxis\":\"x\",\"y\":[-0.7847125581030081,-1.383729778028971,-1.263926334043789,-1.7431401099845698,-1.7431401099845698,-1.6832383879920056,-2.1624521639327865,-2.102550441940169,-2.222353885925404,-2.102550441940169,-2.5218624958883855,-1.9228452759623693,-1.862943553969805,-1.7431401099845698,-1.3238280560364066,-1.3238280560364066,-1.1441228900586071,-1.1441228900586071,-0.8446142800956257,-0.6649091141178262,-1.024319446073425,-0.6050073921252086,-0.4253022261474623,-0.36540050415484476,-0.4852039481400267,-0.7847125581030081,-0.8446142800956257,-1.1441228900586071,-0.8446142800956257,-0.7248108361104437,-0.4852039481400267,-0.06589189419186336,0.23361671577111806,0.1737149937785005,-0.18569533817704528,-0.3054987821622272,-0.4253022261474623,-0.36540050415484476,-0.7248108361104437,-0.06589189419186336,0.23361671577111806,0.1737149937785005,0.11381327178593613,0.1737149937785005,0.41332188174891754,0.8326339356970809,0.8925356576896984,0.952437379682316,1.0722408236674978,1.0123391016748804,1.19204426765268,1.0123391016748804,0.8925356576896984,0.8925356576896984,0.8326339356970809,1.0123391016748804,1.0722408236674978,1.0722408236674978,0.6529287697192814,0.8326339356970809,0.4732236037414819,0.8925356576896984,1.1321425456601155,0.952437379682316,1.3717494336304794,0.952437379682316,0.6529287697192814,0.4732236037414819,0.41332188174891754,0.2935184377637356,-0.005990172199245795,-0.24559706016966285,-0.005990172199245795,-0.12579361618448093,0.11381327178593613,0.23361671577111806,0.4732236037414819,0.2935184377637356,0.3534201597563,0.6529287697192814,1.2519459896452974,0.3534201597563,0.2935184377637356,0.2935184377637356,0.6529287697192814,0.6529287697192814,0.952437379682316,0.8326339356970809,1.1321425456601155,0.8326339356970809,1.0123391016748804,0.952437379682316,1.19204426765268,1.4316511556230969,0.952437379682316,1.0722408236674978,0.8925356576896984,0.7128304917118989,0.5331253257340994,0.4732236037414819],\"yaxis\":\"y\"},{\"legendgroup\":\"BCH\",\"line\":{\"color\":\"#FECB52\",\"dash\":\"solid\"},\"marker\":{\"symbol\":\"circle\"},\"mode\":\"markers+lines\",\"name\":\"BCH\",\"showlegend\":true,\"type\":\"scattergl\",\"x\":[\"09-01 11:27\",\"09-01 11:28\",\"09-01 11:29\",\"09-01 11:30\",\"09-01 11:31\",\"09-01 11:32\",\"09-01 11:33\",\"09-01 11:34\",\"09-01 11:35\",\"09-01 11:36\",\"09-01 11:37\",\"09-01 11:38\",\"09-01 11:39\",\"09-01 11:40\",\"09-01 11:41\",\"09-01 11:42\",\"09-01 11:43\",\"09-01 11:44\",\"09-01 11:45\",\"09-01 11:46\",\"09-01 11:47\",\"09-01 11:48\",\"09-01 11:49\",\"09-01 11:50\",\"09-01 11:51\",\"09-01 11:52\",\"09-01 11:53\",\"09-01 11:54\",\"09-01 11:55\",\"09-01 11:56\",\"09-01 11:57\",\"09-01 11:58\",\"09-01 11:59\",\"09-01 12:00\",\"09-01 12:01\",\"09-01 12:02\",\"09-01 12:03\",\"09-01 12:04\",\"09-01 12:05\",\"09-01 12:06\",\"09-01 12:07\",\"09-01 12:08\",\"09-01 12:09\",\"09-01 12:10\",\"09-01 12:11\",\"09-01 12:12\",\"09-01 12:13\",\"09-01 12:14\",\"09-01 12:15\",\"09-01 12:16\",\"09-01 12:17\",\"09-01 12:18\",\"09-01 12:19\",\"09-01 12:20\",\"09-01 12:21\",\"09-01 12:22\",\"09-01 12:23\",\"09-01 12:24\",\"09-01 12:25\",\"09-01 12:26\",\"09-01 12:27\",\"09-01 12:28\",\"09-01 12:29\",\"09-01 12:30\",\"09-01 12:31\",\"09-01 12:32\",\"09-01 12:33\",\"09-01 12:34\",\"09-01 12:35\",\"09-01 12:36\",\"09-01 12:37\",\"09-01 12:38\",\"09-01 12:39\",\"09-01 12:40\",\"09-01 12:41\",\"09-01 12:42\",\"09-01 12:43\",\"09-01 12:44\",\"09-01 12:45\",\"09-01 12:46\",\"09-01 12:47\",\"09-01 12:48\",\"09-01 12:49\",\"09-01 12:50\",\"09-01 12:51\",\"09-01 12:52\",\"09-01 12:53\",\"09-01 12:54\",\"09-01 12:55\",\"09-01 12:56\",\"09-01 12:57\",\"09-01 12:58\",\"09-01 12:59\",\"09-01 13:00\",\"09-01 13:01\",\"09-01 13:02\",\"09-01 13:03\",\"09-01 13:04\",\"09-01 13:05\",\"09-01 13:06\"],\"xaxis\":\"x\",\"y\":[-0.9461665911500856,-1.511886526067907,-1.5826015179326547,-1.7947464935268176,-2.148321452850476,-2.3604664284447194,-2.64332639590363,-2.3604664284447194,-2.2897514365799716,-2.3604664284447194,-2.7140413877683778,-2.4311814203094673,-2.2190364447152238,-1.9361764772563133,-1.4411715342031592,-1.3704565423384918,-1.1583115667442485,0.6802782217387916,0.6802782217387916,0.6802782217387916,-0.026871696908525367,0.538848238009296,0.8217082054682067,0.11455828682088978,0.3974182542798005,0.3267032624151331,-0.026871696908525367,-0.1683016806380209,-0.1683016806380209,0.18527327868563756,0.11455828682088978,0.46813324614454827,1.03385318106245,0.7509932136034589,0.3974182542798005,0.11455828682088978,-0.1683016806380209,-0.1683016806380209,-0.5925916318264272,-0.23901667250276867,0.18527327868563756,0.11455828682088978,0.04384329495614201,0.2559882705503853,0.8217082054682067,1.03385318106245,0.9631381891977022,1.3167131485213608,1.03385318106245,0.3974182542798005,0.538848238009296,1.03385318106245,1.03385318106245,1.03385318106245,1.3874281403861084,1.245998156656613,1.1045681729271173,1.1045681729271173,0.7509932136034589,1.1045681729271173,0.8924231973329545,0.8924231973329545,0.8924231973329545,0.8217082054682067,1.1045681729271173,0.7509932136034589,0.46813324614454827,0.538848238009296,0.3267032624151331,0.46813324614454827,0.18527327868563756,-0.026871696908525367,0.04384329495614201,0.04384329495614201,0.04384329495614201,0.3974182542798005,0.538848238009296,0.2559882705503853,-0.09758668877327313,-0.09758668877327313,0.3974182542798005,-0.23901667250276867,-0.1683016806380209,-0.3804466562321838,0.18527327868563756,0.11455828682088978,0.11455828682088978,-0.026871696908525367,0.3267032624151331,0.2559882705503853,0.2559882705503853,0.11455828682088978,0.18527327868563756,0.6095632298740438,0.3974182542798005,0.6095632298740438,0.3267032624151331,-0.026871696908525367,-0.23901667250276867,-0.23901667250276867],\"yaxis\":\"y\"},{\"legendgroup\":\"LTC\",\"line\":{\"color\":\"#636efa\",\"dash\":\"solid\"},\"marker\":{\"symbol\":\"circle\"},\"mode\":\"markers+lines\",\"name\":\"LTC\",\"showlegend\":true,\"type\":\"scattergl\",\"x\":[\"09-01 11:27\",\"09-01 11:28\",\"09-01 11:29\",\"09-01 11:30\",\"09-01 11:31\",\"09-01 11:32\",\"09-01 11:33\",\"09-01 11:34\",\"09-01 11:35\",\"09-01 11:36\",\"09-01 11:37\",\"09-01 11:38\",\"09-01 11:39\",\"09-01 11:40\",\"09-01 11:41\",\"09-01 11:42\",\"09-01 11:43\",\"09-01 11:44\",\"09-01 11:45\",\"09-01 11:46\",\"09-01 11:47\",\"09-01 11:48\",\"09-01 11:49\",\"09-01 11:50\",\"09-01 11:51\",\"09-01 11:52\",\"09-01 11:53\",\"09-01 11:54\",\"09-01 11:55\",\"09-01 11:56\",\"09-01 11:57\",\"09-01 11:58\",\"09-01 11:59\",\"09-01 12:00\",\"09-01 12:01\",\"09-01 12:02\",\"09-01 12:03\",\"09-01 12:04\",\"09-01 12:05\",\"09-01 12:06\",\"09-01 12:07\",\"09-01 12:08\",\"09-01 12:09\",\"09-01 12:10\",\"09-01 12:11\",\"09-01 12:12\",\"09-01 12:13\",\"09-01 12:14\",\"09-01 12:15\",\"09-01 12:16\",\"09-01 12:17\",\"09-01 12:18\",\"09-01 12:19\",\"09-01 12:20\",\"09-01 12:21\",\"09-01 12:22\",\"09-01 12:23\",\"09-01 12:24\",\"09-01 12:25\",\"09-01 12:26\",\"09-01 12:27\",\"09-01 12:28\",\"09-01 12:29\",\"09-01 12:30\",\"09-01 12:31\",\"09-01 12:32\",\"09-01 12:33\",\"09-01 12:34\",\"09-01 12:35\",\"09-01 12:36\",\"09-01 12:37\",\"09-01 12:38\",\"09-01 12:39\",\"09-01 12:40\",\"09-01 12:41\",\"09-01 12:42\",\"09-01 12:43\",\"09-01 12:44\",\"09-01 12:45\",\"09-01 12:46\",\"09-01 12:47\",\"09-01 12:48\",\"09-01 12:49\",\"09-01 12:50\",\"09-01 12:51\",\"09-01 12:52\",\"09-01 12:53\",\"09-01 12:54\",\"09-01 12:55\",\"09-01 12:56\",\"09-01 12:57\",\"09-01 12:58\",\"09-01 12:59\",\"09-01 13:00\",\"09-01 13:01\",\"09-01 13:02\",\"09-01 13:03\",\"09-01 13:04\",\"09-01 13:05\",\"09-01 13:06\"],\"xaxis\":\"x\",\"y\":[-0.9029909454401713,-1.08251200815193,-1.08251200815193,-1.6210751962872565,-1.441554133575498,-1.6210751962872565,-1.9801173217107735,-1.6210751962872565,-1.9801173217107735,-1.9801173217107735,-2.5186805098461003,-2.3391594471343415,-2.159638384422532,-1.9801173217107735,-1.2620330708636884,-1.441554133575498,-1.441554133575498,-1.2620330708636884,-1.2620330708636884,-0.9029909454401713,-1.2620330708636884,-0.3644277573048448,0.17413543083043076,-0.18490669459308628,-0.3644277573048448,-0.3644277573048448,-0.5439488200166543,-0.9029909454401713,-0.9029909454401713,-0.7234698827284128,-0.005385631881327754,0.17413543083043076,0.3536564935421893,0.17413543083043076,-0.3644277573048448,-0.18490669459308628,-0.18490669459308628,-0.18490669459308628,-0.5439488200166543,-0.005385631881327754,-0.005385631881327754,-0.005385631881327754,0.17413543083043076,0.17413543083043076,0.8922196816775159,0.8922196816775159,0.8922196816775159,1.0717407443892744,1.610303932524601,1.4307828698128424,1.610303932524601,1.7898249952363594,1.4307828698128424,1.2512618071010329,1.610303932524601,1.7898249952363594,1.4307828698128424,1.2512618071010329,-0.18490669459308628,0.3536564935421893,0.17413543083043076,0.17413543083043076,0.3536564935421893,0.3536564935421893,1.0717407443892744,1.0717407443892744,0.5331775562539989,0.7126986189657574,0.5331775562539989,0.3536564935421893,0.17413543083043076,0.3536564935421893,0.17413543083043076,0.17413543083043076,0.3536564935421893,0.3536564935421893,0.8922196816775159,0.7126986189657574,0.3536564935421893,0.3536564935421893,0.7126986189657574,-0.005385631881327754,-0.18490669459308628,-0.005385631881327754,0.17413543083043076,0.17413543083043076,0.3536564935421893,0.17413543083043076,0.5331775562539989,0.5331775562539989,0.7126986189657574,0.5331775562539989,0.5331775562539989,1.0717407443892744,1.0717407443892744,0.8922196816775159,0.5331775562539989,0.7126986189657574,0.5331775562539989,0.3536564935421893],\"yaxis\":\"y\"},{\"legendgroup\":\"MATIC\",\"line\":{\"color\":\"#EF553B\",\"dash\":\"solid\"},\"marker\":{\"symbol\":\"circle\"},\"mode\":\"markers+lines\",\"name\":\"MATIC\",\"showlegend\":true,\"type\":\"scattergl\",\"x\":[\"09-01 11:27\",\"09-01 11:28\",\"09-01 11:29\",\"09-01 11:30\",\"09-01 11:31\",\"09-01 11:32\",\"09-01 11:33\",\"09-01 11:34\",\"09-01 11:35\",\"09-01 11:36\",\"09-01 11:37\",\"09-01 11:38\",\"09-01 11:39\",\"09-01 11:40\",\"09-01 11:41\",\"09-01 11:42\",\"09-01 11:43\",\"09-01 11:44\",\"09-01 11:45\",\"09-01 11:46\",\"09-01 11:47\",\"09-01 11:48\",\"09-01 11:49\",\"09-01 11:50\",\"09-01 11:51\",\"09-01 11:52\",\"09-01 11:53\",\"09-01 11:54\",\"09-01 11:55\",\"09-01 11:56\",\"09-01 11:57\",\"09-01 11:58\",\"09-01 11:59\",\"09-01 12:00\",\"09-01 12:01\",\"09-01 12:02\",\"09-01 12:03\",\"09-01 12:04\",\"09-01 12:05\",\"09-01 12:06\",\"09-01 12:07\",\"09-01 12:08\",\"09-01 12:09\",\"09-01 12:10\",\"09-01 12:11\",\"09-01 12:12\",\"09-01 12:13\",\"09-01 12:14\",\"09-01 12:15\",\"09-01 12:16\",\"09-01 12:17\",\"09-01 12:18\",\"09-01 12:19\",\"09-01 12:20\",\"09-01 12:21\",\"09-01 12:22\",\"09-01 12:23\",\"09-01 12:24\",\"09-01 12:25\",\"09-01 12:26\",\"09-01 12:27\",\"09-01 12:28\",\"09-01 12:29\",\"09-01 12:30\",\"09-01 12:31\",\"09-01 12:32\",\"09-01 12:33\",\"09-01 12:34\",\"09-01 12:35\",\"09-01 12:36\",\"09-01 12:37\",\"09-01 12:38\",\"09-01 12:39\",\"09-01 12:40\",\"09-01 12:41\",\"09-01 12:42\",\"09-01 12:43\",\"09-01 12:44\",\"09-01 12:45\",\"09-01 12:46\",\"09-01 12:47\",\"09-01 12:48\",\"09-01 12:49\",\"09-01 12:50\",\"09-01 12:51\",\"09-01 12:52\",\"09-01 12:53\",\"09-01 12:54\",\"09-01 12:55\",\"09-01 12:56\",\"09-01 12:57\",\"09-01 12:58\",\"09-01 12:59\",\"09-01 13:00\",\"09-01 13:01\",\"09-01 13:02\",\"09-01 13:03\",\"09-01 13:04\",\"09-01 13:05\",\"09-01 13:06\"],\"xaxis\":\"x\",\"y\":[-1.055037243084219,-1.40613116757145,-1.40613116757145,-1.40613116757145,-1.5816781298150462,-1.7572250920586423,-1.9327720543023164,-1.5816781298150462,-1.7572250920586423,-1.9327720543023164,-2.1083190165459125,-1.9327720543023164,-1.9327720543023164,-1.9327720543023164,-1.40613116757145,-1.40613116757145,-1.5816781298150462,-1.230584205327854,-1.055037243084219,-0.8794902808405839,-1.055037243084219,-0.35284939410975674,-0.35284939410975674,-0.5283963563533528,-0.7039433185969879,-0.7039433185969879,-0.7039433185969879,-0.7039433185969879,-0.7039433185969879,-0.8794902808405839,-0.7039433185969879,-0.17730243186616065,0.17379149262110943,-0.0017554696224866338,-0.0017554696224866338,-0.0017554696224866338,-0.17730243186616065,-0.17730243186616065,-0.35284939410975674,-0.0017554696224866338,0.5248854171083016,0.5248854171083016,0.5248854171083016,0.5248854171083016,0.7004323793519366,1.0515263038391678,1.0515263038391678,1.2270732660828028,1.2270732660828028,0.8759793415955717,1.2270732660828028,1.578167190569995,1.4026202283263989,1.4026202283263989,1.2270732660828028,1.2270732660828028,1.0515263038391678,1.0515263038391678,0.5248854171083016,0.3493384548647055,0.17379149262110943,0.3493384548647055,0.3493384548647055,0.3493384548647055,0.8759793415955717,0.8759793415955717,0.8759793415955717,0.5248854171083016,0.5248854171083016,0.5248854171083016,0.17379149262110943,-0.17730243186616065,-0.17730243186616065,-0.0017554696224866338,-0.0017554696224866338,-0.0017554696224866338,0.3493384548647055,-0.0017554696224866338,-0.17730243186616065,-0.0017554696224866338,0.5248854171083016,0.17379149262110943,-0.17730243186616065,-0.0017554696224866338,0.3493384548647055,0.17379149262110943,0.3493384548647055,0.17379149262110943,0.5248854171083016,0.3493384548647055,0.3493384548647055,0.3493384548647055,1.0515263038391678,1.4026202283263989,1.4026202283263989,1.578167190569995,1.578167190569995,1.4026202283263989,1.578167190569995,1.578167190569995],\"yaxis\":\"y\"},{\"legendgroup\":\"AAVE\",\"line\":{\"color\":\"#00cc96\",\"dash\":\"solid\"},\"marker\":{\"symbol\":\"circle\"},\"mode\":\"markers+lines\",\"name\":\"AAVE\",\"showlegend\":true,\"type\":\"scattergl\",\"x\":[\"09-01 11:27\",\"09-01 11:28\",\"09-01 11:29\",\"09-01 11:30\",\"09-01 11:31\",\"09-01 11:32\",\"09-01 11:33\",\"09-01 11:34\",\"09-01 11:35\",\"09-01 11:36\",\"09-01 11:37\",\"09-01 11:38\",\"09-01 11:39\",\"09-01 11:40\",\"09-01 11:41\",\"09-01 11:42\",\"09-01 11:43\",\"09-01 11:44\",\"09-01 11:45\",\"09-01 11:46\",\"09-01 11:47\",\"09-01 11:48\",\"09-01 11:49\",\"09-01 11:50\",\"09-01 11:51\",\"09-01 11:52\",\"09-01 11:53\",\"09-01 11:54\",\"09-01 11:55\",\"09-01 11:56\",\"09-01 11:57\",\"09-01 11:58\",\"09-01 11:59\",\"09-01 12:00\",\"09-01 12:01\",\"09-01 12:02\",\"09-01 12:03\",\"09-01 12:04\",\"09-01 12:05\",\"09-01 12:06\",\"09-01 12:07\",\"09-01 12:08\",\"09-01 12:09\",\"09-01 12:10\",\"09-01 12:11\",\"09-01 12:12\",\"09-01 12:13\",\"09-01 12:14\",\"09-01 12:15\",\"09-01 12:16\",\"09-01 12:17\",\"09-01 12:18\",\"09-01 12:19\",\"09-01 12:20\",\"09-01 12:21\",\"09-01 12:22\",\"09-01 12:23\",\"09-01 12:24\",\"09-01 12:25\",\"09-01 12:26\",\"09-01 12:27\",\"09-01 12:28\",\"09-01 12:29\",\"09-01 12:30\",\"09-01 12:31\",\"09-01 12:32\",\"09-01 12:33\",\"09-01 12:34\",\"09-01 12:35\",\"09-01 12:36\",\"09-01 12:37\",\"09-01 12:38\",\"09-01 12:39\",\"09-01 12:40\",\"09-01 12:41\",\"09-01 12:42\",\"09-01 12:43\",\"09-01 12:44\",\"09-01 12:45\",\"09-01 12:46\",\"09-01 12:47\",\"09-01 12:48\",\"09-01 12:49\",\"09-01 12:50\",\"09-01 12:51\",\"09-01 12:52\",\"09-01 12:53\",\"09-01 12:54\",\"09-01 12:55\",\"09-01 12:56\",\"09-01 12:57\",\"09-01 12:58\",\"09-01 12:59\",\"09-01 13:00\",\"09-01 13:01\",\"09-01 13:02\",\"09-01 13:03\",\"09-01 13:04\",\"09-01 13:05\",\"09-01 13:06\"],\"xaxis\":\"x\",\"y\":[0.34316722944129197,-0.6944874600141212,-0.6203692679101481,-0.6203692679101481,-1.0650784205339026,-1.1391966126378337,-1.8062603415734655,-1.5839057652615882,-1.2874329968457379,-1.5097875731576151,-2.250969494197178,-2.7697968389248633,-2.8439150310288364,-2.5474422626130284,-1.2133148047418068,-0.8427238442220254,-0.6944874600141212,-0.6944874600141212,-0.24977830739036672,-0.39801469159827085,-0.6944874600141212,-0.39801469159827085,0.41728542154522297,-0.17566011528639358,-0.6203692679101481,-0.7686056521180522,-1.2133148047418068,-0.9168420363259564,-0.5462510758061749,-0.6944874600141212,-0.5462510758061749,-0.24977830739036672,-0.6944874600141212,-0.9168420363259564,-0.9909602284299295,-1.2133148047418068,-0.9909602284299295,-0.9168420363259564,-0.8427238442220254,-0.24977830739036672,0.1208126531294147,0.5655218057531692,0.5655218057531692,0.9361127662729506,1.0102309583768816,1.6772946873125134,1.8996492636243485,1.6772946873125134,1.6772946873125134,1.4549401110006361,1.5290583031045673,1.6031764952085403,1.2325855346887589,1.0102309583768816,1.0843491504808547,0.9361127662729506,0.41728542154522297,0.26904903733731883,-0.24977830739036672,0.04669446102544156,-0.17566011528639358,0.04669446102544156,0.41728542154522297,0.4914036136491961,1.2325855346887589,1.2325855346887589,1.1584673425847858,0.26904903733731883,0.19493084523338783,0.04669446102544156,-0.02742373107848944,-0.24977830739036672,-0.32389649949433985,-0.32389649949433985,-0.10154192318246257,0.26904903733731883,0.5655218057531692,0.6396399978571002,0.26904903733731883,-0.17566011528639358,0.7137581899610733,0.7137581899610733,0.26904903733731883,0.1208126531294147,1.0843491504808547,0.9361127662729506,1.1584673425847858,0.8619945741689775,0.7137581899610733,0.41728542154522297,0.5655218057531692,0.41728542154522297,0.7137581899610733,1.306703726792732,0.7878763820650043,1.0843491504808547,0.9361127662729506,0.34316722944129197,-0.10154192318246257,-0.24977830739036672],\"yaxis\":\"y\"},{\"legendgroup\":\"DOT\",\"line\":{\"color\":\"#ab63fa\",\"dash\":\"solid\"},\"marker\":{\"symbol\":\"circle\"},\"mode\":\"markers+lines\",\"name\":\"DOT\",\"showlegend\":true,\"type\":\"scattergl\",\"x\":[\"09-01 11:27\",\"09-01 11:28\",\"09-01 11:29\",\"09-01 11:30\",\"09-01 11:31\",\"09-01 11:32\",\"09-01 11:33\",\"09-01 11:34\",\"09-01 11:35\",\"09-01 11:36\",\"09-01 11:37\",\"09-01 11:38\",\"09-01 11:39\",\"09-01 11:40\",\"09-01 11:41\",\"09-01 11:42\",\"09-01 11:43\",\"09-01 11:44\",\"09-01 11:45\",\"09-01 11:46\",\"09-01 11:47\",\"09-01 11:48\",\"09-01 11:49\",\"09-01 11:50\",\"09-01 11:51\",\"09-01 11:52\",\"09-01 11:53\",\"09-01 11:54\",\"09-01 11:55\",\"09-01 11:56\",\"09-01 11:57\",\"09-01 11:58\",\"09-01 11:59\",\"09-01 12:00\",\"09-01 12:01\",\"09-01 12:02\",\"09-01 12:03\",\"09-01 12:04\",\"09-01 12:05\",\"09-01 12:06\",\"09-01 12:07\",\"09-01 12:08\",\"09-01 12:09\",\"09-01 12:10\",\"09-01 12:11\",\"09-01 12:12\",\"09-01 12:13\",\"09-01 12:14\",\"09-01 12:15\",\"09-01 12:16\",\"09-01 12:17\",\"09-01 12:18\",\"09-01 12:19\",\"09-01 12:20\",\"09-01 12:21\",\"09-01 12:22\",\"09-01 12:23\",\"09-01 12:24\",\"09-01 12:25\",\"09-01 12:26\",\"09-01 12:27\",\"09-01 12:28\",\"09-01 12:29\",\"09-01 12:30\",\"09-01 12:31\",\"09-01 12:32\",\"09-01 12:33\",\"09-01 12:34\",\"09-01 12:35\",\"09-01 12:36\",\"09-01 12:37\",\"09-01 12:38\",\"09-01 12:39\",\"09-01 12:40\",\"09-01 12:41\",\"09-01 12:42\",\"09-01 12:43\",\"09-01 12:44\",\"09-01 12:45\",\"09-01 12:46\",\"09-01 12:47\",\"09-01 12:48\",\"09-01 12:49\",\"09-01 12:50\",\"09-01 12:51\",\"09-01 12:52\",\"09-01 12:53\",\"09-01 12:54\",\"09-01 12:55\",\"09-01 12:56\",\"09-01 12:57\",\"09-01 12:58\",\"09-01 12:59\",\"09-01 13:00\",\"09-01 13:01\",\"09-01 13:02\",\"09-01 13:03\",\"09-01 13:04\",\"09-01 13:05\",\"09-01 13:06\"],\"xaxis\":\"x\",\"y\":[0.23870116685739184,-0.22934033678454696,-0.3853541713318876,-0.6973818404265135,-0.931402592247469,-1.5554579304367484,-1.7114717649840614,-1.5554579304367484,-1.8674855995313744,-1.9454925168050448,-1.8674855995313744,-1.4774510131630783,-1.633464847710391,-1.2434302613421226,-0.22934033678454696,0.0046804150364085795,-0.07332650223723403,-0.15133341951090437,-0.07332650223723403,0.0046804150364085795,-0.6973818404265135,0.23870116685739184,0.8627565050466436,-0.22934033678454696,-0.15133341951090437,-0.3853541713318876,-0.3073472540582173,-0.4633610886055302,-0.8533956749738264,-0.6193749231528431,-0.7753887577001561,-0.22934033678454696,0.0046804150364085795,0.16069424958372153,-0.22934033678454696,-0.8533956749738264,-0.7753887577001561,-1.0094095095211393,-1.4774510131630783,-0.931402592247469,-0.5413680058792005,-0.6973818404265135,-0.931402592247469,-1.633464847710391,-0.7753887577001561,-0.4633610886055302,0.3947150014047048,1.1747841741412972,1.0967772568676268,0.6287357532256881,0.784749587773001,0.6287357532256881,0.5507288359520177,0.3947150014047048,0.940763422320314,0.7067426704993307,0.3947150014047048,0.31670808413106216,-0.3853541713318876,-0.07332650223723403,-0.3853541713318876,-0.22934033678454696,-0.22934033678454696,-0.4633610886055302,0.31670808413106216,0.08268733231007891,-0.3073472540582173,-0.931402592247469,-0.6973818404265135,-0.6973818404265135,-0.8533956749738264,-0.931402592247469,-0.6193749231528431,-0.6193749231528431,-0.4633610886055302,0.0046804150364085795,0.3947150014047048,0.4727219186783751,0.4727219186783751,0.7067426704993307,0.8627565050466436,0.4727219186783751,0.31670808413106216,0.3947150014047048,1.1747841741412972,1.1747841741412972,1.798839512330549,1.4088049259622528,1.7208325950569063,1.4088049259622528,1.798839512330549,1.7208325950569063,1.798839512330549,2.1108671814251747,1.7208325950569063,1.7208325950569063,1.5648187605095656,1.4088049259622528,1.642825677783236,2.344887933246158],\"yaxis\":\"y\"},{\"legendgroup\":\"LINK\",\"line\":{\"color\":\"#FFA15A\",\"dash\":\"solid\"},\"marker\":{\"symbol\":\"circle\"},\"mode\":\"markers+lines\",\"name\":\"LINK\",\"showlegend\":true,\"type\":\"scattergl\",\"x\":[\"09-01 11:27\",\"09-01 11:28\",\"09-01 11:29\",\"09-01 11:30\",\"09-01 11:31\",\"09-01 11:32\",\"09-01 11:33\",\"09-01 11:34\",\"09-01 11:35\",\"09-01 11:36\",\"09-01 11:37\",\"09-01 11:38\",\"09-01 11:39\",\"09-01 11:40\",\"09-01 11:41\",\"09-01 11:42\",\"09-01 11:43\",\"09-01 11:44\",\"09-01 11:45\",\"09-01 11:46\",\"09-01 11:47\",\"09-01 11:48\",\"09-01 11:49\",\"09-01 11:50\",\"09-01 11:51\",\"09-01 11:52\",\"09-01 11:53\",\"09-01 11:54\",\"09-01 11:55\",\"09-01 11:56\",\"09-01 11:57\",\"09-01 11:58\",\"09-01 11:59\",\"09-01 12:00\",\"09-01 12:01\",\"09-01 12:02\",\"09-01 12:03\",\"09-01 12:04\",\"09-01 12:05\",\"09-01 12:06\",\"09-01 12:07\",\"09-01 12:08\",\"09-01 12:09\",\"09-01 12:10\",\"09-01 12:11\",\"09-01 12:12\",\"09-01 12:13\",\"09-01 12:14\",\"09-01 12:15\",\"09-01 12:16\",\"09-01 12:17\",\"09-01 12:18\",\"09-01 12:19\",\"09-01 12:20\",\"09-01 12:21\",\"09-01 12:22\",\"09-01 12:23\",\"09-01 12:24\",\"09-01 12:25\",\"09-01 12:26\",\"09-01 12:27\",\"09-01 12:28\",\"09-01 12:29\",\"09-01 12:30\",\"09-01 12:31\",\"09-01 12:32\",\"09-01 12:33\",\"09-01 12:34\",\"09-01 12:35\",\"09-01 12:36\",\"09-01 12:37\",\"09-01 12:38\",\"09-01 12:39\",\"09-01 12:40\",\"09-01 12:41\",\"09-01 12:42\",\"09-01 12:43\",\"09-01 12:44\",\"09-01 12:45\",\"09-01 12:46\",\"09-01 12:47\",\"09-01 12:48\",\"09-01 12:49\",\"09-01 12:50\",\"09-01 12:51\",\"09-01 12:52\",\"09-01 12:53\",\"09-01 12:54\",\"09-01 12:55\",\"09-01 12:56\",\"09-01 12:57\",\"09-01 12:58\",\"09-01 12:59\",\"09-01 13:00\",\"09-01 13:01\",\"09-01 13:02\",\"09-01 13:03\",\"09-01 13:04\",\"09-01 13:05\",\"09-01 13:06\"],\"xaxis\":\"x\",\"y\":[-0.48370935406137594,-1.0461620913419793,-1.1164686835020672,-1.1867752756621301,-1.5383082364625198,-1.6789214207826708,-2.0304543815830605,-1.8195346051028216,-1.9601477894229724,-1.8898411972629094,-2.311680750223362,-2.0304543815830605,-2.0304543815830605,-2.1710675659032113,-1.3273884599822812,-1.468001644302432,-1.2570818678222182,-1.3273884599822812,-1.0461620913419793,-0.9758554991818914,-0.9055489070218286,-0.6243225383815267,-0.5540159462214389,-0.8352423148617406,-0.9758554991818914,-0.9758554991818914,-1.0461620913419793,-0.9758554991818914,-0.8352423148617406,-0.7649357227016776,-0.5540159462214389,-0.13217639326098626,0.00843679105916459,-0.13217639326098626,-0.34309616974120005,-0.413402761901288,-0.34309616974120005,-0.27278957758113714,-0.413402761901288,0.2896631596994913,0.2896631596994913,0.21935656753940339,0.3599697518595542,0.21935656753940339,0.5005829361797051,0.8521158969800947,1.2739554499405474,1.484875226420786,1.695795002901025,1.0630356734603335,1.2036488577804845,1.3442620421006353,1.1333422656203964,0.8521158969800947,0.9224224891401827,0.9224224891401827,0.9927290813002456,0.9224224891401827,0.9224224891401827,0.9224224891401827,0.7115027126599439,1.0630356734603335,1.0630356734603335,0.7115027126599439,0.9927290813002456,0.8521158969800947,0.7818093048200317,0.641196120499856,0.7818093048200317,0.641196120499856,0.21935656753940339,-0.061869801100898354,0.00843679105916459,0.00843679105916459,0.00843679105916459,0.21935656753940339,0.3599697518595542,0.3599697518595542,0.2896631596994913,0.2896631596994913,0.5005829361797051,0.00843679105916459,0.00843679105916459,-0.061869801100898354,-0.061869801100898354,0.21935656753940339,0.5005829361797051,0.641196120499856,0.7818093048200317,0.7818093048200317,1.1333422656203964,0.9927290813002456,1.0630356734603335,1.3442620421006353,1.0630356734603335,0.9927290813002456,0.9224224891401827,0.8521158969800947,0.9224224891401827,0.8521158969800947],\"yaxis\":\"y\"}],                        {\"hovermode\":\"x\",\"legend\":{\"title\":{\"text\":\"variable\"},\"tracegroupgap\":0},\"template\":{\"data\":{\"bar\":[{\"error_x\":{\"color\":\"#2a3f5f\"},\"error_y\":{\"color\":\"#2a3f5f\"},\"marker\":{\"line\":{\"color\":\"#E5ECF6\",\"width\":0.5},\"pattern\":{\"fillmode\":\"overlay\",\"size\":10,\"solidity\":0.2}},\"type\":\"bar\"}],\"barpolar\":[{\"marker\":{\"line\":{\"color\":\"#E5ECF6\",\"width\":0.5},\"pattern\":{\"fillmode\":\"overlay\",\"size\":10,\"solidity\":0.2}},\"type\":\"barpolar\"}],\"carpet\":[{\"aaxis\":{\"endlinecolor\":\"#2a3f5f\",\"gridcolor\":\"white\",\"linecolor\":\"white\",\"minorgridcolor\":\"white\",\"startlinecolor\":\"#2a3f5f\"},\"baxis\":{\"endlinecolor\":\"#2a3f5f\",\"gridcolor\":\"white\",\"linecolor\":\"white\",\"minorgridcolor\":\"white\",\"startlinecolor\":\"#2a3f5f\"},\"type\":\"carpet\"}],\"choropleth\":[{\"colorbar\":{\"outlinewidth\":0,\"ticks\":\"\"},\"type\":\"choropleth\"}],\"contour\":[{\"colorbar\":{\"outlinewidth\":0,\"ticks\":\"\"},\"colorscale\":[[0.0,\"#0d0887\"],[0.1111111111111111,\"#46039f\"],[0.2222222222222222,\"#7201a8\"],[0.3333333333333333,\"#9c179e\"],[0.4444444444444444,\"#bd3786\"],[0.5555555555555556,\"#d8576b\"],[0.6666666666666666,\"#ed7953\"],[0.7777777777777778,\"#fb9f3a\"],[0.8888888888888888,\"#fdca26\"],[1.0,\"#f0f921\"]],\"type\":\"contour\"}],\"contourcarpet\":[{\"colorbar\":{\"outlinewidth\":0,\"ticks\":\"\"},\"type\":\"contourcarpet\"}],\"heatmap\":[{\"colorbar\":{\"outlinewidth\":0,\"ticks\":\"\"},\"colorscale\":[[0.0,\"#0d0887\"],[0.1111111111111111,\"#46039f\"],[0.2222222222222222,\"#7201a8\"],[0.3333333333333333,\"#9c179e\"],[0.4444444444444444,\"#bd3786\"],[0.5555555555555556,\"#d8576b\"],[0.6666666666666666,\"#ed7953\"],[0.7777777777777778,\"#fb9f3a\"],[0.8888888888888888,\"#fdca26\"],[1.0,\"#f0f921\"]],\"type\":\"heatmap\"}],\"heatmapgl\":[{\"colorbar\":{\"outlinewidth\":0,\"ticks\":\"\"},\"colorscale\":[[0.0,\"#0d0887\"],[0.1111111111111111,\"#46039f\"],[0.2222222222222222,\"#7201a8\"],[0.3333333333333333,\"#9c179e\"],[0.4444444444444444,\"#bd3786\"],[0.5555555555555556,\"#d8576b\"],[0.6666666666666666,\"#ed7953\"],[0.7777777777777778,\"#fb9f3a\"],[0.8888888888888888,\"#fdca26\"],[1.0,\"#f0f921\"]],\"type\":\"heatmapgl\"}],\"histogram\":[{\"marker\":{\"pattern\":{\"fillmode\":\"overlay\",\"size\":10,\"solidity\":0.2}},\"type\":\"histogram\"}],\"histogram2d\":[{\"colorbar\":{\"outlinewidth\":0,\"ticks\":\"\"},\"colorscale\":[[0.0,\"#0d0887\"],[0.1111111111111111,\"#46039f\"],[0.2222222222222222,\"#7201a8\"],[0.3333333333333333,\"#9c179e\"],[0.4444444444444444,\"#bd3786\"],[0.5555555555555556,\"#d8576b\"],[0.6666666666666666,\"#ed7953\"],[0.7777777777777778,\"#fb9f3a\"],[0.8888888888888888,\"#fdca26\"],[1.0,\"#f0f921\"]],\"type\":\"histogram2d\"}],\"histogram2dcontour\":[{\"colorbar\":{\"outlinewidth\":0,\"ticks\":\"\"},\"colorscale\":[[0.0,\"#0d0887\"],[0.1111111111111111,\"#46039f\"],[0.2222222222222222,\"#7201a8\"],[0.3333333333333333,\"#9c179e\"],[0.4444444444444444,\"#bd3786\"],[0.5555555555555556,\"#d8576b\"],[0.6666666666666666,\"#ed7953\"],[0.7777777777777778,\"#fb9f3a\"],[0.8888888888888888,\"#fdca26\"],[1.0,\"#f0f921\"]],\"type\":\"histogram2dcontour\"}],\"mesh3d\":[{\"colorbar\":{\"outlinewidth\":0,\"ticks\":\"\"},\"type\":\"mesh3d\"}],\"parcoords\":[{\"line\":{\"colorbar\":{\"outlinewidth\":0,\"ticks\":\"\"}},\"type\":\"parcoords\"}],\"pie\":[{\"automargin\":true,\"type\":\"pie\"}],\"scatter\":[{\"marker\":{\"colorbar\":{\"outlinewidth\":0,\"ticks\":\"\"}},\"type\":\"scatter\"}],\"scatter3d\":[{\"line\":{\"colorbar\":{\"outlinewidth\":0,\"ticks\":\"\"}},\"marker\":{\"colorbar\":{\"outlinewidth\":0,\"ticks\":\"\"}},\"type\":\"scatter3d\"}],\"scattercarpet\":[{\"marker\":{\"colorbar\":{\"outlinewidth\":0,\"ticks\":\"\"}},\"type\":\"scattercarpet\"}],\"scattergeo\":[{\"marker\":{\"colorbar\":{\"outlinewidth\":0,\"ticks\":\"\"}},\"type\":\"scattergeo\"}],\"scattergl\":[{\"marker\":{\"colorbar\":{\"outlinewidth\":0,\"ticks\":\"\"}},\"type\":\"scattergl\"}],\"scattermapbox\":[{\"marker\":{\"colorbar\":{\"outlinewidth\":0,\"ticks\":\"\"}},\"type\":\"scattermapbox\"}],\"scatterpolar\":[{\"marker\":{\"colorbar\":{\"outlinewidth\":0,\"ticks\":\"\"}},\"type\":\"scatterpolar\"}],\"scatterpolargl\":[{\"marker\":{\"colorbar\":{\"outlinewidth\":0,\"ticks\":\"\"}},\"type\":\"scatterpolargl\"}],\"scatterternary\":[{\"marker\":{\"colorbar\":{\"outlinewidth\":0,\"ticks\":\"\"}},\"type\":\"scatterternary\"}],\"surface\":[{\"colorbar\":{\"outlinewidth\":0,\"ticks\":\"\"},\"colorscale\":[[0.0,\"#0d0887\"],[0.1111111111111111,\"#46039f\"],[0.2222222222222222,\"#7201a8\"],[0.3333333333333333,\"#9c179e\"],[0.4444444444444444,\"#bd3786\"],[0.5555555555555556,\"#d8576b\"],[0.6666666666666666,\"#ed7953\"],[0.7777777777777778,\"#fb9f3a\"],[0.8888888888888888,\"#fdca26\"],[1.0,\"#f0f921\"]],\"type\":\"surface\"}],\"table\":[{\"cells\":{\"fill\":{\"color\":\"#EBF0F8\"},\"line\":{\"color\":\"white\"}},\"header\":{\"fill\":{\"color\":\"#C8D4E3\"},\"line\":{\"color\":\"white\"}},\"type\":\"table\"}]},\"layout\":{\"annotationdefaults\":{\"arrowcolor\":\"#2a3f5f\",\"arrowhead\":0,\"arrowwidth\":1},\"autotypenumbers\":\"strict\",\"coloraxis\":{\"colorbar\":{\"outlinewidth\":0,\"ticks\":\"\"}},\"colorscale\":{\"diverging\":[[0,\"#8e0152\"],[0.1,\"#c51b7d\"],[0.2,\"#de77ae\"],[0.3,\"#f1b6da\"],[0.4,\"#fde0ef\"],[0.5,\"#f7f7f7\"],[0.6,\"#e6f5d0\"],[0.7,\"#b8e186\"],[0.8,\"#7fbc41\"],[0.9,\"#4d9221\"],[1,\"#276419\"]],\"sequential\":[[0.0,\"#0d0887\"],[0.1111111111111111,\"#46039f\"],[0.2222222222222222,\"#7201a8\"],[0.3333333333333333,\"#9c179e\"],[0.4444444444444444,\"#bd3786\"],[0.5555555555555556,\"#d8576b\"],[0.6666666666666666,\"#ed7953\"],[0.7777777777777778,\"#fb9f3a\"],[0.8888888888888888,\"#fdca26\"],[1.0,\"#f0f921\"]],\"sequentialminus\":[[0.0,\"#0d0887\"],[0.1111111111111111,\"#46039f\"],[0.2222222222222222,\"#7201a8\"],[0.3333333333333333,\"#9c179e\"],[0.4444444444444444,\"#bd3786\"],[0.5555555555555556,\"#d8576b\"],[0.6666666666666666,\"#ed7953\"],[0.7777777777777778,\"#fb9f3a\"],[0.8888888888888888,\"#fdca26\"],[1.0,\"#f0f921\"]]},\"colorway\":[\"#636efa\",\"#EF553B\",\"#00cc96\",\"#ab63fa\",\"#FFA15A\",\"#19d3f3\",\"#FF6692\",\"#B6E880\",\"#FF97FF\",\"#FECB52\"],\"font\":{\"color\":\"#2a3f5f\"},\"geo\":{\"bgcolor\":\"white\",\"lakecolor\":\"white\",\"landcolor\":\"#E5ECF6\",\"showlakes\":true,\"showland\":true,\"subunitcolor\":\"white\"},\"hoverlabel\":{\"align\":\"left\"},\"hovermode\":\"closest\",\"mapbox\":{\"style\":\"light\"},\"paper_bgcolor\":\"white\",\"plot_bgcolor\":\"#E5ECF6\",\"polar\":{\"angularaxis\":{\"gridcolor\":\"white\",\"linecolor\":\"white\",\"ticks\":\"\"},\"bgcolor\":\"#E5ECF6\",\"radialaxis\":{\"gridcolor\":\"white\",\"linecolor\":\"white\",\"ticks\":\"\"}},\"scene\":{\"xaxis\":{\"backgroundcolor\":\"#E5ECF6\",\"gridcolor\":\"white\",\"gridwidth\":2,\"linecolor\":\"white\",\"showbackground\":true,\"ticks\":\"\",\"zerolinecolor\":\"white\"},\"yaxis\":{\"backgroundcolor\":\"#E5ECF6\",\"gridcolor\":\"white\",\"gridwidth\":2,\"linecolor\":\"white\",\"showbackground\":true,\"ticks\":\"\",\"zerolinecolor\":\"white\"},\"zaxis\":{\"backgroundcolor\":\"#E5ECF6\",\"gridcolor\":\"white\",\"gridwidth\":2,\"linecolor\":\"white\",\"showbackground\":true,\"ticks\":\"\",\"zerolinecolor\":\"white\"}},\"shapedefaults\":{\"line\":{\"color\":\"#2a3f5f\"}},\"ternary\":{\"aaxis\":{\"gridcolor\":\"white\",\"linecolor\":\"white\",\"ticks\":\"\"},\"baxis\":{\"gridcolor\":\"white\",\"linecolor\":\"white\",\"ticks\":\"\"},\"bgcolor\":\"#E5ECF6\",\"caxis\":{\"gridcolor\":\"white\",\"linecolor\":\"white\",\"ticks\":\"\"}},\"title\":{\"x\":0.05},\"xaxis\":{\"automargin\":true,\"gridcolor\":\"white\",\"linecolor\":\"white\",\"ticks\":\"\",\"title\":{\"standoff\":15},\"zerolinecolor\":\"white\",\"zerolinewidth\":2},\"yaxis\":{\"automargin\":true,\"gridcolor\":\"white\",\"linecolor\":\"white\",\"ticks\":\"\",\"title\":{\"standoff\":15},\"zerolinecolor\":\"white\",\"zerolinewidth\":2}}},\"title\":{\"text\":\"custom tick labels\"},\"xaxis\":{\"anchor\":\"y\",\"domain\":[0.0,1.0],\"title\":{\"text\":\"x\"}},\"yaxis\":{\"anchor\":\"x\",\"domain\":[0.0,1.0],\"title\":{\"text\":\"value\"}}},                        {\"responsive\": true}                    ).then(function(){\n",
       "                            \n",
       "var gd = document.getElementById('9f61f17e-7396-464f-9769-11e882227fb4');\n",
       "var x = new MutationObserver(function (mutations, observer) {{\n",
       "        var display = window.getComputedStyle(gd).display;\n",
       "        if (!display || display === 'none') {{\n",
       "            console.log([gd, 'removed!']);\n",
       "            Plotly.purge(gd);\n",
       "            observer.disconnect();\n",
       "        }}\n",
       "}});\n",
       "\n",
       "// Listen for the removal of the full notebook cells\n",
       "var notebookContainer = gd.closest('#notebook-container');\n",
       "if (notebookContainer) {{\n",
       "    x.observe(notebookContainer, {childList: true});\n",
       "}}\n",
       "\n",
       "// Listen for the clearing of the current output cell\n",
       "var outputEl = gd.closest('.output');\n",
       "if (outputEl) {{\n",
       "    x.observe(outputEl, {childList: true});\n",
       "}}\n",
       "\n",
       "                        })                };                });            </script>        </div>"
      ]
     },
     "metadata": {},
     "output_type": "display_data"
    }
   ],
   "source": [
    "\n",
    "fig = px.line(tdata, x=pd.to_datetime(df1.index).strftime('%m-%d %H:%M'), y=df1.columns,\n",
    "              title='custom tick labels')\n",
    "fig.update_traces(mode=\"markers+lines\", hovertemplate=None)\n",
    "fig.update_layout(hovermode=\"x\")\n",
    "fig.show()\n",
    "\n",
    "\n"
   ]
  },
  {
   "cell_type": "code",
   "execution_count": null,
   "id": "16ad1005",
   "metadata": {},
   "outputs": [],
   "source": []
  },
  {
   "cell_type": "code",
   "execution_count": null,
   "id": "0851259c",
   "metadata": {},
   "outputs": [],
   "source": []
  },
  {
   "cell_type": "code",
   "execution_count": null,
   "id": "33a81b8b",
   "metadata": {},
   "outputs": [],
   "source": []
  },
  {
   "cell_type": "code",
   "execution_count": null,
   "id": "21856783",
   "metadata": {},
   "outputs": [],
   "source": []
  },
  {
   "cell_type": "code",
   "execution_count": null,
   "id": "7377c767",
   "metadata": {},
   "outputs": [],
   "source": []
  },
  {
   "cell_type": "code",
   "execution_count": 108,
   "id": "f6ac7d8b",
   "metadata": {},
   "outputs": [
    {
     "data": {
      "application/vnd.plotly.v1+json": {
       "config": {
        "plotlyServerURL": "https://plot.ly"
       },
       "data": [
        {
         "hovertemplate": "variable=GOOG<br>date=%{x|%B %d, %Y}<br>value=%{y}<extra></extra>",
         "legendgroup": "GOOG",
         "line": {
          "color": "#636efa",
          "dash": "solid"
         },
         "marker": {
          "symbol": "circle"
         },
         "mode": "lines",
         "name": "GOOG",
         "orientation": "v",
         "showlegend": true,
         "type": "scatter",
         "x": [
          "2018-01-01",
          "2018-01-08",
          "2018-01-15",
          "2018-01-22",
          "2018-01-29",
          "2018-02-05",
          "2018-02-12",
          "2018-02-19",
          "2018-02-26",
          "2018-03-05",
          "2018-03-12",
          "2018-03-19",
          "2018-03-26",
          "2018-04-02",
          "2018-04-09",
          "2018-04-16",
          "2018-04-23",
          "2018-04-30",
          "2018-05-07",
          "2018-05-14",
          "2018-05-21",
          "2018-05-28",
          "2018-06-04",
          "2018-06-11",
          "2018-06-18",
          "2018-06-25",
          "2018-07-02",
          "2018-07-09",
          "2018-07-16",
          "2018-07-23",
          "2018-07-30",
          "2018-08-06",
          "2018-08-13",
          "2018-08-20",
          "2018-08-27",
          "2018-09-03",
          "2018-09-10",
          "2018-09-17",
          "2018-09-24",
          "2018-10-01",
          "2018-10-08",
          "2018-10-15",
          "2018-10-22",
          "2018-10-29",
          "2018-11-05",
          "2018-11-12",
          "2018-11-19",
          "2018-11-26",
          "2018-12-03",
          "2018-12-10",
          "2018-12-17",
          "2018-12-24",
          "2018-12-31",
          "2019-01-07",
          "2019-01-14",
          "2019-01-21",
          "2019-01-28",
          "2019-02-04",
          "2019-02-11",
          "2019-02-18",
          "2019-02-25",
          "2019-03-04",
          "2019-03-11",
          "2019-03-18",
          "2019-03-25",
          "2019-04-01",
          "2019-04-08",
          "2019-04-15",
          "2019-04-22",
          "2019-04-29",
          "2019-05-06",
          "2019-05-13",
          "2019-05-20",
          "2019-05-27",
          "2019-06-03",
          "2019-06-10",
          "2019-06-17",
          "2019-06-24",
          "2019-07-01",
          "2019-07-08",
          "2019-07-15",
          "2019-07-22",
          "2019-07-29",
          "2019-08-05",
          "2019-08-12",
          "2019-08-19",
          "2019-08-26",
          "2019-09-02",
          "2019-09-09",
          "2019-09-16",
          "2019-09-23",
          "2019-09-30",
          "2019-10-07",
          "2019-10-14",
          "2019-10-21",
          "2019-10-28",
          "2019-11-04",
          "2019-11-11",
          "2019-11-18",
          "2019-11-25",
          "2019-12-02",
          "2019-12-09",
          "2019-12-16",
          "2019-12-23",
          "2019-12-30"
         ],
         "xaxis": "x",
         "y": [
          1,
          1.018172278347936,
          1.032007866452698,
          1.066782783389724,
          1.0087731636550117,
          0.9415276737437316,
          0.99325918262539,
          1.0222821547641083,
          0.9788520214265992,
          1.0524482730908842,
          1.0303929312465263,
          0.926821104067592,
          0.9360932452590338,
          0.913638710861412,
          0.93380695379017,
          0.9734447261178653,
          0.9345146364100892,
          0.9509902470625956,
          0.9963982380519172,
          0.9674568868105002,
          0.9758943718805396,
          1.015668254641377,
          1.0169111849053498,
          1.0453898287179595,
          1.0483111519067918,
          1.0121753574512644,
          1.0344211867653972,
          1.0785588920381208,
          1.075011617811375,
          1.1236312044424703,
          1.1102129167272332,
          1.1228237368393843,
          1.0895729410299655,
          1.1074367837463466,
          1.1052048693141154,
          1.0567939333314087,
          1.0637798374890872,
          1.0579370795194665,
          1.0827776350267664,
          1.0500077089175164,
          1.0071219039061161,
          0.9947651405743836,
          0.9720929301886708,
          0.959681788913054,
          0.9672663993407256,
          0.9630385756700248,
          0.9289168536315806,
          0.992923504040418,
          0.9404389054995582,
          0.945446952912676,
          0.8886892896888904,
          0.9408925313390586,
          0.9714034098401132,
          0.9591373489949891,
          0.9963982380519172,
          0.989802500200548,
          1.0077298024501202,
          0.9934950771344468,
          1.0103608540932627,
          1.0073850422758417,
          1.035165084150587,
          1.0363716889645844,
          1.0746032883264525,
          1.0936918990354445,
          1.064487521016258,
          1.095188886079836,
          1.1049145977684258,
          1.1216987538299403,
          1.1541874899828073,
          1.075456162061569,
          1.0562859304552756,
          1.0544986709579427,
          1.0283425342867192,
          1.0012701750318929,
          0.9671666152648106,
          0.98468558802946,
          1.0178275181736574,
          0.980657443195294,
          1.0266368965939394,
          1.0387124690620373,
          1.025285100664745,
          1.1344366027859267,
          1.0832494231376286,
          1.0778240762422375,
          1.068379555417282,
          1.0445098208996275,
          1.0779056980467905,
          1.0931748145700046,
          1.12459294475006,
          1.1158561065450243,
          1.1114649285805127,
          1.0968672799119472,
          1.1027190087861698,
          1.129972884606169,
          1.1477913211905195,
          1.1556027445379409,
          1.189742629754999,
          1.2110630442115171,
          1.1751993590303178,
          1.1839271156460471,
          1.216279741365772,
          1.222820990588552,
          1.22441776261611,
          1.2265044859331442,
          1.213013658002661
         ],
         "yaxis": "y"
        },
        {
         "hovertemplate": "variable=AAPL<br>date=%{x|%B %d, %Y}<br>value=%{y}<extra></extra>",
         "legendgroup": "AAPL",
         "line": {
          "color": "#EF553B",
          "dash": "solid"
         },
         "marker": {
          "symbol": "circle"
         },
         "mode": "lines",
         "name": "AAPL",
         "orientation": "v",
         "showlegend": true,
         "type": "scatter",
         "x": [
          "2018-01-01",
          "2018-01-08",
          "2018-01-15",
          "2018-01-22",
          "2018-01-29",
          "2018-02-05",
          "2018-02-12",
          "2018-02-19",
          "2018-02-26",
          "2018-03-05",
          "2018-03-12",
          "2018-03-19",
          "2018-03-26",
          "2018-04-02",
          "2018-04-09",
          "2018-04-16",
          "2018-04-23",
          "2018-04-30",
          "2018-05-07",
          "2018-05-14",
          "2018-05-21",
          "2018-05-28",
          "2018-06-04",
          "2018-06-11",
          "2018-06-18",
          "2018-06-25",
          "2018-07-02",
          "2018-07-09",
          "2018-07-16",
          "2018-07-23",
          "2018-07-30",
          "2018-08-06",
          "2018-08-13",
          "2018-08-20",
          "2018-08-27",
          "2018-09-03",
          "2018-09-10",
          "2018-09-17",
          "2018-09-24",
          "2018-10-01",
          "2018-10-08",
          "2018-10-15",
          "2018-10-22",
          "2018-10-29",
          "2018-11-05",
          "2018-11-12",
          "2018-11-19",
          "2018-11-26",
          "2018-12-03",
          "2018-12-10",
          "2018-12-17",
          "2018-12-24",
          "2018-12-31",
          "2019-01-07",
          "2019-01-14",
          "2019-01-21",
          "2019-01-28",
          "2019-02-04",
          "2019-02-11",
          "2019-02-18",
          "2019-02-25",
          "2019-03-04",
          "2019-03-11",
          "2019-03-18",
          "2019-03-25",
          "2019-04-01",
          "2019-04-08",
          "2019-04-15",
          "2019-04-22",
          "2019-04-29",
          "2019-05-06",
          "2019-05-13",
          "2019-05-20",
          "2019-05-27",
          "2019-06-03",
          "2019-06-10",
          "2019-06-17",
          "2019-06-24",
          "2019-07-01",
          "2019-07-08",
          "2019-07-15",
          "2019-07-22",
          "2019-07-29",
          "2019-08-05",
          "2019-08-12",
          "2019-08-19",
          "2019-08-26",
          "2019-09-02",
          "2019-09-09",
          "2019-09-16",
          "2019-09-23",
          "2019-09-30",
          "2019-10-07",
          "2019-10-14",
          "2019-10-21",
          "2019-10-28",
          "2019-11-04",
          "2019-11-11",
          "2019-11-18",
          "2019-11-25",
          "2019-12-02",
          "2019-12-09",
          "2019-12-16",
          "2019-12-23",
          "2019-12-30"
         ],
         "xaxis": "x",
         "y": [
          1,
          1.0119428342857142,
          1.0197714685714288,
          0.9800571142857144,
          0.9171428571428571,
          0.8937714514285715,
          0.9853142457142856,
          1.002857142857143,
          1.006914325714286,
          1.02845712,
          1.0172571657142857,
          0.9425142971428572,
          0.9587428514285714,
          0.9621714571428572,
          0.99845712,
          0.9469714342857144,
          0.9275428971428572,
          1.0504571542857144,
          1.07765712,
          1.06462856,
          1.0776000114285715,
          1.0870857428571428,
          1.0954285542857145,
          1.0790856914285714,
          1.0566857028571428,
          1.0577714342857143,
          1.0741142914285715,
          1.093314297142857,
          1.0939428685714283,
          1.0913142628571428,
          1.1885143142857142,
          1.1858857085714285,
          1.2433142971428572,
          1.2352000228571431,
          1.3007428857142855,
          1.2645714457142856,
          1.279085691428571,
          1.2437714514285716,
          1.2899428857142856,
          1.2816571028571428,
          1.2692000057142856,
          1.253199988571429,
          1.236000017142857,
          1.1855999771428571,
          1.1684000057142856,
          1.1058857085714286,
          0.9845142457142856,
          1.0204571542857144,
          0.9628000285714284,
          0.9455999771428572,
          0.8613142628571429,
          0.8927428342857143,
          0.8471999714285714,
          0.8702285314285714,
          0.8961143257142857,
          0.9014856857142858,
          0.95154288,
          0.9737714514285716,
          0.97382856,
          0.9884000057142855,
          0.9998285771428572,
          0.9880571657142858,
          1.0635428285714286,
          1.0917143028571428,
          1.0854285542857145,
          1.1257142857142857,
          1.1363999714285713,
          1.1649142914285715,
          1.1674285885714286,
          1.21,
          1.1267428171428568,
          1.08,
          1.02268572,
          1.00040004,
          1.0865713942857145,
          1.1013714571428572,
          1.135885708571429,
          1.1309714171428569,
          1.167028548571429,
          1.1617143028571428,
          1.15765712,
          1.1870857428571429,
          1.1658285942857145,
          1.1485143142857142,
          1.18,
          1.1579428514285717,
          1.1928000285714286,
          1.218628542857143,
          1.25,
          1.2441714057142856,
          1.25040004,
          1.2971999714285716,
          1.3497714685714286,
          1.3509143085714286,
          1.409028582857143,
          1.4618286114285712,
          1.4865143714285716,
          1.5186286285714288,
          1.4958857085714288,
          1.5271428571428571,
          1.5469142342857145,
          1.57228568,
          1.5968000114285714,
          1.6559999314285714,
          1.6779999657142857
         ],
         "yaxis": "y"
        },
        {
         "hovertemplate": "variable=AMZN<br>date=%{x|%B %d, %Y}<br>value=%{y}<extra></extra>",
         "legendgroup": "AMZN",
         "line": {
          "color": "#00cc96",
          "dash": "solid"
         },
         "marker": {
          "symbol": "circle"
         },
         "mode": "lines",
         "name": "AMZN",
         "orientation": "v",
         "showlegend": true,
         "type": "scatter",
         "x": [
          "2018-01-01",
          "2018-01-08",
          "2018-01-15",
          "2018-01-22",
          "2018-01-29",
          "2018-02-05",
          "2018-02-12",
          "2018-02-19",
          "2018-02-26",
          "2018-03-05",
          "2018-03-12",
          "2018-03-19",
          "2018-03-26",
          "2018-04-02",
          "2018-04-09",
          "2018-04-16",
          "2018-04-23",
          "2018-04-30",
          "2018-05-07",
          "2018-05-14",
          "2018-05-21",
          "2018-05-28",
          "2018-06-04",
          "2018-06-11",
          "2018-06-18",
          "2018-06-25",
          "2018-07-02",
          "2018-07-09",
          "2018-07-16",
          "2018-07-23",
          "2018-07-30",
          "2018-08-06",
          "2018-08-13",
          "2018-08-20",
          "2018-08-27",
          "2018-09-03",
          "2018-09-10",
          "2018-09-17",
          "2018-09-24",
          "2018-10-01",
          "2018-10-08",
          "2018-10-15",
          "2018-10-22",
          "2018-10-29",
          "2018-11-05",
          "2018-11-12",
          "2018-11-19",
          "2018-11-26",
          "2018-12-03",
          "2018-12-10",
          "2018-12-17",
          "2018-12-24",
          "2018-12-31",
          "2019-01-07",
          "2019-01-14",
          "2019-01-21",
          "2019-01-28",
          "2019-02-04",
          "2019-02-11",
          "2019-02-18",
          "2019-02-25",
          "2019-03-04",
          "2019-03-11",
          "2019-03-18",
          "2019-03-25",
          "2019-04-01",
          "2019-04-08",
          "2019-04-15",
          "2019-04-22",
          "2019-04-29",
          "2019-05-06",
          "2019-05-13",
          "2019-05-20",
          "2019-05-27",
          "2019-06-03",
          "2019-06-10",
          "2019-06-17",
          "2019-06-24",
          "2019-07-01",
          "2019-07-08",
          "2019-07-15",
          "2019-07-22",
          "2019-07-29",
          "2019-08-05",
          "2019-08-12",
          "2019-08-19",
          "2019-08-26",
          "2019-09-02",
          "2019-09-09",
          "2019-09-16",
          "2019-09-23",
          "2019-09-30",
          "2019-10-07",
          "2019-10-14",
          "2019-10-21",
          "2019-10-28",
          "2019-11-04",
          "2019-11-11",
          "2019-11-18",
          "2019-11-25",
          "2019-12-02",
          "2019-12-09",
          "2019-12-16",
          "2019-12-23",
          "2019-12-30"
         ],
         "xaxis": "x",
         "y": [
          1,
          1.0618806117055757,
          1.0532404284307677,
          1.1406756202628388,
          1.1633743377885228,
          1.0898676795580526,
          1.1786207619316666,
          1.2203654438831366,
          1.2205688381237838,
          1.284548542665418,
          1.2786826844946546,
          1.2167532101702832,
          1.1775224533715958,
          1.1432627388670606,
          1.16405781403187,
          1.2427306664489322,
          1.2794473988384474,
          1.2862244591394254,
          1.3040906767647622,
          1.2808711585229775,
          1.3099809658381354,
          1.3355191588974509,
          1.3700554610940725,
          1.3960736368996989,
          1.3958296232020404,
          1.3829181608736414,
          1.391729163581091,
          1.4750394640760272,
          1.4755844971819587,
          1.4784890230752108,
          1.4833867718479574,
          1.5346502643964448,
          1.5313308069300795,
          1.5501814209506477,
          1.637494456642517,
          1.5881591374274802,
          1.6029011479217037,
          1.5580080272628667,
          1.6295946560652816,
          1.5373757268816928,
          1.4551718788522234,
          1.435174192909178,
          1.3365524179114776,
          1.3550368620941855,
          1.3931936419790223,
          1.2963616956201691,
          1.22204146042711,
          1.3750834106560272,
          1.3254226411301075,
          1.295141330176286,
          1.1206615472526131,
          1.2024830385169751,
          1.2817010232963573,
          1.334721869745653,
          1.3799892040777797,
          1.3591372224587452,
          1.3230632475991762,
          1.2921391799289847,
          1.3081910371293215,
          1.3273996770823542,
          1.3600809993969647,
          1.3186455808291295,
          1.393136635454831,
          1.4357762325393009,
          1.4487771761299302,
          1.4947687054188046,
          1.4994712046698764,
          1.5146280474808236,
          1.5869876346023932,
          1.596612214272432,
          1.537644171481961,
          1.5205753430783882,
          1.4833786279425618,
          1.44415601504927,
          1.4677172714127285,
          1.521120475440709,
          1.5549896884611636,
          1.540613747734834,
          1.58070684404494,
          1.6361032717659916,
          1.5982882308164057,
          1.5808207570233568,
          1.4833460531345568,
          1.4706054102388,
          1.4583936118945735,
          1.4234505212166575,
          1.445148654606286,
          1.491701504811883,
          1.4964446227063888,
          1.4596872708598625,
          1.4037863302335007,
          1.4153391824933792,
          1.4090502488441077,
          1.4298696556551374,
          1.43297747571907,
          1.4574742658589632,
          1.452950830015895,
          1.4152089825177483,
          1.420277551536714,
          1.4650894340951057,
          1.425061388144621,
          1.4326601685000062,
          1.4534552436648156,
          1.52122624451373,
          1.503360026888393
         ],
         "yaxis": "y"
        },
        {
         "hovertemplate": "variable=FB<br>date=%{x|%B %d, %Y}<br>value=%{y}<extra></extra>",
         "legendgroup": "FB",
         "line": {
          "color": "#ab63fa",
          "dash": "solid"
         },
         "marker": {
          "symbol": "circle"
         },
         "mode": "lines",
         "name": "FB",
         "orientation": "v",
         "showlegend": true,
         "type": "scatter",
         "x": [
          "2018-01-01",
          "2018-01-08",
          "2018-01-15",
          "2018-01-22",
          "2018-01-29",
          "2018-02-05",
          "2018-02-12",
          "2018-02-19",
          "2018-02-26",
          "2018-03-05",
          "2018-03-12",
          "2018-03-19",
          "2018-03-26",
          "2018-04-02",
          "2018-04-09",
          "2018-04-16",
          "2018-04-23",
          "2018-04-30",
          "2018-05-07",
          "2018-05-14",
          "2018-05-21",
          "2018-05-28",
          "2018-06-04",
          "2018-06-11",
          "2018-06-18",
          "2018-06-25",
          "2018-07-02",
          "2018-07-09",
          "2018-07-16",
          "2018-07-23",
          "2018-07-30",
          "2018-08-06",
          "2018-08-13",
          "2018-08-20",
          "2018-08-27",
          "2018-09-03",
          "2018-09-10",
          "2018-09-17",
          "2018-09-24",
          "2018-10-01",
          "2018-10-08",
          "2018-10-15",
          "2018-10-22",
          "2018-10-29",
          "2018-11-05",
          "2018-11-12",
          "2018-11-19",
          "2018-11-26",
          "2018-12-03",
          "2018-12-10",
          "2018-12-17",
          "2018-12-24",
          "2018-12-31",
          "2019-01-07",
          "2019-01-14",
          "2019-01-21",
          "2019-01-28",
          "2019-02-04",
          "2019-02-11",
          "2019-02-18",
          "2019-02-25",
          "2019-03-04",
          "2019-03-11",
          "2019-03-18",
          "2019-03-25",
          "2019-04-01",
          "2019-04-08",
          "2019-04-15",
          "2019-04-22",
          "2019-04-29",
          "2019-05-06",
          "2019-05-13",
          "2019-05-20",
          "2019-05-27",
          "2019-06-03",
          "2019-06-10",
          "2019-06-17",
          "2019-06-24",
          "2019-07-01",
          "2019-07-08",
          "2019-07-15",
          "2019-07-22",
          "2019-07-29",
          "2019-08-05",
          "2019-08-12",
          "2019-08-19",
          "2019-08-26",
          "2019-09-02",
          "2019-09-09",
          "2019-09-16",
          "2019-09-23",
          "2019-09-30",
          "2019-10-07",
          "2019-10-14",
          "2019-10-21",
          "2019-10-28",
          "2019-11-04",
          "2019-11-11",
          "2019-11-18",
          "2019-11-25",
          "2019-12-02",
          "2019-12-09",
          "2019-12-16",
          "2019-12-23",
          "2019-12-30"
         ],
         "xaxis": "x",
         "y": [
          1,
          0.9599678310954936,
          0.9702434422185674,
          1.0168584099483515,
          1.0183569327795472,
          0.9425207136466456,
          0.949210571606832,
          0.9809472149548658,
          0.9452501435830832,
          0.9913298905647344,
          0.9905806264731936,
          0.8530371628674177,
          0.8551778853033591,
          0.8413165210173983,
          0.8804923666954552,
          0.8899116599439659,
          0.9290339332394776,
          0.9451966568307202,
          1.0007492587396545,
          0.9776825642702948,
          0.9896708164943808,
          1.0382124633166991,
          1.0120417443283358,
          1.048166977313343,
          1.0796895826698554,
          1.039978596521961,
          1.0876638451914205,
          1.109553119307901,
          1.12357503483302,
          0.9359914015737306,
          0.951458353177682,
          0.9647310099631464,
          0.9301578668399936,
          0.934706922085943,
          0.9404869700673171,
          0.8725715159998442,
          0.8687182327411859,
          0.8719828084993478,
          0.8801712695690254,
          0.8420122930046896,
          0.8227990369986931,
          0.8244581110690464,
          0.7780036945784202,
          0.8046561475625534,
          0.7758094853901156,
          0.7467486995959743,
          0.7050039698687512,
          0.7525287475773482,
          0.735456214007293,
          0.7709927394918039,
          0.6687181856445861,
          0.7128712481818171,
          0.7382927084305257,
          0.7696012757955171,
          0.8029969932139043,
          0.7974845609584834,
          0.8868611275292119,
          0.8955311566861818,
          0.8696815348242483,
          0.8664168787877908,
          0.8685041144713691,
          0.9076799601494259,
          0.8883060779778621,
          0.8795289843340972,
          0.8921059494105662,
          0.9404334779630672,
          0.9585228806468435,
          0.9541342963617566,
          1.024832747396326,
          1.0461332337340143,
          1.0079742571696786,
          0.9917045600737096,
          0.9690125351133252,
          0.9497992791073284,
          0.9277495340299856,
          0.9704575658402708,
          1.0229595550561554,
          1.0329140690527994,
          1.0511104505931883,
          1.0964409334832987,
          1.0616001853379655,
          1.0690393020378066,
          1.011613582715111,
          1.0053518863681492,
          0.9831415097733526,
          0.951297801938524,
          0.993684731270493,
          1.003425201923729,
          1.0018196199576253,
          1.0164837404393767,
          0.9478191079105452,
          0.9657478790768677,
          0.9857639608531776,
          0.9946481136318508,
          1.0055659243596704,
          1.03623221184162,
          1.0213539730900516,
          1.044153062537231,
          1.0640620851786324,
          1.0791543619217223,
          1.07599677037206,
          1.0388546682733315,
          1.1040941738048429,
          1.113727585323171,
          1.0984746770626277
         ],
         "yaxis": "y"
        },
        {
         "hovertemplate": "variable=NFLX<br>date=%{x|%B %d, %Y}<br>value=%{y}<extra></extra>",
         "legendgroup": "NFLX",
         "line": {
          "color": "#FFA15A",
          "dash": "solid"
         },
         "marker": {
          "symbol": "circle"
         },
         "mode": "lines",
         "name": "NFLX",
         "orientation": "v",
         "showlegend": true,
         "type": "scatter",
         "x": [
          "2018-01-01",
          "2018-01-08",
          "2018-01-15",
          "2018-01-22",
          "2018-01-29",
          "2018-02-05",
          "2018-02-12",
          "2018-02-19",
          "2018-02-26",
          "2018-03-05",
          "2018-03-12",
          "2018-03-19",
          "2018-03-26",
          "2018-04-02",
          "2018-04-09",
          "2018-04-16",
          "2018-04-23",
          "2018-04-30",
          "2018-05-07",
          "2018-05-14",
          "2018-05-21",
          "2018-05-28",
          "2018-06-04",
          "2018-06-11",
          "2018-06-18",
          "2018-06-25",
          "2018-07-02",
          "2018-07-09",
          "2018-07-16",
          "2018-07-23",
          "2018-07-30",
          "2018-08-06",
          "2018-08-13",
          "2018-08-20",
          "2018-08-27",
          "2018-09-03",
          "2018-09-10",
          "2018-09-17",
          "2018-09-24",
          "2018-10-01",
          "2018-10-08",
          "2018-10-15",
          "2018-10-22",
          "2018-10-29",
          "2018-11-05",
          "2018-11-12",
          "2018-11-19",
          "2018-11-26",
          "2018-12-03",
          "2018-12-10",
          "2018-12-17",
          "2018-12-24",
          "2018-12-31",
          "2019-01-07",
          "2019-01-14",
          "2019-01-21",
          "2019-01-28",
          "2019-02-04",
          "2019-02-11",
          "2019-02-18",
          "2019-02-25",
          "2019-03-04",
          "2019-03-11",
          "2019-03-18",
          "2019-03-25",
          "2019-04-01",
          "2019-04-08",
          "2019-04-15",
          "2019-04-22",
          "2019-04-29",
          "2019-05-06",
          "2019-05-13",
          "2019-05-20",
          "2019-05-27",
          "2019-06-03",
          "2019-06-10",
          "2019-06-17",
          "2019-06-24",
          "2019-07-01",
          "2019-07-08",
          "2019-07-15",
          "2019-07-22",
          "2019-07-29",
          "2019-08-05",
          "2019-08-12",
          "2019-08-19",
          "2019-08-26",
          "2019-09-02",
          "2019-09-09",
          "2019-09-16",
          "2019-09-23",
          "2019-09-30",
          "2019-10-07",
          "2019-10-14",
          "2019-10-21",
          "2019-10-28",
          "2019-11-04",
          "2019-11-11",
          "2019-11-18",
          "2019-11-25",
          "2019-12-02",
          "2019-12-09",
          "2019-12-16",
          "2019-12-23",
          "2019-12-30"
         ],
         "xaxis": "x",
         "y": [
          1,
          1.0535263142643383,
          1.0498595254569378,
          1.3076813155940448,
          1.273536771428717,
          1.188008929282134,
          1.3263487897912096,
          1.3616362026373592,
          1.4336396058469547,
          1.5783608462698024,
          1.5165008067883996,
          1.4331158380609592,
          1.4064955424902252,
          1.3755416882817828,
          1.484118227436587,
          1.5608837620628662,
          1.484642138086525,
          1.5243106261176576,
          1.5546453794312736,
          1.5437877293254985,
          1.6728891882258874,
          1.7140339274719294,
          1.7170817582484463,
          1.866660325094997,
          1.9576645850358447,
          1.864041067097456,
          1.94414015086099,
          1.8848515575777052,
          1.7193674908479577,
          1.691556657660921,
          1.633839648701375,
          1.647078369277624,
          1.50854798541483,
          1.7087480282692504,
          1.7509404459512254,
          1.660459949034241,
          1.7360826197418304,
          1.720034255916133,
          1.7816562507344105,
          1.6731749018244944,
          1.617029334324746,
          1.5842183202957685,
          1.4278298007564696,
          1.4719748494696214,
          1.4451640257830367,
          1.3629695899097676,
          1.2325348866009125,
          1.3625886860662726,
          1.262631595251403,
          1.2707271281792676,
          1.1733415549944868,
          1.2194865512765718,
          1.4170674789973934,
          1.6076479259096166,
          1.6148387919701228,
          1.6098384682642397,
          1.6184103905326357,
          1.6551740498315624,
          1.699461814861141,
          1.7287488945009553,
          1.7016048311442251,
          1.6648411718452985,
          1.7213199790151918,
          1.7191771103581814,
          1.6979855684083631,
          1.7405113638622944,
          1.6721748970861734,
          1.716034084574645,
          1.7850849901165535,
          1.8335634546034707,
          1.7193199695385504,
          1.6879375377890014,
          1.6876518241903944,
          1.6347444679569396,
          1.7185103405278743,
          1.6178389585732904,
          1.758226497494488,
          1.7492261453110591,
          1.8122290534732837,
          1.7774655512770718,
          1.5005476379697218,
          1.5990284823318142,
          1.518310297673454,
          1.471165225221077,
          1.4419733358261506,
          1.3878755896024673,
          1.398876103650743,
          1.381827735086725,
          1.400780927644628,
          1.2893470810670251,
          1.2528214711933554,
          1.299061872016242,
          1.347349808387309,
          1.3110147218673576,
          1.3182532521012131,
          1.3658269020946976,
          1.3884946904972928,
          1.4049716271019663,
          1.4785466146353017,
          1.4984522906221185,
          1.4636411194904255,
          1.4214962278799892,
          1.6043620457078422,
          1.567169808867808,
          1.5408828958311611
         ],
         "yaxis": "y"
        },
        {
         "hovertemplate": "variable=MSFT<br>date=%{x|%B %d, %Y}<br>value=%{y}<extra></extra>",
         "legendgroup": "MSFT",
         "line": {
          "color": "#19d3f3",
          "dash": "solid"
         },
         "marker": {
          "symbol": "circle"
         },
         "mode": "lines",
         "name": "MSFT",
         "orientation": "v",
         "showlegend": true,
         "type": "scatter",
         "x": [
          "2018-01-01",
          "2018-01-08",
          "2018-01-15",
          "2018-01-22",
          "2018-01-29",
          "2018-02-05",
          "2018-02-12",
          "2018-02-19",
          "2018-02-26",
          "2018-03-05",
          "2018-03-12",
          "2018-03-19",
          "2018-03-26",
          "2018-04-02",
          "2018-04-09",
          "2018-04-16",
          "2018-04-23",
          "2018-04-30",
          "2018-05-07",
          "2018-05-14",
          "2018-05-21",
          "2018-05-28",
          "2018-06-04",
          "2018-06-11",
          "2018-06-18",
          "2018-06-25",
          "2018-07-02",
          "2018-07-09",
          "2018-07-16",
          "2018-07-23",
          "2018-07-30",
          "2018-08-06",
          "2018-08-13",
          "2018-08-20",
          "2018-08-27",
          "2018-09-03",
          "2018-09-10",
          "2018-09-17",
          "2018-09-24",
          "2018-10-01",
          "2018-10-08",
          "2018-10-15",
          "2018-10-22",
          "2018-10-29",
          "2018-11-05",
          "2018-11-12",
          "2018-11-19",
          "2018-11-26",
          "2018-12-03",
          "2018-12-10",
          "2018-12-17",
          "2018-12-24",
          "2018-12-31",
          "2019-01-07",
          "2019-01-14",
          "2019-01-21",
          "2019-01-28",
          "2019-02-04",
          "2019-02-11",
          "2019-02-18",
          "2019-02-25",
          "2019-03-04",
          "2019-03-11",
          "2019-03-18",
          "2019-03-25",
          "2019-04-01",
          "2019-04-08",
          "2019-04-15",
          "2019-04-22",
          "2019-04-29",
          "2019-05-06",
          "2019-05-13",
          "2019-05-20",
          "2019-05-27",
          "2019-06-03",
          "2019-06-10",
          "2019-06-17",
          "2019-06-24",
          "2019-07-01",
          "2019-07-08",
          "2019-07-15",
          "2019-07-22",
          "2019-07-29",
          "2019-08-05",
          "2019-08-12",
          "2019-08-19",
          "2019-08-26",
          "2019-09-02",
          "2019-09-09",
          "2019-09-16",
          "2019-09-23",
          "2019-09-30",
          "2019-10-07",
          "2019-10-14",
          "2019-10-21",
          "2019-10-28",
          "2019-11-04",
          "2019-11-11",
          "2019-11-18",
          "2019-11-25",
          "2019-12-02",
          "2019-12-09",
          "2019-12-16",
          "2019-12-23",
          "2019-12-30"
         ],
         "xaxis": "x",
         "y": [
          1,
          1.015988161560536,
          1.0205238457756245,
          1.0665607876956391,
          1.0407075282751441,
          0.9998865857832728,
          1.043202153459527,
          1.0665607876956391,
          1.0551082990110374,
          1.0946819232411402,
          1.0726839307702931,
          0.9885474319413214,
          1.034924537137441,
          1.0231318851767346,
          1.0554484622871425,
          1.0772196149853812,
          1.0865177211357813,
          1.0790339249567087,
          1.1078352963411884,
          1.0926408755495889,
          1.1153191832334917,
          1.1428733270694336,
          1.1523981709400573,
          1.1353894401771305,
          1.1385644826269534,
          1.1181539716939797,
          1.147068848008417,
          1.1954869895569342,
          1.2050118447667115,
          1.2210000857013248,
          1.225082192423581,
          1.2359677687727004,
          1.2198661929954373,
          1.2291642991458374,
          1.2737271737447062,
          1.227009825898405,
          1.2855199050794894,
          1.2956117406596723,
          1.2968590589214408,
          1.2714592862805467,
          1.242431086462613,
          1.2321125018230523,
          1.2128358835959658,
          1.203764617218174,
          1.242431086462613,
          1.2279169808840689,
          1.1687265864899288,
          1.2573987581948347,
          1.1885701057133435,
          1.2022904705229511,
          1.1138451159123457,
          1.1383376428543452,
          1.1557999511101045,
          1.1656650489700635,
          1.2213402489774292,
          1.2152170945636216,
          1.1654382205366092,
          1.1982083638006946,
          1.2271232401151322,
          1.2583059131804986,
          1.275994970495635,
          1.2530899137523548,
          1.3143213671771998,
          1.3272479912178707,
          1.3373398267980536,
          1.3594511427723972,
          1.371470623166558,
          1.398911443499003,
          1.4728426811919109,
          1.4616168621926098,
          1.4415465939098175,
          1.45220551191279,
          1.4314547583296346,
          1.4024265471725468,
          1.489964746797488,
          1.5018708923489987,
          1.5531239130712344,
          1.518993128041884,
          1.5541444028995486,
          1.5750084006121237,
          1.5491551411916282,
          1.6026759586647925,
          1.5523300929282209,
          1.5615149549492018,
          1.5435990692006107,
          1.5125297196387406,
          1.5632157599905712,
          1.5772763674503605,
          1.5570926849508404,
          1.581131634400008,
          1.5617416132953483,
          1.5661638719545554,
          1.583852929269692,
          1.5581131747791548,
          1.5957590748212025,
          1.629663201504406,
          1.655062974145301,
          1.7005329130166025,
          1.6962239778608914,
          1.7165211652903694,
          1.720716595516122,
          1.7522394318575931,
          1.7848962516181823,
          1.8024719740906685,
          1.7881845268582712
         ],
         "yaxis": "y"
        }
       ],
       "layout": {
        "height": 680,
        "hovermode": "x",
        "legend": {
         "title": {
          "text": "variable"
         },
         "tracegroupgap": 0
        },
        "template": {
         "data": {
          "bar": [
           {
            "error_x": {
             "color": "#2a3f5f"
            },
            "error_y": {
             "color": "#2a3f5f"
            },
            "marker": {
             "line": {
              "color": "#E5ECF6",
              "width": 0.5
             },
             "pattern": {
              "fillmode": "overlay",
              "size": 10,
              "solidity": 0.2
             }
            },
            "type": "bar"
           }
          ],
          "barpolar": [
           {
            "marker": {
             "line": {
              "color": "#E5ECF6",
              "width": 0.5
             },
             "pattern": {
              "fillmode": "overlay",
              "size": 10,
              "solidity": 0.2
             }
            },
            "type": "barpolar"
           }
          ],
          "carpet": [
           {
            "aaxis": {
             "endlinecolor": "#2a3f5f",
             "gridcolor": "white",
             "linecolor": "white",
             "minorgridcolor": "white",
             "startlinecolor": "#2a3f5f"
            },
            "baxis": {
             "endlinecolor": "#2a3f5f",
             "gridcolor": "white",
             "linecolor": "white",
             "minorgridcolor": "white",
             "startlinecolor": "#2a3f5f"
            },
            "type": "carpet"
           }
          ],
          "choropleth": [
           {
            "colorbar": {
             "outlinewidth": 0,
             "ticks": ""
            },
            "type": "choropleth"
           }
          ],
          "contour": [
           {
            "colorbar": {
             "outlinewidth": 0,
             "ticks": ""
            },
            "colorscale": [
             [
              0,
              "#0d0887"
             ],
             [
              0.1111111111111111,
              "#46039f"
             ],
             [
              0.2222222222222222,
              "#7201a8"
             ],
             [
              0.3333333333333333,
              "#9c179e"
             ],
             [
              0.4444444444444444,
              "#bd3786"
             ],
             [
              0.5555555555555556,
              "#d8576b"
             ],
             [
              0.6666666666666666,
              "#ed7953"
             ],
             [
              0.7777777777777778,
              "#fb9f3a"
             ],
             [
              0.8888888888888888,
              "#fdca26"
             ],
             [
              1,
              "#f0f921"
             ]
            ],
            "type": "contour"
           }
          ],
          "contourcarpet": [
           {
            "colorbar": {
             "outlinewidth": 0,
             "ticks": ""
            },
            "type": "contourcarpet"
           }
          ],
          "heatmap": [
           {
            "colorbar": {
             "outlinewidth": 0,
             "ticks": ""
            },
            "colorscale": [
             [
              0,
              "#0d0887"
             ],
             [
              0.1111111111111111,
              "#46039f"
             ],
             [
              0.2222222222222222,
              "#7201a8"
             ],
             [
              0.3333333333333333,
              "#9c179e"
             ],
             [
              0.4444444444444444,
              "#bd3786"
             ],
             [
              0.5555555555555556,
              "#d8576b"
             ],
             [
              0.6666666666666666,
              "#ed7953"
             ],
             [
              0.7777777777777778,
              "#fb9f3a"
             ],
             [
              0.8888888888888888,
              "#fdca26"
             ],
             [
              1,
              "#f0f921"
             ]
            ],
            "type": "heatmap"
           }
          ],
          "heatmapgl": [
           {
            "colorbar": {
             "outlinewidth": 0,
             "ticks": ""
            },
            "colorscale": [
             [
              0,
              "#0d0887"
             ],
             [
              0.1111111111111111,
              "#46039f"
             ],
             [
              0.2222222222222222,
              "#7201a8"
             ],
             [
              0.3333333333333333,
              "#9c179e"
             ],
             [
              0.4444444444444444,
              "#bd3786"
             ],
             [
              0.5555555555555556,
              "#d8576b"
             ],
             [
              0.6666666666666666,
              "#ed7953"
             ],
             [
              0.7777777777777778,
              "#fb9f3a"
             ],
             [
              0.8888888888888888,
              "#fdca26"
             ],
             [
              1,
              "#f0f921"
             ]
            ],
            "type": "heatmapgl"
           }
          ],
          "histogram": [
           {
            "marker": {
             "pattern": {
              "fillmode": "overlay",
              "size": 10,
              "solidity": 0.2
             }
            },
            "type": "histogram"
           }
          ],
          "histogram2d": [
           {
            "colorbar": {
             "outlinewidth": 0,
             "ticks": ""
            },
            "colorscale": [
             [
              0,
              "#0d0887"
             ],
             [
              0.1111111111111111,
              "#46039f"
             ],
             [
              0.2222222222222222,
              "#7201a8"
             ],
             [
              0.3333333333333333,
              "#9c179e"
             ],
             [
              0.4444444444444444,
              "#bd3786"
             ],
             [
              0.5555555555555556,
              "#d8576b"
             ],
             [
              0.6666666666666666,
              "#ed7953"
             ],
             [
              0.7777777777777778,
              "#fb9f3a"
             ],
             [
              0.8888888888888888,
              "#fdca26"
             ],
             [
              1,
              "#f0f921"
             ]
            ],
            "type": "histogram2d"
           }
          ],
          "histogram2dcontour": [
           {
            "colorbar": {
             "outlinewidth": 0,
             "ticks": ""
            },
            "colorscale": [
             [
              0,
              "#0d0887"
             ],
             [
              0.1111111111111111,
              "#46039f"
             ],
             [
              0.2222222222222222,
              "#7201a8"
             ],
             [
              0.3333333333333333,
              "#9c179e"
             ],
             [
              0.4444444444444444,
              "#bd3786"
             ],
             [
              0.5555555555555556,
              "#d8576b"
             ],
             [
              0.6666666666666666,
              "#ed7953"
             ],
             [
              0.7777777777777778,
              "#fb9f3a"
             ],
             [
              0.8888888888888888,
              "#fdca26"
             ],
             [
              1,
              "#f0f921"
             ]
            ],
            "type": "histogram2dcontour"
           }
          ],
          "mesh3d": [
           {
            "colorbar": {
             "outlinewidth": 0,
             "ticks": ""
            },
            "type": "mesh3d"
           }
          ],
          "parcoords": [
           {
            "line": {
             "colorbar": {
              "outlinewidth": 0,
              "ticks": ""
             }
            },
            "type": "parcoords"
           }
          ],
          "pie": [
           {
            "automargin": true,
            "type": "pie"
           }
          ],
          "scatter": [
           {
            "marker": {
             "colorbar": {
              "outlinewidth": 0,
              "ticks": ""
             }
            },
            "type": "scatter"
           }
          ],
          "scatter3d": [
           {
            "line": {
             "colorbar": {
              "outlinewidth": 0,
              "ticks": ""
             }
            },
            "marker": {
             "colorbar": {
              "outlinewidth": 0,
              "ticks": ""
             }
            },
            "type": "scatter3d"
           }
          ],
          "scattercarpet": [
           {
            "marker": {
             "colorbar": {
              "outlinewidth": 0,
              "ticks": ""
             }
            },
            "type": "scattercarpet"
           }
          ],
          "scattergeo": [
           {
            "marker": {
             "colorbar": {
              "outlinewidth": 0,
              "ticks": ""
             }
            },
            "type": "scattergeo"
           }
          ],
          "scattergl": [
           {
            "marker": {
             "colorbar": {
              "outlinewidth": 0,
              "ticks": ""
             }
            },
            "type": "scattergl"
           }
          ],
          "scattermapbox": [
           {
            "marker": {
             "colorbar": {
              "outlinewidth": 0,
              "ticks": ""
             }
            },
            "type": "scattermapbox"
           }
          ],
          "scatterpolar": [
           {
            "marker": {
             "colorbar": {
              "outlinewidth": 0,
              "ticks": ""
             }
            },
            "type": "scatterpolar"
           }
          ],
          "scatterpolargl": [
           {
            "marker": {
             "colorbar": {
              "outlinewidth": 0,
              "ticks": ""
             }
            },
            "type": "scatterpolargl"
           }
          ],
          "scatterternary": [
           {
            "marker": {
             "colorbar": {
              "outlinewidth": 0,
              "ticks": ""
             }
            },
            "type": "scatterternary"
           }
          ],
          "surface": [
           {
            "colorbar": {
             "outlinewidth": 0,
             "ticks": ""
            },
            "colorscale": [
             [
              0,
              "#0d0887"
             ],
             [
              0.1111111111111111,
              "#46039f"
             ],
             [
              0.2222222222222222,
              "#7201a8"
             ],
             [
              0.3333333333333333,
              "#9c179e"
             ],
             [
              0.4444444444444444,
              "#bd3786"
             ],
             [
              0.5555555555555556,
              "#d8576b"
             ],
             [
              0.6666666666666666,
              "#ed7953"
             ],
             [
              0.7777777777777778,
              "#fb9f3a"
             ],
             [
              0.8888888888888888,
              "#fdca26"
             ],
             [
              1,
              "#f0f921"
             ]
            ],
            "type": "surface"
           }
          ],
          "table": [
           {
            "cells": {
             "fill": {
              "color": "#EBF0F8"
             },
             "line": {
              "color": "white"
             }
            },
            "header": {
             "fill": {
              "color": "#C8D4E3"
             },
             "line": {
              "color": "white"
             }
            },
            "type": "table"
           }
          ]
         },
         "layout": {
          "annotationdefaults": {
           "arrowcolor": "#2a3f5f",
           "arrowhead": 0,
           "arrowwidth": 1
          },
          "autotypenumbers": "strict",
          "coloraxis": {
           "colorbar": {
            "outlinewidth": 0,
            "ticks": ""
           }
          },
          "colorscale": {
           "diverging": [
            [
             0,
             "#8e0152"
            ],
            [
             0.1,
             "#c51b7d"
            ],
            [
             0.2,
             "#de77ae"
            ],
            [
             0.3,
             "#f1b6da"
            ],
            [
             0.4,
             "#fde0ef"
            ],
            [
             0.5,
             "#f7f7f7"
            ],
            [
             0.6,
             "#e6f5d0"
            ],
            [
             0.7,
             "#b8e186"
            ],
            [
             0.8,
             "#7fbc41"
            ],
            [
             0.9,
             "#4d9221"
            ],
            [
             1,
             "#276419"
            ]
           ],
           "sequential": [
            [
             0,
             "#0d0887"
            ],
            [
             0.1111111111111111,
             "#46039f"
            ],
            [
             0.2222222222222222,
             "#7201a8"
            ],
            [
             0.3333333333333333,
             "#9c179e"
            ],
            [
             0.4444444444444444,
             "#bd3786"
            ],
            [
             0.5555555555555556,
             "#d8576b"
            ],
            [
             0.6666666666666666,
             "#ed7953"
            ],
            [
             0.7777777777777778,
             "#fb9f3a"
            ],
            [
             0.8888888888888888,
             "#fdca26"
            ],
            [
             1,
             "#f0f921"
            ]
           ],
           "sequentialminus": [
            [
             0,
             "#0d0887"
            ],
            [
             0.1111111111111111,
             "#46039f"
            ],
            [
             0.2222222222222222,
             "#7201a8"
            ],
            [
             0.3333333333333333,
             "#9c179e"
            ],
            [
             0.4444444444444444,
             "#bd3786"
            ],
            [
             0.5555555555555556,
             "#d8576b"
            ],
            [
             0.6666666666666666,
             "#ed7953"
            ],
            [
             0.7777777777777778,
             "#fb9f3a"
            ],
            [
             0.8888888888888888,
             "#fdca26"
            ],
            [
             1,
             "#f0f921"
            ]
           ]
          },
          "colorway": [
           "#636efa",
           "#EF553B",
           "#00cc96",
           "#ab63fa",
           "#FFA15A",
           "#19d3f3",
           "#FF6692",
           "#B6E880",
           "#FF97FF",
           "#FECB52"
          ],
          "font": {
           "color": "#2a3f5f"
          },
          "geo": {
           "bgcolor": "white",
           "lakecolor": "white",
           "landcolor": "#E5ECF6",
           "showlakes": true,
           "showland": true,
           "subunitcolor": "white"
          },
          "hoverlabel": {
           "align": "left"
          },
          "hovermode": "closest",
          "mapbox": {
           "style": "light"
          },
          "paper_bgcolor": "white",
          "plot_bgcolor": "#E5ECF6",
          "polar": {
           "angularaxis": {
            "gridcolor": "white",
            "linecolor": "white",
            "ticks": ""
           },
           "bgcolor": "#E5ECF6",
           "radialaxis": {
            "gridcolor": "white",
            "linecolor": "white",
            "ticks": ""
           }
          },
          "scene": {
           "xaxis": {
            "backgroundcolor": "#E5ECF6",
            "gridcolor": "white",
            "gridwidth": 2,
            "linecolor": "white",
            "showbackground": true,
            "ticks": "",
            "zerolinecolor": "white"
           },
           "yaxis": {
            "backgroundcolor": "#E5ECF6",
            "gridcolor": "white",
            "gridwidth": 2,
            "linecolor": "white",
            "showbackground": true,
            "ticks": "",
            "zerolinecolor": "white"
           },
           "zaxis": {
            "backgroundcolor": "#E5ECF6",
            "gridcolor": "white",
            "gridwidth": 2,
            "linecolor": "white",
            "showbackground": true,
            "ticks": "",
            "zerolinecolor": "white"
           }
          },
          "shapedefaults": {
           "line": {
            "color": "#2a3f5f"
           }
          },
          "ternary": {
           "aaxis": {
            "gridcolor": "white",
            "linecolor": "white",
            "ticks": ""
           },
           "baxis": {
            "gridcolor": "white",
            "linecolor": "white",
            "ticks": ""
           },
           "bgcolor": "#E5ECF6",
           "caxis": {
            "gridcolor": "white",
            "linecolor": "white",
            "ticks": ""
           }
          },
          "title": {
           "x": 0.05
          },
          "xaxis": {
           "automargin": true,
           "gridcolor": "white",
           "linecolor": "white",
           "ticks": "",
           "title": {
            "standoff": 15
           },
           "zerolinecolor": "white",
           "zerolinewidth": 2
          },
          "yaxis": {
           "automargin": true,
           "gridcolor": "white",
           "linecolor": "white",
           "ticks": "",
           "title": {
            "standoff": 15
           },
           "zerolinecolor": "white",
           "zerolinewidth": 2
          }
         }
        },
        "title": {
         "text": "custom tick labels"
        },
        "width": 600,
        "xaxis": {
         "anchor": "y",
         "domain": [
          0,
          1
         ],
         "dtick": "M1",
         "tickformat": "%b\n%Y",
         "title": {
          "text": "date"
         }
        },
        "yaxis": {
         "anchor": "x",
         "domain": [
          0,
          1
         ],
         "title": {
          "text": "value"
         }
        }
       }
      },
      "text/html": [
       "<div>                            <div id=\"f8bd97c7-ad3b-4454-ba25-8c02f3e1b01f\" class=\"plotly-graph-div\" style=\"height:680px; width:600px;\"></div>            <script type=\"text/javascript\">                require([\"plotly\"], function(Plotly) {                    window.PLOTLYENV=window.PLOTLYENV || {};                                    if (document.getElementById(\"f8bd97c7-ad3b-4454-ba25-8c02f3e1b01f\")) {                    Plotly.newPlot(                        \"f8bd97c7-ad3b-4454-ba25-8c02f3e1b01f\",                        [{\"hovertemplate\":\"variable=GOOG<br>date=%{x|%B %d, %Y}<br>value=%{y}<extra></extra>\",\"legendgroup\":\"GOOG\",\"line\":{\"color\":\"#636efa\",\"dash\":\"solid\"},\"marker\":{\"symbol\":\"circle\"},\"mode\":\"lines\",\"name\":\"GOOG\",\"orientation\":\"v\",\"showlegend\":true,\"type\":\"scatter\",\"x\":[\"2018-01-01\",\"2018-01-08\",\"2018-01-15\",\"2018-01-22\",\"2018-01-29\",\"2018-02-05\",\"2018-02-12\",\"2018-02-19\",\"2018-02-26\",\"2018-03-05\",\"2018-03-12\",\"2018-03-19\",\"2018-03-26\",\"2018-04-02\",\"2018-04-09\",\"2018-04-16\",\"2018-04-23\",\"2018-04-30\",\"2018-05-07\",\"2018-05-14\",\"2018-05-21\",\"2018-05-28\",\"2018-06-04\",\"2018-06-11\",\"2018-06-18\",\"2018-06-25\",\"2018-07-02\",\"2018-07-09\",\"2018-07-16\",\"2018-07-23\",\"2018-07-30\",\"2018-08-06\",\"2018-08-13\",\"2018-08-20\",\"2018-08-27\",\"2018-09-03\",\"2018-09-10\",\"2018-09-17\",\"2018-09-24\",\"2018-10-01\",\"2018-10-08\",\"2018-10-15\",\"2018-10-22\",\"2018-10-29\",\"2018-11-05\",\"2018-11-12\",\"2018-11-19\",\"2018-11-26\",\"2018-12-03\",\"2018-12-10\",\"2018-12-17\",\"2018-12-24\",\"2018-12-31\",\"2019-01-07\",\"2019-01-14\",\"2019-01-21\",\"2019-01-28\",\"2019-02-04\",\"2019-02-11\",\"2019-02-18\",\"2019-02-25\",\"2019-03-04\",\"2019-03-11\",\"2019-03-18\",\"2019-03-25\",\"2019-04-01\",\"2019-04-08\",\"2019-04-15\",\"2019-04-22\",\"2019-04-29\",\"2019-05-06\",\"2019-05-13\",\"2019-05-20\",\"2019-05-27\",\"2019-06-03\",\"2019-06-10\",\"2019-06-17\",\"2019-06-24\",\"2019-07-01\",\"2019-07-08\",\"2019-07-15\",\"2019-07-22\",\"2019-07-29\",\"2019-08-05\",\"2019-08-12\",\"2019-08-19\",\"2019-08-26\",\"2019-09-02\",\"2019-09-09\",\"2019-09-16\",\"2019-09-23\",\"2019-09-30\",\"2019-10-07\",\"2019-10-14\",\"2019-10-21\",\"2019-10-28\",\"2019-11-04\",\"2019-11-11\",\"2019-11-18\",\"2019-11-25\",\"2019-12-02\",\"2019-12-09\",\"2019-12-16\",\"2019-12-23\",\"2019-12-30\"],\"xaxis\":\"x\",\"y\":[1.0,1.018172278347936,1.032007866452698,1.066782783389724,1.0087731636550117,0.9415276737437316,0.99325918262539,1.0222821547641083,0.9788520214265992,1.0524482730908842,1.0303929312465263,0.926821104067592,0.9360932452590338,0.913638710861412,0.93380695379017,0.9734447261178653,0.9345146364100892,0.9509902470625956,0.9963982380519172,0.9674568868105002,0.9758943718805396,1.015668254641377,1.0169111849053498,1.0453898287179595,1.0483111519067918,1.0121753574512644,1.0344211867653972,1.0785588920381208,1.075011617811375,1.1236312044424703,1.1102129167272332,1.1228237368393843,1.0895729410299655,1.1074367837463466,1.1052048693141154,1.0567939333314087,1.0637798374890872,1.0579370795194665,1.0827776350267664,1.0500077089175164,1.0071219039061161,0.9947651405743836,0.9720929301886708,0.959681788913054,0.9672663993407256,0.9630385756700248,0.9289168536315806,0.992923504040418,0.9404389054995582,0.945446952912676,0.8886892896888904,0.9408925313390586,0.9714034098401132,0.9591373489949891,0.9963982380519172,0.989802500200548,1.0077298024501202,0.9934950771344468,1.0103608540932627,1.0073850422758417,1.035165084150587,1.0363716889645844,1.0746032883264525,1.0936918990354445,1.064487521016258,1.095188886079836,1.1049145977684258,1.1216987538299403,1.1541874899828073,1.075456162061569,1.0562859304552756,1.0544986709579427,1.0283425342867192,1.0012701750318929,0.9671666152648106,0.98468558802946,1.0178275181736574,0.980657443195294,1.0266368965939394,1.0387124690620373,1.025285100664745,1.1344366027859267,1.0832494231376286,1.0778240762422375,1.068379555417282,1.0445098208996275,1.0779056980467905,1.0931748145700046,1.12459294475006,1.1158561065450243,1.1114649285805127,1.0968672799119472,1.1027190087861698,1.129972884606169,1.1477913211905195,1.1556027445379409,1.189742629754999,1.2110630442115171,1.1751993590303178,1.1839271156460471,1.216279741365772,1.222820990588552,1.22441776261611,1.2265044859331442,1.213013658002661],\"yaxis\":\"y\"},{\"hovertemplate\":\"variable=AAPL<br>date=%{x|%B %d, %Y}<br>value=%{y}<extra></extra>\",\"legendgroup\":\"AAPL\",\"line\":{\"color\":\"#EF553B\",\"dash\":\"solid\"},\"marker\":{\"symbol\":\"circle\"},\"mode\":\"lines\",\"name\":\"AAPL\",\"orientation\":\"v\",\"showlegend\":true,\"type\":\"scatter\",\"x\":[\"2018-01-01\",\"2018-01-08\",\"2018-01-15\",\"2018-01-22\",\"2018-01-29\",\"2018-02-05\",\"2018-02-12\",\"2018-02-19\",\"2018-02-26\",\"2018-03-05\",\"2018-03-12\",\"2018-03-19\",\"2018-03-26\",\"2018-04-02\",\"2018-04-09\",\"2018-04-16\",\"2018-04-23\",\"2018-04-30\",\"2018-05-07\",\"2018-05-14\",\"2018-05-21\",\"2018-05-28\",\"2018-06-04\",\"2018-06-11\",\"2018-06-18\",\"2018-06-25\",\"2018-07-02\",\"2018-07-09\",\"2018-07-16\",\"2018-07-23\",\"2018-07-30\",\"2018-08-06\",\"2018-08-13\",\"2018-08-20\",\"2018-08-27\",\"2018-09-03\",\"2018-09-10\",\"2018-09-17\",\"2018-09-24\",\"2018-10-01\",\"2018-10-08\",\"2018-10-15\",\"2018-10-22\",\"2018-10-29\",\"2018-11-05\",\"2018-11-12\",\"2018-11-19\",\"2018-11-26\",\"2018-12-03\",\"2018-12-10\",\"2018-12-17\",\"2018-12-24\",\"2018-12-31\",\"2019-01-07\",\"2019-01-14\",\"2019-01-21\",\"2019-01-28\",\"2019-02-04\",\"2019-02-11\",\"2019-02-18\",\"2019-02-25\",\"2019-03-04\",\"2019-03-11\",\"2019-03-18\",\"2019-03-25\",\"2019-04-01\",\"2019-04-08\",\"2019-04-15\",\"2019-04-22\",\"2019-04-29\",\"2019-05-06\",\"2019-05-13\",\"2019-05-20\",\"2019-05-27\",\"2019-06-03\",\"2019-06-10\",\"2019-06-17\",\"2019-06-24\",\"2019-07-01\",\"2019-07-08\",\"2019-07-15\",\"2019-07-22\",\"2019-07-29\",\"2019-08-05\",\"2019-08-12\",\"2019-08-19\",\"2019-08-26\",\"2019-09-02\",\"2019-09-09\",\"2019-09-16\",\"2019-09-23\",\"2019-09-30\",\"2019-10-07\",\"2019-10-14\",\"2019-10-21\",\"2019-10-28\",\"2019-11-04\",\"2019-11-11\",\"2019-11-18\",\"2019-11-25\",\"2019-12-02\",\"2019-12-09\",\"2019-12-16\",\"2019-12-23\",\"2019-12-30\"],\"xaxis\":\"x\",\"y\":[1.0,1.0119428342857142,1.0197714685714288,0.9800571142857144,0.9171428571428571,0.8937714514285715,0.9853142457142856,1.002857142857143,1.006914325714286,1.02845712,1.0172571657142857,0.9425142971428572,0.9587428514285714,0.9621714571428572,0.99845712,0.9469714342857144,0.9275428971428572,1.0504571542857144,1.07765712,1.06462856,1.0776000114285715,1.0870857428571428,1.0954285542857145,1.0790856914285714,1.0566857028571428,1.0577714342857143,1.0741142914285715,1.093314297142857,1.0939428685714283,1.0913142628571428,1.1885143142857142,1.1858857085714285,1.2433142971428572,1.2352000228571431,1.3007428857142855,1.2645714457142856,1.279085691428571,1.2437714514285716,1.2899428857142856,1.2816571028571428,1.2692000057142856,1.253199988571429,1.236000017142857,1.1855999771428571,1.1684000057142856,1.1058857085714286,0.9845142457142856,1.0204571542857144,0.9628000285714284,0.9455999771428572,0.8613142628571429,0.8927428342857143,0.8471999714285714,0.8702285314285714,0.8961143257142857,0.9014856857142858,0.95154288,0.9737714514285716,0.97382856,0.9884000057142855,0.9998285771428572,0.9880571657142858,1.0635428285714286,1.0917143028571428,1.0854285542857145,1.1257142857142857,1.1363999714285713,1.1649142914285715,1.1674285885714286,1.21,1.1267428171428568,1.08,1.02268572,1.00040004,1.0865713942857145,1.1013714571428572,1.135885708571429,1.1309714171428569,1.167028548571429,1.1617143028571428,1.15765712,1.1870857428571429,1.1658285942857145,1.1485143142857142,1.18,1.1579428514285717,1.1928000285714286,1.218628542857143,1.25,1.2441714057142856,1.25040004,1.2971999714285716,1.3497714685714286,1.3509143085714286,1.409028582857143,1.4618286114285712,1.4865143714285716,1.5186286285714288,1.4958857085714288,1.5271428571428571,1.5469142342857145,1.57228568,1.5968000114285714,1.6559999314285714,1.6779999657142857],\"yaxis\":\"y\"},{\"hovertemplate\":\"variable=AMZN<br>date=%{x|%B %d, %Y}<br>value=%{y}<extra></extra>\",\"legendgroup\":\"AMZN\",\"line\":{\"color\":\"#00cc96\",\"dash\":\"solid\"},\"marker\":{\"symbol\":\"circle\"},\"mode\":\"lines\",\"name\":\"AMZN\",\"orientation\":\"v\",\"showlegend\":true,\"type\":\"scatter\",\"x\":[\"2018-01-01\",\"2018-01-08\",\"2018-01-15\",\"2018-01-22\",\"2018-01-29\",\"2018-02-05\",\"2018-02-12\",\"2018-02-19\",\"2018-02-26\",\"2018-03-05\",\"2018-03-12\",\"2018-03-19\",\"2018-03-26\",\"2018-04-02\",\"2018-04-09\",\"2018-04-16\",\"2018-04-23\",\"2018-04-30\",\"2018-05-07\",\"2018-05-14\",\"2018-05-21\",\"2018-05-28\",\"2018-06-04\",\"2018-06-11\",\"2018-06-18\",\"2018-06-25\",\"2018-07-02\",\"2018-07-09\",\"2018-07-16\",\"2018-07-23\",\"2018-07-30\",\"2018-08-06\",\"2018-08-13\",\"2018-08-20\",\"2018-08-27\",\"2018-09-03\",\"2018-09-10\",\"2018-09-17\",\"2018-09-24\",\"2018-10-01\",\"2018-10-08\",\"2018-10-15\",\"2018-10-22\",\"2018-10-29\",\"2018-11-05\",\"2018-11-12\",\"2018-11-19\",\"2018-11-26\",\"2018-12-03\",\"2018-12-10\",\"2018-12-17\",\"2018-12-24\",\"2018-12-31\",\"2019-01-07\",\"2019-01-14\",\"2019-01-21\",\"2019-01-28\",\"2019-02-04\",\"2019-02-11\",\"2019-02-18\",\"2019-02-25\",\"2019-03-04\",\"2019-03-11\",\"2019-03-18\",\"2019-03-25\",\"2019-04-01\",\"2019-04-08\",\"2019-04-15\",\"2019-04-22\",\"2019-04-29\",\"2019-05-06\",\"2019-05-13\",\"2019-05-20\",\"2019-05-27\",\"2019-06-03\",\"2019-06-10\",\"2019-06-17\",\"2019-06-24\",\"2019-07-01\",\"2019-07-08\",\"2019-07-15\",\"2019-07-22\",\"2019-07-29\",\"2019-08-05\",\"2019-08-12\",\"2019-08-19\",\"2019-08-26\",\"2019-09-02\",\"2019-09-09\",\"2019-09-16\",\"2019-09-23\",\"2019-09-30\",\"2019-10-07\",\"2019-10-14\",\"2019-10-21\",\"2019-10-28\",\"2019-11-04\",\"2019-11-11\",\"2019-11-18\",\"2019-11-25\",\"2019-12-02\",\"2019-12-09\",\"2019-12-16\",\"2019-12-23\",\"2019-12-30\"],\"xaxis\":\"x\",\"y\":[1.0,1.0618806117055757,1.0532404284307677,1.1406756202628388,1.1633743377885228,1.0898676795580526,1.1786207619316666,1.2203654438831366,1.2205688381237838,1.284548542665418,1.2786826844946546,1.2167532101702832,1.1775224533715958,1.1432627388670606,1.16405781403187,1.2427306664489322,1.2794473988384474,1.2862244591394254,1.3040906767647622,1.2808711585229775,1.3099809658381354,1.3355191588974509,1.3700554610940725,1.3960736368996989,1.3958296232020404,1.3829181608736414,1.391729163581091,1.4750394640760272,1.4755844971819587,1.4784890230752108,1.4833867718479574,1.5346502643964448,1.5313308069300795,1.5501814209506477,1.637494456642517,1.5881591374274802,1.6029011479217037,1.5580080272628667,1.6295946560652816,1.5373757268816928,1.4551718788522234,1.435174192909178,1.3365524179114776,1.3550368620941855,1.3931936419790223,1.2963616956201691,1.22204146042711,1.3750834106560272,1.3254226411301075,1.295141330176286,1.1206615472526131,1.2024830385169751,1.2817010232963573,1.334721869745653,1.3799892040777797,1.3591372224587452,1.3230632475991762,1.2921391799289847,1.3081910371293215,1.3273996770823542,1.3600809993969647,1.3186455808291295,1.393136635454831,1.4357762325393009,1.4487771761299302,1.4947687054188046,1.4994712046698764,1.5146280474808236,1.5869876346023932,1.596612214272432,1.537644171481961,1.5205753430783882,1.4833786279425618,1.44415601504927,1.4677172714127285,1.521120475440709,1.5549896884611636,1.540613747734834,1.58070684404494,1.6361032717659916,1.5982882308164057,1.5808207570233568,1.4833460531345568,1.4706054102388,1.4583936118945735,1.4234505212166575,1.445148654606286,1.491701504811883,1.4964446227063888,1.4596872708598625,1.4037863302335007,1.4153391824933792,1.4090502488441077,1.4298696556551374,1.43297747571907,1.4574742658589632,1.452950830015895,1.4152089825177483,1.420277551536714,1.4650894340951057,1.425061388144621,1.4326601685000062,1.4534552436648156,1.52122624451373,1.503360026888393],\"yaxis\":\"y\"},{\"hovertemplate\":\"variable=FB<br>date=%{x|%B %d, %Y}<br>value=%{y}<extra></extra>\",\"legendgroup\":\"FB\",\"line\":{\"color\":\"#ab63fa\",\"dash\":\"solid\"},\"marker\":{\"symbol\":\"circle\"},\"mode\":\"lines\",\"name\":\"FB\",\"orientation\":\"v\",\"showlegend\":true,\"type\":\"scatter\",\"x\":[\"2018-01-01\",\"2018-01-08\",\"2018-01-15\",\"2018-01-22\",\"2018-01-29\",\"2018-02-05\",\"2018-02-12\",\"2018-02-19\",\"2018-02-26\",\"2018-03-05\",\"2018-03-12\",\"2018-03-19\",\"2018-03-26\",\"2018-04-02\",\"2018-04-09\",\"2018-04-16\",\"2018-04-23\",\"2018-04-30\",\"2018-05-07\",\"2018-05-14\",\"2018-05-21\",\"2018-05-28\",\"2018-06-04\",\"2018-06-11\",\"2018-06-18\",\"2018-06-25\",\"2018-07-02\",\"2018-07-09\",\"2018-07-16\",\"2018-07-23\",\"2018-07-30\",\"2018-08-06\",\"2018-08-13\",\"2018-08-20\",\"2018-08-27\",\"2018-09-03\",\"2018-09-10\",\"2018-09-17\",\"2018-09-24\",\"2018-10-01\",\"2018-10-08\",\"2018-10-15\",\"2018-10-22\",\"2018-10-29\",\"2018-11-05\",\"2018-11-12\",\"2018-11-19\",\"2018-11-26\",\"2018-12-03\",\"2018-12-10\",\"2018-12-17\",\"2018-12-24\",\"2018-12-31\",\"2019-01-07\",\"2019-01-14\",\"2019-01-21\",\"2019-01-28\",\"2019-02-04\",\"2019-02-11\",\"2019-02-18\",\"2019-02-25\",\"2019-03-04\",\"2019-03-11\",\"2019-03-18\",\"2019-03-25\",\"2019-04-01\",\"2019-04-08\",\"2019-04-15\",\"2019-04-22\",\"2019-04-29\",\"2019-05-06\",\"2019-05-13\",\"2019-05-20\",\"2019-05-27\",\"2019-06-03\",\"2019-06-10\",\"2019-06-17\",\"2019-06-24\",\"2019-07-01\",\"2019-07-08\",\"2019-07-15\",\"2019-07-22\",\"2019-07-29\",\"2019-08-05\",\"2019-08-12\",\"2019-08-19\",\"2019-08-26\",\"2019-09-02\",\"2019-09-09\",\"2019-09-16\",\"2019-09-23\",\"2019-09-30\",\"2019-10-07\",\"2019-10-14\",\"2019-10-21\",\"2019-10-28\",\"2019-11-04\",\"2019-11-11\",\"2019-11-18\",\"2019-11-25\",\"2019-12-02\",\"2019-12-09\",\"2019-12-16\",\"2019-12-23\",\"2019-12-30\"],\"xaxis\":\"x\",\"y\":[1.0,0.9599678310954936,0.9702434422185674,1.0168584099483515,1.0183569327795472,0.9425207136466456,0.949210571606832,0.9809472149548658,0.9452501435830832,0.9913298905647344,0.9905806264731936,0.8530371628674177,0.8551778853033591,0.8413165210173983,0.8804923666954552,0.8899116599439659,0.9290339332394776,0.9451966568307202,1.0007492587396545,0.9776825642702948,0.9896708164943808,1.0382124633166991,1.0120417443283358,1.048166977313343,1.0796895826698554,1.039978596521961,1.0876638451914205,1.109553119307901,1.12357503483302,0.9359914015737306,0.951458353177682,0.9647310099631464,0.9301578668399936,0.934706922085943,0.9404869700673171,0.8725715159998442,0.8687182327411859,0.8719828084993478,0.8801712695690254,0.8420122930046896,0.8227990369986931,0.8244581110690464,0.7780036945784202,0.8046561475625534,0.7758094853901156,0.7467486995959743,0.7050039698687512,0.7525287475773482,0.735456214007293,0.7709927394918039,0.6687181856445861,0.7128712481818171,0.7382927084305257,0.7696012757955171,0.8029969932139043,0.7974845609584834,0.8868611275292119,0.8955311566861818,0.8696815348242483,0.8664168787877908,0.8685041144713691,0.9076799601494259,0.8883060779778621,0.8795289843340972,0.8921059494105662,0.9404334779630672,0.9585228806468435,0.9541342963617566,1.024832747396326,1.0461332337340143,1.0079742571696786,0.9917045600737096,0.9690125351133252,0.9497992791073284,0.9277495340299856,0.9704575658402708,1.0229595550561554,1.0329140690527994,1.0511104505931883,1.0964409334832987,1.0616001853379655,1.0690393020378066,1.011613582715111,1.0053518863681492,0.9831415097733526,0.951297801938524,0.993684731270493,1.003425201923729,1.0018196199576253,1.0164837404393767,0.9478191079105452,0.9657478790768677,0.9857639608531776,0.9946481136318508,1.0055659243596704,1.03623221184162,1.0213539730900516,1.044153062537231,1.0640620851786324,1.0791543619217223,1.07599677037206,1.0388546682733315,1.1040941738048429,1.113727585323171,1.0984746770626277],\"yaxis\":\"y\"},{\"hovertemplate\":\"variable=NFLX<br>date=%{x|%B %d, %Y}<br>value=%{y}<extra></extra>\",\"legendgroup\":\"NFLX\",\"line\":{\"color\":\"#FFA15A\",\"dash\":\"solid\"},\"marker\":{\"symbol\":\"circle\"},\"mode\":\"lines\",\"name\":\"NFLX\",\"orientation\":\"v\",\"showlegend\":true,\"type\":\"scatter\",\"x\":[\"2018-01-01\",\"2018-01-08\",\"2018-01-15\",\"2018-01-22\",\"2018-01-29\",\"2018-02-05\",\"2018-02-12\",\"2018-02-19\",\"2018-02-26\",\"2018-03-05\",\"2018-03-12\",\"2018-03-19\",\"2018-03-26\",\"2018-04-02\",\"2018-04-09\",\"2018-04-16\",\"2018-04-23\",\"2018-04-30\",\"2018-05-07\",\"2018-05-14\",\"2018-05-21\",\"2018-05-28\",\"2018-06-04\",\"2018-06-11\",\"2018-06-18\",\"2018-06-25\",\"2018-07-02\",\"2018-07-09\",\"2018-07-16\",\"2018-07-23\",\"2018-07-30\",\"2018-08-06\",\"2018-08-13\",\"2018-08-20\",\"2018-08-27\",\"2018-09-03\",\"2018-09-10\",\"2018-09-17\",\"2018-09-24\",\"2018-10-01\",\"2018-10-08\",\"2018-10-15\",\"2018-10-22\",\"2018-10-29\",\"2018-11-05\",\"2018-11-12\",\"2018-11-19\",\"2018-11-26\",\"2018-12-03\",\"2018-12-10\",\"2018-12-17\",\"2018-12-24\",\"2018-12-31\",\"2019-01-07\",\"2019-01-14\",\"2019-01-21\",\"2019-01-28\",\"2019-02-04\",\"2019-02-11\",\"2019-02-18\",\"2019-02-25\",\"2019-03-04\",\"2019-03-11\",\"2019-03-18\",\"2019-03-25\",\"2019-04-01\",\"2019-04-08\",\"2019-04-15\",\"2019-04-22\",\"2019-04-29\",\"2019-05-06\",\"2019-05-13\",\"2019-05-20\",\"2019-05-27\",\"2019-06-03\",\"2019-06-10\",\"2019-06-17\",\"2019-06-24\",\"2019-07-01\",\"2019-07-08\",\"2019-07-15\",\"2019-07-22\",\"2019-07-29\",\"2019-08-05\",\"2019-08-12\",\"2019-08-19\",\"2019-08-26\",\"2019-09-02\",\"2019-09-09\",\"2019-09-16\",\"2019-09-23\",\"2019-09-30\",\"2019-10-07\",\"2019-10-14\",\"2019-10-21\",\"2019-10-28\",\"2019-11-04\",\"2019-11-11\",\"2019-11-18\",\"2019-11-25\",\"2019-12-02\",\"2019-12-09\",\"2019-12-16\",\"2019-12-23\",\"2019-12-30\"],\"xaxis\":\"x\",\"y\":[1.0,1.0535263142643383,1.0498595254569378,1.3076813155940448,1.273536771428717,1.188008929282134,1.3263487897912096,1.3616362026373592,1.4336396058469547,1.5783608462698024,1.5165008067883996,1.4331158380609592,1.4064955424902252,1.3755416882817828,1.484118227436587,1.5608837620628662,1.484642138086525,1.5243106261176576,1.5546453794312736,1.5437877293254985,1.6728891882258874,1.7140339274719294,1.7170817582484463,1.866660325094997,1.9576645850358447,1.864041067097456,1.94414015086099,1.8848515575777052,1.7193674908479577,1.691556657660921,1.633839648701375,1.647078369277624,1.50854798541483,1.7087480282692504,1.7509404459512254,1.660459949034241,1.7360826197418304,1.720034255916133,1.7816562507344105,1.6731749018244944,1.617029334324746,1.5842183202957685,1.4278298007564696,1.4719748494696214,1.4451640257830367,1.3629695899097676,1.2325348866009125,1.3625886860662726,1.262631595251403,1.2707271281792676,1.1733415549944868,1.2194865512765718,1.4170674789973934,1.6076479259096166,1.6148387919701228,1.6098384682642397,1.6184103905326357,1.6551740498315624,1.699461814861141,1.7287488945009553,1.7016048311442251,1.6648411718452985,1.7213199790151918,1.7191771103581814,1.6979855684083631,1.7405113638622944,1.6721748970861734,1.716034084574645,1.7850849901165535,1.8335634546034707,1.7193199695385504,1.6879375377890014,1.6876518241903944,1.6347444679569396,1.7185103405278743,1.6178389585732904,1.758226497494488,1.7492261453110591,1.8122290534732837,1.7774655512770718,1.5005476379697218,1.5990284823318142,1.518310297673454,1.471165225221077,1.4419733358261506,1.3878755896024673,1.398876103650743,1.381827735086725,1.400780927644628,1.2893470810670251,1.2528214711933554,1.299061872016242,1.347349808387309,1.3110147218673576,1.3182532521012131,1.3658269020946976,1.3884946904972928,1.4049716271019663,1.4785466146353017,1.4984522906221185,1.4636411194904255,1.4214962278799892,1.6043620457078422,1.567169808867808,1.5408828958311611],\"yaxis\":\"y\"},{\"hovertemplate\":\"variable=MSFT<br>date=%{x|%B %d, %Y}<br>value=%{y}<extra></extra>\",\"legendgroup\":\"MSFT\",\"line\":{\"color\":\"#19d3f3\",\"dash\":\"solid\"},\"marker\":{\"symbol\":\"circle\"},\"mode\":\"lines\",\"name\":\"MSFT\",\"orientation\":\"v\",\"showlegend\":true,\"type\":\"scatter\",\"x\":[\"2018-01-01\",\"2018-01-08\",\"2018-01-15\",\"2018-01-22\",\"2018-01-29\",\"2018-02-05\",\"2018-02-12\",\"2018-02-19\",\"2018-02-26\",\"2018-03-05\",\"2018-03-12\",\"2018-03-19\",\"2018-03-26\",\"2018-04-02\",\"2018-04-09\",\"2018-04-16\",\"2018-04-23\",\"2018-04-30\",\"2018-05-07\",\"2018-05-14\",\"2018-05-21\",\"2018-05-28\",\"2018-06-04\",\"2018-06-11\",\"2018-06-18\",\"2018-06-25\",\"2018-07-02\",\"2018-07-09\",\"2018-07-16\",\"2018-07-23\",\"2018-07-30\",\"2018-08-06\",\"2018-08-13\",\"2018-08-20\",\"2018-08-27\",\"2018-09-03\",\"2018-09-10\",\"2018-09-17\",\"2018-09-24\",\"2018-10-01\",\"2018-10-08\",\"2018-10-15\",\"2018-10-22\",\"2018-10-29\",\"2018-11-05\",\"2018-11-12\",\"2018-11-19\",\"2018-11-26\",\"2018-12-03\",\"2018-12-10\",\"2018-12-17\",\"2018-12-24\",\"2018-12-31\",\"2019-01-07\",\"2019-01-14\",\"2019-01-21\",\"2019-01-28\",\"2019-02-04\",\"2019-02-11\",\"2019-02-18\",\"2019-02-25\",\"2019-03-04\",\"2019-03-11\",\"2019-03-18\",\"2019-03-25\",\"2019-04-01\",\"2019-04-08\",\"2019-04-15\",\"2019-04-22\",\"2019-04-29\",\"2019-05-06\",\"2019-05-13\",\"2019-05-20\",\"2019-05-27\",\"2019-06-03\",\"2019-06-10\",\"2019-06-17\",\"2019-06-24\",\"2019-07-01\",\"2019-07-08\",\"2019-07-15\",\"2019-07-22\",\"2019-07-29\",\"2019-08-05\",\"2019-08-12\",\"2019-08-19\",\"2019-08-26\",\"2019-09-02\",\"2019-09-09\",\"2019-09-16\",\"2019-09-23\",\"2019-09-30\",\"2019-10-07\",\"2019-10-14\",\"2019-10-21\",\"2019-10-28\",\"2019-11-04\",\"2019-11-11\",\"2019-11-18\",\"2019-11-25\",\"2019-12-02\",\"2019-12-09\",\"2019-12-16\",\"2019-12-23\",\"2019-12-30\"],\"xaxis\":\"x\",\"y\":[1.0,1.015988161560536,1.0205238457756245,1.0665607876956391,1.0407075282751441,0.9998865857832728,1.043202153459527,1.0665607876956391,1.0551082990110374,1.0946819232411402,1.0726839307702931,0.9885474319413214,1.034924537137441,1.0231318851767346,1.0554484622871425,1.0772196149853812,1.0865177211357813,1.0790339249567087,1.1078352963411884,1.0926408755495889,1.1153191832334917,1.1428733270694336,1.1523981709400573,1.1353894401771305,1.1385644826269534,1.1181539716939797,1.147068848008417,1.1954869895569342,1.2050118447667115,1.2210000857013248,1.225082192423581,1.2359677687727004,1.2198661929954373,1.2291642991458374,1.2737271737447062,1.227009825898405,1.2855199050794894,1.2956117406596723,1.2968590589214408,1.2714592862805467,1.242431086462613,1.2321125018230523,1.2128358835959658,1.203764617218174,1.242431086462613,1.2279169808840689,1.1687265864899288,1.2573987581948347,1.1885701057133435,1.2022904705229511,1.1138451159123457,1.1383376428543452,1.1557999511101045,1.1656650489700635,1.2213402489774292,1.2152170945636216,1.1654382205366092,1.1982083638006946,1.2271232401151322,1.2583059131804986,1.275994970495635,1.2530899137523548,1.3143213671771998,1.3272479912178707,1.3373398267980536,1.3594511427723972,1.371470623166558,1.398911443499003,1.4728426811919109,1.4616168621926098,1.4415465939098175,1.45220551191279,1.4314547583296346,1.4024265471725468,1.489964746797488,1.5018708923489987,1.5531239130712344,1.518993128041884,1.5541444028995486,1.5750084006121237,1.5491551411916282,1.6026759586647925,1.5523300929282209,1.5615149549492018,1.5435990692006107,1.5125297196387406,1.5632157599905712,1.5772763674503605,1.5570926849508404,1.581131634400008,1.5617416132953483,1.5661638719545554,1.583852929269692,1.5581131747791548,1.5957590748212025,1.629663201504406,1.655062974145301,1.7005329130166025,1.6962239778608914,1.7165211652903694,1.720716595516122,1.7522394318575931,1.7848962516181823,1.8024719740906685,1.7881845268582712],\"yaxis\":\"y\"}],                        {\"height\":680,\"hovermode\":\"x\",\"legend\":{\"title\":{\"text\":\"variable\"},\"tracegroupgap\":0},\"template\":{\"data\":{\"bar\":[{\"error_x\":{\"color\":\"#2a3f5f\"},\"error_y\":{\"color\":\"#2a3f5f\"},\"marker\":{\"line\":{\"color\":\"#E5ECF6\",\"width\":0.5},\"pattern\":{\"fillmode\":\"overlay\",\"size\":10,\"solidity\":0.2}},\"type\":\"bar\"}],\"barpolar\":[{\"marker\":{\"line\":{\"color\":\"#E5ECF6\",\"width\":0.5},\"pattern\":{\"fillmode\":\"overlay\",\"size\":10,\"solidity\":0.2}},\"type\":\"barpolar\"}],\"carpet\":[{\"aaxis\":{\"endlinecolor\":\"#2a3f5f\",\"gridcolor\":\"white\",\"linecolor\":\"white\",\"minorgridcolor\":\"white\",\"startlinecolor\":\"#2a3f5f\"},\"baxis\":{\"endlinecolor\":\"#2a3f5f\",\"gridcolor\":\"white\",\"linecolor\":\"white\",\"minorgridcolor\":\"white\",\"startlinecolor\":\"#2a3f5f\"},\"type\":\"carpet\"}],\"choropleth\":[{\"colorbar\":{\"outlinewidth\":0,\"ticks\":\"\"},\"type\":\"choropleth\"}],\"contour\":[{\"colorbar\":{\"outlinewidth\":0,\"ticks\":\"\"},\"colorscale\":[[0.0,\"#0d0887\"],[0.1111111111111111,\"#46039f\"],[0.2222222222222222,\"#7201a8\"],[0.3333333333333333,\"#9c179e\"],[0.4444444444444444,\"#bd3786\"],[0.5555555555555556,\"#d8576b\"],[0.6666666666666666,\"#ed7953\"],[0.7777777777777778,\"#fb9f3a\"],[0.8888888888888888,\"#fdca26\"],[1.0,\"#f0f921\"]],\"type\":\"contour\"}],\"contourcarpet\":[{\"colorbar\":{\"outlinewidth\":0,\"ticks\":\"\"},\"type\":\"contourcarpet\"}],\"heatmap\":[{\"colorbar\":{\"outlinewidth\":0,\"ticks\":\"\"},\"colorscale\":[[0.0,\"#0d0887\"],[0.1111111111111111,\"#46039f\"],[0.2222222222222222,\"#7201a8\"],[0.3333333333333333,\"#9c179e\"],[0.4444444444444444,\"#bd3786\"],[0.5555555555555556,\"#d8576b\"],[0.6666666666666666,\"#ed7953\"],[0.7777777777777778,\"#fb9f3a\"],[0.8888888888888888,\"#fdca26\"],[1.0,\"#f0f921\"]],\"type\":\"heatmap\"}],\"heatmapgl\":[{\"colorbar\":{\"outlinewidth\":0,\"ticks\":\"\"},\"colorscale\":[[0.0,\"#0d0887\"],[0.1111111111111111,\"#46039f\"],[0.2222222222222222,\"#7201a8\"],[0.3333333333333333,\"#9c179e\"],[0.4444444444444444,\"#bd3786\"],[0.5555555555555556,\"#d8576b\"],[0.6666666666666666,\"#ed7953\"],[0.7777777777777778,\"#fb9f3a\"],[0.8888888888888888,\"#fdca26\"],[1.0,\"#f0f921\"]],\"type\":\"heatmapgl\"}],\"histogram\":[{\"marker\":{\"pattern\":{\"fillmode\":\"overlay\",\"size\":10,\"solidity\":0.2}},\"type\":\"histogram\"}],\"histogram2d\":[{\"colorbar\":{\"outlinewidth\":0,\"ticks\":\"\"},\"colorscale\":[[0.0,\"#0d0887\"],[0.1111111111111111,\"#46039f\"],[0.2222222222222222,\"#7201a8\"],[0.3333333333333333,\"#9c179e\"],[0.4444444444444444,\"#bd3786\"],[0.5555555555555556,\"#d8576b\"],[0.6666666666666666,\"#ed7953\"],[0.7777777777777778,\"#fb9f3a\"],[0.8888888888888888,\"#fdca26\"],[1.0,\"#f0f921\"]],\"type\":\"histogram2d\"}],\"histogram2dcontour\":[{\"colorbar\":{\"outlinewidth\":0,\"ticks\":\"\"},\"colorscale\":[[0.0,\"#0d0887\"],[0.1111111111111111,\"#46039f\"],[0.2222222222222222,\"#7201a8\"],[0.3333333333333333,\"#9c179e\"],[0.4444444444444444,\"#bd3786\"],[0.5555555555555556,\"#d8576b\"],[0.6666666666666666,\"#ed7953\"],[0.7777777777777778,\"#fb9f3a\"],[0.8888888888888888,\"#fdca26\"],[1.0,\"#f0f921\"]],\"type\":\"histogram2dcontour\"}],\"mesh3d\":[{\"colorbar\":{\"outlinewidth\":0,\"ticks\":\"\"},\"type\":\"mesh3d\"}],\"parcoords\":[{\"line\":{\"colorbar\":{\"outlinewidth\":0,\"ticks\":\"\"}},\"type\":\"parcoords\"}],\"pie\":[{\"automargin\":true,\"type\":\"pie\"}],\"scatter\":[{\"marker\":{\"colorbar\":{\"outlinewidth\":0,\"ticks\":\"\"}},\"type\":\"scatter\"}],\"scatter3d\":[{\"line\":{\"colorbar\":{\"outlinewidth\":0,\"ticks\":\"\"}},\"marker\":{\"colorbar\":{\"outlinewidth\":0,\"ticks\":\"\"}},\"type\":\"scatter3d\"}],\"scattercarpet\":[{\"marker\":{\"colorbar\":{\"outlinewidth\":0,\"ticks\":\"\"}},\"type\":\"scattercarpet\"}],\"scattergeo\":[{\"marker\":{\"colorbar\":{\"outlinewidth\":0,\"ticks\":\"\"}},\"type\":\"scattergeo\"}],\"scattergl\":[{\"marker\":{\"colorbar\":{\"outlinewidth\":0,\"ticks\":\"\"}},\"type\":\"scattergl\"}],\"scattermapbox\":[{\"marker\":{\"colorbar\":{\"outlinewidth\":0,\"ticks\":\"\"}},\"type\":\"scattermapbox\"}],\"scatterpolar\":[{\"marker\":{\"colorbar\":{\"outlinewidth\":0,\"ticks\":\"\"}},\"type\":\"scatterpolar\"}],\"scatterpolargl\":[{\"marker\":{\"colorbar\":{\"outlinewidth\":0,\"ticks\":\"\"}},\"type\":\"scatterpolargl\"}],\"scatterternary\":[{\"marker\":{\"colorbar\":{\"outlinewidth\":0,\"ticks\":\"\"}},\"type\":\"scatterternary\"}],\"surface\":[{\"colorbar\":{\"outlinewidth\":0,\"ticks\":\"\"},\"colorscale\":[[0.0,\"#0d0887\"],[0.1111111111111111,\"#46039f\"],[0.2222222222222222,\"#7201a8\"],[0.3333333333333333,\"#9c179e\"],[0.4444444444444444,\"#bd3786\"],[0.5555555555555556,\"#d8576b\"],[0.6666666666666666,\"#ed7953\"],[0.7777777777777778,\"#fb9f3a\"],[0.8888888888888888,\"#fdca26\"],[1.0,\"#f0f921\"]],\"type\":\"surface\"}],\"table\":[{\"cells\":{\"fill\":{\"color\":\"#EBF0F8\"},\"line\":{\"color\":\"white\"}},\"header\":{\"fill\":{\"color\":\"#C8D4E3\"},\"line\":{\"color\":\"white\"}},\"type\":\"table\"}]},\"layout\":{\"annotationdefaults\":{\"arrowcolor\":\"#2a3f5f\",\"arrowhead\":0,\"arrowwidth\":1},\"autotypenumbers\":\"strict\",\"coloraxis\":{\"colorbar\":{\"outlinewidth\":0,\"ticks\":\"\"}},\"colorscale\":{\"diverging\":[[0,\"#8e0152\"],[0.1,\"#c51b7d\"],[0.2,\"#de77ae\"],[0.3,\"#f1b6da\"],[0.4,\"#fde0ef\"],[0.5,\"#f7f7f7\"],[0.6,\"#e6f5d0\"],[0.7,\"#b8e186\"],[0.8,\"#7fbc41\"],[0.9,\"#4d9221\"],[1,\"#276419\"]],\"sequential\":[[0.0,\"#0d0887\"],[0.1111111111111111,\"#46039f\"],[0.2222222222222222,\"#7201a8\"],[0.3333333333333333,\"#9c179e\"],[0.4444444444444444,\"#bd3786\"],[0.5555555555555556,\"#d8576b\"],[0.6666666666666666,\"#ed7953\"],[0.7777777777777778,\"#fb9f3a\"],[0.8888888888888888,\"#fdca26\"],[1.0,\"#f0f921\"]],\"sequentialminus\":[[0.0,\"#0d0887\"],[0.1111111111111111,\"#46039f\"],[0.2222222222222222,\"#7201a8\"],[0.3333333333333333,\"#9c179e\"],[0.4444444444444444,\"#bd3786\"],[0.5555555555555556,\"#d8576b\"],[0.6666666666666666,\"#ed7953\"],[0.7777777777777778,\"#fb9f3a\"],[0.8888888888888888,\"#fdca26\"],[1.0,\"#f0f921\"]]},\"colorway\":[\"#636efa\",\"#EF553B\",\"#00cc96\",\"#ab63fa\",\"#FFA15A\",\"#19d3f3\",\"#FF6692\",\"#B6E880\",\"#FF97FF\",\"#FECB52\"],\"font\":{\"color\":\"#2a3f5f\"},\"geo\":{\"bgcolor\":\"white\",\"lakecolor\":\"white\",\"landcolor\":\"#E5ECF6\",\"showlakes\":true,\"showland\":true,\"subunitcolor\":\"white\"},\"hoverlabel\":{\"align\":\"left\"},\"hovermode\":\"closest\",\"mapbox\":{\"style\":\"light\"},\"paper_bgcolor\":\"white\",\"plot_bgcolor\":\"#E5ECF6\",\"polar\":{\"angularaxis\":{\"gridcolor\":\"white\",\"linecolor\":\"white\",\"ticks\":\"\"},\"bgcolor\":\"#E5ECF6\",\"radialaxis\":{\"gridcolor\":\"white\",\"linecolor\":\"white\",\"ticks\":\"\"}},\"scene\":{\"xaxis\":{\"backgroundcolor\":\"#E5ECF6\",\"gridcolor\":\"white\",\"gridwidth\":2,\"linecolor\":\"white\",\"showbackground\":true,\"ticks\":\"\",\"zerolinecolor\":\"white\"},\"yaxis\":{\"backgroundcolor\":\"#E5ECF6\",\"gridcolor\":\"white\",\"gridwidth\":2,\"linecolor\":\"white\",\"showbackground\":true,\"ticks\":\"\",\"zerolinecolor\":\"white\"},\"zaxis\":{\"backgroundcolor\":\"#E5ECF6\",\"gridcolor\":\"white\",\"gridwidth\":2,\"linecolor\":\"white\",\"showbackground\":true,\"ticks\":\"\",\"zerolinecolor\":\"white\"}},\"shapedefaults\":{\"line\":{\"color\":\"#2a3f5f\"}},\"ternary\":{\"aaxis\":{\"gridcolor\":\"white\",\"linecolor\":\"white\",\"ticks\":\"\"},\"baxis\":{\"gridcolor\":\"white\",\"linecolor\":\"white\",\"ticks\":\"\"},\"bgcolor\":\"#E5ECF6\",\"caxis\":{\"gridcolor\":\"white\",\"linecolor\":\"white\",\"ticks\":\"\"}},\"title\":{\"x\":0.05},\"xaxis\":{\"automargin\":true,\"gridcolor\":\"white\",\"linecolor\":\"white\",\"ticks\":\"\",\"title\":{\"standoff\":15},\"zerolinecolor\":\"white\",\"zerolinewidth\":2},\"yaxis\":{\"automargin\":true,\"gridcolor\":\"white\",\"linecolor\":\"white\",\"ticks\":\"\",\"title\":{\"standoff\":15},\"zerolinecolor\":\"white\",\"zerolinewidth\":2}}},\"title\":{\"text\":\"custom tick labels\"},\"width\":600,\"xaxis\":{\"anchor\":\"y\",\"domain\":[0.0,1.0],\"dtick\":\"M1\",\"tickformat\":\"%b\\n%Y\",\"title\":{\"text\":\"date\"}},\"yaxis\":{\"anchor\":\"x\",\"domain\":[0.0,1.0],\"title\":{\"text\":\"value\"}}},                        {\"responsive\": true}                    ).then(function(){\n",
       "                            \n",
       "var gd = document.getElementById('f8bd97c7-ad3b-4454-ba25-8c02f3e1b01f');\n",
       "var x = new MutationObserver(function (mutations, observer) {{\n",
       "        var display = window.getComputedStyle(gd).display;\n",
       "        if (!display || display === 'none') {{\n",
       "            console.log([gd, 'removed!']);\n",
       "            Plotly.purge(gd);\n",
       "            observer.disconnect();\n",
       "        }}\n",
       "}});\n",
       "\n",
       "// Listen for the removal of the full notebook cells\n",
       "var notebookContainer = gd.closest('#notebook-container');\n",
       "if (notebookContainer) {{\n",
       "    x.observe(notebookContainer, {childList: true});\n",
       "}}\n",
       "\n",
       "// Listen for the clearing of the current output cell\n",
       "var outputEl = gd.closest('.output');\n",
       "if (outputEl) {{\n",
       "    x.observe(outputEl, {childList: true});\n",
       "}}\n",
       "\n",
       "                        })                };                });            </script>        </div>"
      ]
     },
     "metadata": {},
     "output_type": "display_data"
    }
   ],
   "source": [
    "import plotly.express as px\n",
    "df2 = px.data.stocks()\n",
    "fig = px.line(df2, x=\"date\", y=df2.columns,\n",
    "              hover_data={\"date\": \"|%B %d, %Y\"},\n",
    "              title='custom tick labels',width=600, height=680)\n",
    "fig.update_xaxes(\n",
    "    dtick=\"M1\",\n",
    "    tickformat=\"%b\\n%Y\")\n",
    "fig.update_layout(hovermode=\"x\")\n",
    "fig.show()"
   ]
  },
  {
   "cell_type": "code",
   "execution_count": 99,
   "id": "9777d2e9",
   "metadata": {},
   "outputs": [
    {
     "data": {
      "text/plain": [
       "'2018-01-15'"
      ]
     },
     "execution_count": 99,
     "metadata": {},
     "output_type": "execute_result"
    }
   ],
   "source": [
    "df2[\"date\"][2]"
   ]
  },
  {
   "cell_type": "code",
   "execution_count": 38,
   "id": "0ad9f36e",
   "metadata": {},
   "outputs": [
    {
     "data": {
      "text/html": [
       "<div>\n",
       "<style scoped>\n",
       "    .dataframe tbody tr th:only-of-type {\n",
       "        vertical-align: middle;\n",
       "    }\n",
       "\n",
       "    .dataframe tbody tr th {\n",
       "        vertical-align: top;\n",
       "    }\n",
       "\n",
       "    .dataframe thead th {\n",
       "        text-align: right;\n",
       "    }\n",
       "</style>\n",
       "<table border=\"1\" class=\"dataframe\">\n",
       "  <thead>\n",
       "    <tr style=\"text-align: right;\">\n",
       "      <th>company</th>\n",
       "      <th>GOOG</th>\n",
       "      <th>AAPL</th>\n",
       "      <th>AMZN</th>\n",
       "      <th>FB</th>\n",
       "      <th>NFLX</th>\n",
       "      <th>MSFT</th>\n",
       "    </tr>\n",
       "    <tr>\n",
       "      <th>date</th>\n",
       "      <th></th>\n",
       "      <th></th>\n",
       "      <th></th>\n",
       "      <th></th>\n",
       "      <th></th>\n",
       "      <th></th>\n",
       "    </tr>\n",
       "  </thead>\n",
       "  <tbody>\n",
       "    <tr>\n",
       "      <th>2018-01-01</th>\n",
       "      <td>1.000000</td>\n",
       "      <td>1.000000</td>\n",
       "      <td>1.000000</td>\n",
       "      <td>1.000000</td>\n",
       "      <td>1.000000</td>\n",
       "      <td>1.000000</td>\n",
       "    </tr>\n",
       "    <tr>\n",
       "      <th>2018-01-08</th>\n",
       "      <td>1.018172</td>\n",
       "      <td>1.011943</td>\n",
       "      <td>1.061881</td>\n",
       "      <td>0.959968</td>\n",
       "      <td>1.053526</td>\n",
       "      <td>1.015988</td>\n",
       "    </tr>\n",
       "    <tr>\n",
       "      <th>2018-01-15</th>\n",
       "      <td>1.032008</td>\n",
       "      <td>1.019771</td>\n",
       "      <td>1.053240</td>\n",
       "      <td>0.970243</td>\n",
       "      <td>1.049860</td>\n",
       "      <td>1.020524</td>\n",
       "    </tr>\n",
       "    <tr>\n",
       "      <th>2018-01-22</th>\n",
       "      <td>1.066783</td>\n",
       "      <td>0.980057</td>\n",
       "      <td>1.140676</td>\n",
       "      <td>1.016858</td>\n",
       "      <td>1.307681</td>\n",
       "      <td>1.066561</td>\n",
       "    </tr>\n",
       "    <tr>\n",
       "      <th>2018-01-29</th>\n",
       "      <td>1.008773</td>\n",
       "      <td>0.917143</td>\n",
       "      <td>1.163374</td>\n",
       "      <td>1.018357</td>\n",
       "      <td>1.273537</td>\n",
       "      <td>1.040708</td>\n",
       "    </tr>\n",
       "  </tbody>\n",
       "</table>\n",
       "</div>"
      ],
      "text/plain": [
       "company         GOOG      AAPL      AMZN        FB      NFLX      MSFT\n",
       "date                                                                  \n",
       "2018-01-01  1.000000  1.000000  1.000000  1.000000  1.000000  1.000000\n",
       "2018-01-08  1.018172  1.011943  1.061881  0.959968  1.053526  1.015988\n",
       "2018-01-15  1.032008  1.019771  1.053240  0.970243  1.049860  1.020524\n",
       "2018-01-22  1.066783  0.980057  1.140676  1.016858  1.307681  1.066561\n",
       "2018-01-29  1.008773  0.917143  1.163374  1.018357  1.273537  1.040708"
      ]
     },
     "execution_count": 38,
     "metadata": {},
     "output_type": "execute_result"
    }
   ],
   "source": [
    "df.head()"
   ]
  },
  {
   "cell_type": "code",
   "execution_count": null,
   "id": "9476c9f2",
   "metadata": {},
   "outputs": [],
   "source": []
  },
  {
   "cell_type": "code",
   "execution_count": null,
   "id": "5904151a",
   "metadata": {},
   "outputs": [],
   "source": []
  }
 ],
 "metadata": {
  "kernelspec": {
   "display_name": "Python 3",
   "language": "python",
   "name": "python3"
  },
  "language_info": {
   "codemirror_mode": {
    "name": "ipython",
    "version": 3
   },
   "file_extension": ".py",
   "mimetype": "text/x-python",
   "name": "python",
   "nbconvert_exporter": "python",
   "pygments_lexer": "ipython3",
   "version": "3.6.8"
  }
 },
 "nbformat": 4,
 "nbformat_minor": 5
}
