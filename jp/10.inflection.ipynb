{
 "cells": [
  {
   "cell_type": "code",
   "execution_count": 1,
   "id": "fe682257",
   "metadata": {},
   "outputs": [],
   "source": [
    "import pandas as pd\n",
    "import numpy as np\n",
    "import re\n",
    "from scipy.ndimage import gaussian_filter1d\n",
    "import matplotlib.pyplot as plt\n",
    "import datetime\n",
    "\n",
    "def read_data(local=False, offset=0):\n",
    "    if not local:\n",
    "        print(\"read database!!!\")\n",
    "        df = pd.read_sql(f'SELECT * FROM crypt where id >{offset}', con=engine)\n",
    "        df.to_csv(\"data.csv\")\n",
    "    else:\n",
    "        print(\"read local df\")\n",
    "        df = pd.read_csv(\"data.csv\", index_col=0)\n",
    "    start = df.iloc[0][\"time\"]\n",
    "    end = df.iloc[-1][\"time\"]\n",
    "    return df, start, end\n",
    "\n",
    "def cut_data(df, n):\n",
    "    try:\n",
    "        start = re.sub(\":\\d\\d:\", \":00:\", str(df.index[0]))\n",
    "        bins = pd.date_range(start, df.index[-1], freq=f'{n}Min')\n",
    "        dti = pd.DatetimeIndex([bins[-1] + datetime.timedelta(minutes=n)])\n",
    "        bins = bins.append(dti)\n",
    "        cats = pd.cut(pd.to_datetime(df.index), bins=bins, labels=bins[:-1], right=False)\n",
    "        df[\"cats\"] = cats\n",
    "        df1 = df.groupby([\"cats\"]).apply(lambda i: i.iloc[-1] if len(i) > 0 else None)\n",
    "        df1.fillna(method='bfill', inplace=True)\n",
    "        df1.index = cats.categories\n",
    "        df1.drop('cats', axis=1, inplace=True)\n",
    "        return df1\n",
    "    except Exception as e:\n",
    "        df.to_csv(\"fuck.csv\")\n",
    "        print(df.head(5))\n",
    "        print(df.tail(5))\n",
    "        print(f\"cut data {n}\",start,df.index[-1])\n",
    "        print(repr(e))"
   ]
  },
  {
   "cell_type": "code",
   "execution_count": 2,
   "id": "80fcfb4d",
   "metadata": {},
   "outputs": [],
   "source": [
    "df = pd.read_csv(\"data.csv\",index_col=0)"
   ]
  },
  {
   "cell_type": "code",
   "execution_count": 3,
   "id": "f457607e",
   "metadata": {},
   "outputs": [],
   "source": [
    "df3 = cut_data(df,3)"
   ]
  },
  {
   "cell_type": "code",
   "execution_count": 4,
   "id": "636000b3",
   "metadata": {},
   "outputs": [
    {
     "data": {
      "text/html": [
       "<div>\n",
       "<style scoped>\n",
       "    .dataframe tbody tr th:only-of-type {\n",
       "        vertical-align: middle;\n",
       "    }\n",
       "\n",
       "    .dataframe tbody tr th {\n",
       "        vertical-align: top;\n",
       "    }\n",
       "\n",
       "    .dataframe thead th {\n",
       "        text-align: right;\n",
       "    }\n",
       "</style>\n",
       "<table border=\"1\" class=\"dataframe\">\n",
       "  <thead>\n",
       "    <tr style=\"text-align: right;\">\n",
       "      <th></th>\n",
       "      <th>ALICE</th>\n",
       "      <th>BTC</th>\n",
       "      <th>ADA</th>\n",
       "      <th>BNB</th>\n",
       "      <th>QTUM</th>\n",
       "      <th>SUSHI</th>\n",
       "      <th>SHIB</th>\n",
       "      <th>XTZ</th>\n",
       "      <th>ALGO</th>\n",
       "      <th>CHR</th>\n",
       "      <th>...</th>\n",
       "      <th>DOT</th>\n",
       "      <th>LINK</th>\n",
       "      <th>ZEN</th>\n",
       "      <th>NEAR</th>\n",
       "      <th>SOL</th>\n",
       "      <th>AUDIO</th>\n",
       "      <th>BTT</th>\n",
       "      <th>ALPHA</th>\n",
       "      <th>RAY</th>\n",
       "      <th>FTM</th>\n",
       "    </tr>\n",
       "  </thead>\n",
       "  <tbody>\n",
       "    <tr>\n",
       "      <th>2021-09-11 16:00:00</th>\n",
       "      <td>12.52</td>\n",
       "      <td>45236.4</td>\n",
       "      <td>2.383</td>\n",
       "      <td>399.9</td>\n",
       "      <td>12.467</td>\n",
       "      <td>11.138</td>\n",
       "      <td>0.000006</td>\n",
       "      <td>7.836</td>\n",
       "      <td>2.1506</td>\n",
       "      <td>0.3321</td>\n",
       "      <td>...</td>\n",
       "      <td>28.63</td>\n",
       "      <td>26.57</td>\n",
       "      <td>79.97</td>\n",
       "      <td>8.933</td>\n",
       "      <td>177.63</td>\n",
       "      <td>2.217</td>\n",
       "      <td>0.003892</td>\n",
       "      <td>1.0992</td>\n",
       "      <td>15.399</td>\n",
       "      <td>1.4769</td>\n",
       "    </tr>\n",
       "    <tr>\n",
       "      <th>2021-09-11 16:03:00</th>\n",
       "      <td>12.52</td>\n",
       "      <td>45236.4</td>\n",
       "      <td>2.383</td>\n",
       "      <td>399.9</td>\n",
       "      <td>12.467</td>\n",
       "      <td>11.138</td>\n",
       "      <td>0.000006</td>\n",
       "      <td>7.836</td>\n",
       "      <td>2.1506</td>\n",
       "      <td>0.3321</td>\n",
       "      <td>...</td>\n",
       "      <td>28.63</td>\n",
       "      <td>26.57</td>\n",
       "      <td>79.97</td>\n",
       "      <td>8.933</td>\n",
       "      <td>177.63</td>\n",
       "      <td>2.217</td>\n",
       "      <td>0.003892</td>\n",
       "      <td>1.0992</td>\n",
       "      <td>15.399</td>\n",
       "      <td>1.4769</td>\n",
       "    </tr>\n",
       "    <tr>\n",
       "      <th>2021-09-11 16:06:00</th>\n",
       "      <td>12.52</td>\n",
       "      <td>45236.4</td>\n",
       "      <td>2.383</td>\n",
       "      <td>399.9</td>\n",
       "      <td>12.467</td>\n",
       "      <td>11.138</td>\n",
       "      <td>0.000006</td>\n",
       "      <td>7.836</td>\n",
       "      <td>2.1506</td>\n",
       "      <td>0.3321</td>\n",
       "      <td>...</td>\n",
       "      <td>28.63</td>\n",
       "      <td>26.57</td>\n",
       "      <td>79.97</td>\n",
       "      <td>8.933</td>\n",
       "      <td>177.63</td>\n",
       "      <td>2.217</td>\n",
       "      <td>0.003892</td>\n",
       "      <td>1.0992</td>\n",
       "      <td>15.399</td>\n",
       "      <td>1.4769</td>\n",
       "    </tr>\n",
       "    <tr>\n",
       "      <th>2021-09-11 16:09:00</th>\n",
       "      <td>12.52</td>\n",
       "      <td>45236.4</td>\n",
       "      <td>2.383</td>\n",
       "      <td>399.9</td>\n",
       "      <td>12.467</td>\n",
       "      <td>11.138</td>\n",
       "      <td>0.000006</td>\n",
       "      <td>7.836</td>\n",
       "      <td>2.1506</td>\n",
       "      <td>0.3321</td>\n",
       "      <td>...</td>\n",
       "      <td>28.63</td>\n",
       "      <td>26.57</td>\n",
       "      <td>79.97</td>\n",
       "      <td>8.933</td>\n",
       "      <td>177.63</td>\n",
       "      <td>2.217</td>\n",
       "      <td>0.003892</td>\n",
       "      <td>1.0992</td>\n",
       "      <td>15.399</td>\n",
       "      <td>1.4769</td>\n",
       "    </tr>\n",
       "    <tr>\n",
       "      <th>2021-09-11 16:12:00</th>\n",
       "      <td>12.52</td>\n",
       "      <td>45236.4</td>\n",
       "      <td>2.383</td>\n",
       "      <td>399.9</td>\n",
       "      <td>12.467</td>\n",
       "      <td>11.138</td>\n",
       "      <td>0.000006</td>\n",
       "      <td>7.836</td>\n",
       "      <td>2.1506</td>\n",
       "      <td>0.3321</td>\n",
       "      <td>...</td>\n",
       "      <td>28.63</td>\n",
       "      <td>26.57</td>\n",
       "      <td>79.97</td>\n",
       "      <td>8.933</td>\n",
       "      <td>177.63</td>\n",
       "      <td>2.217</td>\n",
       "      <td>0.003892</td>\n",
       "      <td>1.0992</td>\n",
       "      <td>15.399</td>\n",
       "      <td>1.4769</td>\n",
       "    </tr>\n",
       "  </tbody>\n",
       "</table>\n",
       "<p>5 rows × 31 columns</p>\n",
       "</div>"
      ],
      "text/plain": [
       "                     ALICE      BTC    ADA    BNB    QTUM   SUSHI      SHIB  \\\n",
       "2021-09-11 16:00:00  12.52  45236.4  2.383  399.9  12.467  11.138  0.000006   \n",
       "2021-09-11 16:03:00  12.52  45236.4  2.383  399.9  12.467  11.138  0.000006   \n",
       "2021-09-11 16:06:00  12.52  45236.4  2.383  399.9  12.467  11.138  0.000006   \n",
       "2021-09-11 16:09:00  12.52  45236.4  2.383  399.9  12.467  11.138  0.000006   \n",
       "2021-09-11 16:12:00  12.52  45236.4  2.383  399.9  12.467  11.138  0.000006   \n",
       "\n",
       "                       XTZ    ALGO     CHR  ...    DOT   LINK    ZEN   NEAR  \\\n",
       "2021-09-11 16:00:00  7.836  2.1506  0.3321  ...  28.63  26.57  79.97  8.933   \n",
       "2021-09-11 16:03:00  7.836  2.1506  0.3321  ...  28.63  26.57  79.97  8.933   \n",
       "2021-09-11 16:06:00  7.836  2.1506  0.3321  ...  28.63  26.57  79.97  8.933   \n",
       "2021-09-11 16:09:00  7.836  2.1506  0.3321  ...  28.63  26.57  79.97  8.933   \n",
       "2021-09-11 16:12:00  7.836  2.1506  0.3321  ...  28.63  26.57  79.97  8.933   \n",
       "\n",
       "                        SOL  AUDIO       BTT   ALPHA     RAY     FTM  \n",
       "2021-09-11 16:00:00  177.63  2.217  0.003892  1.0992  15.399  1.4769  \n",
       "2021-09-11 16:03:00  177.63  2.217  0.003892  1.0992  15.399  1.4769  \n",
       "2021-09-11 16:06:00  177.63  2.217  0.003892  1.0992  15.399  1.4769  \n",
       "2021-09-11 16:09:00  177.63  2.217  0.003892  1.0992  15.399  1.4769  \n",
       "2021-09-11 16:12:00  177.63  2.217  0.003892  1.0992  15.399  1.4769  \n",
       "\n",
       "[5 rows x 31 columns]"
      ]
     },
     "execution_count": 4,
     "metadata": {},
     "output_type": "execute_result"
    }
   ],
   "source": [
    "df3.head()"
   ]
  },
  {
   "cell_type": "code",
   "execution_count": 5,
   "id": "5313f395",
   "metadata": {},
   "outputs": [
    {
     "data": {
      "text/plain": [
       "Index(['ALICE', 'BTC', 'ADA', 'BNB', 'QTUM', 'SUSHI', 'SHIB', 'XTZ', 'ALGO',\n",
       "       'CHR', 'ATOM', 'AXS', 'TLM', 'DOGE', 'XRP', 'ETH', 'EOS', 'BCH', 'LTC',\n",
       "       'MATIC', 'AAVE', 'DOT', 'LINK', 'ZEN', 'NEAR', 'SOL', 'AUDIO', 'BTT',\n",
       "       'ALPHA', 'RAY', 'FTM'],\n",
       "      dtype='object')"
      ]
     },
     "execution_count": 5,
     "metadata": {},
     "output_type": "execute_result"
    }
   ],
   "source": [
    "df3.columns"
   ]
  },
  {
   "cell_type": "code",
   "execution_count": 6,
   "id": "24b22f13",
   "metadata": {},
   "outputs": [
    {
     "data": {
      "text/plain": [
       "(1916, 31)"
      ]
     },
     "execution_count": 6,
     "metadata": {},
     "output_type": "execute_result"
    }
   ],
   "source": [
    "df3.shape"
   ]
  },
  {
   "cell_type": "code",
   "execution_count": 7,
   "id": "bea7455e",
   "metadata": {},
   "outputs": [
    {
     "name": "stdout",
     "output_type": "stream",
     "text": [
      "(120,) (120,)\n"
     ]
    },
    {
     "data": {
      "image/png": "[encoded data removed]",
      "text/plain": [
       "<Figure size 1152x648 with 1 Axes>"
      ]
     },
     "metadata": {
      "needs_background": "light"
     },
     "output_type": "display_data"
    }
   ],
   "source": [
    "alice = df3[\"ALICE\"][-120:]\n",
    "\n",
    "alice2 = alice[:]\n",
    "\n",
    "smooth = gaussian_filter1d(alice, 2)\n",
    "# alice.plot()\n",
    "plt.figure(figsize=(16,9))\n",
    "plt.plot(smooth,c='r',label=\"smooth\")\n",
    "\n",
    "plt.plot(alice.values)\n",
    "\n",
    "smooth_d1 = np.gradient(smooth)\n",
    "infls1  = np.where(np.diff(np.sign(smooth_d1)))[0]\n",
    "\n",
    "\n",
    "\n",
    "\n",
    "for i, infl in enumerate(infls1, 1):\n",
    "    plt.axvline(x=infl, color='pink', label=f'Inflection Point {i}')\n",
    "    \n",
    "smooth2 = gaussian_filter1d(alice2, 1)\n",
    "print(alice2.shape,smooth2.shape)\n",
    "plt.plot(smooth2,c='g',label=\"smooth2\")\n",
    "\n",
    "plt.plot(alice2.values)\n",
    "\n",
    "\n",
    "smooth_d2 = np.gradient(smooth2)\n",
    "infls2  = np.where(np.diff(np.sign(smooth_d2)))[0]\n",
    "\n",
    "for i, infl in enumerate(infls2, 1):\n",
    "    plt.axvline(x=infl,ymin=11.3,color='purple', label=f'Inflection Point {i}')\n",
    "    \n",
    "# plt.legend()\n",
    "plt.plot(alice2.values+0.1)\n",
    "plt.show()"
   ]
  },
  {
   "cell_type": "code",
   "execution_count": 8,
   "id": "3f22b994",
   "metadata": {},
   "outputs": [
    {
     "data": {
      "text/plain": [
       "[<matplotlib.lines.Line2D at 0x25baccad9b0>]"
      ]
     },
     "execution_count": 8,
     "metadata": {},
     "output_type": "execute_result"
    },
    {
     "data": {
      "image/png": "[encoded data removed]",
      "text/plain": [
       "<Figure size 432x288 with 1 Axes>"
      ]
     },
     "metadata": {
      "needs_background": "light"
     },
     "output_type": "display_data"
    }
   ],
   "source": [
    "plt.plot(smooth,c='r',label=\"smooth\")"
   ]
  },
  {
   "cell_type": "code",
   "execution_count": 12,
   "id": "94085a2d",
   "metadata": {},
   "outputs": [
    {
     "data": {
      "text/plain": [
       "(array([0, 3, 4, 5, 6, 9], dtype=int64),)"
      ]
     },
     "execution_count": 12,
     "metadata": {},
     "output_type": "execute_result"
    }
   ],
   "source": [
    "np.where([-1,0,0,111,1,1,1,0,0,1])"
   ]
  },
  {
   "cell_type": "code",
   "execution_count": 14,
   "id": "dbcbe188",
   "metadata": {},
   "outputs": [
    {
     "data": {
      "text/plain": [
       "array([ 0.0002879 , -0.00221085,  0.01521578, -0.00533671,  0.00255638,\n",
       "       -0.00063416,  0.00237782, -0.00189277,  0.00202101, -0.00726905,\n",
       "        0.00318701, -0.00244474,  0.00063695, -0.00204383])"
      ]
     },
     "execution_count": 14,
     "metadata": {},
     "output_type": "execute_result"
    }
   ],
   "source": [
    "smooth_d1[infls1]"
   ]
  },
  {
   "cell_type": "code",
   "execution_count": null,
   "id": "1661e25b",
   "metadata": {},
   "outputs": [],
   "source": []
  },
  {
   "cell_type": "code",
   "execution_count": null,
   "id": "1d5f1e63",
   "metadata": {},
   "outputs": [],
   "source": []
  },
  {
   "cell_type": "code",
   "execution_count": null,
   "id": "91e902c5",
   "metadata": {},
   "outputs": [],
   "source": []
  },
  {
   "cell_type": "code",
   "execution_count": null,
   "id": "1e5588d8",
   "metadata": {},
   "outputs": [],
   "source": []
  },
  {
   "cell_type": "code",
   "execution_count": null,
   "id": "d22c391c",
   "metadata": {},
   "outputs": [],
   "source": []
  },
  {
   "cell_type": "code",
   "execution_count": null,
   "id": "406b2fff",
   "metadata": {},
   "outputs": [],
   "source": []
  },
  {
   "cell_type": "code",
   "execution_count": null,
   "id": "899d9430",
   "metadata": {},
   "outputs": [],
   "source": []
  },
  {
   "cell_type": "code",
   "execution_count": null,
   "id": "71a31ebd",
   "metadata": {},
   "outputs": [],
   "source": []
  },
  {
   "cell_type": "code",
   "execution_count": null,
   "id": "791f6b64",
   "metadata": {},
   "outputs": [],
   "source": []
  },
  {
   "cell_type": "code",
   "execution_count": null,
   "id": "96ccb03a",
   "metadata": {},
   "outputs": [],
   "source": []
  },
  {
   "cell_type": "code",
   "execution_count": 9,
   "id": "682ae162",
   "metadata": {},
   "outputs": [],
   "source": [
    "\n",
    "def alertor(df,n,crys):\n",
    "    df3 = cut_data(df,n)\n",
    "    data= df3.tail(120)\n",
    "    smooth = gaussian_filter1d(data,sigma= 2,axis=0)\n",
    "    df_sm = pd.DataFrame(sm,columns=data.columns)\n",
    "    sm_grad = np.gradient(df_sm,axis=0)\n",
    "    a,b  = np.where(np.diff(np.sign(sm_grad),axis=0))\n",
    "    cry2index = {k:i for i,k in enumerate(df_sm.index)}\n",
    "    for x in crys:\n",
    "        if not cry2index.get(x):\n",
    "            continue\n",
    "        i = cry2index.get(x)\n",
    "        infls = a[np.argwhere(b==i)]\n",
    "        plt.plot(df_sm[x])\n",
    "        for i, infl in enumerate(infls, 1):\n",
    "            plt.axvline(x=infl,color='pink',)\n",
    "        print(f\"{x}_.jpg\")\n",
    "        plt.save(f\"{x}_.jpg\")\n",
    "       \n",
    "\n",
    "        "
   ]
  },
  {
   "cell_type": "code",
   "execution_count": 10,
   "id": "b0e35009",
   "metadata": {},
   "outputs": [
    {
     "ename": "NameError",
     "evalue": "name 'sm' is not defined",
     "output_type": "error",
     "traceback": [
      "\u001b[1;31m---------------------------------------------------------------------------\u001b[0m",
      "\u001b[1;31mNameError\u001b[0m                                 Traceback (most recent call last)",
      "\u001b[1;32m<ipython-input-10-38a2e00480ee>\u001b[0m in \u001b[0;36m<module>\u001b[1;34m\u001b[0m\n\u001b[1;32m----> 1\u001b[1;33m \u001b[0malertor\u001b[0m\u001b[1;33m(\u001b[0m\u001b[0mdf\u001b[0m\u001b[1;33m,\u001b[0m\u001b[1;36m3\u001b[0m\u001b[1;33m,\u001b[0m\u001b[1;33m[\u001b[0m\u001b[1;34m\"ALICE\"\u001b[0m\u001b[1;33m]\u001b[0m\u001b[1;33m)\u001b[0m\u001b[1;33m\u001b[0m\u001b[1;33m\u001b[0m\u001b[0m\n\u001b[0m",
      "\u001b[1;32m<ipython-input-9-6b06509cfd07>\u001b[0m in \u001b[0;36malertor\u001b[1;34m(df, n, crys)\u001b[0m\n\u001b[0;32m      3\u001b[0m     \u001b[0mdata\u001b[0m\u001b[1;33m=\u001b[0m \u001b[0mdf3\u001b[0m\u001b[1;33m.\u001b[0m\u001b[0mtail\u001b[0m\u001b[1;33m(\u001b[0m\u001b[1;36m120\u001b[0m\u001b[1;33m)\u001b[0m\u001b[1;33m\u001b[0m\u001b[1;33m\u001b[0m\u001b[0m\n\u001b[0;32m      4\u001b[0m     \u001b[0msmooth\u001b[0m \u001b[1;33m=\u001b[0m \u001b[0mgaussian_filter1d\u001b[0m\u001b[1;33m(\u001b[0m\u001b[0mdata\u001b[0m\u001b[1;33m,\u001b[0m\u001b[0msigma\u001b[0m\u001b[1;33m=\u001b[0m \u001b[1;36m2\u001b[0m\u001b[1;33m,\u001b[0m\u001b[0maxis\u001b[0m\u001b[1;33m=\u001b[0m\u001b[1;36m0\u001b[0m\u001b[1;33m)\u001b[0m\u001b[1;33m\u001b[0m\u001b[1;33m\u001b[0m\u001b[0m\n\u001b[1;32m----> 5\u001b[1;33m     \u001b[0mdf_sm\u001b[0m \u001b[1;33m=\u001b[0m \u001b[0mpd\u001b[0m\u001b[1;33m.\u001b[0m\u001b[0mDataFrame\u001b[0m\u001b[1;33m(\u001b[0m\u001b[0msm\u001b[0m\u001b[1;33m,\u001b[0m\u001b[0mcolumns\u001b[0m\u001b[1;33m=\u001b[0m\u001b[0mdata\u001b[0m\u001b[1;33m.\u001b[0m\u001b[0mcolumns\u001b[0m\u001b[1;33m)\u001b[0m\u001b[1;33m\u001b[0m\u001b[1;33m\u001b[0m\u001b[0m\n\u001b[0m\u001b[0;32m      6\u001b[0m     \u001b[0msm_grad\u001b[0m \u001b[1;33m=\u001b[0m \u001b[0mnp\u001b[0m\u001b[1;33m.\u001b[0m\u001b[0mgradient\u001b[0m\u001b[1;33m(\u001b[0m\u001b[0mdf_sm\u001b[0m\u001b[1;33m,\u001b[0m\u001b[0maxis\u001b[0m\u001b[1;33m=\u001b[0m\u001b[1;36m0\u001b[0m\u001b[1;33m)\u001b[0m\u001b[1;33m\u001b[0m\u001b[1;33m\u001b[0m\u001b[0m\n\u001b[0;32m      7\u001b[0m     \u001b[0ma\u001b[0m\u001b[1;33m,\u001b[0m\u001b[0mb\u001b[0m  \u001b[1;33m=\u001b[0m \u001b[0mnp\u001b[0m\u001b[1;33m.\u001b[0m\u001b[0mwhere\u001b[0m\u001b[1;33m(\u001b[0m\u001b[0mnp\u001b[0m\u001b[1;33m.\u001b[0m\u001b[0mdiff\u001b[0m\u001b[1;33m(\u001b[0m\u001b[0mnp\u001b[0m\u001b[1;33m.\u001b[0m\u001b[0msign\u001b[0m\u001b[1;33m(\u001b[0m\u001b[0msm_grad\u001b[0m\u001b[1;33m)\u001b[0m\u001b[1;33m,\u001b[0m\u001b[0maxis\u001b[0m\u001b[1;33m=\u001b[0m\u001b[1;36m0\u001b[0m\u001b[1;33m)\u001b[0m\u001b[1;33m)\u001b[0m\u001b[1;33m\u001b[0m\u001b[1;33m\u001b[0m\u001b[0m\n",
      "\u001b[1;31mNameError\u001b[0m: name 'sm' is not defined"
     ]
    }
   ],
   "source": [
    "alertor(df,3,[\"ALICE\"])"
   ]
  },
  {
   "cell_type": "code",
   "execution_count": null,
   "id": "e888ba1c",
   "metadata": {},
   "outputs": [],
   "source": [
    "import os"
   ]
  },
  {
   "cell_type": "code",
   "execution_count": null,
   "id": "dfd517fc",
   "metadata": {},
   "outputs": [],
   "source": [
    "os.getcwd()"
   ]
  },
  {
   "cell_type": "code",
   "execution_count": null,
   "id": "654ac377",
   "metadata": {},
   "outputs": [],
   "source": [
    "data= df3.tail(120)\n",
    "data.shape"
   ]
  },
  {
   "cell_type": "code",
   "execution_count": null,
   "id": "e55f93e3",
   "metadata": {},
   "outputs": [],
   "source": [
    "sm = gaussian_filter1d(data,sigma= 2,axis=0)"
   ]
  },
  {
   "cell_type": "code",
   "execution_count": null,
   "id": "a1bd8937",
   "metadata": {},
   "outputs": [],
   "source": [
    "sm.shape"
   ]
  },
  {
   "cell_type": "code",
   "execution_count": null,
   "id": "e3ea3846",
   "metadata": {},
   "outputs": [],
   "source": [
    "dfsm = pd.DataFrame(sm,columns=data.columns)"
   ]
  },
  {
   "cell_type": "code",
   "execution_count": null,
   "id": "68d430d0",
   "metadata": {},
   "outputs": [],
   "source": [
    "alice2 = dfsm[\"ALICE\"]"
   ]
  },
  {
   "cell_type": "code",
   "execution_count": null,
   "id": "7220cdc0",
   "metadata": {},
   "outputs": [],
   "source": [
    "smd = np.gradient(dfsm,axis=0)"
   ]
  },
  {
   "cell_type": "code",
   "execution_count": null,
   "id": "54723168",
   "metadata": {},
   "outputs": [],
   "source": [
    "smd.shape"
   ]
  },
  {
   "cell_type": "code",
   "execution_count": null,
   "id": "4847c932",
   "metadata": {},
   "outputs": [],
   "source": [
    "a = np.diff(np.sign(smd),axis=0)"
   ]
  },
  {
   "cell_type": "code",
   "execution_count": null,
   "id": "da416f1d",
   "metadata": {},
   "outputs": [],
   "source": []
  },
  {
   "cell_type": "code",
   "execution_count": null,
   "id": "2d5a5c49",
   "metadata": {},
   "outputs": [],
   "source": [
    "np.where([0,0,2,-1,25,3])"
   ]
  },
  {
   "cell_type": "code",
   "execution_count": null,
   "id": "ba8f1d42",
   "metadata": {},
   "outputs": [],
   "source": [
    "j = np.zeros(9).reshape([-1,3])\n",
    "j[1][1] = 1\n",
    "j[2][2] = 1\n",
    "j[2][1] = 1 "
   ]
  },
  {
   "cell_type": "code",
   "execution_count": null,
   "id": "3cbf795a",
   "metadata": {},
   "outputs": [],
   "source": [
    "np.where(j)"
   ]
  },
  {
   "cell_type": "code",
   "execution_count": null,
   "id": "6fe50915",
   "metadata": {},
   "outputs": [],
   "source": [
    "smd"
   ]
  },
  {
   "cell_type": "code",
   "execution_count": null,
   "id": "4f28a0eb",
   "metadata": {},
   "outputs": [],
   "source": [
    "\n",
    "print(smd.shape)\n",
    "sminf  = np.where(np.diff(np.sign(smd),axis=0))\n"
   ]
  },
  {
   "cell_type": "code",
   "execution_count": null,
   "id": "88a15f05",
   "metadata": {},
   "outputs": [],
   "source": [
    "a,b=sminf"
   ]
  },
  {
   "cell_type": "code",
   "execution_count": null,
   "id": "1d5fd245",
   "metadata": {},
   "outputs": [],
   "source": [
    "b"
   ]
  },
  {
   "cell_type": "code",
   "execution_count": null,
   "id": "693e3b09",
   "metadata": {},
   "outputs": [],
   "source": [
    "index0 = np.argwhere(b==0)"
   ]
  },
  {
   "cell_type": "code",
   "execution_count": null,
   "id": "c3bb0005",
   "metadata": {},
   "outputs": [],
   "source": [
    "b.shape"
   ]
  },
  {
   "cell_type": "code",
   "execution_count": null,
   "id": "0eb4098a",
   "metadata": {},
   "outputs": [],
   "source": [
    "a.shape"
   ]
  },
  {
   "cell_type": "code",
   "execution_count": null,
   "id": "a88013fe",
   "metadata": {},
   "outputs": [],
   "source": [
    "INFS = a[index0]\n",
    "INFS"
   ]
  },
  {
   "cell_type": "code",
   "execution_count": null,
   "id": "1ae871b0",
   "metadata": {},
   "outputs": [],
   "source": [
    "dfsm"
   ]
  },
  {
   "cell_type": "code",
   "execution_count": null,
   "id": "28d3c9ca",
   "metadata": {},
   "outputs": [],
   "source": [
    "plt.plot(dfsm[\"ALICE\"])\n",
    "for i, infl in enumerate(INFS, 1):\n",
    "    plt.axvline(x=infl,color='purple', label=f'Inflection Point {i}')"
   ]
  },
  {
   "cell_type": "code",
   "execution_count": null,
   "id": "5eca6abd",
   "metadata": {},
   "outputs": [],
   "source": []
  },
  {
   "cell_type": "code",
   "execution_count": null,
   "id": "b9530892",
   "metadata": {},
   "outputs": [],
   "source": [
    "fig = plt.figure(figsize=(16,9))\n",
    "plt.plot(data[\"ALICE\"][-50:].values)\n",
    "plt.plot(xx[-50:],dfsm[\"ALICE\"][-50:],marker=\"o\")\n",
    "# fig.autofmt_xdate()\n",
    "plt.xticks(rotation=90)\n",
    "plt.savefig(\"fuck.jpg\",bbox_inches='tight')"
   ]
  },
  {
   "cell_type": "code",
   "execution_count": null,
   "id": "35310ea2",
   "metadata": {},
   "outputs": [],
   "source": []
  },
  {
   "cell_type": "code",
   "execution_count": null,
   "id": "2f3c5a17",
   "metadata": {},
   "outputs": [],
   "source": [
    "dfsm"
   ]
  },
  {
   "cell_type": "code",
   "execution_count": null,
   "id": "8c9d997b",
   "metadata": {},
   "outputs": [],
   "source": []
  },
  {
   "cell_type": "code",
   "execution_count": null,
   "id": "df5a3d64",
   "metadata": {},
   "outputs": [],
   "source": [
    "df3"
   ]
  },
  {
   "cell_type": "code",
   "execution_count": null,
   "id": "f562ad48",
   "metadata": {},
   "outputs": [],
   "source": [
    "alice120 = df3[\"ALICE\"][-120:]\n",
    "smootha = gaussian_filter1d(alice120,sigma=2)\n",
    "xx = pd.to_datetime(alice120.index).strftime('%d:%H:%M')\n",
    "xx"
   ]
  },
  {
   "cell_type": "code",
   "execution_count": null,
   "id": "aa991d6d",
   "metadata": {},
   "outputs": [],
   "source": [
    "sm_grad = np.gradient(smootha)\n",
    "sm_grad"
   ]
  },
  {
   "cell_type": "code",
   "execution_count": null,
   "id": "ab7cc2cf",
   "metadata": {},
   "outputs": [],
   "source": [
    "infsa =np.where(np.diff(np.sign(sm_grad),axis=0))\n",
    "infsa = infsa[0]\n",
    "infsa"
   ]
  },
  {
   "cell_type": "code",
   "execution_count": null,
   "id": "18ca6ede",
   "metadata": {},
   "outputs": [],
   "source": [
    "xx[infsa]"
   ]
  },
  {
   "cell_type": "code",
   "execution_count": null,
   "id": "5a9e346a",
   "metadata": {},
   "outputs": [],
   "source": [
    "fig = plt.figure(figsize=(16,9))\n",
    "# plt.plot(data[\"ALICE\"][-50:].values)\n",
    "plt.plot(alice120.values,marker=\"o\")\n",
    "plt.plot(smootha,marker=\"o\")\n",
    "for i, infl in enumerate(infsa, 1):\n",
    "    plt.axvline(x=infl,color='purple', label=f'Inflection Point {infl}')\n",
    "    plt.text(x=infl,y=smootha.min(),s=xx[infl],rotation=30)\n",
    "# fig.autofmt_xdate()\n",
    "print(i)\n",
    "plt.xticks(rotation=90)\n",
    "plt.legend()\n",
    "plt.savefig(\"fuck.jpg\",bbox_inches='tight')"
   ]
  },
  {
   "cell_type": "code",
   "execution_count": null,
   "id": "be933b4b",
   "metadata": {},
   "outputs": [],
   "source": [
    "xx"
   ]
  },
  {
   "cell_type": "code",
   "execution_count": null,
   "id": "e65953a5",
   "metadata": {},
   "outputs": [],
   "source": [
    "np.gradient([0,0,0,0,1,0,0,0,1])"
   ]
  },
  {
   "cell_type": "code",
   "execution_count": null,
   "id": "85442eea",
   "metadata": {},
   "outputs": [],
   "source": [
    "np.where(np.diff(np.sign(np.array([0,np.nan,0,0,0,1,0,np.nan,np.nan,1])),axis=0))"
   ]
  },
  {
   "cell_type": "code",
   "execution_count": null,
   "id": "08552a11",
   "metadata": {},
   "outputs": [],
   "source": []
  },
  {
   "cell_type": "code",
   "execution_count": null,
   "id": "c1c7606a",
   "metadata": {},
   "outputs": [],
   "source": []
  },
  {
   "cell_type": "code",
   "execution_count": null,
   "id": "dcd894ee",
   "metadata": {},
   "outputs": [],
   "source": []
  },
  {
   "cell_type": "code",
   "execution_count": null,
   "id": "b300abb2",
   "metadata": {},
   "outputs": [],
   "source": [
    "df3 = pd.read_csv(\"df3.csv\",index_col=0)\n",
    "df3.shape"
   ]
  },
  {
   "cell_type": "code",
   "execution_count": null,
   "id": "56a263d5",
   "metadata": {},
   "outputs": [],
   "source": []
  },
  {
   "cell_type": "code",
   "execution_count": null,
   "id": "f1e113fa",
   "metadata": {},
   "outputs": [],
   "source": [
    "df3.fillna(method=\"ffill\",inplace=True)\n",
    "smooth = gaussian_filter1d(df3, sigma=2, axis=0)\n",
    "df_sm = pd.DataFrame(smooth, columns=df3.columns)\n",
    "sm_grad = np.gradient(df_sm, axis=0)\n",
    "a, b = np.where(np.diff(np.sign(sm_grad), axis=0))\n",
    "cry2index = {k: i for i, k in enumerate(df_sm.columns)}\n",
    "forsend = []\n",
    "\n",
    "print(cry2index)\n",
    "for x in [\"ALICE\"]:\n",
    "    if cry2index.get(x) is None:\n",
    "        print(f\"not {x}\")\n",
    "        continue\n",
    "    os.makedirs(os.path.join(\"imgs\", x),exist_ok=True)\n",
    "    i = cry2index.get(x)\n",
    "    infls = a[np.argwhere(b == i)]\n",
    "    aitem = df3.index[infls[-1]]\n",
    "    t = aitem[0]\n",
    "#     .strftime(\"%d-%H-%M\")[0]\n",
    "    fname = f\"{x}_{t}.jpg\"\n",
    "    fname = os.path.join(\"imgs\", x,fname)\n",
    "    if fname in []:\n",
    "        print(f\"{fname} already exist\")\n",
    "        continue\n",
    "#     alert.append(fname)\n",
    "    print(\"add alert \" + fname)\n",
    "    # plt.save(f\"{x}_.jpg\")\n",
    "    xx = pd.to_datetime(df3.index).strftime('%d.%H.%M')\n",
    "    plt.figure(figsize=(16,9))\n",
    "    plt.title(x)\n",
    "    plt.plot(df_sm[x].values,label=\"smooth\",marker=\"o\")\n",
    "    plt.plot(df3[x].values,label=\"raw\",marker='o')\n",
    "    mx = df_sm[x].max()\n",
    "    mi = df_sm[x].min()\n",
    "    m = mi - (mx-mi)*0.15\n",
    "    plt.xticks([])\n",
    "    for i, infl in enumerate(infls, 1):\n",
    "        plt.axvline(x=infl, color='pink', )\n",
    "        plt.text(x=infl,y=m,s=xx[infl][0],rotation=30)\n",
    "\n",
    "\n",
    "    plt.xticks(rotation=90)\n",
    "    plt.legend()\n",
    "#     plt.savefig(fname,bbox_inches='tight')\n",
    "    plt.show()\n",
    "    plt.clf()\n",
    "    \n",
    "    plt.close()"
   ]
  },
  {
   "cell_type": "code",
   "execution_count": null,
   "id": "d62efdf1",
   "metadata": {},
   "outputs": [],
   "source": [
    "smooth[:,0]"
   ]
  },
  {
   "cell_type": "code",
   "execution_count": null,
   "id": "debcbced",
   "metadata": {},
   "outputs": [],
   "source": [
    "smooth.shape"
   ]
  },
  {
   "cell_type": "code",
   "execution_count": null,
   "id": "78ac0c12",
   "metadata": {},
   "outputs": [],
   "source": [
    "\n",
    "gaussian_filter1d(df3[\"ALICE\"], sigma=2, axis=0)"
   ]
  },
  {
   "cell_type": "code",
   "execution_count": null,
   "id": "fb39a1e4",
   "metadata": {},
   "outputs": [],
   "source": [
    "sm = gaussian_filter1d([3,2,1,1,2,3], sigma=2, axis=0)\n",
    "smgrad = np.gradient(sm)\n",
    "smgrad"
   ]
  },
  {
   "cell_type": "code",
   "execution_count": null,
   "id": "cb1e8c5a",
   "metadata": {},
   "outputs": [],
   "source": [
    "np.where(np.diff(np.sign(smgrad),axis=0))"
   ]
  },
  {
   "cell_type": "code",
   "execution_count": null,
   "id": "92886653",
   "metadata": {},
   "outputs": [],
   "source": []
  },
  {
   "cell_type": "code",
   "execution_count": null,
   "id": "3d480d46",
   "metadata": {},
   "outputs": [],
   "source": []
  },
  {
   "cell_type": "code",
   "execution_count": null,
   "id": "dcf2fa1c",
   "metadata": {},
   "outputs": [],
   "source": []
  },
  {
   "cell_type": "code",
   "execution_count": null,
   "id": "e0879a57",
   "metadata": {},
   "outputs": [],
   "source": []
  },
  {
   "cell_type": "code",
   "execution_count": null,
   "id": "855441d6",
   "metadata": {},
   "outputs": [],
   "source": []
  },
  {
   "cell_type": "code",
   "execution_count": null,
   "id": "e59974d5",
   "metadata": {},
   "outputs": [],
   "source": []
  },
  {
   "cell_type": "code",
   "execution_count": null,
   "id": "455c5888",
   "metadata": {},
   "outputs": [],
   "source": []
  },
  {
   "cell_type": "code",
   "execution_count": null,
   "id": "44e21d1a",
   "metadata": {},
   "outputs": [],
   "source": []
  },
  {
   "cell_type": "code",
   "execution_count": null,
   "id": "364ef539",
   "metadata": {},
   "outputs": [],
   "source": []
  },
  {
   "cell_type": "code",
   "execution_count": null,
   "id": "f6400736",
   "metadata": {},
   "outputs": [],
   "source": []
  },
  {
   "cell_type": "code",
   "execution_count": null,
   "id": "de7d31c0",
   "metadata": {},
   "outputs": [],
   "source": []
  },
  {
   "cell_type": "code",
   "execution_count": null,
   "id": "edde5e44",
   "metadata": {},
   "outputs": [],
   "source": []
  },
  {
   "cell_type": "code",
   "execution_count": null,
   "id": "5df30dec",
   "metadata": {},
   "outputs": [],
   "source": [
    "shadowsocks"
   ]
  },
  {
   "cell_type": "code",
   "execution_count": null,
   "id": "e47747c0",
   "metadata": {},
   "outputs": [],
   "source": []
  },
  {
   "cell_type": "code",
   "execution_count": null,
   "id": "2ca26f03",
   "metadata": {},
   "outputs": [],
   "source": []
  },
  {
   "cell_type": "code",
   "execution_count": null,
   "id": "0258a027",
   "metadata": {},
   "outputs": [],
   "source": []
  },
  {
   "cell_type": "code",
   "execution_count": null,
   "id": "83673115",
   "metadata": {},
   "outputs": [],
   "source": []
  },
  {
   "cell_type": "code",
   "execution_count": null,
   "id": "ca5b77f7",
   "metadata": {},
   "outputs": [],
   "source": []
  },
  {
   "cell_type": "code",
   "execution_count": null,
   "id": "714168d2",
   "metadata": {},
   "outputs": [],
   "source": []
  },
  {
   "cell_type": "code",
   "execution_count": null,
   "id": "f8afbee7",
   "metadata": {},
   "outputs": [],
   "source": []
  }
 ],
 "metadata": {
  "kernelspec": {
   "display_name": "Python 3",
   "language": "python",
   "name": "python3"
  },
  "language_info": {
   "codemirror_mode": {
    "name": "ipython",
    "version": 3
   },
   "file_extension": ".py",
   "mimetype": "text/x-python",
   "name": "python",
   "nbconvert_exporter": "python",
   "pygments_lexer": "ipython3",
   "version": "3.6.8"
  }
 },
 "nbformat": 4,
 "nbformat_minor": 5
}
