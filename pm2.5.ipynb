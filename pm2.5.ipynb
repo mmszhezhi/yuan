{
 "cells": [
  {
   "cell_type": "code",
   "execution_count": 1,
   "id": "e2982d0e",
   "metadata": {},
   "outputs": [],
   "source": [
    "import  pandas as pd"
   ]
  },
  {
   "cell_type": "code",
   "execution_count": 2,
   "id": "1cf02ca5",
   "metadata": {},
   "outputs": [],
   "source": [
    "data = pd.read_excel(\"pm.xls\")"
   ]
  },
  {
   "cell_type": "code",
   "execution_count": 3,
   "id": "0312b840",
   "metadata": {},
   "outputs": [
    {
     "data": {
      "text/html": [
       "<div>\n",
       "<style scoped>\n",
       "    .dataframe tbody tr th:only-of-type {\n",
       "        vertical-align: middle;\n",
       "    }\n",
       "\n",
       "    .dataframe tbody tr th {\n",
       "        vertical-align: top;\n",
       "    }\n",
       "\n",
       "    .dataframe thead th {\n",
       "        text-align: right;\n",
       "    }\n",
       "</style>\n",
       "<table border=\"1\" class=\"dataframe\">\n",
       "  <thead>\n",
       "    <tr style=\"text-align: right;\">\n",
       "      <th></th>\n",
       "      <th>监测时间</th>\n",
       "      <th>一氧化碳</th>\n",
       "      <th>二氧化氮</th>\n",
       "      <th>臭氧</th>\n",
       "      <th>PM10</th>\n",
       "      <th>PM2.5</th>\n",
       "      <th>行政区名称</th>\n",
       "      <th>主要污染物</th>\n",
       "      <th>空气质量情况</th>\n",
       "      <th>二氧化硫</th>\n",
       "      <th>AQI</th>\n",
       "    </tr>\n",
       "  </thead>\n",
       "  <tbody>\n",
       "    <tr>\n",
       "      <th>0</th>\n",
       "      <td>2020-12-31</td>\n",
       "      <td>0.6</td>\n",
       "      <td>8</td>\n",
       "      <td>78</td>\n",
       "      <td>21</td>\n",
       "      <td>13</td>\n",
       "      <td>林芝市</td>\n",
       "      <td>—</td>\n",
       "      <td>优</td>\n",
       "      <td>7</td>\n",
       "      <td>39</td>\n",
       "    </tr>\n",
       "    <tr>\n",
       "      <th>1</th>\n",
       "      <td>2020-12-31</td>\n",
       "      <td>0.9</td>\n",
       "      <td>46</td>\n",
       "      <td>33</td>\n",
       "      <td>68</td>\n",
       "      <td>43</td>\n",
       "      <td>西安市</td>\n",
       "      <td>细颗粒物(PM2.5)</td>\n",
       "      <td>良</td>\n",
       "      <td>13</td>\n",
       "      <td>60</td>\n",
       "    </tr>\n",
       "    <tr>\n",
       "      <th>2</th>\n",
       "      <td>2020-12-31</td>\n",
       "      <td>0.6</td>\n",
       "      <td>31</td>\n",
       "      <td>54</td>\n",
       "      <td>50</td>\n",
       "      <td>34</td>\n",
       "      <td>铜川市</td>\n",
       "      <td>—</td>\n",
       "      <td>优</td>\n",
       "      <td>15</td>\n",
       "      <td>50</td>\n",
       "    </tr>\n",
       "    <tr>\n",
       "      <th>3</th>\n",
       "      <td>2020-12-31</td>\n",
       "      <td>0.8</td>\n",
       "      <td>35</td>\n",
       "      <td>43</td>\n",
       "      <td>88</td>\n",
       "      <td>66</td>\n",
       "      <td>宝鸡市</td>\n",
       "      <td>细颗粒物(PM2.5)</td>\n",
       "      <td>良</td>\n",
       "      <td>7</td>\n",
       "      <td>89</td>\n",
       "    </tr>\n",
       "    <tr>\n",
       "      <th>4</th>\n",
       "      <td>2020-12-31</td>\n",
       "      <td>0.8</td>\n",
       "      <td>43</td>\n",
       "      <td>42</td>\n",
       "      <td>63</td>\n",
       "      <td>44</td>\n",
       "      <td>咸阳市</td>\n",
       "      <td>细颗粒物(PM2.5)</td>\n",
       "      <td>良</td>\n",
       "      <td>11</td>\n",
       "      <td>62</td>\n",
       "    </tr>\n",
       "  </tbody>\n",
       "</table>\n",
       "</div>"
      ],
      "text/plain": [
       "         监测时间 一氧化碳 二氧化氮  臭氧 PM10 PM2.5 行政区名称        主要污染物 空气质量情况 二氧化硫 AQI\n",
       "0  2020-12-31  0.6    8  78   21    13   林芝市            —      优    7  39\n",
       "1  2020-12-31  0.9   46  33   68    43   西安市  细颗粒物(PM2.5)      良   13  60\n",
       "2  2020-12-31  0.6   31  54   50    34   铜川市            —      优   15  50\n",
       "3  2020-12-31  0.8   35  43   88    66   宝鸡市  细颗粒物(PM2.5)      良    7  89\n",
       "4  2020-12-31  0.8   43  42   63    44   咸阳市  细颗粒物(PM2.5)      良   11  62"
      ]
     },
     "execution_count": 3,
     "metadata": {},
     "output_type": "execute_result"
    }
   ],
   "source": [
    "data.head()"
   ]
  },
  {
   "cell_type": "code",
   "execution_count": 22,
   "id": "0a5a89bd",
   "metadata": {},
   "outputs": [
    {
     "data": {
      "text/plain": [
       "(133956, 11)"
      ]
     },
     "execution_count": 22,
     "metadata": {},
     "output_type": "execute_result"
    }
   ],
   "source": [
    "data.shape"
   ]
  },
  {
   "cell_type": "code",
   "execution_count": 72,
   "id": "c4d74328",
   "metadata": {},
   "outputs": [],
   "source": [
    "df = data[[\"行政区名称\",\"监测时间\",\"PM2.5\",\"臭氧\"]]"
   ]
  },
  {
   "cell_type": "code",
   "execution_count": 73,
   "id": "c6a58e9d",
   "metadata": {},
   "outputs": [
    {
     "data": {
      "text/plain": [
       "(133956, 4)"
      ]
     },
     "execution_count": 73,
     "metadata": {},
     "output_type": "execute_result"
    }
   ],
   "source": [
    "df.shape"
   ]
  },
  {
   "cell_type": "code",
   "execution_count": 76,
   "id": "0ec1416a",
   "metadata": {},
   "outputs": [],
   "source": [
    "\n",
    "def mean_per_y(df,target):\n",
    "    df = df[df[target]!= '—']\n",
    "    df[target] = df[target].astype(float)\n",
    "    result = df.groupby([\"行政区名称\"])[[target]].mean()\n",
    "    return result\n",
    "    "
   ]
  },
  {
   "cell_type": "code",
   "execution_count": 79,
   "id": "1f0d8a76",
   "metadata": {},
   "outputs": [
    {
     "name": "stderr",
     "output_type": "stream",
     "text": [
      "d:\\envs\\crypt\\lib\\site-packages\\ipykernel_launcher.py:3: SettingWithCopyWarning: \n",
      "A value is trying to be set on a copy of a slice from a DataFrame.\n",
      "Try using .loc[row_indexer,col_indexer] = value instead\n",
      "\n",
      "See the caveats in the documentation: https://pandas.pydata.org/pandas-docs/stable/user_guide/indexing.html#returning-a-view-versus-a-copy\n",
      "  This is separate from the ipykernel package so we can avoid doing imports until\n"
     ]
    }
   ],
   "source": [
    "r1 = mean_per_y(df,\"臭氧\")\n",
    "r2 = mean_per_y(df,\"PM2.5\")"
   ]
  },
  {
   "cell_type": "code",
   "execution_count": 84,
   "id": "aa6165d6",
   "metadata": {},
   "outputs": [],
   "source": [
    "resulty = pd.concat([r1,r2],axis=1)"
   ]
  },
  {
   "cell_type": "code",
   "execution_count": 86,
   "id": "71d6fb26",
   "metadata": {},
   "outputs": [],
   "source": [
    "resulty.head()\n",
    "resulty.to_csv(\"result_per_y.csv\",encoding=\"utf_8_sig\")"
   ]
  },
  {
   "cell_type": "code",
   "execution_count": null,
   "id": "7eff2047",
   "metadata": {},
   "outputs": [],
   "source": []
  },
  {
   "cell_type": "code",
   "execution_count": null,
   "id": "b6aae62d",
   "metadata": {},
   "outputs": [],
   "source": []
  },
  {
   "cell_type": "code",
   "execution_count": null,
   "id": "c73a8cfb",
   "metadata": {},
   "outputs": [],
   "source": []
  },
  {
   "cell_type": "code",
   "execution_count": 37,
   "id": "9d4a69f2",
   "metadata": {},
   "outputs": [],
   "source": [
    "df = df[df[\"PM2.5\"]!= '—']\n",
    "df = df[df[\"臭氧\"]!= '—']"
   ]
  },
  {
   "cell_type": "code",
   "execution_count": 71,
   "id": "70a226b3",
   "metadata": {},
   "outputs": [
    {
     "data": {
      "text/plain": [
       "(133069, 4)"
      ]
     },
     "execution_count": 71,
     "metadata": {},
     "output_type": "execute_result"
    }
   ],
   "source": [
    "df.shape"
   ]
  },
  {
   "cell_type": "code",
   "execution_count": 39,
   "id": "72a9b8d8",
   "metadata": {},
   "outputs": [],
   "source": [
    "df[\"PM2.5\"] = df[\"PM2.5\"].astype(float)\n",
    "df[\"臭氧\"] = df[\"臭氧\"].astype(float)"
   ]
  },
  {
   "cell_type": "code",
   "execution_count": 63,
   "id": "7f5b36bb",
   "metadata": {},
   "outputs": [],
   "source": [
    "df[\"监测时间\"] = df[\"监测时间\"].apply(lambda x:x[:-3])"
   ]
  },
  {
   "cell_type": "code",
   "execution_count": null,
   "id": "29097353",
   "metadata": {},
   "outputs": [],
   "source": []
  },
  {
   "cell_type": "code",
   "execution_count": 64,
   "id": "b3984dc2",
   "metadata": {},
   "outputs": [],
   "source": [
    "result = df.groupby([\"行政区名称\",\"监测时间\"])[[\"臭氧\",\"PM2.5\"]].mean()"
   ]
  },
  {
   "cell_type": "code",
   "execution_count": 65,
   "id": "0ad6b2aa",
   "metadata": {
    "scrolled": true
   },
   "outputs": [
    {
     "data": {
      "text/html": [
       "<div>\n",
       "<style scoped>\n",
       "    .dataframe tbody tr th:only-of-type {\n",
       "        vertical-align: middle;\n",
       "    }\n",
       "\n",
       "    .dataframe tbody tr th {\n",
       "        vertical-align: top;\n",
       "    }\n",
       "\n",
       "    .dataframe thead th {\n",
       "        text-align: right;\n",
       "    }\n",
       "</style>\n",
       "<table border=\"1\" class=\"dataframe\">\n",
       "  <thead>\n",
       "    <tr style=\"text-align: right;\">\n",
       "      <th></th>\n",
       "      <th></th>\n",
       "      <th>臭氧</th>\n",
       "      <th>PM2.5</th>\n",
       "    </tr>\n",
       "    <tr>\n",
       "      <th>行政区名称</th>\n",
       "      <th>监测时间</th>\n",
       "      <th></th>\n",
       "      <th></th>\n",
       "    </tr>\n",
       "  </thead>\n",
       "  <tbody>\n",
       "    <tr>\n",
       "      <th rowspan=\"5\" valign=\"top\">七台河市</th>\n",
       "      <th>2020-01</th>\n",
       "      <td>58.000000</td>\n",
       "      <td>76.806452</td>\n",
       "    </tr>\n",
       "    <tr>\n",
       "      <th>2020-02</th>\n",
       "      <td>76.862069</td>\n",
       "      <td>38.379310</td>\n",
       "    </tr>\n",
       "    <tr>\n",
       "      <th>2020-03</th>\n",
       "      <td>94.161290</td>\n",
       "      <td>30.225806</td>\n",
       "    </tr>\n",
       "    <tr>\n",
       "      <th>2020-04</th>\n",
       "      <td>98.500000</td>\n",
       "      <td>52.133333</td>\n",
       "    </tr>\n",
       "    <tr>\n",
       "      <th>2020-05</th>\n",
       "      <td>105.741935</td>\n",
       "      <td>19.903226</td>\n",
       "    </tr>\n",
       "  </tbody>\n",
       "</table>\n",
       "</div>"
      ],
      "text/plain": [
       "                       臭氧      PM2.5\n",
       "行政区名称 监测时间                          \n",
       "七台河市  2020-01   58.000000  76.806452\n",
       "      2020-02   76.862069  38.379310\n",
       "      2020-03   94.161290  30.225806\n",
       "      2020-04   98.500000  52.133333\n",
       "      2020-05  105.741935  19.903226"
      ]
     },
     "execution_count": 65,
     "metadata": {},
     "output_type": "execute_result"
    }
   ],
   "source": [
    "result.head()"
   ]
  },
  {
   "cell_type": "code",
   "execution_count": 68,
   "id": "724b650b",
   "metadata": {},
   "outputs": [],
   "source": [
    "result.to_csv(\"result_per_m.csv\",encoding=\"utf_8_sig\")"
   ]
  },
  {
   "cell_type": "code",
   "execution_count": null,
   "id": "06227cad",
   "metadata": {},
   "outputs": [],
   "source": []
  },
  {
   "cell_type": "code",
   "execution_count": 69,
   "id": "b82695aa",
   "metadata": {},
   "outputs": [],
   "source": [
    "result = df.groupby([\"行政区名称\"])[[\"臭氧\",\"PM2.5\"]].mean()"
   ]
  },
  {
   "cell_type": "code",
   "execution_count": 70,
   "id": "4d3d7572",
   "metadata": {},
   "outputs": [],
   "source": [
    "result.to_csv(\"result_per_y.csv\",encoding=\"utf_8_sig\")"
   ]
  },
  {
   "cell_type": "code",
   "execution_count": null,
   "id": "6ccab3d7",
   "metadata": {},
   "outputs": [],
   "source": []
  },
  {
   "cell_type": "code",
   "execution_count": null,
   "id": "30acea3e",
   "metadata": {},
   "outputs": [],
   "source": []
  },
  {
   "cell_type": "code",
   "execution_count": 59,
   "id": "0eeead97",
   "metadata": {},
   "outputs": [],
   "source": []
  },
  {
   "cell_type": "code",
   "execution_count": null,
   "id": "16a16e3a",
   "metadata": {},
   "outputs": [],
   "source": []
  },
  {
   "cell_type": "code",
   "execution_count": 4,
   "id": "bdb15fed",
   "metadata": {},
   "outputs": [
    {
     "data": {
      "text/plain": [
       "(133956, 11)"
      ]
     },
     "execution_count": 4,
     "metadata": {},
     "output_type": "execute_result"
    }
   ],
   "source": [
    "data.shape"
   ]
  },
  {
   "cell_type": "code",
   "execution_count": 5,
   "id": "c3d6e28c",
   "metadata": {},
   "outputs": [
    {
     "data": {
      "text/html": [
       "<div>\n",
       "<style scoped>\n",
       "    .dataframe tbody tr th:only-of-type {\n",
       "        vertical-align: middle;\n",
       "    }\n",
       "\n",
       "    .dataframe tbody tr th {\n",
       "        vertical-align: top;\n",
       "    }\n",
       "\n",
       "    .dataframe thead th {\n",
       "        text-align: right;\n",
       "    }\n",
       "</style>\n",
       "<table border=\"1\" class=\"dataframe\">\n",
       "  <thead>\n",
       "    <tr style=\"text-align: right;\">\n",
       "      <th></th>\n",
       "      <th>监测时间</th>\n",
       "      <th>一氧化碳</th>\n",
       "      <th>二氧化氮</th>\n",
       "      <th>臭氧</th>\n",
       "      <th>PM10</th>\n",
       "      <th>PM2.5</th>\n",
       "      <th>行政区名称</th>\n",
       "      <th>主要污染物</th>\n",
       "      <th>空气质量情况</th>\n",
       "      <th>二氧化硫</th>\n",
       "      <th>AQI</th>\n",
       "    </tr>\n",
       "  </thead>\n",
       "  <tbody>\n",
       "    <tr>\n",
       "      <th>0</th>\n",
       "      <td>2020-12-31</td>\n",
       "      <td>0.6</td>\n",
       "      <td>8</td>\n",
       "      <td>78</td>\n",
       "      <td>21</td>\n",
       "      <td>13</td>\n",
       "      <td>林芝市</td>\n",
       "      <td>—</td>\n",
       "      <td>优</td>\n",
       "      <td>7</td>\n",
       "      <td>39</td>\n",
       "    </tr>\n",
       "    <tr>\n",
       "      <th>1</th>\n",
       "      <td>2020-12-31</td>\n",
       "      <td>0.9</td>\n",
       "      <td>46</td>\n",
       "      <td>33</td>\n",
       "      <td>68</td>\n",
       "      <td>43</td>\n",
       "      <td>西安市</td>\n",
       "      <td>细颗粒物(PM2.5)</td>\n",
       "      <td>良</td>\n",
       "      <td>13</td>\n",
       "      <td>60</td>\n",
       "    </tr>\n",
       "    <tr>\n",
       "      <th>2</th>\n",
       "      <td>2020-12-31</td>\n",
       "      <td>0.6</td>\n",
       "      <td>31</td>\n",
       "      <td>54</td>\n",
       "      <td>50</td>\n",
       "      <td>34</td>\n",
       "      <td>铜川市</td>\n",
       "      <td>—</td>\n",
       "      <td>优</td>\n",
       "      <td>15</td>\n",
       "      <td>50</td>\n",
       "    </tr>\n",
       "    <tr>\n",
       "      <th>3</th>\n",
       "      <td>2020-12-31</td>\n",
       "      <td>0.8</td>\n",
       "      <td>35</td>\n",
       "      <td>43</td>\n",
       "      <td>88</td>\n",
       "      <td>66</td>\n",
       "      <td>宝鸡市</td>\n",
       "      <td>细颗粒物(PM2.5)</td>\n",
       "      <td>良</td>\n",
       "      <td>7</td>\n",
       "      <td>89</td>\n",
       "    </tr>\n",
       "    <tr>\n",
       "      <th>4</th>\n",
       "      <td>2020-12-31</td>\n",
       "      <td>0.8</td>\n",
       "      <td>43</td>\n",
       "      <td>42</td>\n",
       "      <td>63</td>\n",
       "      <td>44</td>\n",
       "      <td>咸阳市</td>\n",
       "      <td>细颗粒物(PM2.5)</td>\n",
       "      <td>良</td>\n",
       "      <td>11</td>\n",
       "      <td>62</td>\n",
       "    </tr>\n",
       "  </tbody>\n",
       "</table>\n",
       "</div>"
      ],
      "text/plain": [
       "         监测时间 一氧化碳 二氧化氮  臭氧 PM10 PM2.5 行政区名称        主要污染物 空气质量情况 二氧化硫 AQI\n",
       "0  2020-12-31  0.6    8  78   21    13   林芝市            —      优    7  39\n",
       "1  2020-12-31  0.9   46  33   68    43   西安市  细颗粒物(PM2.5)      良   13  60\n",
       "2  2020-12-31  0.6   31  54   50    34   铜川市            —      优   15  50\n",
       "3  2020-12-31  0.8   35  43   88    66   宝鸡市  细颗粒物(PM2.5)      良    7  89\n",
       "4  2020-12-31  0.8   43  42   63    44   咸阳市  细颗粒物(PM2.5)      良   11  62"
      ]
     },
     "execution_count": 5,
     "metadata": {},
     "output_type": "execute_result"
    }
   ],
   "source": [
    "data.head()"
   ]
  },
  {
   "cell_type": "code",
   "execution_count": 19,
   "id": "241ad9e1",
   "metadata": {},
   "outputs": [
    {
     "name": "stdout",
     "output_type": "stream",
     "text": [
      "上海市\n",
      "九江市\n",
      "南京市\n",
      "南昌市\n",
      "南通市\n",
      "合肥市\n",
      "咸宁市\n",
      "嘉兴市\n",
      "宁波市\n",
      "安庆市\n",
      "宜宾市\n",
      "宜昌市\n",
      "岳阳市\n",
      "常州市\n",
      "成都市\n",
      "扬州市\n",
      "攀枝花市\n",
      "无锡市\n",
      "杭州市\n",
      "武汉市\n",
      "池州市\n",
      "泸州市\n",
      "湖州市\n",
      "绍兴市\n",
      "舟山市\n",
      "芜湖市\n",
      "苏州市\n",
      "荆州市\n",
      "鄂州市\n",
      "重庆市\n",
      "铜陵市\n",
      "镇江市\n",
      "长沙市\n",
      "马鞍山市\n",
      "黄冈市\n",
      "黄石市\n"
     ]
    }
   ],
   "source": [
    "result = []\n",
    "for g,x in data.groupby(by=\"行政区名称\"):\n",
    "    if g[:-1] in cs:\n",
    "        print(g)\n",
    "        result.append(x)\n",
    "    "
   ]
  },
  {
   "cell_type": "code",
   "execution_count": 20,
   "id": "c3b63b9d",
   "metadata": {},
   "outputs": [
    {
     "data": {
      "text/plain": [
       "36"
      ]
     },
     "execution_count": 20,
     "metadata": {},
     "output_type": "execute_result"
    }
   ],
   "source": [
    "len(result)"
   ]
  },
  {
   "cell_type": "code",
   "execution_count": 21,
   "id": "d2e878c1",
   "metadata": {},
   "outputs": [],
   "source": [
    "df = pd.concat(result)"
   ]
  },
  {
   "cell_type": "code",
   "execution_count": 12,
   "id": "58b6eb25",
   "metadata": {},
   "outputs": [],
   "source": [
    "citys = \"上海、重庆、南京、武汉、苏州、杭州、南昌、成都、无锡、宁波、长沙、合肥、南通、扬州、常州、镇江、舟山、芜湖、安庆、铜陵、池州、九江、岳阳、黄石、宜昌、泸州、宜宾、荆州、攀枝花、嘉兴、黄冈、湖州、马鞍山、绍兴、鄂州、咸宁\""
   ]
  },
  {
   "cell_type": "code",
   "execution_count": 13,
   "id": "3fac3088",
   "metadata": {},
   "outputs": [],
   "source": [
    "cs = citys.split(\"、\")"
   ]
  },
  {
   "cell_type": "code",
   "execution_count": 24,
   "id": "5bb7c6a0",
   "metadata": {},
   "outputs": [],
   "source": [
    "df.to_csv(\"data_36.csv\",encoding=\"utf_8_sig\")"
   ]
  },
  {
   "cell_type": "code",
   "execution_count": null,
   "id": "0fe3dd28",
   "metadata": {},
   "outputs": [],
   "source": []
  },
  {
   "cell_type": "code",
   "execution_count": null,
   "id": "fcbdc617",
   "metadata": {},
   "outputs": [],
   "source": []
  }
 ],
 "metadata": {
  "kernelspec": {
   "display_name": "Python 3",
   "language": "python",
   "name": "python3"
  },
  "language_info": {
   "codemirror_mode": {
    "name": "ipython",
    "version": 3
   },
   "file_extension": ".py",
   "mimetype": "text/x-python",
   "name": "python",
   "nbconvert_exporter": "python",
   "pygments_lexer": "ipython3",
   "version": "3.6.8"
  }
 },
 "nbformat": 4,
 "nbformat_minor": 5
}
