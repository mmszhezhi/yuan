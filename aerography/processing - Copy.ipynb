{
 "cells": [
  {
   "cell_type": "code",
   "execution_count": 2,
   "metadata": {},
   "outputs": [],
   "source": [
    "import pandas as pd\n",
    "import glob"
   ]
  },
  {
   "cell_type": "code",
   "execution_count": 5,
   "metadata": {},
   "outputs": [],
   "source": [
    "fls = glob.glob(\"气象数据/*\")"
   ]
  },
  {
   "cell_type": "code",
   "execution_count": 6,
   "metadata": {},
   "outputs": [
    {
     "data": {
      "text/plain": [
       "['气象数据\\\\2018气压.xlsx',\n",
       " '气象数据\\\\2018气温.xlsx',\n",
       " '气象数据\\\\2018相对湿度.xlsx',\n",
       " '气象数据\\\\2018降水.xlsx',\n",
       " '气象数据\\\\2018风速.xlsx',\n",
       " '气象数据\\\\~$2018降水.xlsx',\n",
       " '气象数据\\\\~$2018风速.xlsx']"
      ]
     },
     "execution_count": 6,
     "metadata": {},
     "output_type": "execute_result"
    }
   ],
   "source": [
    "# fls"
   ]
  },
  {
   "cell_type": "code",
   "execution_count": 35,
   "metadata": {},
   "outputs": [],
   "source": [
    "# df = pd.read_excel(\"气象数据\\\\2018降水.xlsx\")"
   ]
  },
  {
   "cell_type": "code",
   "execution_count": 45,
   "metadata": {},
   "outputs": [],
   "source": [
    "df = pd.read_excel(\"气象数据\\\\2018相对湿度.xlsx\")"
   ]
  },
  {
   "cell_type": "code",
   "execution_count": 46,
   "metadata": {},
   "outputs": [
    {
     "data": {
      "text/html": [
       "<div>\n",
       "<style scoped>\n",
       "    .dataframe tbody tr th:only-of-type {\n",
       "        vertical-align: middle;\n",
       "    }\n",
       "\n",
       "    .dataframe tbody tr th {\n",
       "        vertical-align: top;\n",
       "    }\n",
       "\n",
       "    .dataframe thead th {\n",
       "        text-align: right;\n",
       "    }\n",
       "</style>\n",
       "<table border=\"1\" class=\"dataframe\">\n",
       "  <thead>\n",
       "    <tr style=\"text-align: right;\">\n",
       "      <th></th>\n",
       "      <th>省份</th>\n",
       "      <th>站名</th>\n",
       "      <th>区站号</th>\n",
       "      <th>纬度（度、分）</th>\n",
       "      <th>经度（度、分）</th>\n",
       "      <th>观测场拔海高度（0.1米）</th>\n",
       "      <th>年</th>\n",
       "      <th>月</th>\n",
       "      <th>日</th>\n",
       "      <th>平均相对湿度（1%）</th>\n",
       "    </tr>\n",
       "  </thead>\n",
       "  <tbody>\n",
       "    <tr>\n",
       "      <th>0</th>\n",
       "      <td>黑龙江</td>\n",
       "      <td>漠河</td>\n",
       "      <td>50136</td>\n",
       "      <td>5258.0</td>\n",
       "      <td>12231.0</td>\n",
       "      <td>4385</td>\n",
       "      <td>2018.0</td>\n",
       "      <td>1.0</td>\n",
       "      <td>1.0</td>\n",
       "      <td>74</td>\n",
       "    </tr>\n",
       "    <tr>\n",
       "      <th>1</th>\n",
       "      <td>黑龙江</td>\n",
       "      <td>漠河</td>\n",
       "      <td>50136</td>\n",
       "      <td>5258.0</td>\n",
       "      <td>12231.0</td>\n",
       "      <td>4385</td>\n",
       "      <td>2018.0</td>\n",
       "      <td>1.0</td>\n",
       "      <td>2.0</td>\n",
       "      <td>67</td>\n",
       "    </tr>\n",
       "    <tr>\n",
       "      <th>2</th>\n",
       "      <td>黑龙江</td>\n",
       "      <td>漠河</td>\n",
       "      <td>50136</td>\n",
       "      <td>5258.0</td>\n",
       "      <td>12231.0</td>\n",
       "      <td>4385</td>\n",
       "      <td>2018.0</td>\n",
       "      <td>1.0</td>\n",
       "      <td>3.0</td>\n",
       "      <td>69</td>\n",
       "    </tr>\n",
       "    <tr>\n",
       "      <th>3</th>\n",
       "      <td>黑龙江</td>\n",
       "      <td>漠河</td>\n",
       "      <td>50136</td>\n",
       "      <td>5258.0</td>\n",
       "      <td>12231.0</td>\n",
       "      <td>4385</td>\n",
       "      <td>2018.0</td>\n",
       "      <td>1.0</td>\n",
       "      <td>4.0</td>\n",
       "      <td>67</td>\n",
       "    </tr>\n",
       "    <tr>\n",
       "      <th>4</th>\n",
       "      <td>黑龙江</td>\n",
       "      <td>漠河</td>\n",
       "      <td>50136</td>\n",
       "      <td>5258.0</td>\n",
       "      <td>12231.0</td>\n",
       "      <td>4385</td>\n",
       "      <td>2018.0</td>\n",
       "      <td>1.0</td>\n",
       "      <td>5.0</td>\n",
       "      <td>71</td>\n",
       "    </tr>\n",
       "  </tbody>\n",
       "</table>\n",
       "</div>"
      ],
      "text/plain": [
       "    省份  站名    区站号  纬度（度、分）  经度（度、分） 观测场拔海高度（0.1米）       年    月    日 平均相对湿度（1%）\n",
       "0  黑龙江  漠河  50136   5258.0  12231.0          4385  2018.0  1.0  1.0         74\n",
       "1  黑龙江  漠河  50136   5258.0  12231.0          4385  2018.0  1.0  2.0         67\n",
       "2  黑龙江  漠河  50136   5258.0  12231.0          4385  2018.0  1.0  3.0         69\n",
       "3  黑龙江  漠河  50136   5258.0  12231.0          4385  2018.0  1.0  4.0         67\n",
       "4  黑龙江  漠河  50136   5258.0  12231.0          4385  2018.0  1.0  5.0         71"
      ]
     },
     "execution_count": 46,
     "metadata": {},
     "output_type": "execute_result"
    }
   ],
   "source": [
    "df.head(5)"
   ]
  },
  {
   "cell_type": "code",
   "execution_count": 47,
   "metadata": {},
   "outputs": [
    {
     "data": {
      "text/plain": [
       "Index(['省份', '站名', '区站号', '纬度（度、分）', '经度（度、分）', '观测场拔海高度（0.1米）', '年', '月', '日',\n",
       "       '平均相对湿度（1%）'],\n",
       "      dtype='object')"
      ]
     },
     "execution_count": 47,
     "metadata": {},
     "output_type": "execute_result"
    }
   ],
   "source": [
    "df.columns"
   ]
  },
  {
   "cell_type": "code",
   "execution_count": 48,
   "metadata": {},
   "outputs": [
    {
     "data": {
      "text/plain": [
       "'月'"
      ]
     },
     "execution_count": 48,
     "metadata": {},
     "output_type": "execute_result"
    }
   ],
   "source": [
    "df.columns[-3]"
   ]
  },
  {
   "cell_type": "code",
   "execution_count": 49,
   "metadata": {},
   "outputs": [],
   "source": [
    "def mean_per_y(df,target):\n",
    "    df = df[df[target]!= '—']\n",
    "    df = df[df[target]!= '缺数据']\n",
    "    df[target] = df[target].astype(float)\n",
    "    result = df.groupby([\"省份\",\"站名\",\"纬度（度、分）\",\"经度（度、分）\",\"年\"])[[target]].mean()\n",
    "    return result\n",
    "\n",
    "def mean_per_y2(df,target):\n",
    "    df = df[df[target]!= '—']\n",
    "    df = df[df[target]!= '缺数据']\n",
    "    df[target] = df[target].astype(float)\n",
    "    result = df.groupby([\"站名\",\"维度(°)\",\"经度(°)\",\"年\"])[[target]].mean()\n",
    "    return result"
   ]
  },
  {
   "cell_type": "code",
   "execution_count": 52,
   "metadata": {},
   "outputs": [],
   "source": [
    "r1 = mean_per_y(df,\"平均相对湿度（1%）\")"
   ]
  },
  {
   "cell_type": "code",
   "execution_count": 53,
   "metadata": {},
   "outputs": [],
   "source": [
    "r1.to_csv(\"18湿度.csv\",encoding=\"utf_8_sig\")"
   ]
  },
  {
   "cell_type": "code",
   "execution_count": 33,
   "metadata": {},
   "outputs": [
    {
     "name": "stdout",
     "output_type": "stream",
     "text": [
      "2018气压 平均本站气压（0.1hPa）\n",
      "2018气温 平均气温（0.1℃）\n",
      "2018相对湿度 月\n"
     ]
    },
    {
     "name": "stderr",
     "output_type": "stream",
     "text": [
      "c:\\python36\\lib\\site-packages\\pandas\\core\\computation\\expressions.py:68: FutureWarning: elementwise comparison failed; returning scalar instead, but in the future will perform elementwise comparison\n",
      "  return op(a, b)\n",
      "c:\\python36\\lib\\site-packages\\pandas\\core\\computation\\expressions.py:68: FutureWarning: elementwise comparison failed; returning scalar instead, but in the future will perform elementwise comparison\n",
      "  return op(a, b)\n"
     ]
    },
    {
     "name": "stdout",
     "output_type": "stream",
     "text": [
      "2018降水 20-8时降水量（0.1mm）\n",
      "2018风速 平均风速（0.1m/s）\n"
     ]
    }
   ],
   "source": [
    "fls = glob.glob(\"气象数据/*\")\n",
    "for ex in fls:\n",
    "    try:\n",
    "        df = pd.read_excel(ex)\n",
    "        name = ex.split(\"\\\\\")[-1].split(\".\")[0]\n",
    "    #     name = name\n",
    "        print(name,df.columns[-3])\n",
    "\n",
    "        r1 = mean_per_y(df,df.columns[-1])\n",
    "        r1.to_csv(f\"{name}.csv\",encoding=\"utf_8_sig\")\n",
    "    except:\n",
    "        pass"
   ]
  },
  {
   "cell_type": "code",
   "execution_count": null,
   "metadata": {},
   "outputs": [],
   "source": []
  }
 ],
 "metadata": {
  "kernelspec": {
   "display_name": "Python 3",
   "language": "python",
   "name": "python3"
  },
  "language_info": {
   "codemirror_mode": {
    "name": "ipython",
    "version": 3
   },
   "file_extension": ".py",
   "mimetype": "text/x-python",
   "name": "python",
   "nbconvert_exporter": "python",
   "pygments_lexer": "ipython3",
   "version": "3.6.8"
  }
 },
 "nbformat": 4,
 "nbformat_minor": 4
}
